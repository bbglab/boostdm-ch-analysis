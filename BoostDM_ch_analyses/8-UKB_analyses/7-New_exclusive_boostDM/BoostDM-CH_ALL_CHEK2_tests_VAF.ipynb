{
 "cells": [
  {
   "cell_type": "markdown",
   "id": "b3a38a2e-fed8-4c64-a9e1-24c8d3df5674",
   "metadata": {},
   "source": [
    "# CHEK2 boostDM-CH drivers compared to expert curated rules\n",
    "# VAF < 0.25"
   ]
  },
  {
   "cell_type": "code",
   "execution_count": 1,
   "id": "5709951b-bd60-4cbf-b7ee-3ac3de98e699",
   "metadata": {},
   "outputs": [],
   "source": [
    "import pandas as pd\n",
    "import numpy as np\n",
    "import os\n",
    "import matplotlib.pyplot as plt\n",
    "from io import StringIO\n",
    "import seaborn as sns\n",
    "import scipy.stats as stats\n",
    "pd.set_option('display.max_columns', 150)\n",
    "pd.set_option('display.max_rows', 40)\n",
    "%precision 2\n",
    "\n",
    "\n",
    "import matplotlib as mpl\n",
    "mpl.rcParams['figure.dpi']= 300"
   ]
  },
  {
   "cell_type": "markdown",
   "id": "a58a5aa3",
   "metadata": {},
   "source": [
    "## 1. Upload data"
   ]
  },
  {
   "cell_type": "code",
   "execution_count": 2,
   "id": "fa01a0b1-7279-4b25-baa4-983175d95ce3",
   "metadata": {},
   "outputs": [
    {
     "name": "stderr",
     "output_type": "stream",
     "text": [
      "/tmp/jobs/jramis/9874679/ipykernel_3073/1437940864.py:7: DtypeWarning: Columns (36,37,38,44,45,46) have mixed types. Specify dtype option on import or set low_memory=False.\n",
      "  patient_cancer = pd.read_csv('../../../Paper_data/UKB_clinic_info/cancer_ukb450k_670124.txt.gz', sep=\"\\t\")\n"
     ]
    },
    {
     "data": {
      "text/plain": [
       "203351"
      ]
     },
     "execution_count": 2,
     "metadata": {},
     "output_type": "execute_result"
    }
   ],
   "source": [
    "### Read data ch mutations and age (NOT PROVIDED)\n",
    "# Created in section 1_Post_processing_calling\n",
    "patient_age_ch = pd.read_csv('../1_Post_processing_calling/patient_450k_age_670124_ALL_MUTATIONS_20230802_v3.txt.gz',sep=\"\\t\")\n",
    "\n",
    "### Upload general cancer information per case (NOT PROVIDED)\n",
    "# Created in section 0_Clinical_phenotypes\n",
    "patient_cancer = pd.read_csv('../../../Paper_data/UKB_clinic_info/cancer_ukb450k_670124.txt.gz', sep=\"\\t\")\n",
    "ukb200K_ch_cancer = pd.merge(patient_age_ch, patient_cancer,  how='inner', on='patient')\n",
    "\n",
    "# Upload Cancer variables per case (NOT PROVIDED)\n",
    "# Created in section 0_Clinical_phenotypes\n",
    "patient_cancer = pd.read_csv('../../../Paper_data/UKB_clinic_info/cancer_ukb200k_Siddharta_670124_simple.txt.gz', sep=\"\\t\")\n",
    "patient_cancer = patient_cancer.rename(columns={'eid': 'patient'})\n",
    "ukb200K_ch_cancer = pd.merge(ukb200K_ch_cancer, patient_cancer,  how='inner', on='patient')\n",
    "ukb200K_ch_cancer.rename(columns={'CH_passengers':'CH_nonDriver'}, inplace=True)\n",
    "\n",
    "# Create a unique variable for hematological cancer\n",
    "yeears = ['var_MM_years', 'var_MPN_years', 'var_MDS_years', 'var_CMML_years',\n",
    "          'var_AML_years', 'var_LL_years', 'var_Lymphoma_years', 'var_Myeloma_years']\n",
    "ukb200K_ch_cancer['var_HNALL_years'] = ukb200K_ch_cancer.loc[:,yeears].min(axis=1)\n",
    "ukb200K_ch_cancer['var_HNALL_var'] = np.where(ukb200K_ch_cancer['var_HNALL_years'].notnull(), 1, 0)\n",
    "ukb200K_ch_cancer['var_HNALL_post'] = np.where(ukb200K_ch_cancer['var_HNALL_years'] > 0, 1, 0)\n",
    "ukb200K_ch_cancer['var_HNALL_pre'] = np.where(ukb200K_ch_cancer['var_HNALL_years'] < 0, 1, 0)\n",
    "\n",
    "### Upload UKB mutations (NOT PROVIDED)\n",
    "# Created in section 1_Post_processing_calling\n",
    "boostDM_predictions = pd.read_csv('../1_Post_processing_calling/All450k_filtered_boostDM_ALL_age_20230802_v3.vcf', sep=\"\\t\", compression='gzip')\n",
    "boostDM_predictions = boostDM_predictions.rename(columns={'case': 'patient', 'BoostDM':'Drivers_12genes'})\n",
    "boostDM_predictions = boostDM_predictions[~boostDM_predictions['Prot_pos'].isna()]\n",
    "boostDM_predictions = boostDM_predictions[~boostDM_predictions['Consequence'].isin(['start_lost', 'stop_lost', 'stop_retained_variant'])]\n",
    "boostDM_predictions = boostDM_predictions[boostDM_predictions['patient'].isin(patient_age_ch['patient'])]\n",
    "boostDM_predictions = boostDM_predictions[~boostDM_predictions['ALT'].str.contains(',')]\n",
    "len(boostDM_predictions)"
   ]
  },
  {
   "cell_type": "markdown",
   "id": "a574cbbd-d906-412a-a40a-9ce8f650bb5b",
   "metadata": {},
   "source": [
    "## 2. Generate new variables with high-confidence drivers and filter VAF <0.25"
   ]
  },
  {
   "cell_type": "code",
   "execution_count": 3,
   "id": "2595f414-c57c-4a25-b08e-ad3a643b8ca6",
   "metadata": {
    "tags": []
   },
   "outputs": [
    {
     "data": {
      "text/plain": [
       "152169"
      ]
     },
     "execution_count": 3,
     "metadata": {},
     "output_type": "execute_result"
    }
   ],
   "source": [
    "### Filter by VAF<0.25\n",
    "boostDM_predictions = boostDM_predictions[boostDM_predictions['VAF_alt']<0.25]\n",
    "\n",
    "### Transform the variable 'Drivers_12genes' in a new prediction of high-confidence drivers\n",
    "boostDM_predictions['Drivers_12genes'] = np.where(boostDM_predictions['boostDM_score']>=0.9, 1, 0)\n",
    "len(boostDM_predictions)"
   ]
  },
  {
   "cell_type": "code",
   "execution_count": 4,
   "id": "0cbbd9e6-4f00-4bf2-a008-8f8ef3aa32e5",
   "metadata": {},
   "outputs": [
    {
     "name": "stdout",
     "output_type": "stream",
     "text": [
      "152169\n",
      "14667\n",
      "137502\n"
     ]
    }
   ],
   "source": [
    "# list of patients with potential CH mutation\n",
    "patients_potentialCH = boostDM_predictions['patient'].to_list()\n",
    "print(len(patients_potentialCH))\n",
    "patients_potentialCH_big = boostDM_predictions[boostDM_predictions['VAF_alt']>=0.10]['patient'].to_list()\n",
    "print(len(patients_potentialCH_big))\n",
    "patients_potentialCH_small = boostDM_predictions[boostDM_predictions['VAF_alt']<0.10]['patient'].to_list()\n",
    "print(len(patients_potentialCH_small))"
   ]
  },
  {
   "cell_type": "code",
   "execution_count": 5,
   "id": "04856021-7f68-4383-a74d-a4cfe65b528e",
   "metadata": {},
   "outputs": [
    {
     "name": "stdout",
     "output_type": "stream",
     "text": [
      "27460\n",
      "5406\n",
      "22054\n"
     ]
    }
   ],
   "source": [
    "# list of patients with BoostDM driver\n",
    "patients_CHdrivers = boostDM_predictions[boostDM_predictions['Drivers_12genes'] == 1]['patient'].to_list()\n",
    "print(len(patients_CHdrivers))\n",
    "patients_CHdrivers_big = boostDM_predictions[(boostDM_predictions['Drivers_12genes']==1) & (boostDM_predictions['VAF_alt']>=0.10)]['patient'].to_list()\n",
    "print(len(patients_CHdrivers_big))\n",
    "patients_CHdrivers_small = boostDM_predictions[(boostDM_predictions['Drivers_12genes']==1) & (boostDM_predictions['VAF_alt']<0.10)]['patient'].to_list()\n",
    "print(len(patients_CHdrivers_small))"
   ]
  },
  {
   "cell_type": "code",
   "execution_count": 6,
   "id": "218cf21b-2f13-460a-8562-67468e43afa5",
   "metadata": {},
   "outputs": [
    {
     "name": "stdout",
     "output_type": "stream",
     "text": [
      "124709\n",
      "9261\n",
      "115448\n"
     ]
    }
   ],
   "source": [
    "# list of patients with BoostDM passengers\n",
    "patients_CH_passengers = boostDM_predictions[boostDM_predictions['Drivers_12genes'] == 0]['patient'].to_list()\n",
    "print(len(patients_CH_passengers))\n",
    "patients_CH_passengers_big = boostDM_predictions[(boostDM_predictions['Drivers_12genes']==0) & (boostDM_predictions['VAF_alt']>=0.10)]['patient'].to_list()\n",
    "print(len(patients_CH_passengers_big))\n",
    "patients_CH_passengers_small = boostDM_predictions[(boostDM_predictions['Drivers_12genes']==0) & (boostDM_predictions['VAF_alt']<0.10)]['patient'].to_list()\n",
    "print(len(patients_CH_passengers_small))"
   ]
  },
  {
   "cell_type": "code",
   "execution_count": 7,
   "id": "5b9b71e1-8fb9-4577-8ef0-0db46bd5e6b5",
   "metadata": {
    "tags": []
   },
   "outputs": [
    {
     "data": {
      "text/plain": [
       "0    443955\n",
       "1     25925\n",
       "Name: CH_driver, dtype: int64"
      ]
     },
     "execution_count": 7,
     "metadata": {},
     "output_type": "execute_result"
    }
   ],
   "source": [
    "patient_age_ch['CH_driver'] = np.where(patient_age_ch['patient'].isin(patients_CHdrivers), 1, 0)\n",
    "patient_age_ch['CH_driver'].value_counts()"
   ]
  },
  {
   "cell_type": "code",
   "execution_count": 8,
   "id": "7823549f-69f0-4d0f-83aa-41643d9ac284",
   "metadata": {},
   "outputs": [
    {
     "data": {
      "text/plain": [
       "0    464623\n",
       "1      5257\n",
       "Name: CH_driver_big, dtype: int64"
      ]
     },
     "execution_count": 8,
     "metadata": {},
     "output_type": "execute_result"
    }
   ],
   "source": [
    "# Add to table num of drivers\n",
    "patient_age_ch['CH_driver_big'] = np.where(patient_age_ch['patient'].isin(patients_CHdrivers_big), 1, 0)\n",
    "patient_age_ch['CH_driver_big'].value_counts()"
   ]
  },
  {
   "cell_type": "code",
   "execution_count": 9,
   "id": "a7040ac1-cd0c-4b78-93f6-0995555eb7f7",
   "metadata": {},
   "outputs": [
    {
     "data": {
      "text/plain": [
       "0    448823\n",
       "1     21057\n",
       "Name: CH_driver_small, dtype: int64"
      ]
     },
     "execution_count": 9,
     "metadata": {},
     "output_type": "execute_result"
    }
   ],
   "source": [
    "# Add to table num of drivers\n",
    "patient_age_ch['CH_driver_small'] = np.where(patient_age_ch['patient'].isin(patients_CHdrivers_small), 1, 0)\n",
    "patient_age_ch['CH_driver_small'].value_counts()"
   ]
  },
  {
   "cell_type": "code",
   "execution_count": 10,
   "id": "1d6e9f2e-61bc-4752-bf3f-1a356c368e21",
   "metadata": {},
   "outputs": [
    {
     "data": {
      "text/plain": [
       "0    356813\n",
       "1    113067\n",
       "Name: CH_potential, dtype: int64"
      ]
     },
     "execution_count": 10,
     "metadata": {},
     "output_type": "execute_result"
    }
   ],
   "source": [
    "#Add cases with potential CH mutations\n",
    "patient_age_ch['CH_potential'] = np.where(patient_age_ch['patient'].isin(patients_potentialCH), 1, 0)\n",
    "patient_age_ch['CH_potential'].value_counts()"
   ]
  },
  {
   "cell_type": "code",
   "execution_count": 11,
   "id": "31298ac0-6b39-40f1-80b8-92a1c3b189cb",
   "metadata": {},
   "outputs": [
    {
     "data": {
      "text/plain": [
       "0    375791\n",
       "1     94089\n",
       "Name: CH_passengers, dtype: int64"
      ]
     },
     "execution_count": 11,
     "metadata": {},
     "output_type": "execute_result"
    }
   ],
   "source": [
    "#Add cases with potential\n",
    "patient_age_ch['CH_passengers'] = np.where(patient_age_ch['patient'].isin(patients_CH_passengers), 1, 0)\n",
    "patient_age_ch['CH_passengers'].value_counts()"
   ]
  },
  {
   "cell_type": "code",
   "execution_count": 12,
   "id": "31cb477f-70d8-4194-9e68-12705ffc25ce",
   "metadata": {
    "tags": []
   },
   "outputs": [
    {
     "name": "stderr",
     "output_type": "stream",
     "text": [
      "/tmp/jobs/jramis/9874679/ipykernel_3073/1383614074.py:1: TqdmDeprecationWarning: This function will be removed in tqdm==5.0.0\n",
      "Please use `tqdm.notebook.*` instead of `tqdm._tqdm_notebook.*`\n",
      "  from tqdm._tqdm_notebook import tqdm_notebook\n"
     ]
    }
   ],
   "source": [
    "from tqdm._tqdm_notebook import tqdm_notebook\n",
    "tqdm_notebook.pandas()"
   ]
  },
  {
   "cell_type": "code",
   "execution_count": 13,
   "id": "afb65186-d1da-4bbf-aa38-c0d63cf66361",
   "metadata": {
    "tags": []
   },
   "outputs": [
    {
     "data": {
      "application/vnd.jupyter.widget-view+json": {
       "model_id": "7157278929ea4d72a40f0509b939bbfd",
       "version_major": 2,
       "version_minor": 0
      },
      "text/plain": [
       "  0%|          | 0/469880 [00:00<?, ?it/s]"
      ]
     },
     "metadata": {},
     "output_type": "display_data"
    }
   ],
   "source": [
    "# Add num of drivers\n",
    "patient_age_ch['num_CH_potential'] = patient_age_ch['patient'].progress_apply(lambda x: patients_potentialCH.count(x) if x in patients_potentialCH else 0)\n",
    "patient_age_ch['num_CH_potential'].value_counts()"
   ]
  },
  {
   "cell_type": "code",
   "execution_count": 33,
   "id": "9afdfce8-aabd-4599-a18f-31d1cd96c194",
   "metadata": {},
   "outputs": [],
   "source": [
    "genes12 = ['ASXL1', 'CHEK2', 'DNMT3A', 'GNAS', 'IDH2', 'MDM4', 'PPM1D', 'SF3B1', 'SRSF2', 'TET2', 'TP53', 'U2AF1']"
   ]
  },
  {
   "cell_type": "code",
   "execution_count": 34,
   "id": "d234712f-04ba-483c-8e3e-6053e2149f99",
   "metadata": {
    "tags": []
   },
   "outputs": [],
   "source": [
    "# Get patients with CH mutation in the gene\n",
    "\n",
    "for i in genes12:\n",
    "    \n",
    "    gene_CH_patient = boostDM_predictions[boostDM_predictions['SYMBOL'] == i]\n",
    "    \n",
    "    gene_CH_patient_drivers = set(gene_CH_patient[gene_CH_patient['Drivers_12genes'] == 1]['patient'].to_list())\n",
    "    patient_age_ch[i+'_driver'] = np.where(patient_age_ch['patient'].isin(gene_CH_patient_drivers), 1, 0)\n",
    "    \n",
    "    gene_CH_patient_passengers = set(gene_CH_patient[gene_CH_patient['Drivers_12genes'] == 0]['patient'].to_list())\n",
    "    patient_age_ch[i+'_passenger'] = np.where(patient_age_ch['patient'].isin(gene_CH_patient_passengers), 1, 0)\n",
    "\n",
    "    gene_CH_patient_potential = set(gene_CH_patient['patient'].to_list())\n",
    "    patient_age_ch[i+'_potential'] = np.where(patient_age_ch['patient'].isin(gene_CH_patient_potential), 1, 0)\n",
    "    \n",
    "patient_age_ch\n",
    "\n",
    "# check\n",
    "for i in genes12:\n",
    "    print(i, sum(patient_age_ch[i+'_driver']), sum(patient_age_ch[i+'_passenger']), sum(patient_age_ch[i+'_potential']))"
   ]
  },
  {
   "cell_type": "code",
   "execution_count": 16,
   "id": "e4164cf8",
   "metadata": {},
   "outputs": [],
   "source": [
    "# Annotate cancer variables again"
   ]
  },
  {
   "cell_type": "code",
   "execution_count": 35,
   "id": "d2c9ae88",
   "metadata": {},
   "outputs": [],
   "source": [
    "### Upload general cancer information per case (NOT PROVIDED)\n",
    "# Created in section 0_Clinical_phenotypes\n",
    "patient_cancer = pd.read_csv('../../../Paper_data/UKB_clinic_info/cancer_ukb450k_670124.txt.gz', sep=\"\\t\")\n",
    "ukb200K_ch_cancer = pd.merge(patient_age_ch, patient_cancer,  how='inner', on='patient')\n",
    "\n",
    "# Upload Cancer variables per case (NOT PROVIDED)\n",
    "# Created in section 0_Clinical_phenotypes\n",
    "patient_cancer = pd.read_csv('../../../Paper_data/UKB_clinic_info/cancer_ukb200k_Siddharta_670124_simple.txt.gz', sep=\"\\t\")\n",
    "patient_cancer = patient_cancer.rename(columns={'eid': 'patient'})\n",
    "ukb200K_ch_cancer = pd.merge(ukb200K_ch_cancer, patient_cancer,  how='inner', on='patient')\n",
    "ukb200K_ch_cancer.rename(columns={'CH_passengers':'CH_nonDriver'}, inplace=True)\n",
    "\n",
    "# Create a unique variable for hematological cancer\n",
    "yeears = ['var_MM_years', 'var_MPN_years', 'var_MDS_years', 'var_CMML_years',\n",
    "          'var_AML_years', 'var_LL_years', 'var_Lymphoma_years', 'var_Myeloma_years']\n",
    "ukb200K_ch_cancer['var_HNALL_years'] = ukb200K_ch_cancer.loc[:,yeears].min(axis=1)\n",
    "ukb200K_ch_cancer['var_HNALL_var'] = np.where(ukb200K_ch_cancer['var_HNALL_years'].notnull(), 1, 0)\n",
    "ukb200K_ch_cancer['var_HNALL_post'] = np.where(ukb200K_ch_cancer['var_HNALL_years'] > 0, 1, 0)\n",
    "ukb200K_ch_cancer['var_HNALL_pre'] = np.where(ukb200K_ch_cancer['var_HNALL_years'] < 0, 1, 0)\n",
    "\n",
    "ukb200K_ch_cancer = ukb200K_ch_cancer.rename(columns = {'31-0.0':'sex',\n",
    "                                                                          '22009-0.1':'PC1',\n",
    "                                                                          '22009-0.2':'PC2',\n",
    "                                                                          '22009-0.3':'PC3',\n",
    "                                                                          '22009-0.4':'PC4',\n",
    "                                                                          '22009-0.5':'PC5',\n",
    "                                                                          '22009-0.6':'PC6',\n",
    "                                                                          '22009-0.7':'PC7',\n",
    "                                                                          '22009-0.8':'PC8',\n",
    "                                                                          '22009-0.9':'PC9',\n",
    "                                                                          '22009-0.10':'PC10',\n",
    "                                                                         })"
   ]
  },
  {
   "cell_type": "markdown",
   "id": "085be637",
   "metadata": {},
   "source": [
    "## 3. New boostDM-CH driver analysis"
   ]
  },
  {
   "cell_type": "code",
   "execution_count": 36,
   "id": "3cc7741e-a269-4bc2-b123-9f348f78317f",
   "metadata": {
    "tags": []
   },
   "outputs": [],
   "source": [
    "# Remove mutations from cases with prior hematologic cancer\n",
    "non_HN_patients = ukb200K_ch_cancer[ukb200K_ch_cancer['var_HNALL_pre']==0]['patient'].tolist()\n",
    "boostDM_predictions_nonHN = boostDM_predictions[boostDM_predictions['patient'].isin(non_HN_patients)].reset_index(drop=True)\n",
    "len(boostDM_predictions_nonHN)"
   ]
  },
  {
   "cell_type": "code",
   "execution_count": 37,
   "id": "a9b225aa-385f-417d-946d-bac5d3ee509b",
   "metadata": {
    "tags": []
   },
   "outputs": [],
   "source": [
    "#Remove cases with prior hemathological cancer\n",
    "ukb200K_ch_cancer_logistic = ukb200K_ch_cancer[ukb200K_ch_cancer['var_HNALL_pre']==0]\n",
    "ukb200K_ch_cancer_logistic.rename(columns={'CH_passengers':'CH_nonDriver'}, inplace=True)\n",
    "len(ukb200K_ch_cancer_logistic)"
   ]
  },
  {
   "cell_type": "code",
   "execution_count": 38,
   "id": "e52a2391-5b93-4b5c-a56d-d03d7e34a828",
   "metadata": {
    "tags": []
   },
   "outputs": [],
   "source": [
    "### Annotate with boostDM-CH prediction\n",
    "Rules_matrix = pd.read_csv('../../../Paper_data/Expert_curated_rules/genes12_BoostdmCH_Harvard_simp_run20230803.tsv.gz', sep='\\t')\n",
    "Rules_matrix['ID2'] = Rules_matrix['chr'].astype(str)+'-'+Rules_matrix['pos'].astype(str)+'-'+ Rules_matrix['alt'].astype(str)\n",
    "Rules_matrix"
   ]
  },
  {
   "cell_type": "code",
   "execution_count": 39,
   "id": "f6a258ad-eb50-4a52-b26b-609017c52fe0",
   "metadata": {
    "tags": []
   },
   "outputs": [],
   "source": [
    "#Select mutations based on driver call\n",
    "BoostDM_dirvers = Rules_matrix[Rules_matrix['boostDM_class']==1]\n",
    "Niroula_dirvers = Rules_matrix[Rules_matrix['Niroula']==1]\n",
    "Bick_dirvers = Rules_matrix[Rules_matrix['Bick']==1]\n",
    "WHO_dirvers = Rules_matrix[Rules_matrix['WHO']==1]\n",
    "\n",
    "boostDM_predictions['BoostDM'] = np.where(boostDM_predictions['ID2'].isin(BoostDM_dirvers['ID2'].to_list()), 1, 0)\n",
    "print('BoostDM_Done')\n",
    "boostDM_predictions['Niroula'] = np.where(boostDM_predictions['ID2'].isin(Niroula_dirvers['ID2'].to_list()), 1, 0)\n",
    "print('Niroula_Done')\n",
    "boostDM_predictions['Bick'] = np.where(boostDM_predictions['ID2'].isin(Bick_dirvers['ID2'].to_list()), 1, 0)\n",
    "print('Bick_Done')\n",
    "boostDM_predictions['WHO'] = np.where(boostDM_predictions['ID2'].isin(WHO_dirvers['ID2'].to_list()), 1, 0)\n",
    "print('WHO_Done')"
   ]
  },
  {
   "cell_type": "code",
   "execution_count": 40,
   "id": "b24e6114-3605-489e-a88e-46250f26381f",
   "metadata": {
    "tags": []
   },
   "outputs": [],
   "source": [
    "ukb_boostDM_exc = boostDM_predictions[(boostDM_predictions['BoostDM']==1)&\\\n",
    "                                                       (boostDM_predictions['Niroula']==0)&\\\n",
    "                                                      (boostDM_predictions['Bick']==0)&\\\n",
    "                                                      (boostDM_predictions['WHO']==0)]['ID2'].to_list()\n",
    "boostDM_predictions['BoostDM_exc'] = np.where(boostDM_predictions['ID2'].isin(ukb_boostDM_exc), 1, 0)\n",
    "\n",
    "\n",
    "ukb_Niroula_exc = boostDM_predictions[(boostDM_predictions['BoostDM']==0)&\\\n",
    "                                    (boostDM_predictions['Niroula']==1)]['ID2'].to_list()\n",
    "boostDM_predictions['Niroula_exc'] = np.where(boostDM_predictions['ID2'].isin(ukb_Niroula_exc), 1, 0)\n",
    "\n",
    "\n",
    "ukb_Bick_exc = boostDM_predictions[(boostDM_predictions['BoostDM']==0)&\\\n",
    "                                 (boostDM_predictions['Bick']==1)]['ID2'].to_list()\n",
    "boostDM_predictions['Bick_exc'] = np.where(boostDM_predictions['ID2'].isin(ukb_Bick_exc), 1, 0)\n",
    "\n",
    "\n",
    "\n",
    "ukb_WHO_exc = boostDM_predictions[(boostDM_predictions['BoostDM']==0)&\\\n",
    "                                (boostDM_predictions['WHO']==1)]['ID2'].to_list()\n",
    "boostDM_predictions['WHO_exc'] = np.where(boostDM_predictions['ID2'].isin(ukb_WHO_exc), 1, 0)\n",
    "\n",
    "\n",
    "ukb_Overlap_all = boostDM_predictions[(boostDM_predictions['BoostDM']==1)&\\\n",
    "                                                       (boostDM_predictions['Niroula']==1)&\\\n",
    "                                                      (boostDM_predictions['Bick']==1)&\\\n",
    "                                                      (boostDM_predictions['WHO']==1)]['ID2'].to_list()\n",
    "boostDM_predictions['Overlap_all'] = np.where(boostDM_predictions['ID2'].isin(ukb_Overlap_all), 1, 0)\n",
    "\n",
    "\n",
    "\n",
    "Overlapping_1 = boostDM_predictions[((boostDM_predictions['BoostDM']==1)&\\\n",
    "                                           (boostDM_predictions['Niroula']==1)&\\\n",
    "                                           (boostDM_predictions['Bick']==0)&\\\n",
    "                                           (boostDM_predictions['WHO']==0))|\\\n",
    "                                           \n",
    "                                           ((boostDM_predictions['BoostDM']==1)&\\\n",
    "                                           (boostDM_predictions['Niroula']==0)&\\\n",
    "                                           (boostDM_predictions['Bick']==1)&\\\n",
    "                                           (boostDM_predictions['WHO']==0))|\\\n",
    "                                           \n",
    "                                           ((boostDM_predictions['BoostDM']==1)&\\\n",
    "                                           (boostDM_predictions['Niroula']==0)&\\\n",
    "                                           (boostDM_predictions['Bick']==0)&\\\n",
    "                                           (boostDM_predictions['WHO']==1))]['ID2'].to_list()\n",
    "boostDM_predictions['Overlapping_1'] = np.where(boostDM_predictions['ID2'].isin(Overlapping_1), 1, 0)\n",
    "\n",
    "\n",
    "Overlapping_2 = boostDM_predictions[((boostDM_predictions['BoostDM']==1)&\\\n",
    "                                           (boostDM_predictions['Niroula']==1)&\\\n",
    "                                           (boostDM_predictions['Bick']==1)&\\\n",
    "                                           (boostDM_predictions['WHO']==0))|\\\n",
    "                                           \n",
    "                                           ((boostDM_predictions['BoostDM']==1)&\\\n",
    "                                           (boostDM_predictions['Niroula']==0)&\\\n",
    "                                           (boostDM_predictions['Bick']==1)&\\\n",
    "                                           (boostDM_predictions['WHO']==1))|\\\n",
    "                                           \n",
    "                                           ((boostDM_predictions['BoostDM']==1)&\\\n",
    "                                           (boostDM_predictions['Niroula']==1)&\\\n",
    "                                           (boostDM_predictions['Bick']==0)&\\\n",
    "                                           (boostDM_predictions['WHO']==1))]['ID2'].to_list()\n",
    "boostDM_predictions['Overlapping_2'] = np.where(boostDM_predictions['ID2'].isin(Overlapping_2), 1, 0)"
   ]
  },
  {
   "cell_type": "code",
   "execution_count": 41,
   "id": "0cf55239-4f31-4b7b-99f0-51206423322c",
   "metadata": {
    "tags": []
   },
   "outputs": [],
   "source": [
    "#Select mutations based on driver call\n",
    "\n",
    "patients_CHdrivers_Over = boostDM_predictions[boostDM_predictions['Overlap_all'] == 1]['patient'].to_list()\n",
    "patients_CHdrivers_Over1 = boostDM_predictions[boostDM_predictions['Overlapping_1'] == 1]['patient'].to_list()\n",
    "patients_CHdrivers_Over2 = boostDM_predictions[boostDM_predictions['Overlapping_2'] == 1]['patient'].to_list()\n",
    "patients_CHdrivers_BoostDM = boostDM_predictions[boostDM_predictions['BoostDM_exc'] == 1]['patient'].to_list()\n",
    "patients_CHdrivers_Niroula = boostDM_predictions[boostDM_predictions['Niroula_exc'] == 1]['patient'].to_list()\n",
    "patients_CHdrivers_Bick = boostDM_predictions[boostDM_predictions['Bick_exc'] == 1]['patient'].to_list()\n",
    "patients_CHdrivers_WHO = boostDM_predictions[boostDM_predictions['WHO_exc'] == 1]['patient'].to_list()\n",
    "\n",
    "ukb200K_ch_cancer['Potentiall_all'] = np.where(ukb200K_ch_cancer['patient'].isin(boostDM_predictions['patient'].to_list()), 1, 0)\n",
    "ukb200K_ch_cancer['Overlap_all'] = np.where(ukb200K_ch_cancer['patient'].isin(patients_CHdrivers_Over), 1, 0)\n",
    "ukb200K_ch_cancer['Overlapping_1'] = np.where(ukb200K_ch_cancer['patient'].isin(patients_CHdrivers_Over1), 1, 0)\n",
    "ukb200K_ch_cancer['Overlapping_2'] = np.where(ukb200K_ch_cancer['patient'].isin(patients_CHdrivers_Over2), 1, 0)\n",
    "ukb200K_ch_cancer['BoostDM_exc'] = np.where(ukb200K_ch_cancer['patient'].isin(patients_CHdrivers_BoostDM), 1, 0)\n",
    "ukb200K_ch_cancer['Niroula_exc'] = np.where(ukb200K_ch_cancer['patient'].isin(patients_CHdrivers_Niroula), 1, 0)\n",
    "ukb200K_ch_cancer['Bick_exc'] = np.where(ukb200K_ch_cancer['patient'].isin(patients_CHdrivers_Bick), 1, 0)\n",
    "ukb200K_ch_cancer['WHO_exc'] = np.where(ukb200K_ch_cancer['patient'].isin(patients_CHdrivers_WHO), 1, 0)\n",
    "\n",
    "patients_CHdrivers_BoostDM = boostDM_predictions[boostDM_predictions['BoostDM'] == 1]['patient'].to_list()\n",
    "patients_CHdrivers_Niroula = boostDM_predictions[boostDM_predictions['Niroula'] == 1]['patient'].to_list()\n",
    "ukb200K_ch_cancer['BoostDM'] = np.where(ukb200K_ch_cancer['patient'].isin(patients_CHdrivers_BoostDM), 1, 0)\n",
    "ukb200K_ch_cancer['Niroula'] = np.where(ukb200K_ch_cancer['patient'].isin(patients_CHdrivers_Niroula), 1, 0)"
   ]
  },
  {
   "cell_type": "code",
   "execution_count": 42,
   "id": "137a4e08-497e-4a9e-8392-a7adb2ab5b39",
   "metadata": {
    "tags": []
   },
   "outputs": [],
   "source": [
    "genes12 = ['DNMT3A', 'TET2', 'ASXL1', 'CHEK2', 'TP53', 'PPM1D', 'SF3B1', 'SRSF2','U2AF1', 'GNAS','IDH2', 'MDM4']"
   ]
  },
  {
   "cell_type": "code",
   "execution_count": 43,
   "id": "99e2ec26-31b8-4421-a423-ea58b3be8178",
   "metadata": {
    "tags": []
   },
   "outputs": [],
   "source": [
    "# Remove cases with multiple mutations\n",
    "ukb200K_ch_cancer = ukb200K_ch_cancer[ukb200K_ch_cancer['num_CH_potential']<2].reset_index(drop=True)\n",
    "len(ukb200K_ch_cancer)"
   ]
  },
  {
   "cell_type": "code",
   "execution_count": 44,
   "id": "968c001c-8c52-4a93-9b7a-068b7cfc721c",
   "metadata": {
    "tags": []
   },
   "outputs": [],
   "source": [
    "# Remove cases with prior hematological cancer\n",
    "ukb200K_ch_cancer_logistic = ukb200K_ch_cancer[ukb200K_ch_cancer['var_HNALL_pre']==0].reset_index(drop=True)\n",
    "len(ukb200K_ch_cancer_logistic)"
   ]
  },
  {
   "cell_type": "code",
   "execution_count": 45,
   "id": "5f1395af-f303-4403-968d-ad22a76edc5a",
   "metadata": {
    "tags": []
   },
   "outputs": [],
   "source": [
    "def gene_matrix(mat, gene):\n",
    "    if gene == 'ASXL1':\n",
    "        matrix = mat[(mat['CHEK2_potential']==0) &\\\n",
    "                 (mat['DNMT3A_potential']==0) &\\\n",
    "                 (mat['GNAS_potential']==0) &\\\n",
    "                 (mat['IDH2_potential']==0) &\\\n",
    "                 (mat['MDM4_potential']==0) &\\\n",
    "                 (mat['PPM1D_potential']==0) &\\\n",
    "                 (mat['SF3B1_potential']==0) &\\\n",
    "                 (mat['SRSF2_potential']==0) &\\\n",
    "                 (mat['TET2_potential']==0) &\\\n",
    "                 (mat['TP53_potential']==0) &\\\n",
    "                 (mat['U2AF1_potential']==0)]\n",
    "    elif gene == 'CHEK2':\n",
    "        matrix = mat[(mat['ASXL1_potential']==0) &\\\n",
    "                 (mat['DNMT3A_potential']==0) &\\\n",
    "                 (mat['GNAS_potential']==0) &\\\n",
    "                 (mat['IDH2_potential']==0) &\\\n",
    "                 (mat['MDM4_potential']==0) &\\\n",
    "                 (mat['PPM1D_potential']==0) &\\\n",
    "                 (mat['SF3B1_potential']==0) &\\\n",
    "                 (mat['SRSF2_potential']==0) &\\\n",
    "                 (mat['TET2_potential']==0) &\\\n",
    "                 (mat['TP53_potential']==0) &\\\n",
    "                 (mat['U2AF1_potential']==0)]\n",
    "    elif gene == 'DNMT3A':\n",
    "        matrix = mat[(mat['CHEK2_potential']==0) &\\\n",
    "                 (mat['ASXL1_potential']==0) &\\\n",
    "                 (mat['GNAS_potential']==0) &\\\n",
    "                 (mat['IDH2_potential']==0) &\\\n",
    "                 (mat['MDM4_potential']==0) &\\\n",
    "                 (mat['PPM1D_potential']==0) &\\\n",
    "                 (mat['SF3B1_potential']==0) &\\\n",
    "                 (mat['SRSF2_potential']==0) &\\\n",
    "                 (mat['TET2_potential']==0) &\\\n",
    "                 (mat['TP53_potential']==0) &\\\n",
    "                 (mat['U2AF1_potential']==0)]\n",
    "    elif gene == 'GNAS':\n",
    "        matrix = mat[(mat['CHEK2_potential']==0) &\\\n",
    "                 (mat['DNMT3A_potential']==0) &\\\n",
    "                 (mat['ASXL1_potential']==0) &\\\n",
    "                 (mat['IDH2_potential']==0) &\\\n",
    "                 (mat['MDM4_potential']==0) &\\\n",
    "                 (mat['PPM1D_potential']==0) &\\\n",
    "                 (mat['SF3B1_potential']==0) &\\\n",
    "                 (mat['SRSF2_potential']==0) &\\\n",
    "                 (mat['TET2_potential']==0) &\\\n",
    "                 (mat['TP53_potential']==0) &\\\n",
    "                 (mat['U2AF1_potential']==0)]\n",
    "    elif gene == 'IDH2':\n",
    "        matrix = mat[(mat['CHEK2_potential']==0) &\\\n",
    "                 (mat['DNMT3A_potential']==0) &\\\n",
    "                 (mat['GNAS_potential']==0) &\\\n",
    "                 (mat['ASXL1_potential']==0) &\\\n",
    "                 (mat['MDM4_potential']==0) &\\\n",
    "                 (mat['PPM1D_potential']==0) &\\\n",
    "                 (mat['SF3B1_potential']==0) &\\\n",
    "                 (mat['SRSF2_potential']==0) &\\\n",
    "                 (mat['TET2_potential']==0) &\\\n",
    "                 (mat['TP53_potential']==0) &\\\n",
    "                 (mat['U2AF1_potential']==0)]\n",
    "    elif gene == 'MDM4':\n",
    "        matrix = mat[(mat['CHEK2_potential']==0) &\\\n",
    "                 (mat['DNMT3A_potential']==0) &\\\n",
    "                 (mat['GNAS_potential']==0) &\\\n",
    "                 (mat['IDH2_potential']==0) &\\\n",
    "                 (mat['ASXL1_potential']==0) &\\\n",
    "                 (mat['PPM1D_potential']==0) &\\\n",
    "                 (mat['SF3B1_potential']==0) &\\\n",
    "                 (mat['SRSF2_potential']==0) &\\\n",
    "                 (mat['TET2_potential']==0) &\\\n",
    "                 (mat['TP53_potential']==0) &\\\n",
    "                 (mat['U2AF1_potential']==0)]\n",
    "    elif gene == 'PPM1D':\n",
    "        matrix = mat[(mat['CHEK2_potential']==0) &\\\n",
    "                 (mat['DNMT3A_potential']==0) &\\\n",
    "                 (mat['GNAS_potential']==0) &\\\n",
    "                 (mat['IDH2_potential']==0) &\\\n",
    "                 (mat['MDM4_potential']==0) &\\\n",
    "                 (mat['ASXL1_potential']==0) &\\\n",
    "                 (mat['SF3B1_potential']==0) &\\\n",
    "                 (mat['SRSF2_potential']==0) &\\\n",
    "                 (mat['TET2_potential']==0) &\\\n",
    "                 (mat['TP53_potential']==0) &\\\n",
    "                 (mat['U2AF1_potential']==0)]\n",
    "    elif gene == 'SF3B1':\n",
    "        matrix = mat[(mat['CHEK2_potential']==0) &\\\n",
    "                 (mat['DNMT3A_potential']==0) &\\\n",
    "                 (mat['GNAS_potential']==0) &\\\n",
    "                 (mat['IDH2_potential']==0) &\\\n",
    "                 (mat['MDM4_potential']==0) &\\\n",
    "                 (mat['PPM1D_potential']==0) &\\\n",
    "                 (mat['ASXL1_potential']==0) &\\\n",
    "                 (mat['SRSF2_potential']==0) &\\\n",
    "                 (mat['TET2_potential']==0) &\\\n",
    "                 (mat['TP53_potential']==0) &\\\n",
    "                 (mat['U2AF1_potential']==0)]\n",
    "    elif gene == 'SRSF2':\n",
    "        matrix = mat[(mat['CHEK2_potential']==0) &\\\n",
    "                 (mat['DNMT3A_potential']==0) &\\\n",
    "                 (mat['GNAS_potential']==0) &\\\n",
    "                 (mat['IDH2_potential']==0) &\\\n",
    "                 (mat['MDM4_potential']==0) &\\\n",
    "                 (mat['PPM1D_potential']==0) &\\\n",
    "                 (mat['SF3B1_potential']==0) &\\\n",
    "                 (mat['ASXL1_potential']==0) &\\\n",
    "                 (mat['TET2_potential']==0) &\\\n",
    "                 (mat['TP53_potential']==0) &\\\n",
    "                 (mat['U2AF1_potential']==0)]\n",
    "    elif gene == 'TET2':\n",
    "        matrix = mat[(mat['CHEK2_potential']==0) &\\\n",
    "                 (mat['DNMT3A_potential']==0) &\\\n",
    "                 (mat['GNAS_potential']==0) &\\\n",
    "                 (mat['IDH2_potential']==0) &\\\n",
    "                 (mat['MDM4_potential']==0) &\\\n",
    "                 (mat['PPM1D_potential']==0) &\\\n",
    "                 (mat['SF3B1_potential']==0) &\\\n",
    "                 (mat['SRSF2_potential']==0) &\\\n",
    "                 (mat['ASXL1_potential']==0) &\\\n",
    "                 (mat['TP53_potential']==0) &\\\n",
    "                 (mat['U2AF1_potential']==0)]\n",
    "    elif gene == 'TP53':\n",
    "        matrix = mat[(mat['CHEK2_potential']==0) &\\\n",
    "                 (mat['DNMT3A_potential']==0) &\\\n",
    "                 (mat['GNAS_potential']==0) &\\\n",
    "                 (mat['IDH2_potential']==0) &\\\n",
    "                 (mat['MDM4_potential']==0) &\\\n",
    "                 (mat['PPM1D_potential']==0) &\\\n",
    "                 (mat['SF3B1_potential']==0) &\\\n",
    "                 (mat['SRSF2_potential']==0) &\\\n",
    "                 (mat['TET2_potential']==0) &\\\n",
    "                 (mat['ASXL1_potential']==0) &\\\n",
    "                 (mat['U2AF1_potential']==0)]\n",
    "    elif gene == 'U2AF1':\n",
    "        matrix = mat[(mat['CHEK2_potential']==0) &\\\n",
    "                 (mat['DNMT3A_potential']==0) &\\\n",
    "                 (mat['GNAS_potential']==0) &\\\n",
    "                 (mat['IDH2_potential']==0) &\\\n",
    "                 (mat['MDM4_potential']==0) &\\\n",
    "                 (mat['PPM1D_potential']==0) &\\\n",
    "                 (mat['SF3B1_potential']==0) &\\\n",
    "                 (mat['SRSF2_potential']==0) &\\\n",
    "                 (mat['TET2_potential']==0) &\\\n",
    "                 (mat['TP53_potential']==0) &\\\n",
    "                 (mat['ASXL1_potential']==0)]\n",
    "    return matrix"
   ]
  },
  {
   "cell_type": "code",
   "execution_count": 51,
   "id": "8f7cc316-1fae-4a68-b781-8b0263b56ace",
   "metadata": {
    "tags": []
   },
   "outputs": [
    {
     "name": "stdout",
     "output_type": "stream",
     "text": [
      "Optimization terminated successfully.\n",
      "         Current function value: 0.010855\n",
      "         Iterations 11\n",
      "Optimization terminated successfully.\n",
      "         Current function value: 0.006225\n",
      "         Iterations 12\n",
      "Optimization terminated successfully.\n",
      "         Current function value: 0.003711\n",
      "         Iterations 15\n",
      "Optimization terminated successfully.\n",
      "         Current function value: 0.003602\n",
      "         Iterations 15\n",
      "Optimization terminated successfully.\n",
      "         Current function value: 0.008109\n",
      "         Iterations 11\n",
      "Optimization terminated successfully.\n",
      "         Current function value: 0.000159\n",
      "         Iterations 20\n"
     ]
    },
    {
     "data": {
      "text/html": [
       "<div>\n",
       "<style scoped>\n",
       "    .dataframe tbody tr th:only-of-type {\n",
       "        vertical-align: middle;\n",
       "    }\n",
       "\n",
       "    .dataframe tbody tr th {\n",
       "        vertical-align: top;\n",
       "    }\n",
       "\n",
       "    .dataframe thead th {\n",
       "        text-align: right;\n",
       "    }\n",
       "</style>\n",
       "<table border=\"1\" class=\"dataframe\">\n",
       "  <thead>\n",
       "    <tr style=\"text-align: right;\">\n",
       "      <th></th>\n",
       "      <th>gene</th>\n",
       "      <th>num_muts</th>\n",
       "      <th>OR</th>\n",
       "      <th>Lower CI</th>\n",
       "      <th>Upper CI</th>\n",
       "      <th>pval</th>\n",
       "      <th>rsquare</th>\n",
       "      <th>sig</th>\n",
       "      <th>q_value</th>\n",
       "    </tr>\n",
       "  </thead>\n",
       "  <tbody>\n",
       "    <tr>\n",
       "      <th>0</th>\n",
       "      <td>BoostDM</td>\n",
       "      <td>512</td>\n",
       "      <td>1.011231</td>\n",
       "      <td>1.000195</td>\n",
       "      <td>1.022388</td>\n",
       "      <td>0.046073</td>\n",
       "      <td>0.001507</td>\n",
       "      <td>sig</td>\n",
       "      <td>0.092147</td>\n",
       "    </tr>\n",
       "    <tr>\n",
       "      <th>1</th>\n",
       "      <td>CH_driver</td>\n",
       "      <td>271</td>\n",
       "      <td>1.019371</td>\n",
       "      <td>1.003905</td>\n",
       "      <td>1.035075</td>\n",
       "      <td>0.013909</td>\n",
       "      <td>0.002970</td>\n",
       "      <td>sig</td>\n",
       "      <td>0.065822</td>\n",
       "    </tr>\n",
       "    <tr>\n",
       "      <th>2</th>\n",
       "      <td>Niroula</td>\n",
       "      <td>151</td>\n",
       "      <td>1.001968</td>\n",
       "      <td>0.982162</td>\n",
       "      <td>1.022173</td>\n",
       "      <td>0.846984</td>\n",
       "      <td>0.004730</td>\n",
       "      <td>ns</td>\n",
       "      <td>0.918405</td>\n",
       "    </tr>\n",
       "    <tr>\n",
       "      <th>3</th>\n",
       "      <td>Overlapping_1</td>\n",
       "      <td>146</td>\n",
       "      <td>1.001060</td>\n",
       "      <td>0.980966</td>\n",
       "      <td>1.021567</td>\n",
       "      <td>0.918405</td>\n",
       "      <td>0.004736</td>\n",
       "      <td>ns</td>\n",
       "      <td>0.918405</td>\n",
       "    </tr>\n",
       "    <tr>\n",
       "      <th>4</th>\n",
       "      <td>BoostDM_exc</td>\n",
       "      <td>366</td>\n",
       "      <td>1.015378</td>\n",
       "      <td>1.002210</td>\n",
       "      <td>1.028720</td>\n",
       "      <td>0.021941</td>\n",
       "      <td>0.001437</td>\n",
       "      <td>sig</td>\n",
       "      <td>0.065822</td>\n",
       "    </tr>\n",
       "    <tr>\n",
       "      <th>5</th>\n",
       "      <td>Niroula_exc</td>\n",
       "      <td>5</td>\n",
       "      <td>1.028403</td>\n",
       "      <td>0.916255</td>\n",
       "      <td>1.154278</td>\n",
       "      <td>0.634500</td>\n",
       "      <td>0.076173</td>\n",
       "      <td>ns</td>\n",
       "      <td>0.918405</td>\n",
       "    </tr>\n",
       "  </tbody>\n",
       "</table>\n",
       "</div>"
      ],
      "text/plain": [
       "            gene  num_muts        OR  Lower CI  Upper CI      pval   rsquare  \\\n",
       "0        BoostDM       512  1.011231  1.000195  1.022388  0.046073  0.001507   \n",
       "1      CH_driver       271  1.019371  1.003905  1.035075  0.013909  0.002970   \n",
       "2        Niroula       151  1.001968  0.982162  1.022173  0.846984  0.004730   \n",
       "3  Overlapping_1       146  1.001060  0.980966  1.021567  0.918405  0.004736   \n",
       "4    BoostDM_exc       366  1.015378  1.002210  1.028720  0.021941  0.001437   \n",
       "5    Niroula_exc         5  1.028403  0.916255  1.154278  0.634500  0.076173   \n",
       "\n",
       "   sig   q_value  \n",
       "0  sig  0.092147  \n",
       "1  sig  0.065822  \n",
       "2   ns  0.918405  \n",
       "3   ns  0.918405  \n",
       "4  sig  0.065822  \n",
       "5   ns  0.918405  "
      ]
     },
     "execution_count": 51,
     "metadata": {},
     "output_type": "execute_result"
    }
   ],
   "source": [
    "#perform logistic regression separetly\n",
    "import statsmodels.formula.api as smf\n",
    "import statsmodels.stats.multitest as mtc\n",
    "\n",
    "name = []\n",
    "OR = []\n",
    "cilow = []\n",
    "ciup = []\n",
    "rsquare = []\n",
    "pval = []\n",
    "sig = []\n",
    "num_muts = []\n",
    "\n",
    "ggg = 'CHEK2'\n",
    "\n",
    "for gene in ['BoostDM', 'CH_driver', 'Niroula', 'Overlapping_1', 'BoostDM_exc', 'Niroula_exc']:   \n",
    "    #we have exclude pre hematological cases\n",
    "    CH_driver_matrix = ukb200K_ch_cancer_logistic[(ukb200K_ch_cancer_logistic[gene]==1)|(ukb200K_ch_cancer_logistic['Potentiall_all']==0)]\n",
    "    CH_driver_matrix = gene_matrix(CH_driver_matrix, ggg)\n",
    "    num_mut = len(CH_driver_matrix[(CH_driver_matrix[gene] == 1)])\n",
    "    if num_mut > 0:\n",
    "        model_hematopost = smf.logit(formula= gene+' ~ 1 + age_recruitment_x + sex + PC1 + PC2 + PC3 + PC4 + PC5 + PC6 + PC7 + PC8 + PC9 + PC10', data=CH_driver_matrix).fit()\n",
    "\n",
    "        name.append(gene)\n",
    "        num_muts.append(num_mut)\n",
    "        OR.append(np.exp(model_hematopost.params[1]))\n",
    "        cilow.append(np.exp(model_hematopost.conf_int().iloc[1,0]))\n",
    "        ciup.append(np.exp(model_hematopost.conf_int().iloc[1,1]))\n",
    "        rsquare.append(model_hematopost.prsquared)\n",
    "        pval.append(model_hematopost.pvalues[1])\n",
    "        sig.append('significant' if model_hematopost.pvalues[1] <= 0.05 else 'not significant')\n",
    "    else:\n",
    "        name.append(gene)\n",
    "        num_muts.append(num_mut)\n",
    "        OR.append(np.nan)\n",
    "        cilow.append(np.nan)\n",
    "        ciup.append(np.nan)\n",
    "        rsquare.append(np.nan)\n",
    "        pval.append(np.nan)\n",
    "        sig.append(np.nan)\n",
    "\n",
    "varlist = pd.DataFrame(list(zip(name, num_muts, OR, cilow, ciup, pval, rsquare, sig)), columns = ['gene','num_muts' , 'OR', 'Lower CI', 'Upper CI', 'pval', 'rsquare', 'sig'])\n",
    "\n",
    "import math\n",
    "q_value = []\n",
    "q_val = mtc.fdrcorrection(pd.to_numeric(varlist[~varlist['pval'].isna()]['pval']))[1]\n",
    "num_pval = -1\n",
    "for x in varlist.pval:\n",
    "    if math.isnan(x):\n",
    "        q_value.append(np.nan)\n",
    "    else:\n",
    "        num_pval=num_pval+1\n",
    "        q_value.append(q_val[num_pval])\n",
    "varlist[\"q_value\"] = q_value\n",
    "varlist['sig'] = ['sig' if qval <= 0.1 else 'ns' if qval > 0.1 else np.nan for qval in varlist.q_value]\n",
    "varlist"
   ]
  },
  {
   "cell_type": "code",
   "execution_count": 52,
   "id": "f9ad2512-a095-4052-b049-bc6188d1da78",
   "metadata": {
    "tags": []
   },
   "outputs": [
    {
     "data": {
      "image/png": "[encoded data removed]",
      "text/plain": [
       "<Figure size 1050x450 with 1 Axes>"
      ]
     },
     "metadata": {},
     "output_type": "display_data"
    }
   ],
   "source": [
    "fig, ax = plt.subplots(nrows=1, sharex=True, sharey=True, figsize=(3.5, 1.5), dpi=300)\n",
    "xlimit = 1.17\n",
    "ylimit = len(varlist)-1\n",
    "\n",
    "for idx, row in varlist.iloc[::-1].iterrows():\n",
    "    ci = [[row['OR'] - row['Lower CI']], [row['Upper CI'] - row['OR']]]\n",
    "    if 'Overlap_all' in row['gene']:\n",
    "        plt.errorbar(x=[row['OR']], y=[row.gene], xerr=ci,\n",
    "                 ecolor='#333333', capsize=3, linestyle='None', linewidth=1, marker=\"o\", \n",
    "                 markersize=5, mfc=\"#333333\", mec=\"#333333\")\n",
    "        plt.axvline(x=1, linewidth=0.8, linestyle='--', color='black')\n",
    "    elif 'Overlapping_1' in row['gene']:\n",
    "        plt.errorbar(x=[row['OR']], y=['BoostDM-CH & Niroula'], xerr=ci,\n",
    "                 ecolor='grey', capsize=3, linestyle='None', linewidth=1, marker=\"o\", \n",
    "                 markersize=5, mfc=\"grey\", mec=\"grey\")\n",
    "        plt.axvline(x=1, linewidth=0.8, linestyle='--', color='black')\n",
    "    elif 'Overlapping_2' in row['gene']:\n",
    "        plt.errorbar(x=[row['OR']], y=[row.gene], xerr=ci,\n",
    "                 ecolor='#555555', capsize=3, linestyle='None', linewidth=1, marker=\"o\", \n",
    "                 markersize=5, mfc=\"#555555\", mec=\"#555555\")\n",
    "        plt.axvline(x=1, linewidth=0.8, linestyle='--', color='black')\n",
    "        \n",
    "    elif row['gene'] == 'BoostDM':\n",
    "        plt.errorbar(x=[row['OR']], y=['BoostDM-CH'], xerr=ci,\n",
    "                 ecolor='#556CE0', capsize=3, linestyle='None', linewidth=1, marker=\"o\", \n",
    "                 markersize=5, mfc=\"#556CE0\", mec=\"#556CE0\")\n",
    "        plt.axvline(x=1, linewidth=0.8, linestyle='--', color='black')\n",
    "        \n",
    "    elif row['gene'] == 'Niroula':\n",
    "        plt.errorbar(x=[row['OR']], y=[row.gene], xerr=ci,\n",
    "                 ecolor='#82678E', capsize=3, linestyle='None', linewidth=1, marker=\"o\", \n",
    "                 markersize=5, mfc=\"#82678E\", mec=\"#82678E\")\n",
    "        plt.axvline(x=1, linewidth=0.8, linestyle='--', color='black')\n",
    "            \n",
    "    elif row['gene'] == 'BoostDM_exc':\n",
    "        plt.errorbar(x=[row['OR']], y=['BoostDM-CH exclusive'], xerr=ci,\n",
    "                 ecolor='#556CE0', capsize=3, linestyle='None', linewidth=1, marker=\"o\", \n",
    "                 markersize=5, mfc=\"#556CE0\", mec=\"#556CE0\")\n",
    "        plt.axvline(x=1, linewidth=0.8, linestyle='--', color='black')\n",
    "        \n",
    "    elif row['gene'] == 'Niroula_exc':\n",
    "        plt.errorbar(x=[row['OR']], y=['Niroula exclusive'], xerr=ci,\n",
    "                 ecolor='#82678E', capsize=3, linestyle='None', linewidth=1, marker=\"o\", \n",
    "                 markersize=5, mfc=\"#82678E\", mec=\"#82678E\")\n",
    "        plt.axvline(x=1, linewidth=0.8, linestyle='--', color='black')\n",
    "        \n",
    "    elif 'Bick_exc' in row['gene']:\n",
    "        plt.errorbar(x=[row['OR']], y=[row.gene], xerr=ci,\n",
    "                 ecolor='#6DAC67', capsize=3, linestyle='None', linewidth=1, marker=\"o\", \n",
    "                 markersize=5, mfc=\"#6DAC67\", mec=\"#6DAC67\")\n",
    "        plt.axvline(x=1, linewidth=0.8, linestyle='--', color='black')\n",
    "        \n",
    "    elif 'WHO' in row['gene']:\n",
    "        plt.errorbar(x=[row['OR']], y=[row.gene], xerr=ci,\n",
    "                 ecolor='#EAD36E', capsize=3, linestyle='None', linewidth=1, marker=\"o\", \n",
    "                 markersize=5, mfc=\"#EAD36E\", mec=\"#EAD36E\")\n",
    "        plt.axvline(x=1, linewidth=0.8, linestyle='--', color='black')\n",
    "    elif 'CH' in row['gene']:\n",
    "        plt.errorbar(x=[row['OR']], y=['BoostDM-CH high-conf'], xerr=ci,\n",
    "                 ecolor='#1C2F96', capsize=3, linestyle='None', linewidth=1, marker=\"o\", \n",
    "                 markersize=5, mfc=\"#1C2F96\", mec=\"#1C2F96\")\n",
    "        plt.axvline(x=1, linewidth=0.8, linestyle='--', color='black')\n",
    "        \n",
    "    if row['sig'] == 'sig':\n",
    "        ax.text(xlimit+0.01, ylimit-idx-0.2, str(row['num_muts'])+' (*)', style='italic', size=6)\n",
    "    else:\n",
    "        ax.text(xlimit+0.01, ylimit-idx-0.2, f\"{row['num_muts']:,} (ns)\", style='italic', size=6)\n",
    "        \n",
    "        \n",
    "ax.set_title('Age associations with CH '+ggg+' mutations\\n(cut-off VAF<0.25)', fontdict={'size':6})\n",
    "plt.tight_layout()\n",
    "plt.xlim([0.9, xlimit])\n",
    "ax.set_ylim(-.8, ylimit+.8)\n",
    "plt.yticks(fontsize=5)\n",
    "plt.xticks(fontsize=5)\n",
    "for axis in ['top', 'bottom', 'left', 'right']:\n",
    "    ax.spines[axis].set_linewidth(0.5)  # change width\n",
    "plt.xlabel('Odds Ratio (95% CI)', fontsize=6)\n",
    "\n",
    "\n",
    "plt.show()"
   ]
  },
  {
   "cell_type": "code",
   "execution_count": 53,
   "id": "b122ef16-f14c-4c4a-9bd2-eb6ef7deb9fc",
   "metadata": {
    "tags": []
   },
   "outputs": [
    {
     "data": {
      "image/png": "[encoded data removed]",
      "text/plain": [
       "<Figure size 900x450 with 1 Axes>"
      ]
     },
     "metadata": {},
     "output_type": "display_data"
    }
   ],
   "source": [
    "fig, ax = plt.subplots(nrows=1, sharex=True, sharey=True, figsize=(3, 1.5), dpi=300)\n",
    "xlimit = 1.06\n",
    "ylimit = len(varlist)-1\n",
    "\n",
    "for idx, row in varlist.iloc[::-1].iterrows():\n",
    "    ci = [[row['OR'] - row['Lower CI']], [row['Upper CI'] - row['OR']]]\n",
    "    if 'Overlap_all' in row['gene']:\n",
    "        plt.errorbar(x=[row['OR']], y=[row.gene], xerr=ci,\n",
    "                 ecolor='#333333', capsize=3, linestyle='None', linewidth=1, marker=\"o\", \n",
    "                 markersize=5, mfc=\"#333333\", mec=\"#333333\")\n",
    "        plt.axvline(x=1, linewidth=0.8, linestyle='--', color='black')\n",
    "    elif 'Overlapping_1' in row['gene']:\n",
    "        plt.errorbar(x=[row['OR']], y=['BoostDM-CH & Niroula'], xerr=ci,\n",
    "                 ecolor='grey', capsize=3, linestyle='None', linewidth=1, marker=\"o\", \n",
    "                 markersize=5, mfc=\"grey\", mec=\"grey\")\n",
    "        plt.axvline(x=1, linewidth=0.8, linestyle='--', color='black')\n",
    "    elif 'Overlapping_2' in row['gene']:\n",
    "        plt.errorbar(x=[row['OR']], y=[row.gene], xerr=ci,\n",
    "                 ecolor='#555555', capsize=3, linestyle='None', linewidth=1, marker=\"o\", \n",
    "                 markersize=5, mfc=\"#555555\", mec=\"#555555\")\n",
    "        plt.axvline(x=1, linewidth=0.8, linestyle='--', color='black')\n",
    "        \n",
    "    elif row['gene'] == 'BoostDM':\n",
    "        plt.errorbar(x=[row['OR']], y=['BoostDM-CH'], xerr=ci,\n",
    "                 ecolor='#556CE0', capsize=3, linestyle='None', linewidth=1, marker=\"o\", \n",
    "                 markersize=5, mfc=\"#556CE0\", mec=\"#556CE0\")\n",
    "        plt.axvline(x=1, linewidth=0.8, linestyle='--', color='black')\n",
    "        \n",
    "    elif row['gene'] == 'Niroula':\n",
    "        plt.errorbar(x=[row['OR']], y=[row.gene], xerr=ci,\n",
    "                 ecolor='#82678E', capsize=3, linestyle='None', linewidth=1, marker=\"o\", \n",
    "                 markersize=5, mfc=\"#82678E\", mec=\"#82678E\")\n",
    "        plt.axvline(x=1, linewidth=0.8, linestyle='--', color='black')\n",
    "            \n",
    "    elif row['gene'] == 'BoostDM_exc':\n",
    "        plt.errorbar(x=[row['OR']], y=['BoostDM-CH exclusive'], xerr=ci,\n",
    "                 ecolor='#556CE0', capsize=3, linestyle='None', linewidth=1, marker=\"o\", \n",
    "                 markersize=5, mfc=\"#556CE0\", mec=\"#556CE0\")\n",
    "        plt.axvline(x=1, linewidth=0.8, linestyle='--', color='black')\n",
    "        \n",
    "    elif row['gene'] == 'Niroula_exc':\n",
    "        plt.errorbar(x=[row['OR']], y=['Niroula exclusive'], xerr=ci,\n",
    "                 ecolor='#82678E', capsize=3, linestyle='None', linewidth=1, marker=\"o\", \n",
    "                 markersize=5, mfc=\"#82678E\", mec=\"#82678E\")\n",
    "        plt.axvline(x=1, linewidth=0.8, linestyle='--', color='black')\n",
    "        \n",
    "    elif 'Bick_exc' in row['gene']:\n",
    "        plt.errorbar(x=[row['OR']], y=[row.gene], xerr=ci,\n",
    "                 ecolor='#6DAC67', capsize=3, linestyle='None', linewidth=1, marker=\"o\", \n",
    "                 markersize=5, mfc=\"#6DAC67\", mec=\"#6DAC67\")\n",
    "        plt.axvline(x=1, linewidth=0.8, linestyle='--', color='black')\n",
    "        \n",
    "    elif 'WHO' in row['gene']:\n",
    "        plt.errorbar(x=[row['OR']], y=[row.gene], xerr=ci,\n",
    "                 ecolor='#EAD36E', capsize=3, linestyle='None', linewidth=1, marker=\"o\", \n",
    "                 markersize=5, mfc=\"#EAD36E\", mec=\"#EAD36E\")\n",
    "        plt.axvline(x=1, linewidth=0.8, linestyle='--', color='black')\n",
    "    elif 'CH' in row['gene']:\n",
    "        plt.errorbar(x=[row['OR']], y=['BoostDM-CH high-conf'], xerr=ci,\n",
    "                 ecolor='#1C2F96', capsize=3, linestyle='None', linewidth=1, marker=\"o\", \n",
    "                 markersize=5, mfc=\"#1C2F96\", mec=\"#1C2F96\")\n",
    "        plt.axvline(x=1, linewidth=0.8, linestyle='--', color='black')\n",
    "        \n",
    "    if row['sig'] == 'sig':\n",
    "        ax.text(xlimit+0.01, ylimit-idx-0.2, str(row['num_muts'])+' (*)', style='italic', size=6)\n",
    "    else:\n",
    "        ax.text(xlimit+0.01, ylimit-idx-0.2, f\"{row['num_muts']:,} (ns)\", style='italic', size=6)\n",
    "        \n",
    "        \n",
    "ax.set_title('Age associations with CH '+ggg+' mutations\\n(cut-off VAF<0.25)', fontdict={'size':6})\n",
    "plt.tight_layout()\n",
    "plt.xlim([0.96, xlimit])\n",
    "ax.set_ylim(-.8, ylimit+.8)\n",
    "plt.yticks(fontsize=5)\n",
    "plt.xticks(fontsize=5)\n",
    "for axis in ['top', 'bottom', 'left', 'right']:\n",
    "    ax.spines[axis].set_linewidth(0.5)  # change width\n",
    "plt.xlabel('Odds Ratio (95% CI)', fontsize=6)\n",
    "\n",
    "\n",
    "plt.show()"
   ]
  },
  {
   "cell_type": "code",
   "execution_count": 54,
   "id": "67ea9d0a-0737-4cce-aa3a-82e8c5a63508",
   "metadata": {
    "tags": []
   },
   "outputs": [
    {
     "name": "stdout",
     "output_type": "stream",
     "text": [
      "Optimization terminated successfully.\n",
      "         Current function value: 0.001361\n",
      "         Iterations 17\n",
      "Optimization terminated successfully.\n",
      "         Current function value: 0.001361\n",
      "         Iterations 17\n"
     ]
    },
    {
     "data": {
      "text/html": [
       "<div>\n",
       "<style scoped>\n",
       "    .dataframe tbody tr th:only-of-type {\n",
       "        vertical-align: middle;\n",
       "    }\n",
       "\n",
       "    .dataframe tbody tr th {\n",
       "        vertical-align: top;\n",
       "    }\n",
       "\n",
       "    .dataframe thead th {\n",
       "        text-align: right;\n",
       "    }\n",
       "</style>\n",
       "<table border=\"1\" class=\"dataframe\">\n",
       "  <thead>\n",
       "    <tr style=\"text-align: right;\">\n",
       "      <th></th>\n",
       "      <th>gene</th>\n",
       "      <th>num_muts</th>\n",
       "      <th>OR</th>\n",
       "      <th>Lower CI</th>\n",
       "      <th>Upper CI</th>\n",
       "      <th>pval</th>\n",
       "      <th>rsquare</th>\n",
       "      <th>sig</th>\n",
       "      <th>q_value</th>\n",
       "    </tr>\n",
       "  </thead>\n",
       "  <tbody>\n",
       "    <tr>\n",
       "      <th>0</th>\n",
       "      <td>BoostDM</td>\n",
       "      <td>50</td>\n",
       "      <td>1.043339</td>\n",
       "      <td>1.004898</td>\n",
       "      <td>1.083251</td>\n",
       "      <td>0.026756</td>\n",
       "      <td>0.021378</td>\n",
       "      <td>sig</td>\n",
       "      <td>0.026756</td>\n",
       "    </tr>\n",
       "    <tr>\n",
       "      <th>1</th>\n",
       "      <td>CH_driver</td>\n",
       "      <td>50</td>\n",
       "      <td>1.043339</td>\n",
       "      <td>1.004898</td>\n",
       "      <td>1.083251</td>\n",
       "      <td>0.026756</td>\n",
       "      <td>0.021378</td>\n",
       "      <td>sig</td>\n",
       "      <td>0.026756</td>\n",
       "    </tr>\n",
       "  </tbody>\n",
       "</table>\n",
       "</div>"
      ],
      "text/plain": [
       "        gene  num_muts        OR  Lower CI  Upper CI      pval   rsquare  sig  \\\n",
       "0    BoostDM        50  1.043339  1.004898  1.083251  0.026756  0.021378  sig   \n",
       "1  CH_driver        50  1.043339  1.004898  1.083251  0.026756  0.021378  sig   \n",
       "\n",
       "    q_value  \n",
       "0  0.026756  \n",
       "1  0.026756  "
      ]
     },
     "execution_count": 54,
     "metadata": {},
     "output_type": "execute_result"
    }
   ],
   "source": [
    "#perform logistic regression separetly\n",
    "import statsmodels.formula.api as smf\n",
    "import statsmodels.stats.multitest as mtc\n",
    "\n",
    "name = []\n",
    "OR = []\n",
    "cilow = []\n",
    "ciup = []\n",
    "rsquare = []\n",
    "pval = []\n",
    "sig = []\n",
    "num_muts = []\n",
    "\n",
    "ggg = 'MDM4'\n",
    "\n",
    "for gene in ['BoostDM', 'CH_driver']:   \n",
    "    #we have exclude pre hematological cases\n",
    "    CH_driver_matrix = ukb200K_ch_cancer_logistic[(ukb200K_ch_cancer_logistic[gene]==1)|(ukb200K_ch_cancer_logistic['Potentiall_all']==0)]\n",
    "    CH_driver_matrix = gene_matrix(CH_driver_matrix, ggg)\n",
    "    num_mut = len(CH_driver_matrix[(CH_driver_matrix[gene] == 1)])\n",
    "    if num_mut > 0:\n",
    "        model_hematopost = smf.logit(formula= gene+' ~ 1 + age_recruitment_x + sex + PC1 + PC2 + PC3 + PC4 + PC5 + PC6 + PC7 + PC8 + PC9 + PC10', data=CH_driver_matrix).fit()\n",
    "\n",
    "        name.append(gene)\n",
    "        num_muts.append(num_mut)\n",
    "        OR.append(np.exp(model_hematopost.params[1]))\n",
    "        cilow.append(np.exp(model_hematopost.conf_int().iloc[1,0]))\n",
    "        ciup.append(np.exp(model_hematopost.conf_int().iloc[1,1]))\n",
    "        rsquare.append(model_hematopost.prsquared)\n",
    "        pval.append(model_hematopost.pvalues[1])\n",
    "        sig.append('significant' if model_hematopost.pvalues[1] <= 0.05 else 'not significant')\n",
    "    else:\n",
    "        name.append(gene)\n",
    "        num_muts.append(num_mut)\n",
    "        OR.append(np.nan)\n",
    "        cilow.append(np.nan)\n",
    "        ciup.append(np.nan)\n",
    "        rsquare.append(np.nan)\n",
    "        pval.append(np.nan)\n",
    "        sig.append(np.nan)\n",
    "\n",
    "varlist = pd.DataFrame(list(zip(name, num_muts, OR, cilow, ciup, pval, rsquare, sig)), columns = ['gene','num_muts' , 'OR', 'Lower CI', 'Upper CI', 'pval', 'rsquare', 'sig'])\n",
    "\n",
    "import math\n",
    "q_value = []\n",
    "q_val = mtc.fdrcorrection(pd.to_numeric(varlist[~varlist['pval'].isna()]['pval']))[1]\n",
    "num_pval = -1\n",
    "for x in varlist.pval:\n",
    "    if math.isnan(x):\n",
    "        q_value.append(np.nan)\n",
    "    else:\n",
    "        num_pval=num_pval+1\n",
    "        q_value.append(q_val[num_pval])\n",
    "varlist[\"q_value\"] = q_value\n",
    "varlist['sig'] = ['sig' if qval <= 0.1 else 'ns' if qval > 0.1 else np.nan for qval in varlist.q_value]\n",
    "varlist"
   ]
  },
  {
   "cell_type": "code",
   "execution_count": 55,
   "id": "9cc5ab38-09ab-4906-9e9a-25389086912d",
   "metadata": {
    "tags": []
   },
   "outputs": [
    {
     "name": "stderr",
     "output_type": "stream",
     "text": [
      "/tmp/jobs/jramis/9874679/ipykernel_3073/3101869693.py:71: UserWarning: Tight layout not applied. The left and right margins cannot be made large enough to accommodate all axes decorations.\n",
      "  plt.tight_layout()\n"
     ]
    },
    {
     "data": {
      "image/png": "[encoded data removed]",
      "text/plain": [
       "<Figure size 390x120 with 1 Axes>"
      ]
     },
     "metadata": {},
     "output_type": "display_data"
    }
   ],
   "source": [
    "fig, ax = plt.subplots(nrows=1, sharex=True, sharey=True, figsize=(1.3, 0.4), dpi=300)\n",
    "xlimit = 1.17\n",
    "ylimit = len(varlist)-1\n",
    "\n",
    "for idx, row in varlist.iloc[::-1].iterrows():\n",
    "    ci = [[row['OR'] - row['Lower CI']], [row['Upper CI'] - row['OR']]]\n",
    "    if 'Overlap_all' in row['gene']:\n",
    "        plt.errorbar(x=[row['OR']], y=[row.gene], xerr=ci,\n",
    "                 ecolor='#333333', capsize=3, linestyle='None', linewidth=1, marker=\"o\", \n",
    "                 markersize=5, mfc=\"#333333\", mec=\"#333333\")\n",
    "        plt.axvline(x=1, linewidth=0.8, linestyle='--', color='black')\n",
    "    elif 'Overlapping_1' in row['gene']:\n",
    "        plt.errorbar(x=[row['OR']], y=['BoostDM-CH & Niroula'], xerr=ci,\n",
    "                 ecolor='grey', capsize=3, linestyle='None', linewidth=1, marker=\"o\", \n",
    "                 markersize=5, mfc=\"grey\", mec=\"grey\")\n",
    "        plt.axvline(x=1, linewidth=0.8, linestyle='--', color='black')\n",
    "    elif 'Overlapping_2' in row['gene']:\n",
    "        plt.errorbar(x=[row['OR']], y=[row.gene], xerr=ci,\n",
    "                 ecolor='#555555', capsize=3, linestyle='None', linewidth=1, marker=\"o\", \n",
    "                 markersize=5, mfc=\"#555555\", mec=\"#555555\")\n",
    "        plt.axvline(x=1, linewidth=0.8, linestyle='--', color='black')\n",
    "        \n",
    "    elif row['gene'] == 'BoostDM':\n",
    "        plt.errorbar(x=[row['OR']], y=['BoostDM-CH'], xerr=ci,\n",
    "                 ecolor='#556CE0', capsize=3, linestyle='None', linewidth=1, marker=\"o\", \n",
    "                 markersize=5, mfc=\"#556CE0\", mec=\"#556CE0\")\n",
    "        plt.axvline(x=1, linewidth=0.8, linestyle='--', color='black')\n",
    "        \n",
    "    elif row['gene'] == 'Niroula':\n",
    "        plt.errorbar(x=[row['OR']], y=[row.gene], xerr=ci,\n",
    "                 ecolor='#82678E', capsize=3, linestyle='None', linewidth=1, marker=\"o\", \n",
    "                 markersize=5, mfc=\"#82678E\", mec=\"#82678E\")\n",
    "        plt.axvline(x=1, linewidth=0.8, linestyle='--', color='black')\n",
    "            \n",
    "    elif row['gene'] == 'BoostDM_exc':\n",
    "        plt.errorbar(x=[row['OR']], y=['BoostDM-CH exclusive'], xerr=ci,\n",
    "                 ecolor='#556CE0', capsize=3, linestyle='None', linewidth=1, marker=\"o\", \n",
    "                 markersize=5, mfc=\"#556CE0\", mec=\"#556CE0\")\n",
    "        plt.axvline(x=1, linewidth=0.8, linestyle='--', color='black')\n",
    "        \n",
    "    elif row['gene'] == 'Niroula_exc':\n",
    "        plt.errorbar(x=[row['OR']], y=['Niroula exclusive'], xerr=ci,\n",
    "                 ecolor='#82678E', capsize=3, linestyle='None', linewidth=1, marker=\"o\", \n",
    "                 markersize=5, mfc=\"#82678E\", mec=\"#82678E\")\n",
    "        plt.axvline(x=1, linewidth=0.8, linestyle='--', color='black')\n",
    "        \n",
    "    elif 'Bick_exc' in row['gene']:\n",
    "        plt.errorbar(x=[row['OR']], y=[row.gene], xerr=ci,\n",
    "                 ecolor='#6DAC67', capsize=3, linestyle='None', linewidth=1, marker=\"o\", \n",
    "                 markersize=5, mfc=\"#6DAC67\", mec=\"#6DAC67\")\n",
    "        plt.axvline(x=1, linewidth=0.8, linestyle='--', color='black')\n",
    "        \n",
    "    elif 'WHO' in row['gene']:\n",
    "        plt.errorbar(x=[row['OR']], y=[row.gene], xerr=ci,\n",
    "                 ecolor='#EAD36E', capsize=3, linestyle='None', linewidth=1, marker=\"o\", \n",
    "                 markersize=5, mfc=\"#EAD36E\", mec=\"#EAD36E\")\n",
    "        plt.axvline(x=1, linewidth=0.8, linestyle='--', color='black')\n",
    "    elif 'CH' in row['gene']:\n",
    "        plt.errorbar(x=[row['OR']], y=['BoostDM-CH high-conf'], xerr=ci,\n",
    "                 ecolor='#1C2F96', capsize=3, linestyle='None', linewidth=1, marker=\"o\", \n",
    "                 markersize=5, mfc=\"#1C2F96\", mec=\"#1C2F96\")\n",
    "        plt.axvline(x=1, linewidth=0.8, linestyle='--', color='black')\n",
    "        \n",
    "    if row['sig'] == 'sig':\n",
    "        ax.text(xlimit+0.01, ylimit-idx-0.2, str(row['num_muts'])+' (*)', style='italic', size=6)\n",
    "    else:\n",
    "        ax.text(xlimit+0.01, ylimit-idx-0.2, f\"{row['num_muts']:,} (ns)\", style='italic', size=6)\n",
    "        \n",
    "        \n",
    "ax.set_title('Age associations with CH '+ggg+' mutations\\n(cut-off VAF<0.25)', fontdict={'size':6})\n",
    "plt.tight_layout()\n",
    "plt.xlim([0.9, xlimit])\n",
    "ax.set_ylim(-.8, ylimit+.8)\n",
    "plt.yticks(fontsize=5)\n",
    "plt.xticks(fontsize=5)\n",
    "for axis in ['top', 'bottom', 'left', 'right']:\n",
    "    ax.spines[axis].set_linewidth(0.5)  # change width\n",
    "plt.xlabel('Odds Ratio (95% CI)', fontsize=6)\n",
    "\n",
    "\n",
    "plt.show()"
   ]
  },
  {
   "cell_type": "code",
   "execution_count": null,
   "id": "dbcfe5dc-a47b-4e62-8f1e-6599d6de2d7e",
   "metadata": {},
   "outputs": [],
   "source": []
  },
  {
   "cell_type": "code",
   "execution_count": null,
   "id": "076fe4bd-be6e-4a72-9a2e-dde7d8b96493",
   "metadata": {},
   "outputs": [],
   "source": []
  },
  {
   "cell_type": "code",
   "execution_count": null,
   "id": "8efc561b",
   "metadata": {},
   "outputs": [],
   "source": []
  }
 ],
 "metadata": {
  "kernelspec": {
   "display_name": "Python 3 (ipykernel)",
   "language": "python",
   "name": "python3"
  },
  "language_info": {
   "codemirror_mode": {
    "name": "ipython",
    "version": 3
   },
   "file_extension": ".py",
   "mimetype": "text/x-python",
   "name": "python",
   "nbconvert_exporter": "python",
   "pygments_lexer": "ipython3",
   "version": "3.9.7"
  }
 },
 "nbformat": 4,
 "nbformat_minor": 5
}
