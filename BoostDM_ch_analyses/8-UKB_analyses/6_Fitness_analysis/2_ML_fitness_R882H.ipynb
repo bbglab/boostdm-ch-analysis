{
 "cells": [
  {
   "cell_type": "markdown",
   "metadata": {},
   "source": [
    "# Analysis ML fitness for DNMT3A_R882H\n",
    "\n",
    "### We need to calculate from the most frequent mutation the [N\\tau, s, sigma]"
   ]
  },
  {
   "cell_type": "code",
   "execution_count": 3,
   "metadata": {},
   "outputs": [],
   "source": [
    "import pandas as pd\n",
    "import numpy as np\n",
    "import matplotlib.pyplot as plt\n",
    "import gzip\n",
    "import math\n",
    "import scipy.optimize\n",
    "import scipy.integrate as it\n",
    "from scipy import integrate"
   ]
  },
  {
   "cell_type": "code",
   "execution_count": 4,
   "metadata": {},
   "outputs": [],
   "source": [
    "def mut_dict2mut_list(mut_dict):\n",
    "    mut_list = []\n",
    "    for k, v in mut_dict.items():\n",
    "        mut_list.append(float(v[1]))\n",
    "    return mut_list"
   ]
  },
  {
   "cell_type": "code",
   "execution_count": 5,
   "metadata": {},
   "outputs": [],
   "source": [
    "def normalised_VAF_normalised_densities_list(trimmed_VAF_list, study_total, mu, binmethod):\n",
    "    y1 = []\n",
    "    for i in trimmed_VAF_list:\n",
    "        VAFs = float(i)\n",
    "        y = np.log(VAFs)\n",
    "        y1.append(y)\n",
    "        \n",
    "    normed_value = study_total*2*mu\n",
    "    hist, bins = np.histogram(y1, bins=binmethod, range=(min(y1),max(y1)))\n",
    "    widths = np.diff(bins)\n",
    "    bin_centres = (bins[:-1] + bins[1:])/2\n",
    "    hist = np.array(hist, dtype=float)\n",
    "    print(bins)\n",
    "    print(hist)\n",
    "    normalised_hist = hist/(normed_value*widths)\n",
    "    log_hist_for_plot = np.log(normalised_hist)\n",
    "\n",
    "    errors = error_bars(hist, normed_value, widths)\n",
    "    \n",
    "    VAF_densities=[]\n",
    "    lower_error = []\n",
    "    upper_error = []\n",
    "    for i in errors[0]:\n",
    "        lower_error.append(i)\n",
    "    for i in errors[1]:\n",
    "        upper_error.append(i)\n",
    "    VAF_densities_zip = zip(bin_centres, log_hist_for_plot, lower_error, upper_error)\n",
    "    for a, b, c, d in VAF_densities_zip:\n",
    "        VAF_densities.append((a, b, c, d))\n",
    "        \n",
    "    return VAF_densities    \n",
    "\n",
    "def error_bars(hist, normed_value, widths):\n",
    "    \n",
    "    errors={}\n",
    "    n=0\n",
    "    for i in list(hist):\n",
    "        normalised_hist = i/(normed_value*widths)\n",
    "        log_hist = np.log(normalised_hist)\n",
    "        sqrt_hist = math.sqrt(i)\n",
    "        if sqrt_hist == 1:\n",
    "            upper_error = 1\n",
    "            lower_error = 0.9\n",
    "        if sqrt_hist !=1:\n",
    "            upper_error = sqrt_hist\n",
    "            lower_error = sqrt_hist\n",
    "        normalised_upper_error = upper_error/(normed_value*widths)\n",
    "        normalised_lower_error = lower_error/(normed_value*widths)\n",
    "        errors[n]=(normalised_hist[0], normalised_upper_error[0], normalised_lower_error[0])\n",
    "        n = n+1\n",
    "\n",
    "    errors_corrected ={}\n",
    "    for k, v in errors.items():\n",
    "        binheight = v[0]\n",
    "        log_binheight = np.log(v[0])\n",
    "        upper_error = v[1]\n",
    "        lower_error = v[2]\n",
    "        log_upper_error = (np.log(upper_error+binheight))-log_binheight\n",
    "        log_lower_error = log_binheight-(np.log(binheight-lower_error))\n",
    "        errors_corrected[k] = (log_binheight, log_upper_error, log_lower_error)\n",
    "\n",
    "    lower_err=[]\n",
    "    upper_err=[]\n",
    "    for k, v in errors_corrected.items():\n",
    "        lower_error = v[2]\n",
    "        upper_error = v[1]\n",
    "        lower_err.append(lower_error)\n",
    "        upper_err.append(upper_error)\n",
    "\n",
    "    err = [tuple(lower_err),tuple(upper_err)]\n",
    "    \n",
    "    return err"
   ]
  },
  {
   "cell_type": "code",
   "execution_count": 6,
   "metadata": {
    "tags": []
   },
   "outputs": [
    {
     "data": {
      "text/html": [
       "<div>\n",
       "<style scoped>\n",
       "    .dataframe tbody tr th:only-of-type {\n",
       "        vertical-align: middle;\n",
       "    }\n",
       "\n",
       "    .dataframe tbody tr th {\n",
       "        vertical-align: top;\n",
       "    }\n",
       "\n",
       "    .dataframe thead th {\n",
       "        text-align: right;\n",
       "    }\n",
       "</style>\n",
       "<table border=\"1\" class=\"dataframe\">\n",
       "  <thead>\n",
       "    <tr style=\"text-align: right;\">\n",
       "      <th></th>\n",
       "      <th>change_F</th>\n",
       "      <th>trint</th>\n",
       "      <th>change_R</th>\n",
       "      <th></th>\n",
       "      <th>sum_seq</th>\n",
       "      <th>num_seen</th>\n",
       "      <th></th>\n",
       "      <th>mutrate</th>\n",
       "      <th></th>\n",
       "      <th></th>\n",
       "    </tr>\n",
       "  </thead>\n",
       "  <tbody>\n",
       "    <tr>\n",
       "      <th>0</th>\n",
       "      <td>A[C&gt;A]A</td>\n",
       "      <td>2.0131</td>\n",
       "      <td>T[G&gt;T]T</td>\n",
       "      <td>2.0205</td>\n",
       "      <td>4.0336</td>\n",
       "      <td>2510.0</td>\n",
       "      <td>NaN</td>\n",
       "      <td>1.332230e-09</td>\n",
       "      <td>NaN</td>\n",
       "      <td>NaN</td>\n",
       "    </tr>\n",
       "    <tr>\n",
       "      <th>1</th>\n",
       "      <td>A[C&gt;A]C</td>\n",
       "      <td>1.1622</td>\n",
       "      <td>G[G&gt;T]T</td>\n",
       "      <td>1.1636</td>\n",
       "      <td>2.3258</td>\n",
       "      <td>1030.0</td>\n",
       "      <td>NaN</td>\n",
       "      <td>9.481170e-10</td>\n",
       "      <td>NaN</td>\n",
       "      <td>NaN</td>\n",
       "    </tr>\n",
       "    <tr>\n",
       "      <th>2</th>\n",
       "      <td>A[C&gt;A]G</td>\n",
       "      <td>0.2510</td>\n",
       "      <td>C[G&gt;T]T</td>\n",
       "      <td>0.2516</td>\n",
       "      <td>0.5026</td>\n",
       "      <td>250.0</td>\n",
       "      <td>NaN</td>\n",
       "      <td>1.064910e-09</td>\n",
       "      <td>NaN</td>\n",
       "      <td>NaN</td>\n",
       "    </tr>\n",
       "    <tr>\n",
       "      <th>3</th>\n",
       "      <td>A[C&gt;A]T</td>\n",
       "      <td>1.6076</td>\n",
       "      <td>A[G&gt;T]T</td>\n",
       "      <td>1.6097</td>\n",
       "      <td>3.2173</td>\n",
       "      <td>1140.0</td>\n",
       "      <td>NaN</td>\n",
       "      <td>7.585960e-10</td>\n",
       "      <td>NaN</td>\n",
       "      <td>NaN</td>\n",
       "    </tr>\n",
       "    <tr>\n",
       "      <th>5</th>\n",
       "      <td>C[C&gt;A]A</td>\n",
       "      <td>1.8426</td>\n",
       "      <td>T[G&gt;T]G</td>\n",
       "      <td>1.8462</td>\n",
       "      <td>3.6888</td>\n",
       "      <td>2650.0</td>\n",
       "      <td>NaN</td>\n",
       "      <td>1.538010e-09</td>\n",
       "      <td>NaN</td>\n",
       "      <td>NaN</td>\n",
       "    </tr>\n",
       "    <tr>\n",
       "      <th>...</th>\n",
       "      <td>...</td>\n",
       "      <td>...</td>\n",
       "      <td>...</td>\n",
       "      <td>...</td>\n",
       "      <td>...</td>\n",
       "      <td>...</td>\n",
       "      <td>...</td>\n",
       "      <td>...</td>\n",
       "      <td>...</td>\n",
       "      <td>...</td>\n",
       "    </tr>\n",
       "    <tr>\n",
       "      <th>113</th>\n",
       "      <td>G[T&gt;G]T</td>\n",
       "      <td>1.4607</td>\n",
       "      <td>A[A&gt;C]C</td>\n",
       "      <td>1.4548</td>\n",
       "      <td>2.9155</td>\n",
       "      <td>230.0</td>\n",
       "      <td>NaN</td>\n",
       "      <td>1.688930e-10</td>\n",
       "      <td>NaN</td>\n",
       "      <td>NaN</td>\n",
       "    </tr>\n",
       "    <tr>\n",
       "      <th>115</th>\n",
       "      <td>T[T&gt;G]A</td>\n",
       "      <td>2.0814</td>\n",
       "      <td>T[A&gt;C]A</td>\n",
       "      <td>2.0782</td>\n",
       "      <td>4.1596</td>\n",
       "      <td>302.0</td>\n",
       "      <td>NaN</td>\n",
       "      <td>1.554360e-10</td>\n",
       "      <td>NaN</td>\n",
       "      <td>NaN</td>\n",
       "    </tr>\n",
       "    <tr>\n",
       "      <th>116</th>\n",
       "      <td>T[T&gt;G]C</td>\n",
       "      <td>1.9728</td>\n",
       "      <td>G[A&gt;C]A</td>\n",
       "      <td>1.9703</td>\n",
       "      <td>3.9431</td>\n",
       "      <td>290.0</td>\n",
       "      <td>NaN</td>\n",
       "      <td>1.574550e-10</td>\n",
       "      <td>NaN</td>\n",
       "      <td>NaN</td>\n",
       "    </tr>\n",
       "    <tr>\n",
       "      <th>117</th>\n",
       "      <td>T[T&gt;G]G</td>\n",
       "      <td>1.8981</td>\n",
       "      <td>C[A&gt;C]A</td>\n",
       "      <td>1.8905</td>\n",
       "      <td>3.7886</td>\n",
       "      <td>502.0</td>\n",
       "      <td>NaN</td>\n",
       "      <td>2.836760e-10</td>\n",
       "      <td>NaN</td>\n",
       "      <td>NaN</td>\n",
       "    </tr>\n",
       "    <tr>\n",
       "      <th>118</th>\n",
       "      <td>T[T&gt;G]T</td>\n",
       "      <td>3.8502</td>\n",
       "      <td>A[A&gt;C]A</td>\n",
       "      <td>3.8356</td>\n",
       "      <td>7.6858</td>\n",
       "      <td>667.0</td>\n",
       "      <td>NaN</td>\n",
       "      <td>1.857950e-10</td>\n",
       "      <td>NaN</td>\n",
       "      <td>NaN</td>\n",
       "    </tr>\n",
       "  </tbody>\n",
       "</table>\n",
       "<p>96 rows × 10 columns</p>\n",
       "</div>"
      ],
      "text/plain": [
       "    change_F   trint change_R          sum_seq  num_seen           mutrate  \\\n",
       "0    A[C>A]A  2.0131  T[G>T]T  2.0205   4.0336    2510.0 NaN  1.332230e-09   \n",
       "1    A[C>A]C  1.1622  G[G>T]T  1.1636   2.3258    1030.0 NaN  9.481170e-10   \n",
       "2    A[C>A]G  0.2510  C[G>T]T  0.2516   0.5026     250.0 NaN  1.064910e-09   \n",
       "3    A[C>A]T  1.6076  A[G>T]T  1.6097   3.2173    1140.0 NaN  7.585960e-10   \n",
       "5    C[C>A]A  1.8426  T[G>T]G  1.8462   3.6888    2650.0 NaN  1.538010e-09   \n",
       "..       ...     ...      ...     ...      ...       ...  ..           ...   \n",
       "113  G[T>G]T  1.4607  A[A>C]C  1.4548   2.9155     230.0 NaN  1.688930e-10   \n",
       "115  T[T>G]A  2.0814  T[A>C]A  2.0782   4.1596     302.0 NaN  1.554360e-10   \n",
       "116  T[T>G]C  1.9728  G[A>C]A  1.9703   3.9431     290.0 NaN  1.574550e-10   \n",
       "117  T[T>G]G  1.8981  C[A>C]A  1.8905   3.7886     502.0 NaN  2.836760e-10   \n",
       "118  T[T>G]T  3.8502  A[A>C]A  3.8356   7.6858     667.0 NaN  1.857950e-10   \n",
       "\n",
       "             \n",
       "0   NaN NaN  \n",
       "1   NaN NaN  \n",
       "2   NaN NaN  \n",
       "3   NaN NaN  \n",
       "5   NaN NaN  \n",
       "..   ..  ..  \n",
       "113 NaN NaN  \n",
       "115 NaN NaN  \n",
       "116 NaN NaN  \n",
       "117 NaN NaN  \n",
       "118 NaN NaN  \n",
       "\n",
       "[96 rows x 10 columns]"
      ]
     },
     "execution_count": 6,
     "metadata": {},
     "output_type": "execute_result"
    }
   ],
   "source": [
    "# Upload muation rate from HSC from Lee-Six et al’s.\n",
    "#Nucleotide content from whole-genome sequencing data(to a depth of 15X) on 140 single-cell \n",
    "#derived HSC colonies from a healthy 59-year-old male.\n",
    "\n",
    "tri_nt=\"../../../Paper_data/Tri_nt_context_HSC/Trinucleotide_context_mutation_rates.csv\"\n",
    "tri_nt = pd.read_csv(tri_nt, sep=\",\")\n",
    "tri_nt.columns = ['change_F', 'trint', 'change_R', '', 'sum_seq', 'num_seen', '', 'mutrate', '', '']\n",
    "tri_nt = tri_nt[~tri_nt['change_F'].isna()]\n",
    "tri_nt"
   ]
  },
  {
   "cell_type": "markdown",
   "metadata": {},
   "source": [
    "# Select "
   ]
  },
  {
   "cell_type": "code",
   "execution_count": 5,
   "metadata": {
    "tags": []
   },
   "outputs": [],
   "source": [
    "# Upload mutations (mutaitons in cases with only a single mutaitons) dataframe including \n",
    "#the flanking nt per mutation (NOT PROVIDED)\n",
    "# File generated in 6_Fitness_analysis/1_variants_distribution.ipynb\n",
    "file_name=\"boostDM_all_context_nonHNALL_unique.txt.gzip\""
   ]
  },
  {
   "cell_type": "code",
   "execution_count": 6,
   "metadata": {},
   "outputs": [],
   "source": [
    "#used_individuals_500k = 151794\n",
    "limit_500k = 10**(-1.44891098) # limit from DNAMT3A\n",
    "used_individuals_500k = 467202\n",
    "# DNMT3A R882H mutation rate\n",
    "DNMT3A_R882H_mu = 1.88229e-08\n",
    "binmethod = \"doane\""
   ]
  },
  {
   "cell_type": "code",
   "execution_count": 7,
   "metadata": {},
   "outputs": [
    {
     "data": {
      "text/plain": [
       "877"
      ]
     },
     "execution_count": 7,
     "metadata": {},
     "output_type": "execute_result"
    }
   ],
   "source": [
    "#create a dictionary of DNMT3A R288H (with row_count as key) old set of mutaitons\n",
    "with gzip.open(file_name,'rt',encoding='utf-8') as file:\n",
    "    row_count = 0\n",
    "    DNMT3A_R288H_all={} #dictionary of DNMTA missense and nonsense results\n",
    "    for line in file:\n",
    "        line = line.strip(\"\\r\\n\").split(\"\\t\")\n",
    "        if row_count>0: #ignore the header of the CSV file\n",
    "            if line[12]=='DNMT3A': #only look at the DNMT3A results\n",
    "                VAF = line[9] #VAF\n",
    "                ID = line[-11] #participant ID\n",
    "                age_group = line[-4]\n",
    "                mutation_type = line[-6] #whether the variant is missense or nonsense or synonymous\n",
    "                if mutation_type == '2-25234373-T':\n",
    "                    DNMT3A_R288H_all[row_count]=(ID, VAF, mutation_type, age_group)\n",
    "        row_count=row_count+1\n",
    "len(DNMT3A_R288H_all)"
   ]
  },
  {
   "cell_type": "code",
   "execution_count": 8,
   "metadata": {},
   "outputs": [],
   "source": [
    "#DNMT3A_R288H_all"
   ]
  },
  {
   "cell_type": "code",
   "execution_count": 9,
   "metadata": {},
   "outputs": [
    {
     "name": "stdout",
     "output_type": "stream",
     "text": [
      "[-3.8918203  -3.65619483 -3.42056936 -3.18494389 -2.94931842 -2.71369295\n",
      " -2.47806748 -2.24244201 -2.00681654 -1.77119107 -1.5355656  -1.29994013\n",
      " -1.06431466 -0.82868919 -0.59306372]\n",
      "[  3.  34. 119. 133.  97.  96.  72.  67.  65.  57.  51.  43.  26.  14.]\n"
     ]
    },
    {
     "data": {
      "text/plain": [
       "[(-3.77400756324964, 6.584651467333986, 0.8612115025164906, 0.455746394408326),\n",
       " (-3.5383820935276633,\n",
       "  9.012399703282037,\n",
       "  0.18813673438313216,\n",
       "  0.15828377123345128),\n",
       " (-3.3027566238056876,\n",
       "  10.265162671777407,\n",
       "  0.09614736481902852,\n",
       "  0.08770849617316401),\n",
       " (-3.067131154083712,\n",
       "  10.37638830688763,\n",
       "  0.09070290625528976,\n",
       "  0.08315570061990663),\n",
       " (-2.831505684361735,\n",
       "  10.06075015716926,\n",
       "  0.1070671005050059,\n",
       "  0.09670431346945918),\n",
       " (-2.5958802146397595,\n",
       "  10.050387370133713,\n",
       "  0.10765433624941778,\n",
       "  0.09718303638212156),\n",
       " (-2.360254744917783,\n",
       "  9.762705297681931,\n",
       "  0.12539445059434762,\n",
       "  0.11140820861960776),\n",
       " (-2.124629275195807,\n",
       "  9.690731798056843,\n",
       "  0.13030169298808936,\n",
       "  0.1152638156235497),\n",
       " (-1.8890038054738312,\n",
       "  9.660426448561513,\n",
       "  0.1324288401894247,\n",
       "  0.11692465365346116),\n",
       " (-1.653378335751855,\n",
       "  9.529090446500426,\n",
       "  0.1420858616474856,\n",
       "  0.12438628454808409),\n",
       " (-1.4177528660298788,\n",
       "  9.417864811390201,\n",
       "  0.15085545817516177,\n",
       "  0.13105283087898378),\n",
       " (-1.1821273963079026,\n",
       "  9.247239294359439,\n",
       "  0.16546275280577483,\n",
       "  0.14193225539558085),\n",
       " (-0.9465019265859265,\n",
       "  8.744135716687358,\n",
       "  0.21830046692588212,\n",
       "  0.17907975377259966),\n",
       " (-0.7108764568639505,\n",
       "  8.125096508281137,\n",
       "  0.3109660415933364,\n",
       "  0.23685806943961296)]"
      ]
     },
     "execution_count": 9,
     "metadata": {},
     "output_type": "execute_result"
    }
   ],
   "source": [
    "DNMT3A_R288H_all_list = mut_dict2mut_list(DNMT3A_R288H_all)\n",
    "DNMT3A_R288H_VAF_densities = normalised_VAF_normalised_densities_list(DNMT3A_R288H_all_list, used_individuals_500k, DNMT3A_R882H_mu, binmethod)\n",
    "DNMT3A_R288H_VAF_densities"
   ]
  },
  {
   "cell_type": "code",
   "execution_count": 10,
   "metadata": {},
   "outputs": [
    {
     "data": {
      "text/plain": [
       "805"
      ]
     },
     "execution_count": 10,
     "metadata": {},
     "output_type": "execute_result"
    }
   ],
   "source": [
    "DNMT3A_R288H_all_trimmed_list = []\n",
    "\n",
    "for k, v in DNMT3A_R288H_all.items():\n",
    "    if float(v[1])>=limit_500k and float(v[1])<= 0.5:\n",
    "        DNMT3A_R288H_all_trimmed_list.append(v[1])\n",
    "#DNMT3A_R288H_all_trimmed_list\n",
    "len(DNMT3A_R288H_all_trimmed_list)"
   ]
  },
  {
   "cell_type": "code",
   "execution_count": 11,
   "metadata": {},
   "outputs": [
    {
     "name": "stdout",
     "output_type": "stream",
     "text": [
      "[-3.33220451 -3.14523657 -2.95826864 -2.7713007  -2.58433276 -2.39736482\n",
      " -2.21039689 -2.02342895 -1.83646101 -1.64949307 -1.46252514 -1.2755572\n",
      " -1.08858926 -0.90162132 -0.71465339]\n",
      "[112. 106.  81.  78.  62.  55.  53.  57.  46.  41.  42.  31.  22.  19.]\n"
     ]
    }
   ],
   "source": [
    "DNMT3A_R288H_VAF_densities = normalised_VAF_normalised_densities_list(DNMT3A_R288H_all_trimmed_list, used_individuals_500k, DNMT3A_R882H_mu, binmethod)"
   ]
  },
  {
   "cell_type": "code",
   "execution_count": 12,
   "metadata": {},
   "outputs": [],
   "source": [
    "# R882H densities (normalised by 2 x mu)\n",
    "R882H_densities_without_inf = []    #remove the densities for the VAF bins for which there were no densities\n",
    "for i in DNMT3A_R288H_VAF_densities:\n",
    "    if i[1] != -(float('inf')):\n",
    "        R882H_densities_without_inf.append(i)"
   ]
  },
  {
   "cell_type": "code",
   "execution_count": 13,
   "metadata": {},
   "outputs": [],
   "source": [
    "#MLE function for range of ages\n",
    "#l=ln(f)\n",
    "\n",
    "def logProbtheory_ages(l, params): #= predicted density (i.e. normalised by 2 x mu)\n",
    "    \"Natural log of the probability of observing a variant within a specific binwidth if able to sequence perfectly\"\n",
    "    total_density=0.0\n",
    "    N=params[0]\n",
    "    s=params[1]\n",
    "    sigma = params[2]\n",
    "    mean=60\n",
    "    dt=0.1\n",
    "\n",
    "    total_density=integrate.quad(lambda t: (N/(1-2*np.exp(l))*np.exp(-((np.exp(l))/(((np.exp(s*t)-1)/(2*N*s))*(1-2*np.exp(l))))))*\\\n",
    "                                 ((1/((2*np.pi*(sigma)**2)**0.5))*(np.exp(-(t-mean)**2/(2*(sigma**2))))), mean-2*sigma, mean+2*sigma)\n",
    "    return np.log(total_density[0])\n",
    "\n",
    "def logProbDataGivenModel_ages(params, data):\n",
    "    \"This returns the natural log likelihood of the entire data, in specified binwidths, for a given theta and phi\"\n",
    "    total_square_distance = 0\n",
    "    ages = np.linspace(38, 72, 35)\n",
    "    for age in ages:\n",
    "        for datapoint in data:\n",
    "            if np.exp(datapoint[0])<0.5:\n",
    "                logfreq = datapoint[0]\n",
    "                predicted_log_density = logProbtheory_ages(logfreq, params)\n",
    "                square_distance = ((datapoint[1] - predicted_log_density)**2)\n",
    "                total_square_distance = total_square_distance + square_distance\n",
    "    return total_square_distance   "
   ]
  },
  {
   "cell_type": "code",
   "execution_count": 14,
   "metadata": {},
   "outputs": [
    {
     "name": "stderr",
     "output_type": "stream",
     "text": [
      "/tmp/ipykernel_181/3282986836.py:13: RuntimeWarning: overflow encountered in exp\n",
      "  total_density=integrate.quad(lambda t: (N/(1-2*np.exp(l))*np.exp(-((np.exp(l))/(((np.exp(s*t)-1)/(2*N*s))*(1-2*np.exp(l))))))*\\\n",
      "/tmp/ipykernel_181/3282986836.py:13: IntegrationWarning: The occurrence of roundoff error is detected, which prevents \n",
      "  the requested tolerance from being achieved.  The error may be \n",
      "  underestimated.\n",
      "  total_density=integrate.quad(lambda t: (N/(1-2*np.exp(l))*np.exp(-((np.exp(l))/(((np.exp(s*t)-1)/(2*N*s))*(1-2*np.exp(l))))))*\\\n"
     ]
    },
    {
     "data": {
      "text/plain": [
       " final_simplex: (array([[8.97360377e+04, 9.25348780e-02, 2.99964385e+01],\n",
       "       [8.97360377e+04, 9.25348780e-02, 2.99964385e+01],\n",
       "       [8.97360377e+04, 9.25348780e-02, 2.99964384e+01],\n",
       "       [8.97360377e+04, 9.25348780e-02, 2.99964385e+01]]), array([10.87152717, 10.87152717, 10.87152717, 10.87152717]))\n",
       "           fun: 10.871527168566168\n",
       "       message: 'Optimization terminated successfully.'\n",
       "          nfev: 320\n",
       "           nit: 174\n",
       "        status: 0\n",
       "       success: True\n",
       "             x: array([8.97360377e+04, 9.25348780e-02, 2.99964385e+01])"
      ]
     },
     "execution_count": 14,
     "metadata": {},
     "output_type": "execute_result"
    }
   ],
   "source": [
    "ages = np.linspace(38, 72, 35) #age range for all the stuides together\n",
    "initial_guess=[100000, 0.15, 10] #initial guess for [N\\tau, s, sigma] (where sigma = standard deviation of ages)\n",
    "scipy.optimize.minimize(logProbDataGivenModel_ages, initial_guess, args=(R882H_densities_without_inf,), method='Nelder-Mead')   "
   ]
  },
  {
   "cell_type": "markdown",
   "metadata": {},
   "source": [
    "# The outputs that we will need to infer fitness for all mutaitons"
   ]
  },
  {
   "cell_type": "markdown",
   "metadata": {},
   "source": [
    "N 𝜏  = 8.97360377e+04\n",
    "s (for DNMT3A R882H) = 9.25348780e-02\n",
    "standard deviation of ages = 2.99964385e+01"
   ]
  },
  {
   "cell_type": "code",
   "execution_count": null,
   "metadata": {},
   "outputs": [],
   "source": []
  }
 ],
 "metadata": {
  "kernelspec": {
   "display_name": "Python 3 (ipykernel)",
   "language": "python",
   "name": "python3"
  },
  "language_info": {
   "codemirror_mode": {
    "name": "ipython",
    "version": 3
   },
   "file_extension": ".py",
   "mimetype": "text/x-python",
   "name": "python",
   "nbconvert_exporter": "python",
   "pygments_lexer": "ipython3",
   "version": "3.9.7"
  }
 },
 "nbformat": 4,
 "nbformat_minor": 4
}
