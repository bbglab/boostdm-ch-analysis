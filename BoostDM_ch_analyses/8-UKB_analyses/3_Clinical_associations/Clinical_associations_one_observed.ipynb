{
 "cells": [
  {
   "cell_type": "markdown",
   "id": "27ce243a-9700-41ae-853a-ea3bfaadc30f",
   "metadata": {},
   "source": [
    "# Clinical associations with UKB mutations observed only once in the boostDM-CH training set"
   ]
  },
  {
   "cell_type": "markdown",
   "id": "187a5acf-0632-45ab-a051-44ac2cfcd7a6",
   "metadata": {},
   "source": [
    "## 0- Matrix preparing"
   ]
  },
  {
   "cell_type": "code",
   "execution_count": 1,
   "id": "6d2fa6a1-02b2-4f1c-88a8-d493561f87e3",
   "metadata": {},
   "outputs": [],
   "source": [
    "import pandas as pd\n",
    "import numpy as np\n",
    "import os\n",
    "import matplotlib.pyplot as plt\n",
    "from io import StringIO\n",
    "import seaborn as sns\n",
    "import scipy.stats as stats\n",
    "pd.set_option('display.max_columns', 150)\n",
    "pd.set_option('display.max_rows', 40)\n",
    "%precision 2\n",
    "\n",
    "%load_ext autoreload\n",
    "%autoreload 2\n",
    "\n",
    "import matplotlib as mpl\n",
    "mpl.rcParams['figure.dpi']= 300"
   ]
  },
  {
   "cell_type": "code",
   "execution_count": 2,
   "id": "1a129037-d9d0-49fa-879d-5b460cefa050",
   "metadata": {},
   "outputs": [
    {
     "name": "stdout",
     "output_type": "stream",
     "text": [
      "Patients:469880\n",
      "Columns:['patient', 'age_recruitment', 'age_group', 'CH_driver', 'CH_driver_big', 'CH_driver_small', 'CH_potential', 'CH_passengers', 'num_CH_drivers', 'CH_driver_multiple', 'num_CH_potential', 'ASXL1_driver', 'ASXL1_passenger', 'ASXL1_potential', 'CHEK2_driver', 'CHEK2_passenger', 'CHEK2_potential', 'DNMT3A_driver', 'DNMT3A_passenger', 'DNMT3A_potential', 'GNAS_driver', 'GNAS_passenger', 'GNAS_potential', 'IDH2_driver', 'IDH2_passenger', 'IDH2_potential', 'MDM4_driver', 'MDM4_passenger', 'MDM4_potential', 'PPM1D_driver', 'PPM1D_passenger', 'PPM1D_potential', 'SF3B1_driver', 'SF3B1_passenger', 'SF3B1_potential', 'SRSF2_driver', 'SRSF2_passenger', 'SRSF2_potential', 'TET2_driver', 'TET2_passenger', 'TET2_potential', 'TP53_driver', 'TP53_passenger', 'TP53_potential', 'U2AF1_driver', 'U2AF1_passenger', 'U2AF1_potential', 'chromatin_gene_driver', 'DDR_gene_driver', 'splicing_gene_driver', 'chromatin_gene_passenger', 'DDR_gene_passenger', 'splicing_gene_passenger', 'chromatin_gene_potential', 'DDR_gene_potential', 'splicing_gene_potential']\n"
     ]
    }
   ],
   "source": [
    "### Read data ch mutations and age (NOT PROVIDED)\n",
    "# Created in section 1_Post_processing_calling\n",
    "patient_age_ch = pd.read_csv('../1_Post_processing_calling/patient_450k_age_670124_ALL_MUTATIONS_20230802_v3.txt.gz',sep=\"\\t\")\n",
    "print(f'Patients:{len(patient_age_ch)}')\n",
    "print(f'Columns:{list(patient_age_ch.columns)}')"
   ]
  },
  {
   "cell_type": "code",
   "execution_count": 3,
   "id": "bcf80bba-6e9a-490c-8730-edd5c2883b4c",
   "metadata": {},
   "outputs": [
    {
     "data": {
      "text/plain": [
       "203351"
      ]
     },
     "execution_count": 3,
     "metadata": {},
     "output_type": "execute_result"
    }
   ],
   "source": [
    "### Upload UKB mutations (NOT PROVIDED)\n",
    "# Created in section 1_Post_processing_calling\n",
    "boostDM_predictions = pd.read_csv('../1_Post_processing_calling/All450k_filtered_boostDM_ALL_age_20230802_v3.vcf', sep=\"\\t\", compression='gzip')\n",
    "boostDM_predictions = boostDM_predictions.rename(columns={'case': 'patient', 'BoostDM':'Drivers_12genes'})\n",
    "boostDM_predictions = boostDM_predictions[~boostDM_predictions['Prot_pos'].isna()]\n",
    "boostDM_predictions = boostDM_predictions[~boostDM_predictions['Consequence'].isin(['start_lost', 'stop_lost', 'stop_retained_variant'])]\n",
    "boostDM_predictions = boostDM_predictions[boostDM_predictions['patient'].isin(patient_age_ch['patient'])]\n",
    "boostDM_predictions = boostDM_predictions[~boostDM_predictions['ALT'].str.contains(',')]\n",
    "len(boostDM_predictions)"
   ]
  },
  {
   "cell_type": "code",
   "execution_count": 4,
   "id": "b6c74efe-146a-4e1f-8512-6d0601541dd0",
   "metadata": {},
   "outputs": [
    {
     "name": "stderr",
     "output_type": "stream",
     "text": [
      "/tmp/jobs/jramis/9874679/ipykernel_51747/1174477373.py:3: DtypeWarning: Columns (36,37,38,44,45,46) have mixed types. Specify dtype option on import or set low_memory=False.\n",
      "  patient_cancer = pd.read_csv('../../../Paper_data/UKB_clinic_info/cancer_ukb450k_670124.txt.gz', sep=\"\\t\")\n"
     ]
    },
    {
     "data": {
      "text/plain": [
       "Index(['patient', 'age_recruitment_x', 'age_group_x', 'CH_driver',\n",
       "       'CH_driver_big', 'CH_driver_small', 'CH_potential', 'CH_passengers',\n",
       "       'num_CH_drivers', 'CH_driver_multiple',\n",
       "       ...\n",
       "       '22009-0.1', '22009-0.2', '22009-0.3', '22009-0.4', '22009-0.5',\n",
       "       '22009-0.6', '22009-0.7', '22009-0.8', '22009-0.9', '22009-0.10'],\n",
       "      dtype='object', length=139)"
      ]
     },
     "execution_count": 4,
     "metadata": {},
     "output_type": "execute_result"
    }
   ],
   "source": [
    "### Upload general cancer information per case (NOT PROVIDED)\n",
    "# Created in section 0_Clinical_phenotypes\n",
    "patient_cancer = pd.read_csv('../../../Paper_data/UKB_clinic_info/cancer_ukb450k_670124.txt.gz', sep=\"\\t\")\n",
    "ukb200K_ch_cancer = pd.merge(patient_age_ch, patient_cancer,  how='inner', on='patient')\n",
    "ukb200K_ch_cancer.columns"
   ]
  },
  {
   "cell_type": "code",
   "execution_count": 5,
   "id": "60f8f862-b14d-4b61-8dcb-d00411d5d74b",
   "metadata": {},
   "outputs": [
    {
     "data": {
      "text/plain": [
       "Index(['patient', 'age_recruitment_x', 'age_group_x', 'CH_driver',\n",
       "       'CH_driver_big', 'CH_driver_small', 'CH_potential', 'CH_nonDriver',\n",
       "       'num_CH_drivers', 'CH_driver_multiple',\n",
       "       ...\n",
       "       'var_Cervical_post', 'var_Cervical_pre', 'var_Sarcoma_years',\n",
       "       'var_Sarcoma_var', 'var_Sarcoma_post', 'var_Sarcoma_pre',\n",
       "       'var_Testicular_years', 'var_Testicular_var', 'var_Testicular_post',\n",
       "       'var_Testicular_pre'],\n",
       "      dtype='object', length=263)"
      ]
     },
     "execution_count": 5,
     "metadata": {},
     "output_type": "execute_result"
    }
   ],
   "source": [
    "# Upload Cancer variables per case (NOT PROVIDED)\n",
    "# Created in section 0_Clinical_phenotypes\n",
    "patient_cancer = pd.read_csv('../../../Paper_data/UKB_clinic_info/cancer_ukb200k_Siddharta_670124_simple.txt.gz', sep=\"\\t\")\n",
    "patient_cancer = patient_cancer.rename(columns={'eid': 'patient'})\n",
    "ukb200K_ch_cancer = pd.merge(ukb200K_ch_cancer, patient_cancer,  how='inner', on='patient')\n",
    "ukb200K_ch_cancer.rename(columns={'CH_passengers':'CH_nonDriver'}, inplace=True)\n",
    "ukb200K_ch_cancer.columns"
   ]
  },
  {
   "cell_type": "code",
   "execution_count": 6,
   "id": "55cf6eba-d4e8-45a9-8621-238429f0aaa3",
   "metadata": {},
   "outputs": [],
   "source": [
    "# Create a unique variable for hematological cancer\n",
    "yeears = ['var_MM_years', 'var_MPN_years', 'var_MDS_years', 'var_CMML_years',\n",
    "          'var_AML_years', 'var_LL_years', 'var_Lymphoma_years', 'var_Myeloma_years']\n",
    "ukb200K_ch_cancer['var_HNALL_years'] = ukb200K_ch_cancer.loc[:,yeears].min(axis=1)\n",
    "ukb200K_ch_cancer['var_HNALL_var'] = np.where(ukb200K_ch_cancer['var_HNALL_years'].notnull(), 1, 0)\n",
    "ukb200K_ch_cancer['var_HNALL_post'] = np.where(ukb200K_ch_cancer['var_HNALL_years'] > 0, 1, 0)\n",
    "ukb200K_ch_cancer['var_HNALL_pre'] = np.where(ukb200K_ch_cancer['var_HNALL_years'] < 0, 1, 0)"
   ]
  },
  {
   "cell_type": "code",
   "execution_count": 7,
   "id": "a4b0223e-ca50-4817-8b65-a91a32aaac21",
   "metadata": {},
   "outputs": [],
   "source": [
    "ukb200K_ch_cancer = ukb200K_ch_cancer.rename(columns = {'31-0.0':'sex',\n",
    "                                                                          '22009-0.1':'PC1',\n",
    "                                                                          '22009-0.2':'PC2',\n",
    "                                                                          '22009-0.3':'PC3',\n",
    "                                                                          '22009-0.4':'PC4',\n",
    "                                                                          '22009-0.5':'PC5',\n",
    "                                                                          '22009-0.6':'PC6',\n",
    "                                                                          '22009-0.7':'PC7',\n",
    "                                                                          '22009-0.8':'PC8',\n",
    "                                                                          '22009-0.9':'PC9',\n",
    "                                                                          '22009-0.10':'PC10',\n",
    "                                                                         })"
   ]
  },
  {
   "cell_type": "markdown",
   "id": "7de1cf41-0ed6-455b-adb0-38c081018db4",
   "metadata": {},
   "source": [
    "### Select UKB mutations observed once in boostDM-CH training cohort"
   ]
  },
  {
   "cell_type": "code",
   "execution_count": 8,
   "id": "95191102-2329-48cc-a391-c0f249a44093",
   "metadata": {
    "tags": []
   },
   "outputs": [
    {
     "data": {
      "text/plain": [
       "438010"
      ]
     },
     "execution_count": 8,
     "metadata": {},
     "output_type": "execute_result"
    }
   ],
   "source": [
    "### Reed mutations from the boostDM-CH training cohort (NOT PROVIDED)\n",
    "Observed_mut = pd.read_csv('BoostDM-CH_training_cohorts_mutations.tsv', sep='\\t')\n",
    "Observed_mut['ID_mut'] = Observed_mut['gene']+'_'+Observed_mut['pos'].astype(str)+Observed_mut['mut']\n",
    "len(Observed_mut)"
   ]
  },
  {
   "cell_type": "code",
   "execution_count": 9,
   "id": "fc868a67-f3e7-4681-95dd-57b8ed720783",
   "metadata": {
    "tags": []
   },
   "outputs": [
    {
     "name": "stdout",
     "output_type": "stream",
     "text": [
      "408141\n"
     ]
    }
   ],
   "source": [
    "# Select UKB mut only once observed\n",
    "Observed_list = Observed_mut['ID_mut'].value_counts().reset_index()\n",
    "once_observed = Observed_list[Observed_list['ID_mut']==1]['index'].tolist()\n",
    "print(len(once_observed))"
   ]
  },
  {
   "cell_type": "code",
   "execution_count": 10,
   "id": "3ce550f7-6211-4111-b928-8f3fb483509d",
   "metadata": {},
   "outputs": [
    {
     "data": {
      "text/plain": [
       "201857"
      ]
     },
     "execution_count": 10,
     "metadata": {},
     "output_type": "execute_result"
    }
   ],
   "source": [
    "# Select only UKB mutations from patients without previous hematological cancer\n",
    "non_HN_patients = ukb200K_ch_cancer[ukb200K_ch_cancer['var_HNALL_pre']==0]['patient'].tolist()\n",
    "boostDM_predictions_nonHN = boostDM_predictions[boostDM_predictions['patient'].isin(non_HN_patients)]\n",
    "len(boostDM_predictions_nonHN)"
   ]
  },
  {
   "cell_type": "code",
   "execution_count": 12,
   "id": "6d09d067-1760-46b9-87b2-e776c22bf1d0",
   "metadata": {
    "tags": []
   },
   "outputs": [
    {
     "data": {
      "text/plain": [
       "1    4975\n",
       "0    4452\n",
       "Name: Drivers_12genes, dtype: int64"
      ]
     },
     "execution_count": 12,
     "metadata": {},
     "output_type": "execute_result"
    }
   ],
   "source": [
    "# Select one time mutations \n",
    "boostDM_predictions_nonHN_single = boostDM_predictions_nonHN[boostDM_predictions_nonHN['ID_mut'].isin(once_observed)]\n",
    "boostDM_predictions_nonHN_single.Drivers_12genes.value_counts()"
   ]
  },
  {
   "cell_type": "code",
   "execution_count": 13,
   "id": "ba3a0081",
   "metadata": {},
   "outputs": [
    {
     "data": {
      "text/plain": [
       "9427"
      ]
     },
     "execution_count": 13,
     "metadata": {},
     "output_type": "execute_result"
    }
   ],
   "source": [
    "len(boostDM_predictions_nonHN_single)"
   ]
  },
  {
   "cell_type": "markdown",
   "id": "56bbc234-3d99-4ddd-baf9-436fb590111a",
   "metadata": {},
   "source": [
    "### Prepare clinical information matrix"
   ]
  },
  {
   "cell_type": "code",
   "execution_count": 14,
   "id": "9bf1c7ef-c892-4fd8-bf28-a89eca80c81f",
   "metadata": {
    "tags": []
   },
   "outputs": [
    {
     "name": "stdout",
     "output_type": "stream",
     "text": [
      "320762\n"
     ]
    },
    {
     "data": {
      "text/plain": [
       "0    324648\n",
       "1      5383\n",
       "Name: CH_driver, dtype: int64"
      ]
     },
     "execution_count": 14,
     "metadata": {},
     "output_type": "execute_result"
    }
   ],
   "source": [
    "# Remove cases with other frequent drivers\n",
    "frequent_mut = Observed_list[Observed_list['ID_mut']==1]['index'].tolist()\n",
    "frequent_mut_patient = boostDM_predictions_nonHN[boostDM_predictions_nonHN['ID_mut'].isin(frequent_mut)]['patient'].tolist()\n",
    "ukb200K_ch_cancer_single = ukb200K_ch_cancer[ukb200K_ch_cancer['patient'].isin(frequent_mut_patient)]\n",
    "\n",
    "# Merge it with nondrivers\n",
    "nondriver_ind = ukb200K_ch_cancer[ukb200K_ch_cancer['num_CH_potential']==0]\n",
    "print(len(nondriver_ind))\n",
    "ukb200K_ch_cancer_single = pd.concat([ukb200K_ch_cancer_single, nondriver_ind]).reset_index(drop=True)\n",
    "ukb200K_ch_cancer_single\n",
    "\n",
    "ukb200K_ch_cancer_single['CH_driver'].value_counts()"
   ]
  },
  {
   "cell_type": "code",
   "execution_count": 15,
   "id": "a8d8633d-ea08-4bb6-a829-1bbd1aaf4ff3",
   "metadata": {
    "tags": []
   },
   "outputs": [
    {
     "data": {
      "text/plain": [
       "1    2962\n",
       "0    2717\n",
       "Name: CH_driver, dtype: int64"
      ]
     },
     "execution_count": 15,
     "metadata": {},
     "output_type": "execute_result"
    }
   ],
   "source": [
    "ukb200K_ch_cancer_single[ukb200K_ch_cancer_single['num_CH_potential']==1]['CH_driver'].value_counts()"
   ]
  },
  {
   "cell_type": "code",
   "execution_count": 17,
   "id": "79a3073f-f2f0-4cbe-a0f6-4d83463aed0a",
   "metadata": {
    "tags": []
   },
   "outputs": [
    {
     "data": {
      "text/plain": [
       "5383"
      ]
     },
     "execution_count": 17,
     "metadata": {},
     "output_type": "execute_result"
    }
   ],
   "source": [
    "len(ukb200K_ch_cancer_single[ukb200K_ch_cancer_single['CH_driver']==1])"
   ]
  },
  {
   "cell_type": "markdown",
   "id": "20fa19ef-eafc-4f83-b0c6-ed505059e466",
   "metadata": {},
   "source": [
    "# 1- Series Description"
   ]
  },
  {
   "cell_type": "code",
   "execution_count": 18,
   "id": "52e26687-37d8-4b97-8c89-78e1b67a10e0",
   "metadata": {},
   "outputs": [],
   "source": [
    "genes12 = ['DNMT3A', 'TET2', 'ASXL1', 'CHEK2', 'TP53', 'PPM1D', 'SF3B1', 'SRSF2','U2AF1', 'GNAS','IDH2', 'MDM4']"
   ]
  },
  {
   "cell_type": "code",
   "execution_count": 19,
   "id": "68586e99-f2c7-45b9-87ef-faa35b8a69f9",
   "metadata": {},
   "outputs": [
    {
     "name": "stdout",
     "output_type": "stream",
     "text": [
      "Number of potential mutations: 9427\n",
      "Number of driver mutations: 4975\n",
      "Number of non-driver mutations: 4452\n",
      "\n",
      "Number of cases with driver mutations: 5383\n",
      "Number of cases with potential mutations: 10890\n",
      "\n",
      "Number of patient with cancer: 76723\n",
      "Number of patient with pre-cancer: 25962\n",
      "Number of patient with Hematological cancer: 5027\n",
      "Number of patient with pre-Hematological cancer: 1621\n"
     ]
    }
   ],
   "source": [
    "### Describing Series\n",
    "print(f\"Number of potential mutations: {len(boostDM_predictions_nonHN_single)}\")\n",
    "print(f\"Number of driver mutations: {len(boostDM_predictions_nonHN_single[boostDM_predictions_nonHN_single['Drivers_12genes']==1])}\")\n",
    "print(f\"Number of non-driver mutations: {len(boostDM_predictions_nonHN_single[boostDM_predictions_nonHN_single['Drivers_12genes']==0])}\")\n",
    "print()\n",
    "print(f\"Number of cases with driver mutations: {len(ukb200K_ch_cancer_single[(ukb200K_ch_cancer_single['CH_driver']==1)&(ukb200K_ch_cancer_single['var_HNALL_pre']==0)])}\")\n",
    "print(f\"Number of cases with potential mutations: {len(ukb200K_ch_cancer_single[ukb200K_ch_cancer_single['CH_potential']==1&(ukb200K_ch_cancer_single['var_HNALL_pre']==0)])}\")\n",
    "print()\n",
    "print(f\"Number of patient with cancer: {len(ukb200K_ch_cancer_single[ukb200K_ch_cancer_single['cancer'] == 1])}\")\n",
    "print(f\"Number of patient with pre-cancer: {len(ukb200K_ch_cancer_single[ukb200K_ch_cancer_single['cancer1_pre'] == 1])}\")\n",
    "print(f\"Number of patient with Hematological cancer: {len(ukb200K_ch_cancer_single[ukb200K_ch_cancer_single['var_HNALL_var'] == 1])}\")\n",
    "print(f\"Number of patient with pre-Hematological cancer: {len(ukb200K_ch_cancer_single[ukb200K_ch_cancer_single['var_HNALL_pre'] == 1])}\")"
   ]
  },
  {
   "cell_type": "code",
   "execution_count": 20,
   "id": "1b522ca9-f656-4882-acad-93deaa765b3d",
   "metadata": {
    "tags": []
   },
   "outputs": [
    {
     "name": "stdout",
     "output_type": "stream",
     "text": [
      "41306\n",
      "4975\n",
      "0.8795574492809761\n"
     ]
    },
    {
     "data": {
      "text/plain": [
       "Text(0, 0.5, 'All Driver')"
      ]
     },
     "execution_count": 20,
     "metadata": {},
     "output_type": "execute_result"
    },
    {
     "data": {
      "image/png": "[encoded data removed]",
      "text/plain": [
       "<Figure size 900x150 with 1 Axes>"
      ]
     },
     "metadata": {},
     "output_type": "display_data"
    }
   ],
   "source": [
    "fig, ax = plt.subplots(figsize=(3,0.5), dpi=300)\n",
    "\n",
    "sing_driv = Observed_list[Observed_list['ID_mut']==1]['index'].tolist()\n",
    "\n",
    "\n",
    "driver = boostDM_predictions_nonHN[boostDM_predictions_nonHN['Drivers_12genes']==1]\n",
    "print(len(driver))\n",
    "count_driver = len(driver[driver['ID_mut'].isin(sing_driv)])\n",
    "print(count_driver)\n",
    "count_total = len(driver)\n",
    "nonpredicted_frac = (count_total - count_driver) / count_total\n",
    "predicted_frac = count_driver / count_total\n",
    "print(nonpredicted_frac)\n",
    "ax.barh(0, nonpredicted_frac, height=0.3, color='thistle', left=0)\n",
    "ax.barh(0, predicted_frac, height=0.3, left=nonpredicted_frac, color='tab:red')\n",
    "ax.spines['top'].set_visible(False)\n",
    "ax.spines['right'].set_visible(False)\n",
    "ax.spines['left'].set_visible(False)\n",
    "ax.spines['bottom'].set_visible(False)\n",
    "ax.set_yticks([])\n",
    "ax.set_xticks([])\n",
    "ax.set_xlim(0, 1)\n",
    "ax.yaxis.set_label_position(\"right\")\n",
    "ax.set_ylabel('All Driver', rotation=0, labelpad=25, size=8)"
   ]
  },
  {
   "cell_type": "markdown",
   "id": "31336fb2-5f85-431d-989f-1050bdd7ec53",
   "metadata": {},
   "source": [
    "### Mutational landscape by mutation"
   ]
  },
  {
   "cell_type": "code",
   "execution_count": 21,
   "id": "97320065-b56d-4518-849c-93594e49acb6",
   "metadata": {},
   "outputs": [],
   "source": [
    "non_HN_patients = ukb200K_ch_cancer[ukb200K_ch_cancer['var_HNALL_pre']==0]\n",
    "unique = set(non_HN_patients[(non_HN_patients['CH_driver_multiple']==0)]['patient'])\n",
    "multiple = set(non_HN_patients[(non_HN_patients['CH_driver_multiple']==1)]['patient'])"
   ]
  },
  {
   "cell_type": "code",
   "execution_count": 22,
   "id": "f2140a07-e40c-465b-a25c-f8094952c817",
   "metadata": {},
   "outputs": [],
   "source": [
    "# Mutational landscape by mutation\n",
    "Mut_case = []\n",
    "for gene in boostDM_predictions_nonHN['SYMBOL'].unique():\n",
    "    freq = len(boostDM_predictions_nonHN_single[boostDM_predictions_nonHN_single['SYMBOL']==gene])\n",
    "    freq_driv = len(boostDM_predictions_nonHN_single[(boostDM_predictions_nonHN_single['SYMBOL']==gene) & (boostDM_predictions_nonHN_single['Drivers_12genes']==1)])\n",
    "    freq_big = len(boostDM_predictions_nonHN_single[(boostDM_predictions_nonHN_single['SYMBOL']==gene) & (boostDM_predictions_nonHN_single['Drivers_12genes']==1) &\\\n",
    "                                       (boostDM_predictions_nonHN_single['VAF_alt']>=0.1)])\n",
    "    freq_small = len(boostDM_predictions_nonHN_single[(boostDM_predictions_nonHN_single['SYMBOL']==gene) & (boostDM_predictions_nonHN_single['Drivers_12genes']==1) &\\\n",
    "                                        (boostDM_predictions_nonHN_single['VAF_alt']<0.1)])\n",
    "    freq_pass = len(boostDM_predictions_nonHN_single[(boostDM_predictions_nonHN_single['SYMBOL']==gene) & (boostDM_predictions_nonHN_single['Drivers_12genes']==0)])\n",
    "    freq_driv_uniq = len(boostDM_predictions_nonHN_single[(boostDM_predictions_nonHN_single['SYMBOL']==gene) & (boostDM_predictions_nonHN_single['Drivers_12genes']==1)&\\\n",
    "                                                  (boostDM_predictions_nonHN_single['patient'].isin(unique))])\n",
    "    freq_driv_mult = len(boostDM_predictions_nonHN_single[(boostDM_predictions_nonHN_single['SYMBOL']==gene) & (boostDM_predictions_nonHN_single['Drivers_12genes']==1)&\\\n",
    "                                                  (boostDM_predictions_nonHN_single['patient'].isin(multiple))])\n",
    "\n",
    "    Mut_case.append([gene, freq, freq_driv, freq_big, freq_small, freq_pass,freq_driv_uniq, freq_driv_mult])"
   ]
  },
  {
   "cell_type": "code",
   "execution_count": 23,
   "id": "e5e008ee-81a7-409e-aefa-7ca331b67f1f",
   "metadata": {},
   "outputs": [
    {
     "data": {
      "text/html": [
       "<div>\n",
       "<style scoped>\n",
       "    .dataframe tbody tr th:only-of-type {\n",
       "        vertical-align: middle;\n",
       "    }\n",
       "\n",
       "    .dataframe tbody tr th {\n",
       "        vertical-align: top;\n",
       "    }\n",
       "\n",
       "    .dataframe thead th {\n",
       "        text-align: right;\n",
       "    }\n",
       "</style>\n",
       "<table border=\"1\" class=\"dataframe\">\n",
       "  <thead>\n",
       "    <tr style=\"text-align: right;\">\n",
       "      <th></th>\n",
       "      <th>index</th>\n",
       "      <th>Gene</th>\n",
       "      <th>Cases</th>\n",
       "      <th>Drivers</th>\n",
       "      <th>Driver_big</th>\n",
       "      <th>Driver_small</th>\n",
       "      <th>Passangers</th>\n",
       "      <th>Driver_single</th>\n",
       "      <th>Driver_multiple</th>\n",
       "    </tr>\n",
       "  </thead>\n",
       "  <tbody>\n",
       "    <tr>\n",
       "      <th>0</th>\n",
       "      <td>2</td>\n",
       "      <td>DNMT3A</td>\n",
       "      <td>3572</td>\n",
       "      <td>2268</td>\n",
       "      <td>408</td>\n",
       "      <td>1860</td>\n",
       "      <td>1304</td>\n",
       "      <td>1960</td>\n",
       "      <td>308</td>\n",
       "    </tr>\n",
       "    <tr>\n",
       "      <th>1</th>\n",
       "      <td>1</td>\n",
       "      <td>TET2</td>\n",
       "      <td>2248</td>\n",
       "      <td>1343</td>\n",
       "      <td>295</td>\n",
       "      <td>1048</td>\n",
       "      <td>905</td>\n",
       "      <td>1080</td>\n",
       "      <td>263</td>\n",
       "    </tr>\n",
       "    <tr>\n",
       "      <th>2</th>\n",
       "      <td>3</td>\n",
       "      <td>ASXL1</td>\n",
       "      <td>923</td>\n",
       "      <td>440</td>\n",
       "      <td>87</td>\n",
       "      <td>353</td>\n",
       "      <td>483</td>\n",
       "      <td>376</td>\n",
       "      <td>64</td>\n",
       "    </tr>\n",
       "    <tr>\n",
       "      <th>3</th>\n",
       "      <td>7</td>\n",
       "      <td>CHEK2</td>\n",
       "      <td>842</td>\n",
       "      <td>427</td>\n",
       "      <td>371</td>\n",
       "      <td>56</td>\n",
       "      <td>415</td>\n",
       "      <td>383</td>\n",
       "      <td>44</td>\n",
       "    </tr>\n",
       "    <tr>\n",
       "      <th>4</th>\n",
       "      <td>5</td>\n",
       "      <td>TP53</td>\n",
       "      <td>690</td>\n",
       "      <td>313</td>\n",
       "      <td>49</td>\n",
       "      <td>264</td>\n",
       "      <td>377</td>\n",
       "      <td>276</td>\n",
       "      <td>37</td>\n",
       "    </tr>\n",
       "    <tr>\n",
       "      <th>5</th>\n",
       "      <td>9</td>\n",
       "      <td>IDH2</td>\n",
       "      <td>467</td>\n",
       "      <td>0</td>\n",
       "      <td>0</td>\n",
       "      <td>0</td>\n",
       "      <td>467</td>\n",
       "      <td>0</td>\n",
       "      <td>0</td>\n",
       "    </tr>\n",
       "    <tr>\n",
       "      <th>6</th>\n",
       "      <td>6</td>\n",
       "      <td>PPM1D</td>\n",
       "      <td>248</td>\n",
       "      <td>92</td>\n",
       "      <td>9</td>\n",
       "      <td>83</td>\n",
       "      <td>156</td>\n",
       "      <td>69</td>\n",
       "      <td>23</td>\n",
       "    </tr>\n",
       "    <tr>\n",
       "      <th>7</th>\n",
       "      <td>10</td>\n",
       "      <td>GNAS</td>\n",
       "      <td>162</td>\n",
       "      <td>1</td>\n",
       "      <td>0</td>\n",
       "      <td>1</td>\n",
       "      <td>161</td>\n",
       "      <td>1</td>\n",
       "      <td>0</td>\n",
       "    </tr>\n",
       "    <tr>\n",
       "      <th>8</th>\n",
       "      <td>4</td>\n",
       "      <td>SF3B1</td>\n",
       "      <td>158</td>\n",
       "      <td>64</td>\n",
       "      <td>26</td>\n",
       "      <td>38</td>\n",
       "      <td>94</td>\n",
       "      <td>47</td>\n",
       "      <td>17</td>\n",
       "    </tr>\n",
       "    <tr>\n",
       "      <th>9</th>\n",
       "      <td>0</td>\n",
       "      <td>SRSF2</td>\n",
       "      <td>70</td>\n",
       "      <td>15</td>\n",
       "      <td>1</td>\n",
       "      <td>14</td>\n",
       "      <td>55</td>\n",
       "      <td>12</td>\n",
       "      <td>3</td>\n",
       "    </tr>\n",
       "    <tr>\n",
       "      <th>10</th>\n",
       "      <td>8</td>\n",
       "      <td>MDM4</td>\n",
       "      <td>34</td>\n",
       "      <td>5</td>\n",
       "      <td>1</td>\n",
       "      <td>4</td>\n",
       "      <td>29</td>\n",
       "      <td>4</td>\n",
       "      <td>1</td>\n",
       "    </tr>\n",
       "    <tr>\n",
       "      <th>11</th>\n",
       "      <td>11</td>\n",
       "      <td>U2AF1</td>\n",
       "      <td>13</td>\n",
       "      <td>7</td>\n",
       "      <td>3</td>\n",
       "      <td>4</td>\n",
       "      <td>6</td>\n",
       "      <td>6</td>\n",
       "      <td>1</td>\n",
       "    </tr>\n",
       "  </tbody>\n",
       "</table>\n",
       "</div>"
      ],
      "text/plain": [
       "    index    Gene  Cases  Drivers  Driver_big  Driver_small  Passangers  \\\n",
       "0       2  DNMT3A   3572     2268         408          1860        1304   \n",
       "1       1    TET2   2248     1343         295          1048         905   \n",
       "2       3   ASXL1    923      440          87           353         483   \n",
       "3       7   CHEK2    842      427         371            56         415   \n",
       "4       5    TP53    690      313          49           264         377   \n",
       "5       9    IDH2    467        0           0             0         467   \n",
       "6       6   PPM1D    248       92           9            83         156   \n",
       "7      10    GNAS    162        1           0             1         161   \n",
       "8       4   SF3B1    158       64          26            38          94   \n",
       "9       0   SRSF2     70       15           1            14          55   \n",
       "10      8    MDM4     34        5           1             4          29   \n",
       "11     11   U2AF1     13        7           3             4           6   \n",
       "\n",
       "    Driver_single  Driver_multiple  \n",
       "0            1960              308  \n",
       "1            1080              263  \n",
       "2             376               64  \n",
       "3             383               44  \n",
       "4             276               37  \n",
       "5               0                0  \n",
       "6              69               23  \n",
       "7               1                0  \n",
       "8              47               17  \n",
       "9              12                3  \n",
       "10              4                1  \n",
       "11              6                1  "
      ]
     },
     "execution_count": 23,
     "metadata": {},
     "output_type": "execute_result"
    }
   ],
   "source": [
    "Mut_case = pd.DataFrame(Mut_case, columns = ['Gene', 'Cases', 'Drivers', 'Driver_big', 'Driver_small', 'Passangers', 'Driver_single', 'Driver_multiple']).sort_values('Cases', ascending=False)\n",
    "Mut_case.reset_index()"
   ]
  },
  {
   "cell_type": "code",
   "execution_count": 24,
   "id": "9dadab7d-66ca-4d2a-a578-1c00c0575779",
   "metadata": {},
   "outputs": [
    {
     "data": {
      "image/png": "[encoded data removed]",
      "text/plain": [
       "<Figure size 900x600 with 1 Axes>"
      ]
     },
     "metadata": {},
     "output_type": "display_data"
    }
   ],
   "source": [
    "# importing package\n",
    "import matplotlib.pyplot as plt\n",
    "plt.figure(figsize=(3, 2), dpi=300)\n",
    "    \n",
    "# create data\n",
    "x = Mut_case.sort_values('Drivers', ascending=False)['Gene']\n",
    "y2 = Mut_case.sort_values('Drivers', ascending=False)['Drivers']\n",
    " \n",
    "# plot bars in stack manner\n",
    "plt.bar(x, y2, color='tab:red')\n",
    "plt.yticks(fontsize=5)\n",
    "plt.xticks(rotation=90,fontsize=5)\n",
    "plt.show()"
   ]
  },
  {
   "cell_type": "markdown",
   "id": "2caec074-6cd0-4f31-8edb-9cdbedd3c987",
   "metadata": {},
   "source": [
    "# 2- Age associations"
   ]
  },
  {
   "cell_type": "markdown",
   "id": "983515bb-afe5-4074-a9c8-e7438a6747db",
   "metadata": {},
   "source": [
    "### Age all togather"
   ]
  },
  {
   "cell_type": "code",
   "execution_count": 25,
   "id": "f3ea6389-a1ec-4044-bdc4-55eac002a2e6",
   "metadata": {},
   "outputs": [
    {
     "data": {
      "text/plain": [
       "328410"
      ]
     },
     "execution_count": 25,
     "metadata": {},
     "output_type": "execute_result"
    }
   ],
   "source": [
    "ukb200K_ch_cancer_logistic = ukb200K_ch_cancer_single[ukb200K_ch_cancer_single['var_HNALL_pre']==0]\n",
    "len(ukb200K_ch_cancer_logistic)"
   ]
  },
  {
   "cell_type": "code",
   "execution_count": 26,
   "id": "64d7b765-c397-4e78-b385-ed57bbbc353c",
   "metadata": {
    "tags": []
   },
   "outputs": [
    {
     "data": {
      "text/plain": [
       "1    2962\n",
       "0    2717\n",
       "Name: CH_driver, dtype: int64"
      ]
     },
     "execution_count": 26,
     "metadata": {},
     "output_type": "execute_result"
    }
   ],
   "source": [
    "ukb200K_ch_cancer_logistic[ukb200K_ch_cancer_logistic['num_CH_potential']==1]['CH_driver'].value_counts()"
   ]
  },
  {
   "cell_type": "code",
   "execution_count": 27,
   "id": "e4d600ea-00f4-4320-a281-cad0719a0c5b",
   "metadata": {},
   "outputs": [
    {
     "data": {
      "text/plain": [
       "age_group_x\n",
       "38-45    43329\n",
       "46-50    44967\n",
       "51-55    52366\n",
       "56-60    64405\n",
       "61-65    76738\n",
       "66-72    46605\n",
       "dtype: int64"
      ]
     },
     "execution_count": 27,
     "metadata": {},
     "output_type": "execute_result"
    }
   ],
   "source": [
    "ukb200K_ch_cancer_logistic.groupby('age_group_x').size()"
   ]
  },
  {
   "cell_type": "code",
   "execution_count": 28,
   "id": "1b87187e-a3cd-4660-9e45-44e2cbbb04f2",
   "metadata": {},
   "outputs": [
    {
     "name": "stdout",
     "output_type": "stream",
     "text": [
      "['38-45', '46-50', '51-55', '56-60', '61-65', '66-72']\n",
      "[43329, 44967, 52366, 64405, 76738, 46605]\n",
      "328410\n"
     ]
    }
   ],
   "source": [
    "age_groups = ['38-45', '46-50', '51-55', '56-60', '61-65', '66-72']; print(age_groups)\n",
    "agegroups_all = [43329, 44967, 52366, 64405, 76738, 46605]; print(agegroups_all)\n",
    "print(sum(agegroups_all))\n",
    "\n",
    "### Get number of patients per age group\n",
    "agegroups_all_group = ukb200K_ch_cancer_logistic.groupby('age_group_x').size()\n",
    "agegroups_all_group\n",
    "\n",
    "# CH by BosstDM-CH prediction\n",
    "\n",
    "def prop_CH_model(data, model, normalize=False, printprop=False):\n",
    "    agegroup_set = data[data[model] == 1].groupby('age_group_x').size()\n",
    "\n",
    "    merged = pd.merge(agegroup_set.to_frame(), agegroups_all_group.to_frame(),left_index=True, right_index=True)\n",
    "    prop_CH = round(merged.apply(lambda x: x['0_x'] / x['0_y'] * 100, axis=1), 4)\n",
    "    \n",
    "    if normalize == True:\n",
    "        prop_CH = prop_CH.apply(lambda x: x / prop_CH[0])\n",
    "    if printprop == True:\n",
    "        print(prop_CH)\n",
    "    return prop_CH\n"
   ]
  },
  {
   "cell_type": "code",
   "execution_count": 29,
   "id": "d7ef40cd-513e-41df-b90a-148d949ecf88",
   "metadata": {},
   "outputs": [
    {
     "data": {
      "image/png": "[encoded data removed]",
      "text/plain": [
       "<Figure size 900x750 with 1 Axes>"
      ]
     },
     "metadata": {},
     "output_type": "display_data"
    }
   ],
   "source": [
    "import matplotlib \n",
    "matplotlib.rcParams.update({'font.size': 6})\n",
    "fig, ax = plt.subplots(nrows=1, sharex=True, sharey=True, figsize=(3,2.5), dpi=300)\n",
    "\n",
    "patient_age_ch_driver = ukb200K_ch_cancer_logistic[ukb200K_ch_cancer_logistic['CH_nonDriver']==0]\n",
    "patient_age_ch_passengers = ukb200K_ch_cancer_logistic[ukb200K_ch_cancer_logistic['CH_driver']==0]\n",
    "\n",
    "# agecorr_mult_driver = prop_CH_model(patient_age_ch_driver, 'CH_driver_multiple', normalize=True)\n",
    "agecorr_drivers = prop_CH_model(patient_age_ch_driver, 'CH_driver', normalize=True)\n",
    "# agecorr_drivers_big = prop_CH_model(patient_age_ch_driver[patient_age_ch_driver['CH_driver_small']==0], 'CH_driver_big', normalize=True)\n",
    "# agecorr_drivers_small = prop_CH_model(patient_age_ch_driver[patient_age_ch_driver['CH_driver_big']==0], 'CH_driver_small', normalize=True)\n",
    "agecorr_pass = prop_CH_model(patient_age_ch_passengers, 'CH_nonDriver', normalize=True)\n",
    "\n",
    "# plt.plot(agecorr_mult_driver, '.-', linewidth=2, color='#52000F')\n",
    "plt.plot(agecorr_drivers, '.-', linewidth=2, color='#D62728')\n",
    "# plt.plot(agecorr_drivers_big, '.-', linewidth=2, color='#990707')\n",
    "# plt.plot(agecorr_drivers_small, '.-', linewidth=2, color='#EF6161')\n",
    "plt.plot(agecorr_pass, '.-', linewidth=2, color='grey')\n",
    "\n",
    "plt.title('CH among age', fontsize = 8)\n",
    "plt.xlabel('Age group',size=8)\n",
    "plt.ylabel('Fold increase of cases with CH cases', fontsize=6)\n",
    "plt.ylim([0,4])\n",
    "plt.xticks(np.arange(6), age_groups, size=6)\n",
    "# plt.legend(labels=['BoostDM Mult Drivers', 'BoostDM Drivers', 'BoostDM Drivers large', 'BoostDM Drivers small', 'BoostDM non_drivers'], loc='best', prop={'size': 5})\n",
    "# plt.legend(labels=[ 'BoostDM Drivers', 'BoostDM non_drivers'], loc='best', prop={'size': 8})\n",
    "# plt.axhline(y=1, color='k')\n",
    "plt.yticks(fontsize=8)\n",
    "plt.xticks(fontsize=8)\n",
    "for axis in ['top', 'bottom', 'left', 'right']:\n",
    "    ax.spines[axis].set_linewidth(0.5)  # change width"
   ]
  },
  {
   "cell_type": "code",
   "execution_count": 30,
   "id": "b982b81b-e0db-4537-8ad4-f4a4ff55e9f9",
   "metadata": {},
   "outputs": [
    {
     "name": "stderr",
     "output_type": "stream",
     "text": [
      "/tmp/jobs/jramis/9759392/ipykernel_47603/1188744214.py:3: SettingWithCopyWarning: \n",
      "A value is trying to be set on a copy of a slice from a DataFrame\n",
      "\n",
      "See the caveats in the documentation: https://pandas.pydata.org/pandas-docs/stable/user_guide/indexing.html#returning-a-view-versus-a-copy\n",
      "  ukb200K_ch_cancer_logistic.rename(columns={'CH_passengers':'CH_nonDriver'}, inplace=True)\n"
     ]
    },
    {
     "data": {
      "text/plain": [
       "328410"
      ]
     },
     "execution_count": 30,
     "metadata": {},
     "output_type": "execute_result"
    }
   ],
   "source": [
    "### Remove cases with previous hematological cancer\n",
    "ukb200K_ch_cancer_logistic = ukb200K_ch_cancer_single[ukb200K_ch_cancer_single['var_HNALL_pre']==0]\n",
    "ukb200K_ch_cancer_logistic.rename(columns={'CH_passengers':'CH_nonDriver'}, inplace=True)\n",
    "len(ukb200K_ch_cancer_logistic)"
   ]
  },
  {
   "cell_type": "code",
   "execution_count": 31,
   "id": "7e4a28e1-1e19-4e9a-9bfc-1f788d080306",
   "metadata": {},
   "outputs": [
    {
     "name": "stdout",
     "output_type": "stream",
     "text": [
      "Optimization terminated successfully.\n",
      "         Current function value: 0.057290\n",
      "         Iterations 9\n",
      "Optimization terminated successfully.\n",
      "         Current function value: 0.009591\n",
      "         Iterations 14\n",
      "Optimization terminated successfully.\n",
      "         Current function value: 0.017836\n",
      "         Iterations 11\n",
      "Optimization terminated successfully.\n",
      "         Current function value: 0.043464\n",
      "         Iterations 9\n",
      "Optimization terminated successfully.\n",
      "         Current function value: 0.064980\n",
      "         Iterations 9\n",
      "Optimization terminated successfully.\n",
      "         Current function value: 0.127632\n",
      "         Iterations 8\n"
     ]
    },
    {
     "data": {
      "text/html": [
       "<div>\n",
       "<style scoped>\n",
       "    .dataframe tbody tr th:only-of-type {\n",
       "        vertical-align: middle;\n",
       "    }\n",
       "\n",
       "    .dataframe tbody tr th {\n",
       "        vertical-align: top;\n",
       "    }\n",
       "\n",
       "    .dataframe thead th {\n",
       "        text-align: right;\n",
       "    }\n",
       "</style>\n",
       "<table border=\"1\" class=\"dataframe\">\n",
       "  <thead>\n",
       "    <tr style=\"text-align: right;\">\n",
       "      <th></th>\n",
       "      <th>gene</th>\n",
       "      <th>OR</th>\n",
       "      <th>Lower CI</th>\n",
       "      <th>Upper CI</th>\n",
       "      <th>pval</th>\n",
       "      <th>sig</th>\n",
       "      <th>q_value</th>\n",
       "    </tr>\n",
       "  </thead>\n",
       "  <tbody>\n",
       "    <tr>\n",
       "      <th>0</th>\n",
       "      <td>CH_driver</td>\n",
       "      <td>1.053622</td>\n",
       "      <td>1.048699</td>\n",
       "      <td>1.058569</td>\n",
       "      <td>6.651976e-106</td>\n",
       "      <td>significant</td>\n",
       "      <td>1.995593e-105</td>\n",
       "    </tr>\n",
       "    <tr>\n",
       "      <th>1</th>\n",
       "      <td>CH_driver_multiple</td>\n",
       "      <td>1.091299</td>\n",
       "      <td>1.075260</td>\n",
       "      <td>1.107577</td>\n",
       "      <td>6.175907e-31</td>\n",
       "      <td>significant</td>\n",
       "      <td>7.411088e-31</td>\n",
       "    </tr>\n",
       "    <tr>\n",
       "      <th>2</th>\n",
       "      <td>CH_driver_big</td>\n",
       "      <td>1.062810</td>\n",
       "      <td>1.052664</td>\n",
       "      <td>1.073053</td>\n",
       "      <td>1.438286e-35</td>\n",
       "      <td>significant</td>\n",
       "      <td>2.157429e-35</td>\n",
       "    </tr>\n",
       "    <tr>\n",
       "      <th>3</th>\n",
       "      <td>CH_driver_small</td>\n",
       "      <td>1.047658</td>\n",
       "      <td>1.041942</td>\n",
       "      <td>1.053406</td>\n",
       "      <td>1.900521e-62</td>\n",
       "      <td>significant</td>\n",
       "      <td>3.801042e-62</td>\n",
       "    </tr>\n",
       "    <tr>\n",
       "      <th>4</th>\n",
       "      <td>CH_nonDriver</td>\n",
       "      <td>1.008885</td>\n",
       "      <td>1.004869</td>\n",
       "      <td>1.012918</td>\n",
       "      <td>1.381360e-05</td>\n",
       "      <td>significant</td>\n",
       "      <td>1.381360e-05</td>\n",
       "    </tr>\n",
       "    <tr>\n",
       "      <th>5</th>\n",
       "      <td>CH_potential</td>\n",
       "      <td>1.031763</td>\n",
       "      <td>1.028973</td>\n",
       "      <td>1.034561</td>\n",
       "      <td>2.229161e-113</td>\n",
       "      <td>significant</td>\n",
       "      <td>1.337497e-112</td>\n",
       "    </tr>\n",
       "  </tbody>\n",
       "</table>\n",
       "</div>"
      ],
      "text/plain": [
       "                 gene        OR  Lower CI  Upper CI           pval  \\\n",
       "0           CH_driver  1.053622  1.048699  1.058569  6.651976e-106   \n",
       "1  CH_driver_multiple  1.091299  1.075260  1.107577   6.175907e-31   \n",
       "2       CH_driver_big  1.062810  1.052664  1.073053   1.438286e-35   \n",
       "3     CH_driver_small  1.047658  1.041942  1.053406   1.900521e-62   \n",
       "4        CH_nonDriver  1.008885  1.004869  1.012918   1.381360e-05   \n",
       "5        CH_potential  1.031763  1.028973  1.034561  2.229161e-113   \n",
       "\n",
       "           sig        q_value  \n",
       "0  significant  1.995593e-105  \n",
       "1  significant   7.411088e-31  \n",
       "2  significant   2.157429e-35  \n",
       "3  significant   3.801042e-62  \n",
       "4  significant   1.381360e-05  \n",
       "5  significant  1.337497e-112  "
      ]
     },
     "execution_count": 31,
     "metadata": {},
     "output_type": "execute_result"
    }
   ],
   "source": [
    "#perform logistic regression separetly\n",
    "import statsmodels.formula.api as smf\n",
    "import statsmodels.stats.multitest as mtc\n",
    "    \n",
    "#we have exclude pre hematological cases\n",
    "CH_driver_multiple_matrix = ukb200K_ch_cancer_logistic[((ukb200K_ch_cancer_logistic['CH_nonDriver']==0) & (ukb200K_ch_cancer_logistic['CH_driver_multiple']==1)) | (ukb200K_ch_cancer_logistic['CH_potential'] == 0)]\n",
    "CH_driver_matrix = ukb200K_ch_cancer_logistic[ukb200K_ch_cancer_logistic['CH_nonDriver']==0]\n",
    "CH_driver_big_matrix = CH_driver_matrix[CH_driver_matrix['CH_driver_small']==0]\n",
    "CH_driver_small_matrix = CH_driver_matrix[CH_driver_matrix['CH_driver_big']==0]\n",
    "CH_passengers_matrix = ukb200K_ch_cancer_logistic[ukb200K_ch_cancer_logistic['CH_driver']==0]\n",
    "\n",
    "\n",
    "name = []\n",
    "OR = []\n",
    "cilow = []\n",
    "ciup = []\n",
    "pval = []\n",
    "sig = []\n",
    "    \n",
    "#run model\n",
    "for gene in ['CH_driver', 'CH_driver_multiple',  'CH_driver_big',  'CH_driver_small', 'CH_nonDriver', 'CH_potential']:\n",
    "    if gene.endswith(('multiple')):\n",
    "        model_hematopost = smf.logit(formula= gene+' ~ 1 + age_recruitment_x + sex + PC1 + PC2 + PC3 + PC4 + PC5 + PC6 + PC7 + PC8 + PC9 + PC10', data=CH_driver_multiple_matrix).fit()\n",
    "    elif gene.endswith(('_driver')):\n",
    "        model_hematopost = smf.logit(formula= gene+' ~ 1 + age_recruitment_x + sex + PC1 + PC2 + PC3 + PC4 + PC5 + PC6 + PC7 + PC8 + PC9 + PC10', data=CH_driver_matrix).fit()\n",
    "    elif gene.endswith('big'):\n",
    "        model_hematopost = smf.logit(formula= gene+' ~ 1 + age_recruitment_x + sex + PC1 + PC2 + PC3 + PC4 + PC5 + PC6 + PC7 + PC8 + PC9 + PC10', data=CH_driver_big_matrix).fit()\n",
    "    elif gene.endswith('small'):\n",
    "        model_hematopost = smf.logit(formula= gene+' ~ 1 + age_recruitment_x + sex + PC1 + PC2 + PC3 + PC4 + PC5 + PC6 + PC7 + PC8 + PC9 + PC10', data=CH_driver_small_matrix).fit() \n",
    "    elif gene.endswith('nonDriver'):\n",
    "        model_hematopost = smf.logit(formula= gene+' ~ 1 + age_recruitment_x + sex + PC1 + PC2 + PC3 + PC4 + PC5 + PC6 + PC7 + PC8 + PC9 + PC10', data=CH_passengers_matrix).fit()\n",
    "    else:\n",
    "        model_hematopost = smf.logit(formula= gene+' ~ 1 + age_recruitment_x + sex + PC1 + PC2 + PC3 + PC4 + PC5 + PC6 + PC7 + PC8 + PC9 + PC10', data=ukb200K_ch_cancer_logistic).fit()\n",
    "    name.append(gene)\n",
    "    OR.append(np.exp(model_hematopost.params[1]))\n",
    "    cilow.append(np.exp(model_hematopost.conf_int().iloc[1,0]))\n",
    "    ciup.append(np.exp(model_hematopost.conf_int().iloc[1,1]))\n",
    "    pval.append(model_hematopost.pvalues[1])\n",
    "    sig.append('significant' if model_hematopost.pvalues[1] <= 0.05 else 'not significant')\n",
    "varlist = pd.DataFrame(list(zip(name, OR, cilow, ciup, pval, sig)), columns = ['gene','OR', 'Lower CI', 'Upper CI', 'pval', 'sig'])\n",
    "varlist[\"q_value\"] = mtc.fdrcorrection(pd.to_numeric(varlist['pval']))[1]\n",
    "varlist['sig'] = ['significant' if qval <= 0.05 else 'ns' for qval in varlist.q_value]\n",
    "varlist"
   ]
  },
  {
   "cell_type": "code",
   "execution_count": 32,
   "id": "2cdd382c-7ecd-4949-bcca-ed42c4e7241f",
   "metadata": {},
   "outputs": [
    {
     "data": {
      "image/png": "[encoded data removed]",
      "text/plain": [
       "<Figure size 870x390 with 1 Axes>"
      ]
     },
     "metadata": {},
     "output_type": "display_data"
    }
   ],
   "source": [
    "fig, ax = plt.subplots(nrows=1, sharex=True, sharey=True, figsize=(2.9, 1.3), dpi=300)\n",
    "xlimit = 1.125\n",
    "ylimit = len(varlist)-1\n",
    "\n",
    "for idx, row in varlist.iloc[::-1].iterrows():\n",
    "    ci = [[row['OR'] - row['Lower CI']], [row['Upper CI'] - row['OR']]]\n",
    "    if row['gene'].endswith('_driver'):\n",
    "        plt.errorbar(x=[row['OR']], y=['driver'], xerr=ci,\n",
    "                 ecolor='#D62728', capsize=3, linestyle='None', linewidth=1, marker=\"o\", \n",
    "                 markersize=5, mfc=\"#D62728\", mec=\"#D62728\")\n",
    "    elif 'non' in row['gene']:\n",
    "        plt.errorbar(x=[row['OR']], y=['non-driver'], xerr=ci,\n",
    "                 ecolor='tab:grey', capsize=3, linestyle='None', linewidth=1, marker=\"o\", \n",
    "                 markersize=5, mfc=\"tab:grey\", mec=\"tab:grey\")\n",
    "    elif 'pot' in row['gene']:\n",
    "        plt.errorbar(x=[row['OR']], y=['potential mutation'], xerr=ci,\n",
    "                 ecolor='k', capsize=3, linestyle='None', linewidth=1, marker=\"o\", \n",
    "                 markersize=5, mfc=\"k\", mec=\"k\")\n",
    "    elif 'small' in row['gene']:\n",
    "        plt.errorbar(x=[row['OR']], y=['driver small'], xerr=ci,\n",
    "                 ecolor='#EF6161', capsize=3, linestyle='None', linewidth=1, marker=\"o\", \n",
    "                 markersize=5, mfc=\"#EF6161\", mec=\"#EF6161\")\n",
    "    elif 'big' in row['gene']:\n",
    "        plt.errorbar(x=[row['OR']], y=['driver large'], xerr=ci,\n",
    "                 ecolor='#990707', capsize=3, linestyle='None', linewidth=1, marker=\"o\", \n",
    "                 markersize=5, mfc=\"#990707\", mec=\"#990707\")\n",
    "    elif row['gene'].endswith('multiple'):\n",
    "        plt.errorbar(x=[row['OR']], y=['multiple driver'], xerr=ci,\n",
    "                 ecolor='#52000F', capsize=3, linestyle='None', linewidth=1, marker=\"o\", \n",
    "                 markersize=5, mfc=\"#52000F\", mec=\"#52000F\")\n",
    "            \n",
    "    if row['sig'] == 'significant':\n",
    "        plt.axvline(x=1, linewidth=0.8, linestyle='--', color='black')\n",
    "        ax.text(xlimit+0.005, ylimit-idx-0.5, '*', style='italic', fontsize=6)\n",
    "    else:\n",
    "        plt.axvline(x=1, linewidth=0.8, linestyle='--', color='black')\n",
    "        ax.text(xlimit+0.005, ylimit-idx-0.5, 'ns', style='italic', fontsize=6)\n",
    "\n",
    "        plt.tick_params(axis='both', which='major', labelsize=8)\n",
    "plt.xlabel('Odds Ratio and 95% Confidence Interval', fontsize=5)\n",
    "ax.set_title('Age associations', fontdict={'size':8})\n",
    "plt.tight_layout()\n",
    "plt.xlim([0.975, xlimit])\n",
    "ax.set_ylim(-.5, ylimit+.5)\n",
    "plt.yticks(fontsize=6)\n",
    "plt.xticks([1, 1.05, 1.1], fontsize=6)\n",
    "for axis in ['top', 'bottom', 'left', 'right']:\n",
    "    ax.spines[axis].set_linewidth(0.5)  # change width\n",
    "\n",
    "plt.show()"
   ]
  },
  {
   "cell_type": "code",
   "execution_count": null,
   "id": "7ec8a3e5-c4ec-4b25-a4de-6180779c06ef",
   "metadata": {},
   "outputs": [],
   "source": []
  },
  {
   "cell_type": "code",
   "execution_count": null,
   "id": "a9a6610c-2a94-4c23-b091-59ded59f7f9e",
   "metadata": {},
   "outputs": [],
   "source": []
  }
 ],
 "metadata": {
  "kernelspec": {
   "display_name": "Python 3 (ipykernel)",
   "language": "python",
   "name": "python3"
  },
  "language_info": {
   "codemirror_mode": {
    "name": "ipython",
    "version": 3
   },
   "file_extension": ".py",
   "mimetype": "text/x-python",
   "name": "python",
   "nbconvert_exporter": "python",
   "pygments_lexer": "ipython3",
   "version": "3.9.7"
  }
 },
 "nbformat": 4,
 "nbformat_minor": 5
}
