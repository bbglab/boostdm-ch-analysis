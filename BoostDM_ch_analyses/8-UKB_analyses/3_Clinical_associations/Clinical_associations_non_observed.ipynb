{
 "cells": [
  {
   "cell_type": "markdown",
   "id": "27ce243a-9700-41ae-853a-ea3bfaadc30f",
   "metadata": {},
   "source": [
    "# Clinical associations with UKB mutations non observed in the boostDM-CH training set"
   ]
  },
  {
   "cell_type": "markdown",
   "id": "187a5acf-0632-45ab-a051-44ac2cfcd7a6",
   "metadata": {},
   "source": [
    "## 0- Matrix preparing"
   ]
  },
  {
   "cell_type": "code",
   "execution_count": 1,
   "id": "6d2fa6a1-02b2-4f1c-88a8-d493561f87e3",
   "metadata": {},
   "outputs": [],
   "source": [
    "import pandas as pd\n",
    "import numpy as np\n",
    "import os\n",
    "import matplotlib.pyplot as plt\n",
    "from io import StringIO\n",
    "import seaborn as sns\n",
    "import scipy.stats as stats\n",
    "pd.set_option('display.max_columns', 150)\n",
    "pd.set_option('display.max_rows', 40)\n",
    "%precision 2\n",
    "\n",
    "%load_ext autoreload\n",
    "%autoreload 2\n",
    "\n",
    "import matplotlib as mpl\n",
    "mpl.rcParams['figure.dpi']= 300"
   ]
  },
  {
   "cell_type": "code",
   "execution_count": 2,
   "id": "1a129037-d9d0-49fa-879d-5b460cefa050",
   "metadata": {},
   "outputs": [
    {
     "name": "stdout",
     "output_type": "stream",
     "text": [
      "Patients:469880\n",
      "Columns:['patient', 'age_recruitment', 'age_group', 'CH_driver', 'CH_driver_big', 'CH_driver_small', 'CH_potential', 'CH_passengers', 'num_CH_drivers', 'CH_driver_multiple', 'num_CH_potential', 'ASXL1_driver', 'ASXL1_passenger', 'ASXL1_potential', 'CHEK2_driver', 'CHEK2_passenger', 'CHEK2_potential', 'DNMT3A_driver', 'DNMT3A_passenger', 'DNMT3A_potential', 'GNAS_driver', 'GNAS_passenger', 'GNAS_potential', 'IDH2_driver', 'IDH2_passenger', 'IDH2_potential', 'MDM4_driver', 'MDM4_passenger', 'MDM4_potential', 'PPM1D_driver', 'PPM1D_passenger', 'PPM1D_potential', 'SF3B1_driver', 'SF3B1_passenger', 'SF3B1_potential', 'SRSF2_driver', 'SRSF2_passenger', 'SRSF2_potential', 'TET2_driver', 'TET2_passenger', 'TET2_potential', 'TP53_driver', 'TP53_passenger', 'TP53_potential', 'U2AF1_driver', 'U2AF1_passenger', 'U2AF1_potential', 'chromatin_gene_driver', 'DDR_gene_driver', 'splicing_gene_driver', 'chromatin_gene_passenger', 'DDR_gene_passenger', 'splicing_gene_passenger', 'chromatin_gene_potential', 'DDR_gene_potential', 'splicing_gene_potential']\n"
     ]
    }
   ],
   "source": [
    "### Read data ch mutations and age (NOT PROVIDED)\n",
    "# Created in section 1_Post_processing_calling\n",
    "patient_age_ch = pd.read_csv('../1_Post_processing_calling/patient_450k_age_670124_ALL_MUTATIONS_20230802_v3.txt.gz',sep=\"\\t\")\n",
    "print(f'Patients:{len(patient_age_ch)}')\n",
    "print(f'Columns:{list(patient_age_ch.columns)}')"
   ]
  },
  {
   "cell_type": "code",
   "execution_count": 3,
   "id": "bcf80bba-6e9a-490c-8730-edd5c2883b4c",
   "metadata": {},
   "outputs": [
    {
     "data": {
      "text/plain": [
       "203351"
      ]
     },
     "execution_count": 3,
     "metadata": {},
     "output_type": "execute_result"
    }
   ],
   "source": [
    "### Upload UKB mutations (NOT PROVIDED)\n",
    "# Created in section 1_Post_processing_calling\n",
    "boostDM_predictions = pd.read_csv('../1_Post_processing_calling/All450k_filtered_boostDM_ALL_age_20230802_v3.vcf', sep=\"\\t\", compression='gzip')\n",
    "boostDM_predictions = boostDM_predictions.rename(columns={'case': 'patient', 'BoostDM':'Drivers_12genes'})\n",
    "boostDM_predictions = boostDM_predictions[~boostDM_predictions['Prot_pos'].isna()]\n",
    "boostDM_predictions = boostDM_predictions[~boostDM_predictions['Consequence'].isin(['start_lost', 'stop_lost', 'stop_retained_variant'])]\n",
    "boostDM_predictions = boostDM_predictions[boostDM_predictions['patient'].isin(patient_age_ch['patient'])]\n",
    "boostDM_predictions = boostDM_predictions[~boostDM_predictions['ALT'].str.contains(',')]\n",
    "len(boostDM_predictions)"
   ]
  },
  {
   "cell_type": "code",
   "execution_count": 4,
   "id": "b6c74efe-146a-4e1f-8512-6d0601541dd0",
   "metadata": {},
   "outputs": [
    {
     "name": "stderr",
     "output_type": "stream",
     "text": [
      "/tmp/jobs/jramis/9874679/ipykernel_54518/1174477373.py:3: DtypeWarning: Columns (36,37,38,44,45,46) have mixed types. Specify dtype option on import or set low_memory=False.\n",
      "  patient_cancer = pd.read_csv('../../../Paper_data/UKB_clinic_info/cancer_ukb450k_670124.txt.gz', sep=\"\\t\")\n"
     ]
    },
    {
     "data": {
      "text/plain": [
       "Index(['patient', 'age_recruitment_x', 'age_group_x', 'CH_driver',\n",
       "       'CH_driver_big', 'CH_driver_small', 'CH_potential', 'CH_passengers',\n",
       "       'num_CH_drivers', 'CH_driver_multiple',\n",
       "       ...\n",
       "       '22009-0.1', '22009-0.2', '22009-0.3', '22009-0.4', '22009-0.5',\n",
       "       '22009-0.6', '22009-0.7', '22009-0.8', '22009-0.9', '22009-0.10'],\n",
       "      dtype='object', length=139)"
      ]
     },
     "execution_count": 4,
     "metadata": {},
     "output_type": "execute_result"
    }
   ],
   "source": [
    "### Upload general cancer information per case (NOT PROVIDED)\n",
    "# Created in section 0_Clinical_phenotypes\n",
    "patient_cancer = pd.read_csv('../../../Paper_data/UKB_clinic_info/cancer_ukb450k_670124.txt.gz', sep=\"\\t\")\n",
    "ukb200K_ch_cancer = pd.merge(patient_age_ch, patient_cancer,  how='inner', on='patient')\n",
    "ukb200K_ch_cancer.columns"
   ]
  },
  {
   "cell_type": "code",
   "execution_count": 5,
   "id": "60f8f862-b14d-4b61-8dcb-d00411d5d74b",
   "metadata": {},
   "outputs": [
    {
     "data": {
      "text/plain": [
       "Index(['patient', 'age_recruitment_x', 'age_group_x', 'CH_driver',\n",
       "       'CH_driver_big', 'CH_driver_small', 'CH_potential', 'CH_nonDriver',\n",
       "       'num_CH_drivers', 'CH_driver_multiple',\n",
       "       ...\n",
       "       'var_Cervical_post', 'var_Cervical_pre', 'var_Sarcoma_years',\n",
       "       'var_Sarcoma_var', 'var_Sarcoma_post', 'var_Sarcoma_pre',\n",
       "       'var_Testicular_years', 'var_Testicular_var', 'var_Testicular_post',\n",
       "       'var_Testicular_pre'],\n",
       "      dtype='object', length=263)"
      ]
     },
     "execution_count": 5,
     "metadata": {},
     "output_type": "execute_result"
    }
   ],
   "source": [
    "# Upload Cancer variables per case (NOT PROVIDED)\n",
    "# Created in section 0_Clinical_phenotypes\n",
    "patient_cancer = pd.read_csv('../../../Paper_data/UKB_clinic_info/cancer_ukb200k_Siddharta_670124_simple.txt.gz', sep=\"\\t\")\n",
    "patient_cancer = patient_cancer.rename(columns={'eid': 'patient'})\n",
    "ukb200K_ch_cancer = pd.merge(ukb200K_ch_cancer, patient_cancer,  how='inner', on='patient')\n",
    "ukb200K_ch_cancer.rename(columns={'CH_passengers':'CH_nonDriver'}, inplace=True)\n",
    "ukb200K_ch_cancer.columns"
   ]
  },
  {
   "cell_type": "code",
   "execution_count": 6,
   "id": "55cf6eba-d4e8-45a9-8621-238429f0aaa3",
   "metadata": {},
   "outputs": [],
   "source": [
    "# Create a unique variable for hematological cancer\n",
    "yeears = ['var_MM_years', 'var_MPN_years', 'var_MDS_years', 'var_CMML_years',\n",
    "          'var_AML_years', 'var_LL_years', 'var_Lymphoma_years', 'var_Myeloma_years']\n",
    "ukb200K_ch_cancer['var_HNALL_years'] = ukb200K_ch_cancer.loc[:,yeears].min(axis=1)\n",
    "ukb200K_ch_cancer['var_HNALL_var'] = np.where(ukb200K_ch_cancer['var_HNALL_years'].notnull(), 1, 0)\n",
    "ukb200K_ch_cancer['var_HNALL_post'] = np.where(ukb200K_ch_cancer['var_HNALL_years'] > 0, 1, 0)\n",
    "ukb200K_ch_cancer['var_HNALL_pre'] = np.where(ukb200K_ch_cancer['var_HNALL_years'] < 0, 1, 0)"
   ]
  },
  {
   "cell_type": "code",
   "execution_count": 7,
   "id": "a4b0223e-ca50-4817-8b65-a91a32aaac21",
   "metadata": {},
   "outputs": [],
   "source": [
    "ukb200K_ch_cancer = ukb200K_ch_cancer.rename(columns = {'31-0.0':'sex',\n",
    "                                                                          '22009-0.1':'PC1',\n",
    "                                                                          '22009-0.2':'PC2',\n",
    "                                                                          '22009-0.3':'PC3',\n",
    "                                                                          '22009-0.4':'PC4',\n",
    "                                                                          '22009-0.5':'PC5',\n",
    "                                                                          '22009-0.6':'PC6',\n",
    "                                                                          '22009-0.7':'PC7',\n",
    "                                                                          '22009-0.8':'PC8',\n",
    "                                                                          '22009-0.9':'PC9',\n",
    "                                                                          '22009-0.10':'PC10',\n",
    "                                                                         })"
   ]
  },
  {
   "cell_type": "markdown",
   "id": "7de1cf41-0ed6-455b-adb0-38c081018db4",
   "metadata": {},
   "source": [
    "### Select UKB mutations non-observed in boostDM-CH training cohort"
   ]
  },
  {
   "cell_type": "code",
   "execution_count": 9,
   "id": "95191102-2329-48cc-a391-c0f249a44093",
   "metadata": {
    "tags": []
   },
   "outputs": [],
   "source": [
    "### Reed mutations from the boostDM-CH training cohort (NOT PROVIDED)\n",
    "Observed_mut = pd.read_csv('BoostDM-CH_training_cohorts_mutations.tsv', sep='\\t')\n",
    "Observed_mut['ID_mut'] = Observed_mut['gene']+'_'+Observed_mut['pos'].astype(str)+Observed_mut['mut']\n",
    "len(Observed_mut)"
   ]
  },
  {
   "cell_type": "code",
   "execution_count": 10,
   "id": "3ce550f7-6211-4111-b928-8f3fb483509d",
   "metadata": {},
   "outputs": [
    {
     "data": {
      "text/plain": [
       "201857"
      ]
     },
     "execution_count": 10,
     "metadata": {},
     "output_type": "execute_result"
    }
   ],
   "source": [
    "# Select UKB mutations from cases without previous hematological cancer\n",
    "non_HN_patients = ukb200K_ch_cancer[ukb200K_ch_cancer['var_HNALL_pre']==0]['patient'].tolist()\n",
    "boostDM_predictions_nonHN = boostDM_predictions[boostDM_predictions['patient'].isin(non_HN_patients)]\n",
    "len(boostDM_predictions_nonHN)"
   ]
  },
  {
   "cell_type": "code",
   "execution_count": 16,
   "id": "f2068c38-ee3a-4596-8f7d-88d0a28b3e84",
   "metadata": {
    "tags": []
   },
   "outputs": [
    {
     "data": {
      "text/plain": [
       "0    155157\n",
       "1     16903\n",
       "Name: Drivers_12genes, dtype: int64"
      ]
     },
     "execution_count": 16,
     "metadata": {},
     "output_type": "execute_result"
    }
   ],
   "source": [
    "# Select those non-observed in the boostDM-CH training cohort\n",
    "boostDM_predictions_nonHN_nonobs = boostDM_predictions_nonHN[~boostDM_predictions_nonHN['ID_mut'].isin(Observed_mut['ID_mut'].tolist())]\n",
    "boostDM_predictions_nonHN_nonobs.Drivers_12genes.value_counts()"
   ]
  },
  {
   "cell_type": "code",
   "execution_count": 43,
   "id": "a44949d9",
   "metadata": {},
   "outputs": [
    {
     "data": {
      "text/plain": [
       "172060"
      ]
     },
     "execution_count": 43,
     "metadata": {},
     "output_type": "execute_result"
    }
   ],
   "source": [
    "len(boostDM_predictions_nonHN_nonobs)"
   ]
  },
  {
   "cell_type": "markdown",
   "id": "20fa19ef-eafc-4f83-b0c6-ed505059e466",
   "metadata": {},
   "source": [
    "## 1- Series Description"
   ]
  },
  {
   "cell_type": "code",
   "execution_count": 17,
   "id": "52e26687-37d8-4b97-8c89-78e1b67a10e0",
   "metadata": {},
   "outputs": [],
   "source": [
    "genes12 = ['DNMT3A', 'TET2', 'ASXL1', 'CHEK2', 'TP53', 'PPM1D', 'SF3B1', 'SRSF2','U2AF1', 'GNAS','IDH2', 'MDM4']"
   ]
  },
  {
   "cell_type": "code",
   "execution_count": 18,
   "id": "68586e99-f2c7-45b9-87ef-faa35b8a69f9",
   "metadata": {},
   "outputs": [
    {
     "name": "stdout",
     "output_type": "stream",
     "text": [
      "Number of potential mutations: 172060\n",
      "Number of driver mutations: 16903\n",
      "Number of non-driver mutations: 155157\n",
      "\n",
      "Number of cases with driver mutations: 38124\n",
      "Number of cases with potential mutations: 149682\n",
      "\n",
      "Number of patient with cancer: 110890\n",
      "Number of patient with pre-cancer: 37495\n",
      "Number of patient with Hematological cancer: 7992\n",
      "Number of patient with pre-Hematological cancer: 2678\n"
     ]
    }
   ],
   "source": [
    "### Describing Series\n",
    "print(f\"Number of potential mutations: {len(boostDM_predictions_nonHN_nonobs)}\")\n",
    "print(f\"Number of driver mutations: {len(boostDM_predictions_nonHN_nonobs[boostDM_predictions_nonHN_nonobs['Drivers_12genes']==1])}\")\n",
    "print(f\"Number of non-driver mutations: {len(boostDM_predictions_nonHN_nonobs[boostDM_predictions_nonHN_nonobs['Drivers_12genes']==0])}\")\n",
    "print()\n",
    "print(f\"Number of cases with driver mutations: {len(ukb200K_ch_cancer[(ukb200K_ch_cancer['CH_driver']==1)&(ukb200K_ch_cancer['var_HNALL_pre']==0)])}\")\n",
    "print(f\"Number of cases with potential mutations: {len(ukb200K_ch_cancer[ukb200K_ch_cancer['CH_potential']==1&(ukb200K_ch_cancer['var_HNALL_pre']==0)])}\")\n",
    "print()\n",
    "print(f\"Number of patient with cancer: {len(ukb200K_ch_cancer[ukb200K_ch_cancer['cancer'] == 1])}\")\n",
    "print(f\"Number of patient with pre-cancer: {len(ukb200K_ch_cancer[ukb200K_ch_cancer['cancer1_pre'] == 1])}\")\n",
    "print(f\"Number of patient with Hematological cancer: {len(ukb200K_ch_cancer[ukb200K_ch_cancer['var_HNALL_var'] == 1])}\")\n",
    "print(f\"Number of patient with pre-Hematological cancer: {len(ukb200K_ch_cancer[ukb200K_ch_cancer['var_HNALL_pre'] == 1])}\")"
   ]
  },
  {
   "cell_type": "code",
   "execution_count": 19,
   "id": "1b522ca9-f656-4882-acad-93deaa765b3d",
   "metadata": {
    "tags": []
   },
   "outputs": [
    {
     "name": "stdout",
     "output_type": "stream",
     "text": [
      "0.4092141577494795\n"
     ]
    },
    {
     "data": {
      "text/plain": [
       "Text(0, 0.5, 'All Driver')"
      ]
     },
     "execution_count": 19,
     "metadata": {},
     "output_type": "execute_result"
    },
    {
     "data": {
      "image/png": "[encoded data removed]",
      "text/plain": [
       "<Figure size 900x150 with 1 Axes>"
      ]
     },
     "metadata": {},
     "output_type": "display_data"
    }
   ],
   "source": [
    "fig, ax = plt.subplots(figsize=(3,0.5), dpi=300)\n",
    "\n",
    "driver = boostDM_predictions_nonHN[boostDM_predictions_nonHN['Drivers_12genes']==1]\n",
    "count_driver = len(driver[~driver['ID_mut'].isin(Observed_mut['ID_mut'].tolist())])\n",
    "count_total = len(driver)\n",
    "nonpredicted_frac = (count_total - count_driver) / count_total\n",
    "predicted_frac = count_driver / count_total\n",
    "print(predicted_frac)\n",
    "ax.barh(0, nonpredicted_frac, height=0.3, color='thistle', left=0)\n",
    "ax.barh(0, predicted_frac, height=0.3, left=nonpredicted_frac, color='tab:red')\n",
    "ax.spines['top'].set_visible(False)\n",
    "ax.spines['right'].set_visible(False)\n",
    "ax.spines['left'].set_visible(False)\n",
    "ax.spines['bottom'].set_visible(False)\n",
    "ax.set_yticks([])\n",
    "ax.set_xticks([])\n",
    "ax.set_xlim(0, 1)\n",
    "ax.yaxis.set_label_position(\"right\")\n",
    "ax.set_ylabel('All Driver', rotation=0, labelpad=25)"
   ]
  },
  {
   "cell_type": "markdown",
   "id": "31336fb2-5f85-431d-989f-1050bdd7ec53",
   "metadata": {},
   "source": [
    "### Mutational landscape by mutation"
   ]
  },
  {
   "cell_type": "code",
   "execution_count": 25,
   "id": "97320065-b56d-4518-849c-93594e49acb6",
   "metadata": {},
   "outputs": [],
   "source": [
    "non_HN_patients = ukb200K_ch_cancer[ukb200K_ch_cancer['var_HNALL_pre']==0]\n",
    "unique = set(non_HN_patients[(non_HN_patients['CH_driver_multiple']==0)]['patient'])\n",
    "multiple = set(non_HN_patients[(non_HN_patients['CH_driver_multiple']==1)]['patient'])"
   ]
  },
  {
   "cell_type": "code",
   "execution_count": 28,
   "id": "f2140a07-e40c-465b-a25c-f8094952c817",
   "metadata": {},
   "outputs": [],
   "source": [
    "# Mutational landscape by mutation\n",
    "Mut_case = []\n",
    "for gene in boostDM_predictions_nonHN['SYMBOL'].unique():\n",
    "    freq = len(boostDM_predictions_nonHN_nonobs[boostDM_predictions_nonHN_nonobs['SYMBOL']==gene])\n",
    "    freq_driv = len(boostDM_predictions_nonHN_nonobs[(boostDM_predictions_nonHN_nonobs['SYMBOL']==gene) & (boostDM_predictions_nonHN_nonobs['Drivers_12genes']==1)])\n",
    "    freq_big = len(boostDM_predictions_nonHN_nonobs[(boostDM_predictions_nonHN_nonobs['SYMBOL']==gene) & (boostDM_predictions_nonHN_nonobs['Drivers_12genes']==1) &\\\n",
    "                                       (boostDM_predictions_nonHN_nonobs['VAF_alt']>=0.1)])\n",
    "    freq_small = len(boostDM_predictions_nonHN_nonobs[(boostDM_predictions_nonHN_nonobs['SYMBOL']==gene) & (boostDM_predictions_nonHN_nonobs['Drivers_12genes']==1) &\\\n",
    "                                        (boostDM_predictions_nonHN_nonobs['VAF_alt']<0.1)])\n",
    "    freq_pass = len(boostDM_predictions_nonHN_nonobs[(boostDM_predictions_nonHN_nonobs['SYMBOL']==gene) & (boostDM_predictions_nonHN_nonobs['Drivers_12genes']==0)])\n",
    "    freq_driv_uniq = len(boostDM_predictions_nonHN_nonobs[(boostDM_predictions_nonHN_nonobs['SYMBOL']==gene) & (boostDM_predictions_nonHN_nonobs['Drivers_12genes']==1)&\\\n",
    "                                                  (boostDM_predictions_nonHN_nonobs['patient'].isin(unique))])\n",
    "    freq_driv_mult = len(boostDM_predictions_nonHN_nonobs[(boostDM_predictions_nonHN_nonobs['SYMBOL']==gene) & (boostDM_predictions_nonHN_nonobs['Drivers_12genes']==1)&\\\n",
    "                                                  (boostDM_predictions_nonHN_nonobs['patient'].isin(multiple))])\n",
    "\n",
    "#     freq = len(maf_can_PASS_VAF_nonrep.groupby(['SYMBOL'])['case'].unique()[gene])\n",
    "    Mut_case.append([gene, freq, freq_driv, freq_big, freq_small, freq_pass,freq_driv_uniq, freq_driv_mult])"
   ]
  },
  {
   "cell_type": "code",
   "execution_count": 29,
   "id": "e5e008ee-81a7-409e-aefa-7ca331b67f1f",
   "metadata": {},
   "outputs": [
    {
     "data": {
      "text/html": [
       "<div>\n",
       "<style scoped>\n",
       "    .dataframe tbody tr th:only-of-type {\n",
       "        vertical-align: middle;\n",
       "    }\n",
       "\n",
       "    .dataframe tbody tr th {\n",
       "        vertical-align: top;\n",
       "    }\n",
       "\n",
       "    .dataframe thead th {\n",
       "        text-align: right;\n",
       "    }\n",
       "</style>\n",
       "<table border=\"1\" class=\"dataframe\">\n",
       "  <thead>\n",
       "    <tr style=\"text-align: right;\">\n",
       "      <th></th>\n",
       "      <th>index</th>\n",
       "      <th>Gene</th>\n",
       "      <th>Cases</th>\n",
       "      <th>Drivers</th>\n",
       "      <th>Driver_big</th>\n",
       "      <th>Driver_small</th>\n",
       "      <th>Passangers</th>\n",
       "      <th>Driver_single</th>\n",
       "      <th>Driver_multiple</th>\n",
       "    </tr>\n",
       "  </thead>\n",
       "  <tbody>\n",
       "    <tr>\n",
       "      <th>0</th>\n",
       "      <td>1</td>\n",
       "      <td>TET2</td>\n",
       "      <td>36929</td>\n",
       "      <td>6816</td>\n",
       "      <td>2026</td>\n",
       "      <td>4790</td>\n",
       "      <td>30113</td>\n",
       "      <td>5716</td>\n",
       "      <td>1100</td>\n",
       "    </tr>\n",
       "    <tr>\n",
       "      <th>1</th>\n",
       "      <td>3</td>\n",
       "      <td>ASXL1</td>\n",
       "      <td>33733</td>\n",
       "      <td>1300</td>\n",
       "      <td>104</td>\n",
       "      <td>1196</td>\n",
       "      <td>32433</td>\n",
       "      <td>1108</td>\n",
       "      <td>192</td>\n",
       "    </tr>\n",
       "    <tr>\n",
       "      <th>2</th>\n",
       "      <td>10</td>\n",
       "      <td>GNAS</td>\n",
       "      <td>19361</td>\n",
       "      <td>17</td>\n",
       "      <td>3</td>\n",
       "      <td>14</td>\n",
       "      <td>19344</td>\n",
       "      <td>15</td>\n",
       "      <td>2</td>\n",
       "    </tr>\n",
       "    <tr>\n",
       "      <th>3</th>\n",
       "      <td>2</td>\n",
       "      <td>DNMT3A</td>\n",
       "      <td>18536</td>\n",
       "      <td>5083</td>\n",
       "      <td>930</td>\n",
       "      <td>4153</td>\n",
       "      <td>13453</td>\n",
       "      <td>4384</td>\n",
       "      <td>699</td>\n",
       "    </tr>\n",
       "    <tr>\n",
       "      <th>4</th>\n",
       "      <td>6</td>\n",
       "      <td>PPM1D</td>\n",
       "      <td>12889</td>\n",
       "      <td>131</td>\n",
       "      <td>9</td>\n",
       "      <td>122</td>\n",
       "      <td>12758</td>\n",
       "      <td>113</td>\n",
       "      <td>18</td>\n",
       "    </tr>\n",
       "    <tr>\n",
       "      <th>5</th>\n",
       "      <td>7</td>\n",
       "      <td>CHEK2</td>\n",
       "      <td>9543</td>\n",
       "      <td>1396</td>\n",
       "      <td>922</td>\n",
       "      <td>474</td>\n",
       "      <td>8147</td>\n",
       "      <td>1212</td>\n",
       "      <td>184</td>\n",
       "    </tr>\n",
       "    <tr>\n",
       "      <th>6</th>\n",
       "      <td>4</td>\n",
       "      <td>SF3B1</td>\n",
       "      <td>9031</td>\n",
       "      <td>345</td>\n",
       "      <td>148</td>\n",
       "      <td>197</td>\n",
       "      <td>8686</td>\n",
       "      <td>284</td>\n",
       "      <td>61</td>\n",
       "    </tr>\n",
       "    <tr>\n",
       "      <th>7</th>\n",
       "      <td>5</td>\n",
       "      <td>TP53</td>\n",
       "      <td>7422</td>\n",
       "      <td>1333</td>\n",
       "      <td>326</td>\n",
       "      <td>1007</td>\n",
       "      <td>6089</td>\n",
       "      <td>1148</td>\n",
       "      <td>185</td>\n",
       "    </tr>\n",
       "    <tr>\n",
       "      <th>8</th>\n",
       "      <td>9</td>\n",
       "      <td>IDH2</td>\n",
       "      <td>7302</td>\n",
       "      <td>3</td>\n",
       "      <td>2</td>\n",
       "      <td>1</td>\n",
       "      <td>7299</td>\n",
       "      <td>0</td>\n",
       "      <td>3</td>\n",
       "    </tr>\n",
       "    <tr>\n",
       "      <th>9</th>\n",
       "      <td>8</td>\n",
       "      <td>MDM4</td>\n",
       "      <td>6530</td>\n",
       "      <td>62</td>\n",
       "      <td>20</td>\n",
       "      <td>42</td>\n",
       "      <td>6468</td>\n",
       "      <td>53</td>\n",
       "      <td>9</td>\n",
       "    </tr>\n",
       "    <tr>\n",
       "      <th>10</th>\n",
       "      <td>0</td>\n",
       "      <td>SRSF2</td>\n",
       "      <td>5418</td>\n",
       "      <td>130</td>\n",
       "      <td>16</td>\n",
       "      <td>114</td>\n",
       "      <td>5288</td>\n",
       "      <td>110</td>\n",
       "      <td>20</td>\n",
       "    </tr>\n",
       "    <tr>\n",
       "      <th>11</th>\n",
       "      <td>11</td>\n",
       "      <td>U2AF1</td>\n",
       "      <td>5366</td>\n",
       "      <td>287</td>\n",
       "      <td>4</td>\n",
       "      <td>283</td>\n",
       "      <td>5079</td>\n",
       "      <td>245</td>\n",
       "      <td>42</td>\n",
       "    </tr>\n",
       "  </tbody>\n",
       "</table>\n",
       "</div>"
      ],
      "text/plain": [
       "    index    Gene  Cases  Drivers  Driver_big  Driver_small  Passangers  \\\n",
       "0       1    TET2  36929     6816        2026          4790       30113   \n",
       "1       3   ASXL1  33733     1300         104          1196       32433   \n",
       "2      10    GNAS  19361       17           3            14       19344   \n",
       "3       2  DNMT3A  18536     5083         930          4153       13453   \n",
       "4       6   PPM1D  12889      131           9           122       12758   \n",
       "5       7   CHEK2   9543     1396         922           474        8147   \n",
       "6       4   SF3B1   9031      345         148           197        8686   \n",
       "7       5    TP53   7422     1333         326          1007        6089   \n",
       "8       9    IDH2   7302        3           2             1        7299   \n",
       "9       8    MDM4   6530       62          20            42        6468   \n",
       "10      0   SRSF2   5418      130          16           114        5288   \n",
       "11     11   U2AF1   5366      287           4           283        5079   \n",
       "\n",
       "    Driver_single  Driver_multiple  \n",
       "0            5716             1100  \n",
       "1            1108              192  \n",
       "2              15                2  \n",
       "3            4384              699  \n",
       "4             113               18  \n",
       "5            1212              184  \n",
       "6             284               61  \n",
       "7            1148              185  \n",
       "8               0                3  \n",
       "9              53                9  \n",
       "10            110               20  \n",
       "11            245               42  "
      ]
     },
     "execution_count": 29,
     "metadata": {},
     "output_type": "execute_result"
    }
   ],
   "source": [
    "Mut_case = pd.DataFrame(Mut_case, columns = ['Gene', 'Cases', 'Drivers', 'Driver_big', 'Driver_small', 'Passangers', 'Driver_single', 'Driver_multiple']).sort_values('Cases', ascending=False)\n",
    "Mut_case.reset_index()"
   ]
  },
  {
   "cell_type": "code",
   "execution_count": 30,
   "id": "9dadab7d-66ca-4d2a-a578-1c00c0575779",
   "metadata": {},
   "outputs": [
    {
     "data": {
      "image/png": "[encoded data removed]",
      "text/plain": [
       "<Figure size 900x600 with 1 Axes>"
      ]
     },
     "metadata": {},
     "output_type": "display_data"
    }
   ],
   "source": [
    "# importing package\n",
    "import matplotlib.pyplot as plt\n",
    "plt.figure(figsize=(3, 2), dpi=300)\n",
    "    \n",
    "# create data\n",
    "x = Mut_case.sort_values('Drivers', ascending=False)['Gene']\n",
    "y2 = Mut_case.sort_values('Drivers', ascending=False)['Drivers']\n",
    " \n",
    "# plot bars in stack manner\n",
    "plt.bar(x, y2, color='tab:red')\n",
    "plt.yticks(fontsize=5)\n",
    "plt.xticks(rotation=90,fontsize=5)\n",
    "plt.show()"
   ]
  },
  {
   "cell_type": "markdown",
   "id": "f1c0a5d9-baf8-4a9c-a319-8fa3c0a724ea",
   "metadata": {},
   "source": [
    "## Include observed info to matrix"
   ]
  },
  {
   "cell_type": "code",
   "execution_count": 31,
   "id": "e456751c-5ec8-4f94-9793-ba069bce3780",
   "metadata": {
    "tags": []
   },
   "outputs": [
    {
     "data": {
      "text/plain": [
       "441682"
      ]
     },
     "execution_count": 31,
     "metadata": {},
     "output_type": "execute_result"
    }
   ],
   "source": [
    "observed_patients = boostDM_predictions_nonHN[boostDM_predictions_nonHN['ID_mut'].isin(Observed_mut['ID_mut'].tolist())]['patient'].tolist()\n",
    "ukb200K_ch_cancer_nonobs = ukb200K_ch_cancer[~ukb200K_ch_cancer['patient'].isin(observed_patients)]\n",
    "len(ukb200K_ch_cancer_nonobs)"
   ]
  },
  {
   "cell_type": "code",
   "execution_count": 32,
   "id": "f13347f9-e19e-4958-888a-47ae32690aa9",
   "metadata": {
    "tags": []
   },
   "outputs": [
    {
     "data": {
      "text/plain": [
       "0    86152\n",
       "1     9593\n",
       "Name: CH_driver, dtype: int64"
      ]
     },
     "execution_count": 32,
     "metadata": {},
     "output_type": "execute_result"
    }
   ],
   "source": [
    "ukb200K_ch_cancer_nonobs[ukb200K_ch_cancer_nonobs['num_CH_potential']==1]['CH_driver'].value_counts()"
   ]
  },
  {
   "cell_type": "markdown",
   "id": "2caec074-6cd0-4f31-8edb-9cdbedd3c987",
   "metadata": {},
   "source": [
    "## 2- Age associations"
   ]
  },
  {
   "cell_type": "markdown",
   "id": "983515bb-afe5-4074-a9c8-e7438a6747db",
   "metadata": {},
   "source": [
    "### Age all togather"
   ]
  },
  {
   "cell_type": "code",
   "execution_count": 33,
   "id": "f3ea6389-a1ec-4044-bdc4-55eac002a2e6",
   "metadata": {},
   "outputs": [
    {
     "data": {
      "text/plain": [
       "439004"
      ]
     },
     "execution_count": 33,
     "metadata": {},
     "output_type": "execute_result"
    }
   ],
   "source": [
    "ukb200K_ch_cancer_logistic = ukb200K_ch_cancer_nonobs[ukb200K_ch_cancer_nonobs['var_HNALL_pre']==0]\n",
    "len(ukb200K_ch_cancer_logistic)"
   ]
  },
  {
   "cell_type": "code",
   "execution_count": 34,
   "id": "fa035083-4f55-4039-8d50-e3cdce690352",
   "metadata": {
    "tags": []
   },
   "outputs": [
    {
     "data": {
      "text/plain": [
       "0    85643\n",
       "1     9350\n",
       "Name: CH_driver, dtype: int64"
      ]
     },
     "execution_count": 34,
     "metadata": {},
     "output_type": "execute_result"
    }
   ],
   "source": [
    "ukb200K_ch_cancer_logistic[ukb200K_ch_cancer_logistic['num_CH_potential']==1]['CH_driver'].value_counts()"
   ]
  },
  {
   "cell_type": "code",
   "execution_count": 35,
   "id": "e4d600ea-00f4-4320-a281-cad0719a0c5b",
   "metadata": {},
   "outputs": [
    {
     "data": {
      "text/plain": [
       "age_group_x\n",
       "38-45     58136\n",
       "46-50     60524\n",
       "51-55     69900\n",
       "56-60     85794\n",
       "61-65    102493\n",
       "66-72     62157\n",
       "dtype: int64"
      ]
     },
     "execution_count": 35,
     "metadata": {},
     "output_type": "execute_result"
    }
   ],
   "source": [
    "ukb200K_ch_cancer_logistic.groupby('age_group_x').size()"
   ]
  },
  {
   "cell_type": "code",
   "execution_count": 36,
   "id": "1b87187e-a3cd-4660-9e45-44e2cbbb04f2",
   "metadata": {},
   "outputs": [
    {
     "name": "stdout",
     "output_type": "stream",
     "text": [
      "['38-45', '46-50', '51-55', '56-60', '61-65', '66-72']\n",
      "[58136, 60524, 69900, 85794, 102493, 62157]\n",
      "439004\n"
     ]
    }
   ],
   "source": [
    "age_groups = ['38-45', '46-50', '51-55', '56-60', '61-65', '66-72']; print(age_groups)\n",
    "agegroups_all = [58136, 60524, 69900, 85794, 102493, 62157]; print(agegroups_all)\n",
    "print(sum(agegroups_all))\n",
    "\n",
    "### Get number of patients per age group\n",
    "agegroups_all_group = ukb200K_ch_cancer_logistic.groupby('age_group_x').size()\n",
    "agegroups_all_group\n",
    "\n",
    "# CH by BosstDM-CH prediction\n",
    "\n",
    "def prop_CH_model(data, model, normalize=False, printprop=False):\n",
    "    agegroup_set = data[data[model] == 1].groupby('age_group_x').size()\n",
    "\n",
    "    merged = pd.merge(agegroup_set.to_frame(), agegroups_all_group.to_frame(),left_index=True, right_index=True)\n",
    "    prop_CH = round(merged.apply(lambda x: x['0_x'] / x['0_y'] * 100, axis=1), 4)\n",
    "    \n",
    "    if normalize == True:\n",
    "        prop_CH = prop_CH.apply(lambda x: x / prop_CH[0])\n",
    "    if printprop == True:\n",
    "        print(prop_CH)\n",
    "    return prop_CH\n"
   ]
  },
  {
   "cell_type": "code",
   "execution_count": 39,
   "id": "d7ef40cd-513e-41df-b90a-148d949ecf88",
   "metadata": {},
   "outputs": [
    {
     "data": {
      "image/png": "[encoded data removed]",
      "text/plain": [
       "<Figure size 900x750 with 1 Axes>"
      ]
     },
     "metadata": {},
     "output_type": "display_data"
    }
   ],
   "source": [
    "import matplotlib \n",
    "matplotlib.rcParams.update({'font.size': 6})\n",
    "fig, ax = plt.subplots(nrows=1, sharex=True, sharey=True, figsize=(3,2.5), dpi=300)\n",
    "\n",
    "patient_age_ch_driver = ukb200K_ch_cancer_logistic[ukb200K_ch_cancer_logistic['CH_nonDriver']==0]\n",
    "patient_age_ch_passengers = ukb200K_ch_cancer_logistic[ukb200K_ch_cancer_logistic['CH_driver']==0]\n",
    "\n",
    "agecorr_drivers = prop_CH_model(patient_age_ch_driver, 'CH_driver', normalize=True)\n",
    "agecorr_pass = prop_CH_model(patient_age_ch_passengers, 'CH_nonDriver', normalize=True)\n",
    "\n",
    "plt.plot(agecorr_drivers, '.-', linewidth=2, color='#D62728')\n",
    "plt.plot(agecorr_pass, '.-', linewidth=2, color='grey')\n",
    "\n",
    "plt.title('CH among age', fontsize = 8)\n",
    "plt.xlabel('Age group',size=8)\n",
    "plt.ylabel('Fold increase of cases with CH cases', fontsize=6)\n",
    "plt.ylim([0.8,2])\n",
    "plt.xticks(np.arange(6), age_groups, size=6)\n",
    "plt.yticks(fontsize=8)\n",
    "plt.xticks(fontsize=8)\n",
    "for axis in ['top', 'bottom', 'left', 'right']:\n",
    "    ax.spines[axis].set_linewidth(0.5)  # change width"
   ]
  },
  {
   "cell_type": "code",
   "execution_count": 40,
   "id": "b982b81b-e0db-4537-8ad4-f4a4ff55e9f9",
   "metadata": {},
   "outputs": [
    {
     "name": "stderr",
     "output_type": "stream",
     "text": [
      "/tmp/jobs/jramis/9759392/ipykernel_10145/1265201215.py:3: SettingWithCopyWarning: \n",
      "A value is trying to be set on a copy of a slice from a DataFrame\n",
      "\n",
      "See the caveats in the documentation: https://pandas.pydata.org/pandas-docs/stable/user_guide/indexing.html#returning-a-view-versus-a-copy\n",
      "  ukb200K_ch_cancer_logistic.rename(columns={'CH_passengers':'CH_nonDriver'}, inplace=True)\n"
     ]
    },
    {
     "data": {
      "text/plain": [
       "439004"
      ]
     },
     "execution_count": 40,
     "metadata": {},
     "output_type": "execute_result"
    }
   ],
   "source": [
    "#Remove cases with prior hemathological\n",
    "ukb200K_ch_cancer_logistic = ukb200K_ch_cancer_nonobs[ukb200K_ch_cancer_nonobs['var_HNALL_pre']==0]\n",
    "ukb200K_ch_cancer_logistic.rename(columns={'CH_passengers':'CH_nonDriver'}, inplace=True)\n",
    "len(ukb200K_ch_cancer_logistic)"
   ]
  },
  {
   "cell_type": "code",
   "execution_count": 41,
   "id": "7e4a28e1-1e19-4e9a-9bfc-1f788d080306",
   "metadata": {},
   "outputs": [
    {
     "name": "stdout",
     "output_type": "stream",
     "text": [
      "Optimization terminated successfully.\n",
      "         Current function value: 0.131150\n",
      "         Iterations 8\n",
      "Optimization terminated successfully.\n",
      "         Current function value: 0.005676\n",
      "         Iterations 12\n",
      "Optimization terminated successfully.\n",
      "         Current function value: 0.048292\n",
      "         Iterations 9\n",
      "Optimization terminated successfully.\n",
      "         Current function value: 0.100866\n",
      "         Iterations 8\n",
      "Optimization terminated successfully.\n",
      "         Current function value: 0.558677\n",
      "         Iterations 5\n",
      "Optimization terminated successfully.\n",
      "         Current function value: 0.584927\n",
      "         Iterations 5\n"
     ]
    },
    {
     "data": {
      "text/html": [
       "<div>\n",
       "<style scoped>\n",
       "    .dataframe tbody tr th:only-of-type {\n",
       "        vertical-align: middle;\n",
       "    }\n",
       "\n",
       "    .dataframe tbody tr th {\n",
       "        vertical-align: top;\n",
       "    }\n",
       "\n",
       "    .dataframe thead th {\n",
       "        text-align: right;\n",
       "    }\n",
       "</style>\n",
       "<table border=\"1\" class=\"dataframe\">\n",
       "  <thead>\n",
       "    <tr style=\"text-align: right;\">\n",
       "      <th></th>\n",
       "      <th>gene</th>\n",
       "      <th>OR</th>\n",
       "      <th>Lower CI</th>\n",
       "      <th>Upper CI</th>\n",
       "      <th>pval</th>\n",
       "      <th>sig</th>\n",
       "      <th>q_value</th>\n",
       "    </tr>\n",
       "  </thead>\n",
       "  <tbody>\n",
       "    <tr>\n",
       "      <th>0</th>\n",
       "      <td>CH_driver</td>\n",
       "      <td>1.023721</td>\n",
       "      <td>1.021037</td>\n",
       "      <td>1.026411</td>\n",
       "      <td>1.288460e-68</td>\n",
       "      <td>significant</td>\n",
       "      <td>7.730759e-68</td>\n",
       "    </tr>\n",
       "    <tr>\n",
       "      <th>1</th>\n",
       "      <td>CH_driver_multiple</td>\n",
       "      <td>1.043887</td>\n",
       "      <td>1.025457</td>\n",
       "      <td>1.062649</td>\n",
       "      <td>2.291284e-06</td>\n",
       "      <td>significant</td>\n",
       "      <td>2.749541e-06</td>\n",
       "    </tr>\n",
       "    <tr>\n",
       "      <th>2</th>\n",
       "      <td>CH_driver_big</td>\n",
       "      <td>1.028911</td>\n",
       "      <td>1.023864</td>\n",
       "      <td>1.033983</td>\n",
       "      <td>6.575667e-30</td>\n",
       "      <td>significant</td>\n",
       "      <td>1.315133e-29</td>\n",
       "    </tr>\n",
       "    <tr>\n",
       "      <th>3</th>\n",
       "      <td>CH_driver_small</td>\n",
       "      <td>1.021249</td>\n",
       "      <td>1.018093</td>\n",
       "      <td>1.024415</td>\n",
       "      <td>1.901541e-40</td>\n",
       "      <td>significant</td>\n",
       "      <td>5.704623e-40</td>\n",
       "    </tr>\n",
       "    <tr>\n",
       "      <th>4</th>\n",
       "      <td>CH_nonDriver</td>\n",
       "      <td>1.001012</td>\n",
       "      <td>1.000141</td>\n",
       "      <td>1.001883</td>\n",
       "      <td>2.277906e-02</td>\n",
       "      <td>significant</td>\n",
       "      <td>2.277906e-02</td>\n",
       "    </tr>\n",
       "    <tr>\n",
       "      <th>5</th>\n",
       "      <td>CH_potential</td>\n",
       "      <td>1.003391</td>\n",
       "      <td>1.002558</td>\n",
       "      <td>1.004224</td>\n",
       "      <td>1.367408e-15</td>\n",
       "      <td>significant</td>\n",
       "      <td>2.051113e-15</td>\n",
       "    </tr>\n",
       "  </tbody>\n",
       "</table>\n",
       "</div>"
      ],
      "text/plain": [
       "                 gene        OR  Lower CI  Upper CI          pval  \\\n",
       "0           CH_driver  1.023721  1.021037  1.026411  1.288460e-68   \n",
       "1  CH_driver_multiple  1.043887  1.025457  1.062649  2.291284e-06   \n",
       "2       CH_driver_big  1.028911  1.023864  1.033983  6.575667e-30   \n",
       "3     CH_driver_small  1.021249  1.018093  1.024415  1.901541e-40   \n",
       "4        CH_nonDriver  1.001012  1.000141  1.001883  2.277906e-02   \n",
       "5        CH_potential  1.003391  1.002558  1.004224  1.367408e-15   \n",
       "\n",
       "           sig       q_value  \n",
       "0  significant  7.730759e-68  \n",
       "1  significant  2.749541e-06  \n",
       "2  significant  1.315133e-29  \n",
       "3  significant  5.704623e-40  \n",
       "4  significant  2.277906e-02  \n",
       "5  significant  2.051113e-15  "
      ]
     },
     "execution_count": 41,
     "metadata": {},
     "output_type": "execute_result"
    }
   ],
   "source": [
    "#perform logistic regression separetly\n",
    "import statsmodels.formula.api as smf\n",
    "import statsmodels.stats.multitest as mtc\n",
    "    \n",
    "#we have exclude pre hematological cases\n",
    "CH_driver_multiple_matrix = ukb200K_ch_cancer_logistic[((ukb200K_ch_cancer_logistic['CH_nonDriver']==0) & (ukb200K_ch_cancer_logistic['CH_driver_multiple']==1)) | (ukb200K_ch_cancer_logistic['CH_potential'] == 0)]\n",
    "CH_driver_matrix = ukb200K_ch_cancer_logistic[ukb200K_ch_cancer_logistic['CH_nonDriver']==0]\n",
    "CH_driver_big_matrix = CH_driver_matrix[CH_driver_matrix['CH_driver_small']==0]\n",
    "CH_driver_small_matrix = CH_driver_matrix[CH_driver_matrix['CH_driver_big']==0]\n",
    "CH_passengers_matrix = ukb200K_ch_cancer_logistic[ukb200K_ch_cancer_logistic['CH_driver']==0]\n",
    "\n",
    "\n",
    "name = []\n",
    "OR = []\n",
    "cilow = []\n",
    "ciup = []\n",
    "pval = []\n",
    "sig = []\n",
    "    \n",
    "#run model\n",
    "for gene in ['CH_driver', 'CH_driver_multiple',  'CH_driver_big',  'CH_driver_small', 'CH_nonDriver', 'CH_potential']:\n",
    "    if gene.endswith(('multiple')):\n",
    "        model_hematopost = smf.logit(formula= gene+' ~ 1 + age_recruitment_x + sex + PC1 + PC2 + PC3 + PC4 + PC5 + PC6 + PC7 + PC8 + PC9 + PC10', data=CH_driver_multiple_matrix).fit()\n",
    "    elif gene.endswith(('_driver')):\n",
    "        model_hematopost = smf.logit(formula= gene+' ~ 1 + age_recruitment_x + sex + PC1 + PC2 + PC3 + PC4 + PC5 + PC6 + PC7 + PC8 + PC9 + PC10', data=CH_driver_matrix).fit()\n",
    "    elif gene.endswith('big'):\n",
    "        model_hematopost = smf.logit(formula= gene+' ~ 1 + age_recruitment_x + sex + PC1 + PC2 + PC3 + PC4 + PC5 + PC6 + PC7 + PC8 + PC9 + PC10', data=CH_driver_big_matrix).fit()\n",
    "    elif gene.endswith('small'):\n",
    "        model_hematopost = smf.logit(formula= gene+' ~ 1 + age_recruitment_x + sex + PC1 + PC2 + PC3 + PC4 + PC5 + PC6 + PC7 + PC8 + PC9 + PC10', data=CH_driver_small_matrix).fit() \n",
    "    elif gene.endswith('nonDriver'):\n",
    "        model_hematopost = smf.logit(formula= gene+' ~ 1 + age_recruitment_x + sex + PC1 + PC2 + PC3 + PC4 + PC5 + PC6 + PC7 + PC8 + PC9 + PC10', data=CH_passengers_matrix).fit()\n",
    "    else:\n",
    "        model_hematopost = smf.logit(formula= gene+' ~ 1 + age_recruitment_x + sex + PC1 + PC2 + PC3 + PC4 + PC5 + PC6 + PC7 + PC8 + PC9 + PC10', data=ukb200K_ch_cancer_logistic).fit()\n",
    "    name.append(gene)\n",
    "    OR.append(np.exp(model_hematopost.params[1]))\n",
    "    cilow.append(np.exp(model_hematopost.conf_int().iloc[1,0]))\n",
    "    ciup.append(np.exp(model_hematopost.conf_int().iloc[1,1]))\n",
    "    pval.append(model_hematopost.pvalues[1])\n",
    "    sig.append('significant' if model_hematopost.pvalues[1] <= 0.05 else 'not significant')\n",
    "varlist = pd.DataFrame(list(zip(name, OR, cilow, ciup, pval, sig)), columns = ['gene','OR', 'Lower CI', 'Upper CI', 'pval', 'sig'])\n",
    "varlist[\"q_value\"] = mtc.fdrcorrection(pd.to_numeric(varlist['pval']))[1]\n",
    "varlist['sig'] = ['significant' if qval <= 0.05 else 'ns' for qval in varlist.q_value]\n",
    "varlist"
   ]
  },
  {
   "cell_type": "code",
   "execution_count": 42,
   "id": "2cdd382c-7ecd-4949-bcca-ed42c4e7241f",
   "metadata": {},
   "outputs": [
    {
     "name": "stderr",
     "output_type": "stream",
     "text": [
      "/tmp/jobs/jramis/9759392/ipykernel_10145/3980145984.py:42: UserWarning: Tight layout not applied. The left and right margins cannot be made large enough to accommodate all axes decorations.\n",
      "  plt.tight_layout()\n"
     ]
    },
    {
     "data": {
      "image/png": "[encoded data removed]",
      "text/plain": [
       "<Figure size 510x270 with 1 Axes>"
      ]
     },
     "metadata": {},
     "output_type": "display_data"
    }
   ],
   "source": [
    "fig, ax = plt.subplots(nrows=1, sharex=True, sharey=True, figsize=(1.7, 0.9), dpi=300)\n",
    "xlimit = 1.125\n",
    "ylimit = len(varlist)-1\n",
    "\n",
    "for idx, row in varlist.iloc[::-1].iterrows():\n",
    "    ci = [[row['OR'] - row['Lower CI']], [row['Upper CI'] - row['OR']]]\n",
    "    if row['gene'].endswith('_driver'):\n",
    "        plt.errorbar(x=[row['OR']], y=['Driver'], xerr=ci,\n",
    "                 ecolor='#D62728', capsize=3, linestyle='None', linewidth=1, marker=\"o\", \n",
    "                 markersize=5, mfc=\"#D62728\", mec=\"#D62728\")\n",
    "    elif 'non' in row['gene']:\n",
    "        plt.errorbar(x=[row['OR']], y=['Non-driver'], xerr=ci,\n",
    "                 ecolor='tab:grey', capsize=3, linestyle='None', linewidth=1, marker=\"o\", \n",
    "                 markersize=5, mfc=\"tab:grey\", mec=\"tab:grey\")\n",
    "    elif 'pot' in row['gene']:\n",
    "        plt.errorbar(x=[row['OR']], y=['Potential mutation'], xerr=ci,\n",
    "                 ecolor='k', capsize=3, linestyle='None', linewidth=1, marker=\"o\", \n",
    "                 markersize=5, mfc=\"k\", mec=\"k\")\n",
    "    elif 'small' in row['gene']:\n",
    "        plt.errorbar(x=[row['OR']], y=['Driver small'], xerr=ci,\n",
    "                 ecolor='#EF6161', capsize=3, linestyle='None', linewidth=1, marker=\"o\", \n",
    "                 markersize=5, mfc=\"#EF6161\", mec=\"#EF6161\")\n",
    "    elif 'big' in row['gene']:\n",
    "        plt.errorbar(x=[row['OR']], y=['Driver large'], xerr=ci,\n",
    "                 ecolor='#990707', capsize=3, linestyle='None', linewidth=1, marker=\"o\", \n",
    "                 markersize=5, mfc=\"#990707\", mec=\"#990707\")\n",
    "    elif row['gene'].endswith('multiple'):\n",
    "        plt.errorbar(x=[row['OR']], y=['Multiple driver'], xerr=ci,\n",
    "                 ecolor='#52000F', capsize=3, linestyle='None', linewidth=1, marker=\"o\", \n",
    "                 markersize=5, mfc=\"#52000F\", mec=\"#52000F\")\n",
    "            \n",
    "    if row['sig'] == 'significant':\n",
    "        plt.axvline(x=1, linewidth=0.8, linestyle='--', color='black')\n",
    "        ax.text(xlimit+0.005, ylimit-idx-0.5, '*', style='italic', fontsize=6)\n",
    "    else:\n",
    "        plt.axvline(x=1, linewidth=0.8, linestyle='--', color='black')\n",
    "        ax.text(xlimit+0.005, ylimit-idx-0.5, 'ns', style='italic', fontsize=6)\n",
    "\n",
    "        plt.tick_params(axis='both', which='major', labelsize=8)\n",
    "plt.xlabel('Odds Ratio and 95% Confidence Interval', fontsize=8)\n",
    "ax.set_title('Age associations', fontdict={'size':8})\n",
    "plt.tight_layout()\n",
    "plt.xlim([0.975, xlimit])\n",
    "ax.set_ylim(-.5, ylimit+.5)\n",
    "plt.yticks(fontsize=6)\n",
    "plt.xticks([1, 1.05, 1.1], fontsize=6)\n",
    "for axis in ['top', 'bottom', 'left', 'right']:\n",
    "    ax.spines[axis].set_linewidth(0.5)  # change width\n",
    "\n",
    "plt.show()"
   ]
  },
  {
   "cell_type": "code",
   "execution_count": null,
   "id": "61251467-69ef-48bc-8b1a-7c14d3c777ee",
   "metadata": {},
   "outputs": [],
   "source": []
  },
  {
   "cell_type": "code",
   "execution_count": null,
   "id": "0f4cbf0f-3d67-401b-9403-e982f0e2f566",
   "metadata": {},
   "outputs": [],
   "source": []
  }
 ],
 "metadata": {
  "kernelspec": {
   "display_name": "Python 3 (ipykernel)",
   "language": "python",
   "name": "python3"
  },
  "language_info": {
   "codemirror_mode": {
    "name": "ipython",
    "version": 3
   },
   "file_extension": ".py",
   "mimetype": "text/x-python",
   "name": "python",
   "nbconvert_exporter": "python",
   "pygments_lexer": "ipython3",
   "version": "3.9.7"
  }
 },
 "nbformat": 4,
 "nbformat_minor": 5
}
