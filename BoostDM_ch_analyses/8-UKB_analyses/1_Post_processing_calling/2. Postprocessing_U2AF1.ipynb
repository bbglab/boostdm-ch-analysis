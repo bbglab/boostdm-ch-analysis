{
 "cells": [
  {
   "cell_type": "markdown",
   "id": "ac4b8c38-e9f0-41a5-a714-6d67dcf42f36",
   "metadata": {},
   "source": [
    "# U2AF1 mutaitons merging and post processing"
   ]
  },
  {
   "cell_type": "code",
   "execution_count": 2,
   "id": "9a9f9310-ca26-4231-92ff-abb2c22a4040",
   "metadata": {},
   "outputs": [],
   "source": [
    "import pandas as pd\n",
    "import gzip\n",
    "import os\n",
    "from io import StringIO\n",
    "import matplotlib.pyplot as plt\n",
    "from collections import Counter\n",
    "import tqdm\n",
    "import seaborn as sns\n",
    "import numpy as np"
   ]
  },
  {
   "cell_type": "markdown",
   "id": "65148663-852e-40b3-8b52-cd926298324e",
   "metadata": {},
   "source": [
    "## 1. Merge files"
   ]
  },
  {
   "cell_type": "code",
   "execution_count": null,
   "id": "e269cba6-1c65-41c5-b87a-29212c0fb20f",
   "metadata": {},
   "outputs": [],
   "source": [
    "# List files in directory\n",
    "files = os.listdir('/mnt/project/analysis/output/U2AF1/')\n",
    "files = [file for file in files if file.endswith('output')]\n",
    "\n",
    "len(files)\n",
    "files"
   ]
  },
  {
   "cell_type": "code",
   "execution_count": 3,
   "id": "1bb6a8ca-fae2-402d-825a-5c83929f142a",
   "metadata": {},
   "outputs": [
    {
     "name": "stdout",
     "output_type": "stream",
     "text": [
      "137790\n",
      "124974\n"
     ]
    },
    {
     "data": {
      "text/plain": [
       "249676"
      ]
     },
     "execution_count": 3,
     "metadata": {},
     "output_type": "execute_result"
    }
   ],
   "source": [
    "off_target = ['intron_variant', 'synonymous_variant', '5_prime_UTR_variant', '3_prime_UTR_variant', 'upstream_gene_variant', 'downstream_gene_variant']\n",
    "\n",
    "Mutect2_tar_var = pd.read_csv('/mnt/project/analysis/output/U2AF1/U2AF1_wnode1.output',sep=\"\\t\")\n",
    "print(len(Mutect2_tar_var))\n",
    "Mutect2_tar_var = Mutect2_tar_var[~Mutect2_tar_var['Consequence'].isin(off_target)]\n",
    "print(len(Mutect2_tar_var))\n",
    "\n",
    "\n",
    "files = ['U2AF1_wnode2.output']\n",
    "\n",
    "Mutect2_tar_var_df = pd.read_csv('/mnt/project/analysis/output/U2AF1/U2AF1_wnode2.output',sep=\"\\t\")\n",
    "Mutect2_tar_var_df = Mutect2_tar_var_df[~Mutect2_tar_var_df['Consequence'].isin(off_target)]\n",
    "\n",
    "Mutect2_tar_var = pd.concat([Mutect2_tar_var, Mutect2_tar_var_df], ignore_index=True)\n",
    "len(Mutect2_tar_var)"
   ]
  },
  {
   "cell_type": "code",
   "execution_count": 4,
   "id": "fd00caf9-eba5-464f-b012-fca854f84113",
   "metadata": {},
   "outputs": [
    {
     "data": {
      "text/plain": [
       "216531"
      ]
     },
     "execution_count": 4,
     "metadata": {},
     "output_type": "execute_result"
    }
   ],
   "source": [
    "Mutect2_tar_var['case'] = [x.split('/')[-1].split('_')[0] for x in list(Mutect2_tar_var['name_file'])]\n",
    "len(set(Mutect2_tar_var['case']))"
   ]
  },
  {
   "cell_type": "markdown",
   "id": "770c7433-9bb0-4129-b2da-d502ee29d189",
   "metadata": {},
   "source": [
    "## 2. Remove cases with empty mutaitons"
   ]
  },
  {
   "cell_type": "code",
   "execution_count": 5,
   "id": "e5324eda-029e-4bef-aae3-8451629a2866",
   "metadata": {},
   "outputs": [
    {
     "data": {
      "text/plain": [
       "249588"
      ]
     },
     "execution_count": 5,
     "metadata": {},
     "output_type": "execute_result"
    }
   ],
   "source": [
    "#Cases without mutations are annotated as headers..!!!!\n",
    "Mutect2_tar_var = Mutect2_tar_var[Mutect2_tar_var['Consequence']!= 'Consequence']\n",
    "Mutect2_tar_var = Mutect2_tar_var[Mutect2_tar_var['gnomAD_AF']!= 'gnomAD_AF']\n",
    "len(Mutect2_tar_var)"
   ]
  },
  {
   "cell_type": "code",
   "execution_count": 6,
   "id": "afb12eea-e2af-49fb-a407-234babd8f37c",
   "metadata": {},
   "outputs": [
    {
     "data": {
      "text/plain": [
       "0    63\n",
       "Name: EUR_AF, dtype: int64"
      ]
     },
     "execution_count": 6,
     "metadata": {},
     "output_type": "execute_result"
    }
   ],
   "source": [
    "# No germline included in 1000Genomes\n",
    "Mutect2_tar_var.EUR_AF.value_counts()"
   ]
  },
  {
   "cell_type": "code",
   "execution_count": 7,
   "id": "53530def-8231-463b-bc68-edd68b15e18f",
   "metadata": {},
   "outputs": [
    {
     "data": {
      "text/plain": [
       "Index(['name_file', '#CHROM', 'POS', 'ID', 'REF', 'ALT', 'QUAL', 'FILTER',\n",
       "       'VEP', 'AD_alt', 'DP', 'VAF_alt', 'ADF_alt', 'ADR_alt', 'VEP_cano',\n",
       "       'Consequence', 'IMPACT', 'SYMBOL', 'ENST', 'CDS_pos', 'Prot_pos',\n",
       "       'AA_change', 'rs_ID', 'ENSP', 'EUR_AF', 'gnomAD_AF', 'gnomAD_AF_NFE',\n",
       "       'case'],\n",
       "      dtype='object')"
      ]
     },
     "execution_count": 7,
     "metadata": {},
     "output_type": "execute_result"
    }
   ],
   "source": [
    "Mutect2_tar_var = Mutect2_tar_var.rename(columns={'#CHROM_x': '#CHROM', 'POS_x': 'POS', 'ID_x':'ID', 'REF_x':'REF', 'QUAL_x': 'QUAL', 'FILTER_x': 'FILTER'})\n",
    "Mutect2_tar_var.columns"
   ]
  },
  {
   "cell_type": "code",
   "execution_count": 1,
   "id": "6c64e349-0b5b-4c4c-8c22-7efe6bf9f911",
   "metadata": {},
   "outputs": [],
   "source": [
    "# Replace germline info: NaN for 0\n",
    "Mutect2_tar_var[Mutect2_tar_var['gnomAD_AF'].replace(np.nan, 0).astype(float)>0]"
   ]
  },
  {
   "cell_type": "markdown",
   "id": "8c03969d-01bb-404f-b2f1-fce00eae53a0",
   "metadata": {},
   "source": [
    "## 3. Remove germline"
   ]
  },
  {
   "cell_type": "code",
   "execution_count": 11,
   "id": "a7530232-6eae-4a19-8e32-2079cbc3eb17",
   "metadata": {},
   "outputs": [
    {
     "name": "stdout",
     "output_type": "stream",
     "text": [
      "249588\n",
      "0\n",
      "249588\n"
     ]
    }
   ],
   "source": [
    "# Perform germline filtering\n",
    "\n",
    "print(len(Mutect2_tar_var))\n",
    "Mutect2_tar_var['gnomAD_AF'] = Mutect2_tar_var['gnomAD_AF'].replace(' ', 0).astype(float)\n",
    "Mutect2_tar_var['gnomAD_AF_NFE'] = Mutect2_tar_var['gnomAD_AF_NFE'].replace(' ', 0).astype(float)\n",
    "Mutect2_tar_var['EUR_AF'] = Mutect2_tar_var['EUR_AF'].replace(' ', 0).astype(float)\n",
    "Mutect2_tar_var['gnomAD_AF'] = Mutect2_tar_var['gnomAD_AF'].replace(np.nan, 0).astype(float)\n",
    "Mutect2_tar_var['gnomAD_AF_NFE'] = Mutect2_tar_var['gnomAD_AF_NFE'].replace(np.nan, 0).astype(float)\n",
    "Mutect2_tar_var['EUR_AF'] = Mutect2_tar_var['EUR_AF'].replace(np.nan, 0).astype(float)\n",
    "\n",
    "maf_can_VAF_SNP = Mutect2_tar_var[(Mutect2_tar_var['gnomAD_AF']>=0.001) |\\\n",
    "                                     (Mutect2_tar_var['gnomAD_AF_NFE']>=0.001) |\\\n",
    "                                     (Mutect2_tar_var['EUR_AF']>=0.001)]\n",
    "print(len(maf_can_VAF_SNP))\n",
    "# maf_VAF.drop(maf_can_VAF_SNP.index.values.tolist(), axis=0)\n",
    "maf_can_VAF_SNV = Mutect2_tar_var[(Mutect2_tar_var['gnomAD_AF']<=0.001) &\\\n",
    "                                     (Mutect2_tar_var['gnomAD_AF_NFE']<=0.001) &\\\n",
    "                                     (Mutect2_tar_var['EUR_AF']<=0.001)]\n",
    "print(len(maf_can_VAF_SNV))"
   ]
  },
  {
   "cell_type": "code",
   "execution_count": 12,
   "id": "503683d5-b9e4-4ad4-820f-17c9e71e9daa",
   "metadata": {},
   "outputs": [
    {
     "data": {
      "text/plain": [
       "missense_variant                            249043\n",
       "stop_gained                                    402\n",
       "missense_variant&splice_region_variant         114\n",
       "splice_region_variant&synonymous_variant        17\n",
       "stop_lost                                        7\n",
       "start_lost                                       3\n",
       "stop_retained_variant                            2\n",
       "Name: Consequence, dtype: int64"
      ]
     },
     "execution_count": 12,
     "metadata": {},
     "output_type": "execute_result"
    }
   ],
   "source": [
    "maf_can_VAF_SNV.Consequence.value_counts()"
   ]
  },
  {
   "cell_type": "code",
   "execution_count": 13,
   "id": "39394bd5-1aa6-475d-b343-2fa9933b4b43",
   "metadata": {},
   "outputs": [],
   "source": [
    "maf_can_VAF_SNV = maf_can_VAF_SNV.astype({'VAF_alt': float}) \n",
    "maf_can_VAF_SNP = maf_can_VAF_SNP.astype({'VAF_alt': float}) "
   ]
  },
  {
   "cell_type": "code",
   "execution_count": 14,
   "id": "890886e5-6055-4b97-b20a-be953614edfb",
   "metadata": {},
   "outputs": [
    {
     "data": {
      "image/png": "[encoded data removed]",
      "text/plain": [
       "<Figure size 1000x700 with 1 Axes>"
      ]
     },
     "metadata": {},
     "output_type": "display_data"
    },
    {
     "data": {
      "text/plain": [
       "count    249588.000000\n",
       "mean          0.067235\n",
       "std           0.030136\n",
       "min           0.011628\n",
       "25%           0.047619\n",
       "50%           0.061224\n",
       "75%           0.080000\n",
       "max           0.708333\n",
       "Name: VAF_alt, dtype: float64"
      ]
     },
     "execution_count": 14,
     "metadata": {},
     "output_type": "execute_result"
    }
   ],
   "source": [
    "# Number of VAF variants per case\n",
    "plt.figure(figsize=(10, 7))\n",
    "plt.hist(maf_can_VAF_SNV['VAF_alt'],70)\n",
    "plt.ylabel('Number of variants')\n",
    "plt.xlabel('VAF alteration')\n",
    "plt.show()\n",
    "maf_can_VAF_SNV['VAF_alt'].describe()"
   ]
  },
  {
   "cell_type": "code",
   "execution_count": 15,
   "id": "1f24a1eb-d3dc-47f3-a25c-19789df140a0",
   "metadata": {},
   "outputs": [],
   "source": [
    "maf_can_VAF_SNV = maf_can_VAF_SNV.astype({'POS': str, '#CHROM': str, 'REF': str, 'ALT': str, 'case': str}) \n",
    "maf_can_VAF_SNV['rep'] = maf_can_VAF_SNV['#CHROM']+':'+maf_can_VAF_SNV['POS']+','+maf_can_VAF_SNV['REF']+'/'+maf_can_VAF_SNV['ALT']\n",
    "maf_can_VAF_SNV['rep2'] = maf_can_VAF_SNV['#CHROM']+':'+maf_can_VAF_SNV['POS']+','+maf_can_VAF_SNV['REF']+'/'+maf_can_VAF_SNV['ALT']+'-'+maf_can_VAF_SNV['case']  "
   ]
  },
  {
   "cell_type": "markdown",
   "id": "84c65aa5-8875-460c-ab74-f77492f235b8",
   "metadata": {},
   "source": [
    "## 4. Remove pol of normals"
   ]
  },
  {
   "cell_type": "code",
   "execution_count": 3,
   "id": "f842eadb-74ac-4481-80b3-9a95fa5a8bba",
   "metadata": {},
   "outputs": [
    {
     "data": {
      "text/plain": [
       "53"
      ]
     },
     "execution_count": 3,
     "metadata": {},
     "output_type": "execute_result"
    }
   ],
   "source": [
    "poN = pd.read_csv('polN/polN_U2AF1_v2.vcf', compression='gzip',sep=\"\\t\")\n",
    "len(poN)"
   ]
  },
  {
   "cell_type": "code",
   "execution_count": 17,
   "id": "f0e4f012-d617-4d46-83cd-b39b66684ab1",
   "metadata": {},
   "outputs": [],
   "source": [
    "maf_can_VAF_SNV['poN'] = maf_can_VAF_SNV['#CHROM']+':'+maf_can_VAF_SNV['POS']+','+maf_can_VAF_SNV['REF']"
   ]
  },
  {
   "cell_type": "code",
   "execution_count": 18,
   "id": "18ffa7b1-df6f-4c6b-989e-ba7665cc1f37",
   "metadata": {},
   "outputs": [
    {
     "data": {
      "text/plain": [
       "5620"
      ]
     },
     "execution_count": 18,
     "metadata": {},
     "output_type": "execute_result"
    }
   ],
   "source": [
    "maf_can_VAF_SNV = maf_can_VAF_SNV[~maf_can_VAF_SNV['poN'].isin(poN.rep.to_list())]\n",
    "len(maf_can_VAF_SNV)"
   ]
  },
  {
   "cell_type": "code",
   "execution_count": 19,
   "id": "dec3ca3e-17b3-4f4f-acf8-8d09b92f03f8",
   "metadata": {},
   "outputs": [
    {
     "data": {
      "text/plain": [
       "5620"
      ]
     },
     "execution_count": 19,
     "metadata": {},
     "output_type": "execute_result"
    }
   ],
   "source": [
    "maf_can_VAF_SNV['Occur'] = [maf_can_VAF_SNV['rep'].tolist().count(x) for x in maf_can_VAF_SNV['rep']]\n",
    "len(maf_can_VAF_SNV)"
   ]
  },
  {
   "cell_type": "code",
   "execution_count": 20,
   "id": "d383aee2-5d95-4d8d-981c-983e875e670b",
   "metadata": {},
   "outputs": [
    {
     "data": {
      "text/plain": [
       "chr21:43094716,G/A      1330\n",
       "chr21:43093194,G/C       375\n",
       "chr21:43093200,G/C       288\n",
       "chr21:43094663,A/C       146\n",
       "chr21:43093204,T/G        94\n",
       "                        ... \n",
       "chr21:43107487,T/A         1\n",
       "chr21:43094561,T/C         1\n",
       "chr21:43094727,C/T         1\n",
       "chr21:43093196,C/A,G       1\n",
       "chr21:43095695,T/C         1\n",
       "Name: rep, Length: 495, dtype: int64"
      ]
     },
     "execution_count": 20,
     "metadata": {},
     "output_type": "execute_result"
    }
   ],
   "source": [
    "maf_can_VAF_SNV.rep.value_counts()"
   ]
  },
  {
   "cell_type": "markdown",
   "id": "f317e82a-bd4b-4a57-9400-83e1fd017481",
   "metadata": {},
   "source": [
    "## 5. BoostDM prediction"
   ]
  },
  {
   "cell_type": "code",
   "execution_count": 21,
   "id": "f17767fb-ebc7-4a32-b513-8309a1145ed7",
   "metadata": {},
   "outputs": [],
   "source": [
    "maf_can_VAF_SNV['#CHROM'] = maf_can_VAF_SNV['#CHROM'].str.replace('chr', '')"
   ]
  },
  {
   "cell_type": "code",
   "execution_count": 3,
   "id": "15634a74-3a5f-4207-8fb1-4230d0bbfe18",
   "metadata": {},
   "outputs": [
    {
     "data": {
      "text/html": [
       "<div>\n",
       "<style scoped>\n",
       "    .dataframe tbody tr th:only-of-type {\n",
       "        vertical-align: middle;\n",
       "    }\n",
       "\n",
       "    .dataframe tbody tr th {\n",
       "        vertical-align: top;\n",
       "    }\n",
       "\n",
       "    .dataframe thead th {\n",
       "        text-align: right;\n",
       "    }\n",
       "</style>\n",
       "<table border=\"1\" class=\"dataframe\">\n",
       "  <thead>\n",
       "    <tr style=\"text-align: right;\">\n",
       "      <th></th>\n",
       "      <th>gene</th>\n",
       "      <th>chr</th>\n",
       "      <th>pos</th>\n",
       "      <th>alt</th>\n",
       "      <th>Prot_pos</th>\n",
       "      <th>aachange</th>\n",
       "      <th>csqn_type_missense</th>\n",
       "      <th>csqn_type_nonsense</th>\n",
       "      <th>csqn_type_splicing</th>\n",
       "      <th>csqn_type_synonymous</th>\n",
       "      <th>boostDM_score</th>\n",
       "      <th>boostDM_class</th>\n",
       "      <th>Niroula</th>\n",
       "      <th>Bick</th>\n",
       "      <th>CNIC</th>\n",
       "      <th>WHO</th>\n",
       "    </tr>\n",
       "  </thead>\n",
       "  <tbody>\n",
       "    <tr>\n",
       "      <th>2</th>\n",
       "      <td>ASXL1</td>\n",
       "      <td>20</td>\n",
       "      <td>32358779</td>\n",
       "      <td>T</td>\n",
       "      <td>2</td>\n",
       "      <td>K2*</td>\n",
       "      <td>0</td>\n",
       "      <td>1</td>\n",
       "      <td>0</td>\n",
       "      <td>0</td>\n",
       "      <td>0.989503</td>\n",
       "      <td>1</td>\n",
       "      <td>0.0</td>\n",
       "      <td>0.0</td>\n",
       "      <td>0.0</td>\n",
       "      <td>0.0</td>\n",
       "    </tr>\n",
       "    <tr>\n",
       "      <th>20</th>\n",
       "      <td>ASXL1</td>\n",
       "      <td>20</td>\n",
       "      <td>32358785</td>\n",
       "      <td>T</td>\n",
       "      <td>4</td>\n",
       "      <td>K4*</td>\n",
       "      <td>0</td>\n",
       "      <td>1</td>\n",
       "      <td>0</td>\n",
       "      <td>0</td>\n",
       "      <td>0.989768</td>\n",
       "      <td>1</td>\n",
       "      <td>0.0</td>\n",
       "      <td>0.0</td>\n",
       "      <td>0.0</td>\n",
       "      <td>0.0</td>\n",
       "    </tr>\n",
       "    <tr>\n",
       "      <th>29</th>\n",
       "      <td>ASXL1</td>\n",
       "      <td>20</td>\n",
       "      <td>32358788</td>\n",
       "      <td>T</td>\n",
       "      <td>5</td>\n",
       "      <td>Q5*</td>\n",
       "      <td>0</td>\n",
       "      <td>1</td>\n",
       "      <td>0</td>\n",
       "      <td>0</td>\n",
       "      <td>0.975674</td>\n",
       "      <td>1</td>\n",
       "      <td>0.0</td>\n",
       "      <td>0.0</td>\n",
       "      <td>0.0</td>\n",
       "      <td>0.0</td>\n",
       "    </tr>\n",
       "    <tr>\n",
       "      <th>38</th>\n",
       "      <td>ASXL1</td>\n",
       "      <td>20</td>\n",
       "      <td>32358791</td>\n",
       "      <td>T</td>\n",
       "      <td>6</td>\n",
       "      <td>K6*</td>\n",
       "      <td>0</td>\n",
       "      <td>1</td>\n",
       "      <td>0</td>\n",
       "      <td>0</td>\n",
       "      <td>0.991413</td>\n",
       "      <td>1</td>\n",
       "      <td>0.0</td>\n",
       "      <td>0.0</td>\n",
       "      <td>0.0</td>\n",
       "      <td>0.0</td>\n",
       "    </tr>\n",
       "    <tr>\n",
       "      <th>47</th>\n",
       "      <td>ASXL1</td>\n",
       "      <td>20</td>\n",
       "      <td>32358794</td>\n",
       "      <td>T</td>\n",
       "      <td>7</td>\n",
       "      <td>K7*</td>\n",
       "      <td>0</td>\n",
       "      <td>1</td>\n",
       "      <td>0</td>\n",
       "      <td>0</td>\n",
       "      <td>0.988842</td>\n",
       "      <td>1</td>\n",
       "      <td>0.0</td>\n",
       "      <td>0.0</td>\n",
       "      <td>0.0</td>\n",
       "      <td>0.0</td>\n",
       "    </tr>\n",
       "    <tr>\n",
       "      <th>...</th>\n",
       "      <td>...</td>\n",
       "      <td>...</td>\n",
       "      <td>...</td>\n",
       "      <td>...</td>\n",
       "      <td>...</td>\n",
       "      <td>...</td>\n",
       "      <td>...</td>\n",
       "      <td>...</td>\n",
       "      <td>...</td>\n",
       "      <td>...</td>\n",
       "      <td>...</td>\n",
       "      <td>...</td>\n",
       "      <td>...</td>\n",
       "      <td>...</td>\n",
       "      <td>...</td>\n",
       "      <td>...</td>\n",
       "    </tr>\n",
       "    <tr>\n",
       "      <th>87811</th>\n",
       "      <td>U2AF1</td>\n",
       "      <td>21</td>\n",
       "      <td>43104401</td>\n",
       "      <td>G</td>\n",
       "      <td>16</td>\n",
       "      <td>V16L</td>\n",
       "      <td>1</td>\n",
       "      <td>0</td>\n",
       "      <td>0</td>\n",
       "      <td>0</td>\n",
       "      <td>0.897579</td>\n",
       "      <td>1</td>\n",
       "      <td>0.0</td>\n",
       "      <td>0.0</td>\n",
       "      <td>0.0</td>\n",
       "      <td>0.0</td>\n",
       "    </tr>\n",
       "    <tr>\n",
       "      <th>87812</th>\n",
       "      <td>U2AF1</td>\n",
       "      <td>21</td>\n",
       "      <td>43104401</td>\n",
       "      <td>T</td>\n",
       "      <td>16</td>\n",
       "      <td>V16I</td>\n",
       "      <td>1</td>\n",
       "      <td>0</td>\n",
       "      <td>0</td>\n",
       "      <td>0</td>\n",
       "      <td>0.897579</td>\n",
       "      <td>1</td>\n",
       "      <td>0.0</td>\n",
       "      <td>0.0</td>\n",
       "      <td>0.0</td>\n",
       "      <td>0.0</td>\n",
       "    </tr>\n",
       "    <tr>\n",
       "      <th>87816</th>\n",
       "      <td>U2AF1</td>\n",
       "      <td>21</td>\n",
       "      <td>43107451</td>\n",
       "      <td>A</td>\n",
       "      <td>15</td>\n",
       "      <td>K15I</td>\n",
       "      <td>1</td>\n",
       "      <td>0</td>\n",
       "      <td>0</td>\n",
       "      <td>0</td>\n",
       "      <td>0.508676</td>\n",
       "      <td>1</td>\n",
       "      <td>0.0</td>\n",
       "      <td>0.0</td>\n",
       "      <td>0.0</td>\n",
       "      <td>0.0</td>\n",
       "    </tr>\n",
       "    <tr>\n",
       "      <th>87817</th>\n",
       "      <td>U2AF1</td>\n",
       "      <td>21</td>\n",
       "      <td>43107451</td>\n",
       "      <td>C</td>\n",
       "      <td>15</td>\n",
       "      <td>K15R</td>\n",
       "      <td>1</td>\n",
       "      <td>0</td>\n",
       "      <td>0</td>\n",
       "      <td>0</td>\n",
       "      <td>0.508676</td>\n",
       "      <td>1</td>\n",
       "      <td>0.0</td>\n",
       "      <td>0.0</td>\n",
       "      <td>0.0</td>\n",
       "      <td>0.0</td>\n",
       "    </tr>\n",
       "    <tr>\n",
       "      <th>87818</th>\n",
       "      <td>U2AF1</td>\n",
       "      <td>21</td>\n",
       "      <td>43107451</td>\n",
       "      <td>G</td>\n",
       "      <td>15</td>\n",
       "      <td>K15T</td>\n",
       "      <td>1</td>\n",
       "      <td>0</td>\n",
       "      <td>0</td>\n",
       "      <td>0</td>\n",
       "      <td>0.508676</td>\n",
       "      <td>1</td>\n",
       "      <td>0.0</td>\n",
       "      <td>0.0</td>\n",
       "      <td>0.0</td>\n",
       "      <td>0.0</td>\n",
       "    </tr>\n",
       "  </tbody>\n",
       "</table>\n",
       "<p>7772 rows × 16 columns</p>\n",
       "</div>"
      ],
      "text/plain": [
       "        gene  chr       pos alt  Prot_pos aachange  csqn_type_missense  \\\n",
       "2      ASXL1   20  32358779   T         2      K2*                   0   \n",
       "20     ASXL1   20  32358785   T         4      K4*                   0   \n",
       "29     ASXL1   20  32358788   T         5      Q5*                   0   \n",
       "38     ASXL1   20  32358791   T         6      K6*                   0   \n",
       "47     ASXL1   20  32358794   T         7      K7*                   0   \n",
       "...      ...  ...       ...  ..       ...      ...                 ...   \n",
       "87811  U2AF1   21  43104401   G        16     V16L                   1   \n",
       "87812  U2AF1   21  43104401   T        16     V16I                   1   \n",
       "87816  U2AF1   21  43107451   A        15     K15I                   1   \n",
       "87817  U2AF1   21  43107451   C        15     K15R                   1   \n",
       "87818  U2AF1   21  43107451   G        15     K15T                   1   \n",
       "\n",
       "       csqn_type_nonsense  csqn_type_splicing  csqn_type_synonymous  \\\n",
       "2                       1                   0                     0   \n",
       "20                      1                   0                     0   \n",
       "29                      1                   0                     0   \n",
       "38                      1                   0                     0   \n",
       "47                      1                   0                     0   \n",
       "...                   ...                 ...                   ...   \n",
       "87811                   0                   0                     0   \n",
       "87812                   0                   0                     0   \n",
       "87816                   0                   0                     0   \n",
       "87817                   0                   0                     0   \n",
       "87818                   0                   0                     0   \n",
       "\n",
       "       boostDM_score  boostDM_class  Niroula  Bick  CNIC  WHO  \n",
       "2           0.989503              1      0.0   0.0   0.0  0.0  \n",
       "20          0.989768              1      0.0   0.0   0.0  0.0  \n",
       "29          0.975674              1      0.0   0.0   0.0  0.0  \n",
       "38          0.991413              1      0.0   0.0   0.0  0.0  \n",
       "47          0.988842              1      0.0   0.0   0.0  0.0  \n",
       "...              ...            ...      ...   ...   ...  ...  \n",
       "87811       0.897579              1      0.0   0.0   0.0  0.0  \n",
       "87812       0.897579              1      0.0   0.0   0.0  0.0  \n",
       "87816       0.508676              1      0.0   0.0   0.0  0.0  \n",
       "87817       0.508676              1      0.0   0.0   0.0  0.0  \n",
       "87818       0.508676              1      0.0   0.0   0.0  0.0  \n",
       "\n",
       "[7772 rows x 16 columns]"
      ]
     },
     "execution_count": 3,
     "metadata": {},
     "output_type": "execute_result"
    }
   ],
   "source": [
    "Rules_matrix = pd.read_csv('../../../Paper_data/Expert_curated_rules/genes12_BoostdmCH_Harvard_simp_run20230803.tsv.gz', compression='gzip',sep=\"\\t\")\n",
    "BoostDM_dirvers = Rules_matrix[Rules_matrix['boostDM_class']==1]\n",
    "BoostDM_dirvers"
   ]
  },
  {
   "cell_type": "code",
   "execution_count": 23,
   "id": "5c3e188a-c275-4f4a-a331-bb30983b2c42",
   "metadata": {},
   "outputs": [
    {
     "name": "stderr",
     "output_type": "stream",
     "text": [
      "/tmp/ipykernel_238/4174354237.py:8: SettingWithCopyWarning: \n",
      "A value is trying to be set on a copy of a slice from a DataFrame.\n",
      "Try using .loc[row_indexer,col_indexer] = value instead\n",
      "\n",
      "See the caveats in the documentation: https://pandas.pydata.org/pandas-docs/stable/user_guide/indexing.html#returning-a-view-versus-a-copy\n",
      "  BoostDM_dirvers['ID2'] = Rules_matrix['chr'].astype(str) +\"-\"+\\\n"
     ]
    },
    {
     "data": {
      "text/plain": [
       "0    5154\n",
       "1     466\n",
       "Name: BoostDM, dtype: int64"
      ]
     },
     "execution_count": 23,
     "metadata": {},
     "output_type": "execute_result"
    }
   ],
   "source": [
    "#Select mutations based on driver call\n",
    "\n",
    "maf_can_VAF_SNV['ID2'] = maf_can_VAF_SNV['#CHROM'].astype(str)+\"-\"+\\\n",
    "                            maf_can_VAF_SNV['POS'].astype(str) +\"-\"+\\\n",
    "                            maf_can_VAF_SNV['ALT'].astype(str)\n",
    "\n",
    "\n",
    "BoostDM_dirvers['ID2'] = Rules_matrix['chr'].astype(str) +\"-\"+\\\n",
    "                            Rules_matrix['pos'].astype(str) +\"-\"+\\\n",
    "                            Rules_matrix['alt'].astype(str)\n",
    "\n",
    "maf_can_VAF_SNV['BoostDM'] = np.where(maf_can_VAF_SNV['ID2'].isin(BoostDM_dirvers['ID2'].to_list()), 1, 0)\n",
    "maf_can_VAF_SNV['BoostDM'].value_counts()"
   ]
  },
  {
   "cell_type": "code",
   "execution_count": 24,
   "id": "71eadf72-8ddc-4f51-8e9c-7cf6fb7e480d",
   "metadata": {},
   "outputs": [
    {
     "data": {
      "text/html": [
       "<div>\n",
       "<style scoped>\n",
       "    .dataframe tbody tr th:only-of-type {\n",
       "        vertical-align: middle;\n",
       "    }\n",
       "\n",
       "    .dataframe tbody tr th {\n",
       "        vertical-align: top;\n",
       "    }\n",
       "\n",
       "    .dataframe thead th {\n",
       "        text-align: right;\n",
       "    }\n",
       "</style>\n",
       "<table border=\"1\" class=\"dataframe\">\n",
       "  <thead>\n",
       "    <tr style=\"text-align: right;\">\n",
       "      <th></th>\n",
       "      <th>Prot_pos</th>\n",
       "      <th>AA_change</th>\n",
       "      <th>Occur</th>\n",
       "      <th>BoostDM</th>\n",
       "    </tr>\n",
       "  </thead>\n",
       "  <tbody>\n",
       "    <tr>\n",
       "      <th>1550</th>\n",
       "      <td>157</td>\n",
       "      <td>Q/L</td>\n",
       "      <td>9</td>\n",
       "      <td>1</td>\n",
       "    </tr>\n",
       "    <tr>\n",
       "      <th>2083</th>\n",
       "      <td>157</td>\n",
       "      <td>Q/R</td>\n",
       "      <td>44</td>\n",
       "      <td>1</td>\n",
       "    </tr>\n",
       "    <tr>\n",
       "      <th>2987</th>\n",
       "      <td>157</td>\n",
       "      <td>Q/R</td>\n",
       "      <td>44</td>\n",
       "      <td>1</td>\n",
       "    </tr>\n",
       "    <tr>\n",
       "      <th>4267</th>\n",
       "      <td>157</td>\n",
       "      <td>Q/L</td>\n",
       "      <td>9</td>\n",
       "      <td>1</td>\n",
       "    </tr>\n",
       "    <tr>\n",
       "      <th>5479</th>\n",
       "      <td>157</td>\n",
       "      <td>Q/R</td>\n",
       "      <td>44</td>\n",
       "      <td>1</td>\n",
       "    </tr>\n",
       "    <tr>\n",
       "      <th>...</th>\n",
       "      <td>...</td>\n",
       "      <td>...</td>\n",
       "      <td>...</td>\n",
       "      <td>...</td>\n",
       "    </tr>\n",
       "    <tr>\n",
       "      <th>240105</th>\n",
       "      <td>157</td>\n",
       "      <td>Q/P</td>\n",
       "      <td>69</td>\n",
       "      <td>1</td>\n",
       "    </tr>\n",
       "    <tr>\n",
       "      <th>240622</th>\n",
       "      <td>157</td>\n",
       "      <td>Q/P</td>\n",
       "      <td>69</td>\n",
       "      <td>1</td>\n",
       "    </tr>\n",
       "    <tr>\n",
       "      <th>242258</th>\n",
       "      <td>157</td>\n",
       "      <td>Q/P</td>\n",
       "      <td>69</td>\n",
       "      <td>1</td>\n",
       "    </tr>\n",
       "    <tr>\n",
       "      <th>244947</th>\n",
       "      <td>157</td>\n",
       "      <td>Q/R</td>\n",
       "      <td>44</td>\n",
       "      <td>1</td>\n",
       "    </tr>\n",
       "    <tr>\n",
       "      <th>246968</th>\n",
       "      <td>157</td>\n",
       "      <td>Q/L</td>\n",
       "      <td>9</td>\n",
       "      <td>1</td>\n",
       "    </tr>\n",
       "  </tbody>\n",
       "</table>\n",
       "<p>144 rows × 4 columns</p>\n",
       "</div>"
      ],
      "text/plain": [
       "       Prot_pos AA_change  Occur  BoostDM\n",
       "1550        157       Q/L      9        1\n",
       "2083        157       Q/R     44        1\n",
       "2987        157       Q/R     44        1\n",
       "4267        157       Q/L      9        1\n",
       "5479        157       Q/R     44        1\n",
       "...         ...       ...    ...      ...\n",
       "240105      157       Q/P     69        1\n",
       "240622      157       Q/P     69        1\n",
       "242258      157       Q/P     69        1\n",
       "244947      157       Q/R     44        1\n",
       "246968      157       Q/L      9        1\n",
       "\n",
       "[144 rows x 4 columns]"
      ]
     },
     "execution_count": 24,
     "metadata": {},
     "output_type": "execute_result"
    }
   ],
   "source": [
    "maf_can_VAF_SNV[maf_can_VAF_SNV['Prot_pos']=='157'][['Prot_pos', 'AA_change', 'Occur', 'BoostDM']]"
   ]
  },
  {
   "cell_type": "code",
   "execution_count": 34,
   "id": "44067c60-ae1c-4d45-8313-fe44c4934fbf",
   "metadata": {},
   "outputs": [],
   "source": [
    "maf_can_VAF_SNV.to_csv(\"All450k_filtered_boostDM_U2AF1.vcf\", sep=\"\\t\", index=False, compression='gzip')"
   ]
  }
 ],
 "metadata": {
  "kernelspec": {
   "display_name": "Python 3 (ipykernel)",
   "language": "python",
   "name": "python3"
  },
  "language_info": {
   "codemirror_mode": {
    "name": "ipython",
    "version": 3
   },
   "file_extension": ".py",
   "mimetype": "text/x-python",
   "name": "python",
   "nbconvert_exporter": "python",
   "pygments_lexer": "ipython3",
   "version": "3.9.7"
  }
 },
 "nbformat": 4,
 "nbformat_minor": 5
}
