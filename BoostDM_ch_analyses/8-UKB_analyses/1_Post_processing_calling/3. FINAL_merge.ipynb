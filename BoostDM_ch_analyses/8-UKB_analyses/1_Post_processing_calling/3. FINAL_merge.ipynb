{
 "cells": [
  {
   "cell_type": "markdown",
   "id": "a6a6decf-2a5c-4186-92b6-2dad1508b667",
   "metadata": {},
   "source": [
    "# Merge mutations from the general variant calling and the U2AF1"
   ]
  },
  {
   "cell_type": "code",
   "execution_count": 1,
   "id": "3fa5cb98-ded6-4949-88d7-374174f5b459",
   "metadata": {},
   "outputs": [],
   "source": [
    "import pandas as pd\n",
    "import os\n",
    "import gzip\n",
    "import numpy as np\n",
    "import matplotlib.pyplot as plt\n",
    "from io import StringIO\n",
    "import seaborn as sns\n",
    "import scipy.stats as stats\n",
    "pd.set_option('display.max_columns', 150)\n",
    "pd.set_option('display.max_rows', 40)\n",
    "%precision 2\n",
    "\n",
    "import matplotlib as mpl\n",
    "mpl.rcParams['figure.dpi']= 300"
   ]
  },
  {
   "cell_type": "code",
   "execution_count": 4,
   "id": "958e5d00-ff67-4b9d-8d12-7d78556a09f2",
   "metadata": {},
   "outputs": [
    {
     "name": "stdout",
     "output_type": "stream",
     "text": [
      "Rows:502391\n",
      "Columns:['patient', 'age_recruitment', 'age_group']\n",
      "Columns:['56-60', '61-65', '51-55', '38-45', '46-50', '66-72']\n"
     ]
    }
   ],
   "source": [
    "### Read a file containing 'patient', 'age_recruitment', 'age_group' columns\n",
    "patient_age_ch = pd.read_csv('patient_450k_age_670124.txt.gz',sep=\"\\t\")\n",
    "print(f'Rows:{len(patient_age_ch)}')\n",
    "print(f'Columns:{list(patient_age_ch.columns)}')\n",
    "print(f'Columns:{list(set(patient_age_ch.age_group))}')"
   ]
  },
  {
   "cell_type": "code",
   "execution_count": 12,
   "id": "9ef1dfb2-ccb0-4ae3-87f3-d28fa6669aa9",
   "metadata": {},
   "outputs": [
    {
     "data": {
      "text/plain": [
       "469880"
      ]
     },
     "execution_count": 12,
     "metadata": {},
     "output_type": "execute_result"
    }
   ],
   "source": [
    "### Get a list of the cases analyzed\n",
    "withdraw = pd.read_csv('w69794_2023-04-25.csv',sep=\"\\t\", header=None)\n",
    "\n",
    "### Get a list of withdrawals from the UKB webpage\n",
    "case = pd.read_csv('ukb450k_cohort_participants.txt',sep=\"\\t\", header=None)\n",
    "\n",
    "### Remove cases not analyzed or withdrawals\n",
    "patient_age_ch = patient_age_ch[patient_age_ch['patient'].isin(case[0])]\n",
    "patient_age_ch = patient_age_ch[~patient_age_ch['patient'].isin(list(withdraw[0]))].reset_index(drop=True)\n",
    "patient_age_ch = patient_age_ch.astype({\"patient\": str})\n",
    "len(patient_age_ch)"
   ]
  },
  {
   "cell_type": "markdown",
   "id": "dfa8b454",
   "metadata": {},
   "source": [
    "# 1. Upload U2AF1 mutaitons"
   ]
  },
  {
   "cell_type": "code",
   "execution_count": 13,
   "id": "a0f64816-ec18-4716-9edf-b1c9ba700900",
   "metadata": {},
   "outputs": [
    {
     "data": {
      "text/plain": [
       "5620"
      ]
     },
     "execution_count": 13,
     "metadata": {},
     "output_type": "execute_result"
    }
   ],
   "source": [
    "U2AF1_mutations = pd.read_csv('All450k_filtered_boostDM_U2AF1.vcf', sep=\"\\t\", compression='gzip')\n",
    "U2AF1_mutations = U2AF1_mutations.astype({\"case\": str})\n",
    "len(U2AF1_mutations)"
   ]
  },
  {
   "cell_type": "code",
   "execution_count": 14,
   "id": "c335e955-85d6-4113-a2f5-6425e8839a30",
   "metadata": {},
   "outputs": [
    {
     "name": "stdout",
     "output_type": "stream",
     "text": [
      "5620\n",
      "5620\n"
     ]
    }
   ],
   "source": [
    "# Check that there are not mutations from withdrawal cases\n",
    "print(len(U2AF1_mutations))\n",
    "U2AF1_mutations = U2AF1_mutations[U2AF1_mutations['case'].isin(patient_age_ch['patient'].to_list())]\n",
    "print(len(U2AF1_mutations))"
   ]
  },
  {
   "cell_type": "code",
   "execution_count": 15,
   "id": "b3b3165a-229f-4ac0-9daf-61cb2f56e372",
   "metadata": {},
   "outputs": [
    {
     "name": "stderr",
     "output_type": "stream",
     "text": [
      "100%|████████████████████████████████████████████████████████████| 5620/5620 [02:43<00:00, 34.28it/s]\n"
     ]
    }
   ],
   "source": [
    "# Include agegroup\n",
    "from tqdm import tqdm\n",
    "age_grup = []\n",
    "for x in tqdm(U2AF1_mutations['case'].tolist()):\n",
    "    age = patient_age_ch[patient_age_ch['patient']==x]['age_group'].values[0]\n",
    "    age_grup.append(age)"
   ]
  },
  {
   "cell_type": "code",
   "execution_count": 16,
   "id": "d9f03ec3-dfd0-4f04-b0f5-8fbcc4a454a8",
   "metadata": {},
   "outputs": [],
   "source": [
    "U2AF1_mutations['age_group'] = age_grup"
   ]
  },
  {
   "cell_type": "markdown",
   "id": "5db58347",
   "metadata": {},
   "source": [
    "# 2. Upload mutations from the general calling (11 genes)"
   ]
  },
  {
   "cell_type": "code",
   "execution_count": 17,
   "id": "f4b67b25-3152-4958-9bb8-946f24a7e113",
   "metadata": {},
   "outputs": [
    {
     "data": {
      "text/plain": [
       "197841"
      ]
     },
     "execution_count": 17,
     "metadata": {},
     "output_type": "execute_result"
    }
   ],
   "source": [
    "boostDM_old = pd.read_csv('All450k_filtered_boostDM.vcf', sep=\"\\t\", compression='gzip')\n",
    "boostDM_old = boostDM_old.astype({\"case\": str})\n",
    "boostDM_old = boostDM_old[~boostDM_old['Consequence'].isin(['start_lost', 'stop_lost', 'stop_retained_variant'])]\n",
    "boostDM_old = boostDM_old[~boostDM_old['Prot_pos'].isna()]\n",
    "len(boostDM_old)"
   ]
  },
  {
   "cell_type": "code",
   "execution_count": 18,
   "id": "d643f6eb-8c9f-470c-87ab-914b4a54477e",
   "metadata": {},
   "outputs": [
    {
     "data": {
      "text/plain": [
       "197835"
      ]
     },
     "execution_count": 18,
     "metadata": {},
     "output_type": "execute_result"
    }
   ],
   "source": [
    "boostDM_old = boostDM_old[boostDM_old['case'].isin(patient_age_ch['patient'].to_list())]\n",
    "len(boostDM_old)"
   ]
  },
  {
   "cell_type": "code",
   "execution_count": 16,
   "id": "89a0b58e-ac4d-44bf-b040-02c63441a69a",
   "metadata": {},
   "outputs": [
    {
     "name": "stderr",
     "output_type": "stream",
     "text": [
      "100%|██████████| 197835/197835 [1:12:19<00:00, 45.59it/s]\n"
     ]
    }
   ],
   "source": [
    "from tqdm import tqdm\n",
    "age_grup = []\n",
    "for x in tqdm(boostDM_old['case'].tolist()):\n",
    "    age = patient_age_ch[patient_age_ch['patient']==x]['age_group'].values[0]\n",
    "    age_grup.append(age)"
   ]
  },
  {
   "cell_type": "code",
   "execution_count": 18,
   "id": "15af7831-010d-4b67-b1b0-e7c616023dd9",
   "metadata": {},
   "outputs": [
    {
     "name": "stderr",
     "output_type": "stream",
     "text": [
      "/opt/conda/lib/python3.6/site-packages/ipykernel_launcher.py:1: SettingWithCopyWarning: \n",
      "A value is trying to be set on a copy of a slice from a DataFrame.\n",
      "Try using .loc[row_indexer,col_indexer] = value instead\n",
      "\n",
      "See the caveats in the documentation: http://pandas.pydata.org/pandas-docs/stable/user_guide/indexing.html#returning-a-view-versus-a-copy\n",
      "  \"\"\"Entry point for launching an IPython kernel.\n"
     ]
    }
   ],
   "source": [
    "boostDM_old['age_group'] = age_grup"
   ]
  },
  {
   "cell_type": "code",
   "execution_count": 20,
   "id": "7e835885-b234-406a-87bf-d7b858430702",
   "metadata": {},
   "outputs": [
    {
     "data": {
      "text/plain": [
       "Index(['name_file', '#CHROM', 'POS', 'ID', 'REF', 'ALT', 'QUAL', 'FILTER',\n",
       "       'VEP', 'AD_alt', 'DP', 'VAF_alt', 'ADF_alt', 'ADR_alt', 'VEP_cano',\n",
       "       'Consequence', 'IMPACT', 'SYMBOL', 'ENST', 'CDS_pos', 'Prot_pos',\n",
       "       'AA_change', 'rs_ID', 'ENSP', 'EUR_AF', 'gnomAD_AF', 'gnomAD_AF_NFE',\n",
       "       'case', 'rep', 'rep2', 'poN', 'Occur', 'ID2', 'BoostDM', 'age_group'],\n",
       "      dtype='object')"
      ]
     },
     "execution_count": 20,
     "metadata": {},
     "output_type": "execute_result"
    }
   ],
   "source": [
    "boostDM.columns"
   ]
  },
  {
   "cell_type": "code",
   "execution_count": 17,
   "id": "81189608-405e-41a5-b8fc-51141e78e030",
   "metadata": {},
   "outputs": [],
   "source": [
    "boostDM_new = boostDM[['name_file', '#CHROM', 'POS', 'ID', 'REF', 'ALT', 'QUAL', 'AD_alt', \n",
    "                       'DP', 'VAF_alt', 'Consequence', 'IMPACT', 'SYMBOL', 'ENST', 'CDS_pos',\n",
    "                       'Prot_pos', 'AA_change', 'rs_ID', 'ENSP', 'EUR_AF', 'gnomAD_AF',\n",
    "                       'gnomAD_AF_NFE', 'FILTER', 'case', 'rep', 'rep2', \n",
    "                       'Occur', 'poN', 'ID2', 'BoostDM', 'age_group']]"
   ]
  },
  {
   "cell_type": "code",
   "execution_count": 18,
   "id": "4f50337d-b18e-45d0-960b-5c0215637592",
   "metadata": {},
   "outputs": [],
   "source": [
    "boostDM_old = boostDM_old[['name_file', '#CHROM', 'POS', 'ID', 'REF', 'ALT', 'QUAL', 'AD_alt', \n",
    "                       'DP', 'VAF_alt', 'Consequence', 'IMPACT', 'SYMBOL', 'ENST', 'CDS_pos',\n",
    "                       'Prot_pos', 'AA_change', 'rs_ID', 'ENSP', 'EUR_AF', 'gnomAD_AF',\n",
    "                       'gnomAD_AF_NFE', 'FILTER', 'case', 'rep', 'rep2', \n",
    "                       'Occur', 'poN', 'ID2', 'BoostDM', 'age_group']]"
   ]
  },
  {
   "cell_type": "code",
   "execution_count": 19,
   "id": "a263a141-4e88-4be1-ad97-8c40fae54361",
   "metadata": {},
   "outputs": [],
   "source": [
    "boostDM_all = pd.concat([boostDM_old, boostDM_new], axis=0)"
   ]
  },
  {
   "cell_type": "code",
   "execution_count": 20,
   "id": "99e8a087",
   "metadata": {},
   "outputs": [],
   "source": [
    "boostDM_all = boostDM_all[boostDM_all['DP']>=10]"
   ]
  },
  {
   "cell_type": "code",
   "execution_count": 24,
   "id": "5508fb38-d260-4f72-8507-630053ab1fc8",
   "metadata": {},
   "outputs": [],
   "source": [
    "# Save the merged file\n",
    "boostDM_all.to_csv(\"All450k_filtered_boostDM_ALL_age_20230802_v3.vcf\", sep=\"\\t\", index=False, compression='gzip')"
   ]
  },
  {
   "cell_type": "code",
   "execution_count": null,
   "id": "fc56ef5f-add3-47f3-b9f1-2ff2d9dd0afb",
   "metadata": {},
   "outputs": [],
   "source": []
  },
  {
   "cell_type": "code",
   "execution_count": null,
   "id": "885ca516-5519-4f0c-aad0-ec5e91c1dd9d",
   "metadata": {},
   "outputs": [],
   "source": []
  }
 ],
 "metadata": {
  "kernelspec": {
   "display_name": "Python 3 (ipykernel)",
   "language": "python",
   "name": "python3"
  },
  "language_info": {
   "codemirror_mode": {
    "name": "ipython",
    "version": 3
   },
   "file_extension": ".py",
   "mimetype": "text/x-python",
   "name": "python",
   "nbconvert_exporter": "python",
   "pygments_lexer": "ipython3",
   "version": "3.9.7"
  }
 },
 "nbformat": 4,
 "nbformat_minor": 5
}
