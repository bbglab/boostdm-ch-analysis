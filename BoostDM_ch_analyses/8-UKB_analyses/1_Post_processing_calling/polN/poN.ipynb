{
 "cells": [
  {
   "cell_type": "markdown",
   "id": "b2a45374",
   "metadata": {},
   "source": [
    "# Generate pull of normals"
   ]
  },
  {
   "cell_type": "code",
   "execution_count": 4,
   "id": "d1257f58-e899-4608-b058-1c5c9b9927e6",
   "metadata": {},
   "outputs": [],
   "source": [
    "import pandas as pd\n",
    "import numpy as np\n",
    "import os\n",
    "import matplotlib.pyplot as plt\n",
    "from io import StringIO\n",
    "import seaborn as sns\n",
    "import scipy.stats as stats\n",
    "pd.set_option('display.max_columns', 150)\n",
    "pd.set_option('display.max_rows', 40)\n",
    "%precision 2\n",
    "\n",
    "import matplotlib as mpl\n",
    "mpl.rcParams['figure.dpi']= 300"
   ]
  },
  {
   "cell_type": "code",
   "execution_count": 9,
   "id": "3c957286-9ed7-4676-9449-d73024823566",
   "metadata": {},
   "outputs": [
    {
     "name": "stdout",
     "output_type": "stream",
     "text": [
      "Rows:502391\n",
      "Columns:['patient', 'age_recruitment', 'age_group']\n",
      "Columns:['56-60', '46-50', '38-45', '66-72', '51-55', '61-65']\n"
     ]
    },
    {
     "data": {
      "text/plain": [
       "469880"
      ]
     },
     "execution_count": 9,
     "metadata": {},
     "output_type": "execute_result"
    }
   ],
   "source": [
    "### Read a file containing 'patient', 'age_recruitment', 'age_group' columns\n",
    "patient_age_ch = pd.read_csv('../patient_450k_age_670124.txt.gz',sep=\"\\t\")\n",
    "print(f'Rows:{len(patient_age_ch)}')\n",
    "print(f'Columns:{list(patient_age_ch.columns)}')\n",
    "print(f'Columns:{list(set(patient_age_ch.age_group))}')\n",
    "\n",
    "### Get a list of the cases analyzed\n",
    "withdraw = pd.read_csv('../w69794_2023-04-25.csv',sep=\"\\t\", header=None)\n",
    "\n",
    "### Get a list of withdrawals from the UKB webpage\n",
    "case = pd.read_csv('../ukb450k_cohort_participants.txt',sep=\"\\t\", header=None)\n",
    "\n",
    "### Remove cases not analyzed or withdrawals\n",
    "patient_age_ch = patient_age_ch[patient_age_ch['patient'].isin(case[0])]\n",
    "patient_age_ch = patient_age_ch[~patient_age_ch['patient'].isin(list(withdraw[0]))].reset_index(drop=True)\n",
    "patient_age_ch = patient_age_ch.astype({\"patient\": str})\n",
    "len(patient_age_ch)"
   ]
  },
  {
   "cell_type": "code",
   "execution_count": 3,
   "id": "44822cad-2a87-414e-afb1-e4afe76cba23",
   "metadata": {},
   "outputs": [
    {
     "data": {
      "text/plain": [
       "['results1.merged.filt.gz',\n",
       " 'results10.merged.filt.gz',\n",
       " 'results2.merged.filt.gz',\n",
       " 'results3.merged.filt.gz',\n",
       " 'results4.merged.filt.gz',\n",
       " 'results5.merged.filt.gz',\n",
       " 'results6.merged.filt.gz',\n",
       " 'results7.merged.filt.gz',\n",
       " 'results8.merged.filt.gz',\n",
       " 'results9.merged.filt.gz']"
      ]
     },
     "execution_count": 3,
     "metadata": {},
     "output_type": "execute_result"
    }
   ],
   "source": [
    "# List files in directory\n",
    "files = os.listdir('/mnt/project/analysis/output/')\n",
    "files = [file for file in files if file.endswith('merged.filt.gz')]\n",
    "\n",
    "len(files)\n",
    "files"
   ]
  },
  {
   "cell_type": "code",
   "execution_count": 1,
   "id": "2de643b0-0583-4604-9af0-50ef54b4b0cc",
   "metadata": {},
   "outputs": [],
   "source": [
    "# Merge files\n",
    "\n",
    "Mutect2_tar_var = pd.read_csv('/mnt/project/analysis/output/results1.merged.filt.gz',sep=\"\\t\", compression='gzip')\n",
    "print(len(Mutect2_tar_var))\n",
    "\n",
    "files = ['results10.merged.filt.gz',\n",
    " 'results2.merged.filt.gz',\n",
    " 'results3.merged.filt.gz',\n",
    " 'results4.merged.filt.gz',\n",
    " 'results5.merged.filt.gz',\n",
    " 'results6.merged.filt.gz',\n",
    " 'results7.merged.filt.gz',\n",
    " 'results8.merged.filt.gz',\n",
    " 'results9.merged.filt.gz']\n",
    "\n",
    "for file in files:\n",
    "    print(file)\n",
    "    Mutect2_tar_var_df = pd.read_csv('/mnt/project/analysis/output/'+file ,sep=\"\\t\", compression='gzip')\n",
    "    print(len(Mutect2_tar_var_df))\n",
    "    Mutect2_tar_var = pd.concat([Mutect2_tar_var, Mutect2_tar_var_df], ignore_index=True)"
   ]
  },
  {
   "cell_type": "code",
   "execution_count": 5,
   "id": "c2247169-b85a-43a2-bd69-682f980f603b",
   "metadata": {},
   "outputs": [],
   "source": [
    "Mutect2_tar_var = Mutect2_tar_var[Mutect2_tar_var['Consequence']!= 'Consequence']"
   ]
  },
  {
   "cell_type": "code",
   "execution_count": 11,
   "id": "5dc9e9ad-335d-4d0b-a7e6-1fe3242b83e8",
   "metadata": {},
   "outputs": [],
   "source": [
    "Mutect2_tar_var['case'] = [x.split('/')[-1].split('_')[0] for x in list(Mutect2_tar_var['name_file'])]"
   ]
  },
  {
   "cell_type": "code",
   "execution_count": 9,
   "id": "56dd993e-d3a4-4113-8f02-30db2c1809ed",
   "metadata": {},
   "outputs": [],
   "source": [
    "Mutect2_tar_var = Mutect2_tar_var.astype({'POS': str, '#CHROM': str, 'REF': str, 'ALT': str, 'case': str}) \n",
    "Mutect2_tar_var['rep'] = Mutect2_tar_var['#CHROM']+':'+Mutect2_tar_var['POS']+','+Mutect2_tar_var['REF']  \n",
    "Mutect2_tar_var['ID2'] = Mutect2_tar_var['#CHROM']+\"-\"+Mutect2_tar_var['POS'].astype(str) +\"-\"+Mutect2_tar_var['ALT']"
   ]
  },
  {
   "cell_type": "code",
   "execution_count": 12,
   "id": "65833e7f-b005-4b38-983e-9cbfeb097994",
   "metadata": {},
   "outputs": [
    {
     "data": {
      "text/html": [
       "<div>\n",
       "<style scoped>\n",
       "    .dataframe tbody tr th:only-of-type {\n",
       "        vertical-align: middle;\n",
       "    }\n",
       "\n",
       "    .dataframe tbody tr th {\n",
       "        vertical-align: top;\n",
       "    }\n",
       "\n",
       "    .dataframe thead th {\n",
       "        text-align: right;\n",
       "    }\n",
       "</style>\n",
       "<table border=\"1\" class=\"dataframe\">\n",
       "  <thead>\n",
       "    <tr style=\"text-align: right;\">\n",
       "      <th></th>\n",
       "      <th>gene</th>\n",
       "      <th>chr</th>\n",
       "      <th>pos</th>\n",
       "      <th>alt</th>\n",
       "      <th>Prot_pos</th>\n",
       "      <th>aachange</th>\n",
       "      <th>csqn_type_missense</th>\n",
       "      <th>csqn_type_nonsense</th>\n",
       "      <th>csqn_type_splicing</th>\n",
       "      <th>csqn_type_synonymous</th>\n",
       "      <th>boostDM_score</th>\n",
       "      <th>boostDM_class</th>\n",
       "      <th>Niroula</th>\n",
       "      <th>Bick</th>\n",
       "      <th>CNIC</th>\n",
       "      <th>WHO</th>\n",
       "    </tr>\n",
       "  </thead>\n",
       "  <tbody>\n",
       "    <tr>\n",
       "      <th>2</th>\n",
       "      <td>ASXL1</td>\n",
       "      <td>20</td>\n",
       "      <td>32358779</td>\n",
       "      <td>T</td>\n",
       "      <td>2</td>\n",
       "      <td>K2*</td>\n",
       "      <td>0</td>\n",
       "      <td>1</td>\n",
       "      <td>0</td>\n",
       "      <td>0</td>\n",
       "      <td>0.989503</td>\n",
       "      <td>1</td>\n",
       "      <td>0.0</td>\n",
       "      <td>0.0</td>\n",
       "      <td>0.0</td>\n",
       "      <td>0.0</td>\n",
       "    </tr>\n",
       "    <tr>\n",
       "      <th>20</th>\n",
       "      <td>ASXL1</td>\n",
       "      <td>20</td>\n",
       "      <td>32358785</td>\n",
       "      <td>T</td>\n",
       "      <td>4</td>\n",
       "      <td>K4*</td>\n",
       "      <td>0</td>\n",
       "      <td>1</td>\n",
       "      <td>0</td>\n",
       "      <td>0</td>\n",
       "      <td>0.989768</td>\n",
       "      <td>1</td>\n",
       "      <td>0.0</td>\n",
       "      <td>0.0</td>\n",
       "      <td>0.0</td>\n",
       "      <td>0.0</td>\n",
       "    </tr>\n",
       "    <tr>\n",
       "      <th>29</th>\n",
       "      <td>ASXL1</td>\n",
       "      <td>20</td>\n",
       "      <td>32358788</td>\n",
       "      <td>T</td>\n",
       "      <td>5</td>\n",
       "      <td>Q5*</td>\n",
       "      <td>0</td>\n",
       "      <td>1</td>\n",
       "      <td>0</td>\n",
       "      <td>0</td>\n",
       "      <td>0.975674</td>\n",
       "      <td>1</td>\n",
       "      <td>0.0</td>\n",
       "      <td>0.0</td>\n",
       "      <td>0.0</td>\n",
       "      <td>0.0</td>\n",
       "    </tr>\n",
       "    <tr>\n",
       "      <th>38</th>\n",
       "      <td>ASXL1</td>\n",
       "      <td>20</td>\n",
       "      <td>32358791</td>\n",
       "      <td>T</td>\n",
       "      <td>6</td>\n",
       "      <td>K6*</td>\n",
       "      <td>0</td>\n",
       "      <td>1</td>\n",
       "      <td>0</td>\n",
       "      <td>0</td>\n",
       "      <td>0.991413</td>\n",
       "      <td>1</td>\n",
       "      <td>0.0</td>\n",
       "      <td>0.0</td>\n",
       "      <td>0.0</td>\n",
       "      <td>0.0</td>\n",
       "    </tr>\n",
       "    <tr>\n",
       "      <th>47</th>\n",
       "      <td>ASXL1</td>\n",
       "      <td>20</td>\n",
       "      <td>32358794</td>\n",
       "      <td>T</td>\n",
       "      <td>7</td>\n",
       "      <td>K7*</td>\n",
       "      <td>0</td>\n",
       "      <td>1</td>\n",
       "      <td>0</td>\n",
       "      <td>0</td>\n",
       "      <td>0.988842</td>\n",
       "      <td>1</td>\n",
       "      <td>0.0</td>\n",
       "      <td>0.0</td>\n",
       "      <td>0.0</td>\n",
       "      <td>0.0</td>\n",
       "    </tr>\n",
       "    <tr>\n",
       "      <th>...</th>\n",
       "      <td>...</td>\n",
       "      <td>...</td>\n",
       "      <td>...</td>\n",
       "      <td>...</td>\n",
       "      <td>...</td>\n",
       "      <td>...</td>\n",
       "      <td>...</td>\n",
       "      <td>...</td>\n",
       "      <td>...</td>\n",
       "      <td>...</td>\n",
       "      <td>...</td>\n",
       "      <td>...</td>\n",
       "      <td>...</td>\n",
       "      <td>...</td>\n",
       "      <td>...</td>\n",
       "      <td>...</td>\n",
       "    </tr>\n",
       "    <tr>\n",
       "      <th>87811</th>\n",
       "      <td>U2AF1</td>\n",
       "      <td>21</td>\n",
       "      <td>43104401</td>\n",
       "      <td>G</td>\n",
       "      <td>16</td>\n",
       "      <td>V16L</td>\n",
       "      <td>1</td>\n",
       "      <td>0</td>\n",
       "      <td>0</td>\n",
       "      <td>0</td>\n",
       "      <td>0.897579</td>\n",
       "      <td>1</td>\n",
       "      <td>0.0</td>\n",
       "      <td>0.0</td>\n",
       "      <td>0.0</td>\n",
       "      <td>0.0</td>\n",
       "    </tr>\n",
       "    <tr>\n",
       "      <th>87812</th>\n",
       "      <td>U2AF1</td>\n",
       "      <td>21</td>\n",
       "      <td>43104401</td>\n",
       "      <td>T</td>\n",
       "      <td>16</td>\n",
       "      <td>V16I</td>\n",
       "      <td>1</td>\n",
       "      <td>0</td>\n",
       "      <td>0</td>\n",
       "      <td>0</td>\n",
       "      <td>0.897579</td>\n",
       "      <td>1</td>\n",
       "      <td>0.0</td>\n",
       "      <td>0.0</td>\n",
       "      <td>0.0</td>\n",
       "      <td>0.0</td>\n",
       "    </tr>\n",
       "    <tr>\n",
       "      <th>87816</th>\n",
       "      <td>U2AF1</td>\n",
       "      <td>21</td>\n",
       "      <td>43107451</td>\n",
       "      <td>A</td>\n",
       "      <td>15</td>\n",
       "      <td>K15I</td>\n",
       "      <td>1</td>\n",
       "      <td>0</td>\n",
       "      <td>0</td>\n",
       "      <td>0</td>\n",
       "      <td>0.508676</td>\n",
       "      <td>1</td>\n",
       "      <td>0.0</td>\n",
       "      <td>0.0</td>\n",
       "      <td>0.0</td>\n",
       "      <td>0.0</td>\n",
       "    </tr>\n",
       "    <tr>\n",
       "      <th>87817</th>\n",
       "      <td>U2AF1</td>\n",
       "      <td>21</td>\n",
       "      <td>43107451</td>\n",
       "      <td>C</td>\n",
       "      <td>15</td>\n",
       "      <td>K15R</td>\n",
       "      <td>1</td>\n",
       "      <td>0</td>\n",
       "      <td>0</td>\n",
       "      <td>0</td>\n",
       "      <td>0.508676</td>\n",
       "      <td>1</td>\n",
       "      <td>0.0</td>\n",
       "      <td>0.0</td>\n",
       "      <td>0.0</td>\n",
       "      <td>0.0</td>\n",
       "    </tr>\n",
       "    <tr>\n",
       "      <th>87818</th>\n",
       "      <td>U2AF1</td>\n",
       "      <td>21</td>\n",
       "      <td>43107451</td>\n",
       "      <td>G</td>\n",
       "      <td>15</td>\n",
       "      <td>K15T</td>\n",
       "      <td>1</td>\n",
       "      <td>0</td>\n",
       "      <td>0</td>\n",
       "      <td>0</td>\n",
       "      <td>0.508676</td>\n",
       "      <td>1</td>\n",
       "      <td>0.0</td>\n",
       "      <td>0.0</td>\n",
       "      <td>0.0</td>\n",
       "      <td>0.0</td>\n",
       "    </tr>\n",
       "  </tbody>\n",
       "</table>\n",
       "<p>7772 rows × 16 columns</p>\n",
       "</div>"
      ],
      "text/plain": [
       "        gene  chr       pos alt  Prot_pos aachange  csqn_type_missense  \\\n",
       "2      ASXL1   20  32358779   T         2      K2*                   0   \n",
       "20     ASXL1   20  32358785   T         4      K4*                   0   \n",
       "29     ASXL1   20  32358788   T         5      Q5*                   0   \n",
       "38     ASXL1   20  32358791   T         6      K6*                   0   \n",
       "47     ASXL1   20  32358794   T         7      K7*                   0   \n",
       "...      ...  ...       ...  ..       ...      ...                 ...   \n",
       "87811  U2AF1   21  43104401   G        16     V16L                   1   \n",
       "87812  U2AF1   21  43104401   T        16     V16I                   1   \n",
       "87816  U2AF1   21  43107451   A        15     K15I                   1   \n",
       "87817  U2AF1   21  43107451   C        15     K15R                   1   \n",
       "87818  U2AF1   21  43107451   G        15     K15T                   1   \n",
       "\n",
       "       csqn_type_nonsense  csqn_type_splicing  csqn_type_synonymous  \\\n",
       "2                       1                   0                     0   \n",
       "20                      1                   0                     0   \n",
       "29                      1                   0                     0   \n",
       "38                      1                   0                     0   \n",
       "47                      1                   0                     0   \n",
       "...                   ...                 ...                   ...   \n",
       "87811                   0                   0                     0   \n",
       "87812                   0                   0                     0   \n",
       "87816                   0                   0                     0   \n",
       "87817                   0                   0                     0   \n",
       "87818                   0                   0                     0   \n",
       "\n",
       "       boostDM_score  boostDM_class  Niroula  Bick  CNIC  WHO  \n",
       "2           0.989503              1      0.0   0.0   0.0  0.0  \n",
       "20          0.989768              1      0.0   0.0   0.0  0.0  \n",
       "29          0.975674              1      0.0   0.0   0.0  0.0  \n",
       "38          0.991413              1      0.0   0.0   0.0  0.0  \n",
       "47          0.988842              1      0.0   0.0   0.0  0.0  \n",
       "...              ...            ...      ...   ...   ...  ...  \n",
       "87811       0.897579              1      0.0   0.0   0.0  0.0  \n",
       "87812       0.897579              1      0.0   0.0   0.0  0.0  \n",
       "87816       0.508676              1      0.0   0.0   0.0  0.0  \n",
       "87817       0.508676              1      0.0   0.0   0.0  0.0  \n",
       "87818       0.508676              1      0.0   0.0   0.0  0.0  \n",
       "\n",
       "[7772 rows x 16 columns]"
      ]
     },
     "execution_count": 12,
     "metadata": {},
     "output_type": "execute_result"
    }
   ],
   "source": [
    "Rules_matrix = pd.read_csv('../../../../Paper_data/Expert_curated_rules/genes12_BoostdmCH_Harvard_simp_run20230803.tsv.gz', compression='gzip',sep=\"\\t\")\n",
    "BoostDM_dirvers = Rules_matrix[Rules_matrix['boostDM_class']==1]\n",
    "BoostDM_dirvers"
   ]
  },
  {
   "cell_type": "code",
   "execution_count": 13,
   "id": "cb465571-e42f-414d-9c32-43a139f40d40",
   "metadata": {},
   "outputs": [
    {
     "name": "stderr",
     "output_type": "stream",
     "text": [
      "/tmp/jobs/jramis/9874679/ipykernel_5200/2902998688.py:1: SettingWithCopyWarning: \n",
      "A value is trying to be set on a copy of a slice from a DataFrame.\n",
      "Try using .loc[row_indexer,col_indexer] = value instead\n",
      "\n",
      "See the caveats in the documentation: https://pandas.pydata.org/pandas-docs/stable/user_guide/indexing.html#returning-a-view-versus-a-copy\n",
      "  BoostDM_dirvers['ID2'] = BoostDM_dirvers['chr'].astype(str) +\"-\"+\\\n"
     ]
    }
   ],
   "source": [
    "BoostDM_dirvers['ID2'] = BoostDM_dirvers['chr'].astype(str) +\"-\"+\\\n",
    "                            BoostDM_dirvers['pos'].astype(str) +\"-\"+\\\n",
    "                            BoostDM_dirvers['alt'].astype(str)"
   ]
  },
  {
   "cell_type": "code",
   "execution_count": 3,
   "id": "786d6769-86c1-462f-bf40-badb9de69b73",
   "metadata": {},
   "outputs": [],
   "source": [
    "patient_age_40 = patient_age_ch[patient_age_ch['age_recruitment']<41]\n",
    "len(patient_age_40)\n",
    "test = patient_age_40.sample(n=100)\n",
    "test = test.astype({'patient': str}) "
   ]
  },
  {
   "cell_type": "code",
   "execution_count": 13,
   "id": "d36dfb9b-e8a7-4b8f-a4ea-6323264fab61",
   "metadata": {},
   "outputs": [],
   "source": [
    "# Save a list of cases used as normals\n",
    "test.to_csv(\"case_polN.txt\", sep=\"\\t\", index=False)"
   ]
  },
  {
   "cell_type": "code",
   "execution_count": 2,
   "id": "a84318d4-57a8-48fa-8763-683b51076c8c",
   "metadata": {},
   "outputs": [],
   "source": [
    "a = Mutect2_tar_var[Mutect2_tar_var['case'].isin(test['patient'].tolist())]\n",
    "a['Occur'] = [a['rep'].tolist().count(x) for x in a['rep']]\n",
    "blacklist = a[a['Occur']>1]"
   ]
  },
  {
   "cell_type": "code",
   "execution_count": 16,
   "id": "1d3fb37d-6188-4b33-b3f9-1f4dd7d51157",
   "metadata": {},
   "outputs": [
    {
     "name": "stderr",
     "output_type": "stream",
     "text": [
      "/opt/conda/lib/python3.6/site-packages/ipykernel_launcher.py:1: SettingWithCopyWarning: \n",
      "A value is trying to be set on a copy of a slice from a DataFrame.\n",
      "Try using .loc[row_indexer,col_indexer] = value instead\n",
      "\n",
      "See the caveats in the documentation: http://pandas.pydata.org/pandas-docs/stable/user_guide/indexing.html#returning-a-view-versus-a-copy\n",
      "  \"\"\"Entry point for launching an IPython kernel.\n"
     ]
    },
    {
     "data": {
      "text/plain": [
       "0    584\n",
       "Name: BoostDM, dtype: int64"
      ]
     },
     "execution_count": 16,
     "metadata": {},
     "output_type": "execute_result"
    }
   ],
   "source": [
    "blacklist['BoostDM'] = np.where(blacklist['ID2'].isin(BoostDM_dirvers['ID2'].to_list()), 1, 0)\n",
    "blacklist['BoostDM'].value_counts()"
   ]
  },
  {
   "cell_type": "code",
   "execution_count": 17,
   "id": "843ac23a-c398-45a3-9a47-7717d26c44f3",
   "metadata": {},
   "outputs": [
    {
     "data": {
      "text/plain": [
       "115"
      ]
     },
     "execution_count": 17,
     "metadata": {},
     "output_type": "execute_result"
    }
   ],
   "source": [
    "len(set(blacklist['ID2']))"
   ]
  },
  {
   "cell_type": "code",
   "execution_count": 19,
   "id": "193a248c-0f14-497e-bb9e-8df3d5382974",
   "metadata": {},
   "outputs": [
    {
     "data": {
      "text/plain": [
       "DNMT3A    117\n",
       "SF3B1      86\n",
       "TP53       79\n",
       "MDM4       63\n",
       "CHEK2      53\n",
       "GNAS       51\n",
       "TET2       49\n",
       "ASXL1      45\n",
       "SRSF2      14\n",
       "IDH2       14\n",
       "HSCB        9\n",
       "PPM1D       4\n",
       "Name: SYMBOL, dtype: int64"
      ]
     },
     "execution_count": 19,
     "metadata": {},
     "output_type": "execute_result"
    }
   ],
   "source": [
    "blacklist['SYMBOL'].value_counts()"
   ]
  },
  {
   "cell_type": "code",
   "execution_count": 20,
   "id": "95ed3777-c8da-4062-b757-40361befa647",
   "metadata": {},
   "outputs": [
    {
     "data": {
      "text/plain": [
       "intron_variant                          473\n",
       "missense_variant                         33\n",
       "5_prime_UTR_variant                      32\n",
       "synonymous_variant                       20\n",
       "3_prime_UTR_variant                      11\n",
       "upstream_gene_variant                     9\n",
       "splice_region_variant&intron_variant      6\n",
       "Name: Consequence, dtype: int64"
      ]
     },
     "execution_count": 20,
     "metadata": {},
     "output_type": "execute_result"
    }
   ],
   "source": [
    "blacklist.Consequence.value_counts()"
   ]
  },
  {
   "cell_type": "code",
   "execution_count": 21,
   "id": "1a1ec793-5948-4dff-b64d-d99ae91bb14e",
   "metadata": {},
   "outputs": [],
   "source": [
    "blacklist.to_csv(\"polN_v2.vcf\", sep=\"\\t\", index=False, compression='gzip')"
   ]
  },
  {
   "cell_type": "code",
   "execution_count": null,
   "id": "7177d472-1189-4693-b98c-37317e65b036",
   "metadata": {},
   "outputs": [],
   "source": []
  }
 ],
 "metadata": {
  "kernelspec": {
   "display_name": "Python 3 (ipykernel)",
   "language": "python",
   "name": "python3"
  },
  "language_info": {
   "codemirror_mode": {
    "name": "ipython",
    "version": 3
   },
   "file_extension": ".py",
   "mimetype": "text/x-python",
   "name": "python",
   "nbconvert_exporter": "python",
   "pygments_lexer": "ipython3",
   "version": "3.9.7"
  }
 },
 "nbformat": 4,
 "nbformat_minor": 5
}
