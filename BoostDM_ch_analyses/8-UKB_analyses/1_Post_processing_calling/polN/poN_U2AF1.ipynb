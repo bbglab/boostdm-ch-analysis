{
 "cells": [
  {
   "cell_type": "markdown",
   "id": "69d1f4e5",
   "metadata": {},
   "source": [
    "# Generate pull of normals for U2AF1"
   ]
  },
  {
   "cell_type": "code",
   "execution_count": 2,
   "id": "89543ead-4ac7-46e5-86bb-b4e72da6d9cc",
   "metadata": {},
   "outputs": [],
   "source": [
    "import pandas as pd\n",
    "import numpy as np\n",
    "import os\n",
    "import matplotlib.pyplot as plt\n",
    "from io import StringIO\n",
    "import seaborn as sns\n",
    "import scipy.stats as stats\n",
    "pd.set_option('display.max_columns', 150)\n",
    "pd.set_option('display.max_rows', 40)\n",
    "%precision 2\n",
    "\n",
    "\n",
    "import matplotlib as mpl\n",
    "mpl.rcParams['figure.dpi']= 300"
   ]
  },
  {
   "cell_type": "code",
   "execution_count": 3,
   "id": "e8522f9f-e55d-42c7-8e5f-c2c0278c8e1e",
   "metadata": {},
   "outputs": [
    {
     "name": "stdout",
     "output_type": "stream",
     "text": [
      "Rows:502391\n",
      "Columns:['patient', 'age_recruitment', 'age_group']\n",
      "Columns:['61-65', '38-45', '66-72', '56-60', '51-55', '46-50']\n"
     ]
    },
    {
     "data": {
      "text/plain": [
       "469880"
      ]
     },
     "execution_count": 3,
     "metadata": {},
     "output_type": "execute_result"
    }
   ],
   "source": [
    "### Read a file containing 'patient', 'age_recruitment', 'age_group' columns\n",
    "patient_age_ch = pd.read_csv('../patient_450k_age_670124.txt.gz',sep=\"\\t\")\n",
    "print(f'Rows:{len(patient_age_ch)}')\n",
    "print(f'Columns:{list(patient_age_ch.columns)}')\n",
    "print(f'Columns:{list(set(patient_age_ch.age_group))}')\n",
    "\n",
    "### Get a list of the cases analyzed\n",
    "withdraw = pd.read_csv('../w69794_2023-04-25.csv',sep=\"\\t\", header=None)\n",
    "\n",
    "### Get a list of withdrawals from the UKB webpage\n",
    "case = pd.read_csv('../ukb450k_cohort_participants.txt',sep=\"\\t\", header=None)\n",
    "\n",
    "### Remove cases not analyzed or withdrawals\n",
    "patient_age_ch = patient_age_ch[patient_age_ch['patient'].isin(case[0])]\n",
    "patient_age_ch = patient_age_ch[~patient_age_ch['patient'].isin(list(withdraw[0]))].reset_index(drop=True)\n",
    "patient_age_ch = patient_age_ch.astype({\"patient\": str})\n",
    "len(patient_age_ch)"
   ]
  },
  {
   "cell_type": "code",
   "execution_count": 4,
   "id": "ea49e50e-a6ea-4208-b933-ae9d7fa74f5e",
   "metadata": {},
   "outputs": [
    {
     "data": {
      "text/plain": [
       "['U2AF1_wnode1.output', 'U2AF1_wnode2.output']"
      ]
     },
     "execution_count": 4,
     "metadata": {},
     "output_type": "execute_result"
    }
   ],
   "source": [
    "# List files in directory\n",
    "files = os.listdir('/mnt/project/analysis/output/U2AF1/')\n",
    "files = [file for file in files if file.endswith('output')]\n",
    "\n",
    "len(files)\n",
    "files"
   ]
  },
  {
   "cell_type": "code",
   "execution_count": 4,
   "id": "b2cae925-b8d6-4f33-a466-10586d7711b5",
   "metadata": {},
   "outputs": [],
   "source": [
    "off_target = ['intron_variant', 'synonymous_variant', '5_prime_UTR_variant', '3_prime_UTR_variant', 'upstream_gene_variant', 'downstream_gene_variant']\n",
    "\n",
    "Mutect2_tar_var = pd.read_csv('/mnt/project/analysis/output/U2AF1/U2AF1_wnode1.output',sep=\"\\t\")\n",
    "print(len(Mutect2_tar_var))\n",
    "Mutect2_tar_var = Mutect2_tar_var[~Mutect2_tar_var['Consequence'].isin(off_target)]\n",
    "print(len(Mutect2_tar_var))\n",
    "\n",
    "\n",
    "files = ['U2AF1_wnode2.output']\n",
    "\n",
    "Mutect2_tar_var_df = pd.read_csv('/mnt/project/analysis/output/U2AF1/U2AF1_wnode2.output',sep=\"\\t\")\n",
    "print(len(Mutect2_tar_var_df))\n",
    "Mutect2_tar_var_df = Mutect2_tar_var_df[~Mutect2_tar_var_df['Consequence'].isin(off_target)]\n",
    "print(len(Mutect2_tar_var_df))\n",
    "\n",
    "Mutect2_tar_var = pd.concat([Mutect2_tar_var, Mutect2_tar_var_df], ignore_index=True)\n"
   ]
  },
  {
   "cell_type": "code",
   "execution_count": 11,
   "id": "015de8ef-3535-40ff-ba7e-6e21f5d76080",
   "metadata": {},
   "outputs": [],
   "source": [
    "Mutect2_tar_var = Mutect2_tar_var[Mutect2_tar_var['Consequence']!= 'Consequence']"
   ]
  },
  {
   "cell_type": "code",
   "execution_count": 5,
   "id": "2e553ba3-9087-4328-8a1c-3bb0ffe78922",
   "metadata": {},
   "outputs": [],
   "source": [
    "Mutect2_tar_var['case'] = [x.split('/')[-1].split('_')[0] for x in list(Mutect2_tar_var['name_file'])]"
   ]
  },
  {
   "cell_type": "code",
   "execution_count": 13,
   "id": "7a414088-0c46-4d0c-9176-6fa8b3238ab0",
   "metadata": {},
   "outputs": [],
   "source": [
    "Mutect2_tar_var = Mutect2_tar_var.rename(columns={'#CHROM_x': '#CHROM', 'POS_x': 'POS', 'ID_x':'ID', 'REF_x':'REF', 'QUAL_x': 'QUAL', 'FILTER_x': 'FILTER'})\n",
    "Mutect2_tar_var = Mutect2_tar_var.astype({'POS': str, '#CHROM': str, 'REF': str, 'ALT': str, 'case': str}) \n",
    "Mutect2_tar_var['rep'] = Mutect2_tar_var['#CHROM']+':'+Mutect2_tar_var['POS']+','+Mutect2_tar_var['REF']  \n",
    "Mutect2_tar_var['ID2'] = Mutect2_tar_var['#CHROM']+\"-\"+Mutect2_tar_var['POS'].astype(str) +\"-\"+Mutect2_tar_var['ALT']"
   ]
  },
  {
   "cell_type": "code",
   "execution_count": 14,
   "id": "f1a31a2d-dadf-419c-be23-eb2b50c69763",
   "metadata": {},
   "outputs": [
    {
     "data": {
      "text/html": [
       "<div>\n",
       "<style scoped>\n",
       "    .dataframe tbody tr th:only-of-type {\n",
       "        vertical-align: middle;\n",
       "    }\n",
       "\n",
       "    .dataframe tbody tr th {\n",
       "        vertical-align: top;\n",
       "    }\n",
       "\n",
       "    .dataframe thead th {\n",
       "        text-align: right;\n",
       "    }\n",
       "</style>\n",
       "<table border=\"1\" class=\"dataframe\">\n",
       "  <thead>\n",
       "    <tr style=\"text-align: right;\">\n",
       "      <th></th>\n",
       "      <th>gene</th>\n",
       "      <th>chr</th>\n",
       "      <th>pos</th>\n",
       "      <th>alt</th>\n",
       "      <th>Prot_pos</th>\n",
       "      <th>aachange</th>\n",
       "      <th>csqn_type_missense</th>\n",
       "      <th>csqn_type_nonsense</th>\n",
       "      <th>csqn_type_splicing</th>\n",
       "      <th>csqn_type_synonymous</th>\n",
       "      <th>role_Act</th>\n",
       "      <th>role_LoF</th>\n",
       "      <th>boostDM_score</th>\n",
       "      <th>boostDM_class</th>\n",
       "      <th>Niroula</th>\n",
       "      <th>Bick</th>\n",
       "      <th>CNIC</th>\n",
       "    </tr>\n",
       "  </thead>\n",
       "  <tbody>\n",
       "    <tr>\n",
       "      <th>2</th>\n",
       "      <td>ASXL1</td>\n",
       "      <td>20</td>\n",
       "      <td>32358779</td>\n",
       "      <td>T</td>\n",
       "      <td>2</td>\n",
       "      <td>K2*</td>\n",
       "      <td>0</td>\n",
       "      <td>1</td>\n",
       "      <td>0</td>\n",
       "      <td>0</td>\n",
       "      <td>0</td>\n",
       "      <td>1</td>\n",
       "      <td>0.996397</td>\n",
       "      <td>1</td>\n",
       "      <td>0.0</td>\n",
       "      <td>0.0</td>\n",
       "      <td>0.0</td>\n",
       "    </tr>\n",
       "    <tr>\n",
       "      <th>20</th>\n",
       "      <td>ASXL1</td>\n",
       "      <td>20</td>\n",
       "      <td>32358785</td>\n",
       "      <td>T</td>\n",
       "      <td>4</td>\n",
       "      <td>K4*</td>\n",
       "      <td>0</td>\n",
       "      <td>1</td>\n",
       "      <td>0</td>\n",
       "      <td>0</td>\n",
       "      <td>0</td>\n",
       "      <td>1</td>\n",
       "      <td>0.997874</td>\n",
       "      <td>1</td>\n",
       "      <td>0.0</td>\n",
       "      <td>0.0</td>\n",
       "      <td>0.0</td>\n",
       "    </tr>\n",
       "    <tr>\n",
       "      <th>29</th>\n",
       "      <td>ASXL1</td>\n",
       "      <td>20</td>\n",
       "      <td>32358788</td>\n",
       "      <td>T</td>\n",
       "      <td>5</td>\n",
       "      <td>Q5*</td>\n",
       "      <td>0</td>\n",
       "      <td>1</td>\n",
       "      <td>0</td>\n",
       "      <td>0</td>\n",
       "      <td>0</td>\n",
       "      <td>1</td>\n",
       "      <td>0.993813</td>\n",
       "      <td>1</td>\n",
       "      <td>0.0</td>\n",
       "      <td>0.0</td>\n",
       "      <td>0.0</td>\n",
       "    </tr>\n",
       "    <tr>\n",
       "      <th>38</th>\n",
       "      <td>ASXL1</td>\n",
       "      <td>20</td>\n",
       "      <td>32358791</td>\n",
       "      <td>T</td>\n",
       "      <td>6</td>\n",
       "      <td>K6*</td>\n",
       "      <td>0</td>\n",
       "      <td>1</td>\n",
       "      <td>0</td>\n",
       "      <td>0</td>\n",
       "      <td>0</td>\n",
       "      <td>1</td>\n",
       "      <td>0.997998</td>\n",
       "      <td>1</td>\n",
       "      <td>0.0</td>\n",
       "      <td>0.0</td>\n",
       "      <td>0.0</td>\n",
       "    </tr>\n",
       "    <tr>\n",
       "      <th>47</th>\n",
       "      <td>ASXL1</td>\n",
       "      <td>20</td>\n",
       "      <td>32358794</td>\n",
       "      <td>T</td>\n",
       "      <td>7</td>\n",
       "      <td>K7*</td>\n",
       "      <td>0</td>\n",
       "      <td>1</td>\n",
       "      <td>0</td>\n",
       "      <td>0</td>\n",
       "      <td>0</td>\n",
       "      <td>1</td>\n",
       "      <td>0.997686</td>\n",
       "      <td>1</td>\n",
       "      <td>0.0</td>\n",
       "      <td>0.0</td>\n",
       "      <td>0.0</td>\n",
       "    </tr>\n",
       "    <tr>\n",
       "      <th>...</th>\n",
       "      <td>...</td>\n",
       "      <td>...</td>\n",
       "      <td>...</td>\n",
       "      <td>...</td>\n",
       "      <td>...</td>\n",
       "      <td>...</td>\n",
       "      <td>...</td>\n",
       "      <td>...</td>\n",
       "      <td>...</td>\n",
       "      <td>...</td>\n",
       "      <td>...</td>\n",
       "      <td>...</td>\n",
       "      <td>...</td>\n",
       "      <td>...</td>\n",
       "      <td>...</td>\n",
       "      <td>...</td>\n",
       "      <td>...</td>\n",
       "    </tr>\n",
       "    <tr>\n",
       "      <th>87808</th>\n",
       "      <td>U2AF1</td>\n",
       "      <td>21</td>\n",
       "      <td>43104400</td>\n",
       "      <td>G</td>\n",
       "      <td>16</td>\n",
       "      <td>V16A</td>\n",
       "      <td>1</td>\n",
       "      <td>0</td>\n",
       "      <td>0</td>\n",
       "      <td>0</td>\n",
       "      <td>1</td>\n",
       "      <td>0</td>\n",
       "      <td>0.542636</td>\n",
       "      <td>1</td>\n",
       "      <td>0.0</td>\n",
       "      <td>0.0</td>\n",
       "      <td>0.0</td>\n",
       "    </tr>\n",
       "    <tr>\n",
       "      <th>87809</th>\n",
       "      <td>U2AF1</td>\n",
       "      <td>21</td>\n",
       "      <td>43104400</td>\n",
       "      <td>T</td>\n",
       "      <td>16</td>\n",
       "      <td>V16D</td>\n",
       "      <td>1</td>\n",
       "      <td>0</td>\n",
       "      <td>0</td>\n",
       "      <td>0</td>\n",
       "      <td>1</td>\n",
       "      <td>0</td>\n",
       "      <td>0.542636</td>\n",
       "      <td>1</td>\n",
       "      <td>0.0</td>\n",
       "      <td>0.0</td>\n",
       "      <td>0.0</td>\n",
       "    </tr>\n",
       "    <tr>\n",
       "      <th>87810</th>\n",
       "      <td>U2AF1</td>\n",
       "      <td>21</td>\n",
       "      <td>43104401</td>\n",
       "      <td>A</td>\n",
       "      <td>16</td>\n",
       "      <td>V16F</td>\n",
       "      <td>1</td>\n",
       "      <td>0</td>\n",
       "      <td>0</td>\n",
       "      <td>0</td>\n",
       "      <td>1</td>\n",
       "      <td>0</td>\n",
       "      <td>0.701533</td>\n",
       "      <td>1</td>\n",
       "      <td>0.0</td>\n",
       "      <td>0.0</td>\n",
       "      <td>0.0</td>\n",
       "    </tr>\n",
       "    <tr>\n",
       "      <th>87811</th>\n",
       "      <td>U2AF1</td>\n",
       "      <td>21</td>\n",
       "      <td>43104401</td>\n",
       "      <td>G</td>\n",
       "      <td>16</td>\n",
       "      <td>V16L</td>\n",
       "      <td>1</td>\n",
       "      <td>0</td>\n",
       "      <td>0</td>\n",
       "      <td>0</td>\n",
       "      <td>1</td>\n",
       "      <td>0</td>\n",
       "      <td>0.701533</td>\n",
       "      <td>1</td>\n",
       "      <td>0.0</td>\n",
       "      <td>0.0</td>\n",
       "      <td>0.0</td>\n",
       "    </tr>\n",
       "    <tr>\n",
       "      <th>87812</th>\n",
       "      <td>U2AF1</td>\n",
       "      <td>21</td>\n",
       "      <td>43104401</td>\n",
       "      <td>T</td>\n",
       "      <td>16</td>\n",
       "      <td>V16I</td>\n",
       "      <td>1</td>\n",
       "      <td>0</td>\n",
       "      <td>0</td>\n",
       "      <td>0</td>\n",
       "      <td>1</td>\n",
       "      <td>0</td>\n",
       "      <td>0.701533</td>\n",
       "      <td>1</td>\n",
       "      <td>0.0</td>\n",
       "      <td>0.0</td>\n",
       "      <td>0.0</td>\n",
       "    </tr>\n",
       "  </tbody>\n",
       "</table>\n",
       "<p>7631 rows × 17 columns</p>\n",
       "</div>"
      ],
      "text/plain": [
       "        gene  chr       pos alt  Prot_pos aachange  csqn_type_missense  \\\n",
       "2      ASXL1   20  32358779   T         2      K2*                   0   \n",
       "20     ASXL1   20  32358785   T         4      K4*                   0   \n",
       "29     ASXL1   20  32358788   T         5      Q5*                   0   \n",
       "38     ASXL1   20  32358791   T         6      K6*                   0   \n",
       "47     ASXL1   20  32358794   T         7      K7*                   0   \n",
       "...      ...  ...       ...  ..       ...      ...                 ...   \n",
       "87808  U2AF1   21  43104400   G        16     V16A                   1   \n",
       "87809  U2AF1   21  43104400   T        16     V16D                   1   \n",
       "87810  U2AF1   21  43104401   A        16     V16F                   1   \n",
       "87811  U2AF1   21  43104401   G        16     V16L                   1   \n",
       "87812  U2AF1   21  43104401   T        16     V16I                   1   \n",
       "\n",
       "       csqn_type_nonsense  csqn_type_splicing  csqn_type_synonymous  role_Act  \\\n",
       "2                       1                   0                     0         0   \n",
       "20                      1                   0                     0         0   \n",
       "29                      1                   0                     0         0   \n",
       "38                      1                   0                     0         0   \n",
       "47                      1                   0                     0         0   \n",
       "...                   ...                 ...                   ...       ...   \n",
       "87808                   0                   0                     0         1   \n",
       "87809                   0                   0                     0         1   \n",
       "87810                   0                   0                     0         1   \n",
       "87811                   0                   0                     0         1   \n",
       "87812                   0                   0                     0         1   \n",
       "\n",
       "       role_LoF  boostDM_score  boostDM_class  Niroula  Bick  CNIC  \n",
       "2             1       0.996397              1      0.0   0.0   0.0  \n",
       "20            1       0.997874              1      0.0   0.0   0.0  \n",
       "29            1       0.993813              1      0.0   0.0   0.0  \n",
       "38            1       0.997998              1      0.0   0.0   0.0  \n",
       "47            1       0.997686              1      0.0   0.0   0.0  \n",
       "...         ...            ...            ...      ...   ...   ...  \n",
       "87808         0       0.542636              1      0.0   0.0   0.0  \n",
       "87809         0       0.542636              1      0.0   0.0   0.0  \n",
       "87810         0       0.701533              1      0.0   0.0   0.0  \n",
       "87811         0       0.701533              1      0.0   0.0   0.0  \n",
       "87812         0       0.701533              1      0.0   0.0   0.0  \n",
       "\n",
       "[7631 rows x 17 columns]"
      ]
     },
     "execution_count": 14,
     "metadata": {},
     "output_type": "execute_result"
    }
   ],
   "source": [
    "Rules_matrix = pd.read_csv('/mnt/project/analysis_jupyter_nb/NGS_pipeline/genes12_BoostdmCH_Harvard_simp.tsv.gz', compression='gzip',sep=\"\\t\")\n",
    "BoostDM_dirvers = Rules_matrix[Rules_matrix['boostDM_class']==1]\n",
    "BoostDM_dirvers"
   ]
  },
  {
   "cell_type": "code",
   "execution_count": 15,
   "id": "b8a96c89-9c86-49ef-b318-51bd3bb61d2a",
   "metadata": {},
   "outputs": [
    {
     "name": "stderr",
     "output_type": "stream",
     "text": [
      "/opt/conda/lib/python3.6/site-packages/ipykernel_launcher.py:3: SettingWithCopyWarning: \n",
      "A value is trying to be set on a copy of a slice from a DataFrame.\n",
      "Try using .loc[row_indexer,col_indexer] = value instead\n",
      "\n",
      "See the caveats in the documentation: http://pandas.pydata.org/pandas-docs/stable/user_guide/indexing.html#returning-a-view-versus-a-copy\n",
      "  This is separate from the ipykernel package so we can avoid doing imports until\n"
     ]
    }
   ],
   "source": [
    "BoostDM_dirvers['ID2'] = BoostDM_dirvers['chr'].astype(str) +\"-\"+\\\n",
    "                            BoostDM_dirvers['pos'].astype(str) +\"-\"+\\\n",
    "                            BoostDM_dirvers['alt'].astype(str)"
   ]
  },
  {
   "cell_type": "code",
   "execution_count": 6,
   "id": "1caa11a2-2392-4a3b-8704-ce5be3f48790",
   "metadata": {},
   "outputs": [],
   "source": [
    "test = pd.read_csv('/mnt/project/analysis_jupyter_nb/panel_normals/case_polN.txt',sep=\"\\t\")"
   ]
  },
  {
   "cell_type": "code",
   "execution_count": 7,
   "id": "9f515fa1-029d-4039-9d5d-5c24fe5290e6",
   "metadata": {},
   "outputs": [],
   "source": [
    "Mutect2_tar_var[Mutect2_tar_var['case'].astype(str).isin(test['patient'].astype(str).tolist())]"
   ]
  },
  {
   "cell_type": "code",
   "execution_count": 8,
   "id": "94ab00a9-dd71-4e62-b601-bc2bd3d5c67c",
   "metadata": {},
   "outputs": [],
   "source": [
    "a = Mutect2_tar_var[Mutect2_tar_var['case'].astype(str).isin(test['patient'].astype(str).tolist())]\n",
    "a['Occur'] = [a['rep'].tolist().count(x) for x in a['rep']]\n",
    "blacklist = a[a['Occur']>1]"
   ]
  },
  {
   "cell_type": "code",
   "execution_count": 27,
   "id": "28b7f3fe-ed99-4d3f-a387-7fd87a54835e",
   "metadata": {},
   "outputs": [
    {
     "data": {
      "text/plain": [
       "0    53\n",
       "Name: BoostDM, dtype: int64"
      ]
     },
     "execution_count": 27,
     "metadata": {},
     "output_type": "execute_result"
    }
   ],
   "source": [
    "blacklist['BoostDM'] = np.where(blacklist['ID2'].isin(BoostDM_dirvers['ID2'].to_list()), 1, 0)\n",
    "blacklist['BoostDM'].value_counts()"
   ]
  },
  {
   "cell_type": "code",
   "execution_count": 28,
   "id": "3e605ed3-aef2-4d73-98f9-7ca49f810923",
   "metadata": {},
   "outputs": [
    {
     "data": {
      "text/plain": [
       "2"
      ]
     },
     "execution_count": 28,
     "metadata": {},
     "output_type": "execute_result"
    }
   ],
   "source": [
    "len(set(blacklist['ID2']))"
   ]
  },
  {
   "cell_type": "code",
   "execution_count": 29,
   "id": "c1209ac9-fa4f-4b15-a6e4-d9d99aad6abc",
   "metadata": {},
   "outputs": [
    {
     "data": {
      "text/plain": [
       "U2AF1    53\n",
       "Name: SYMBOL, dtype: int64"
      ]
     },
     "execution_count": 29,
     "metadata": {},
     "output_type": "execute_result"
    }
   ],
   "source": [
    "blacklist[blacklist['Consequence']=='missense_variant']['SYMBOL'].value_counts()"
   ]
  },
  {
   "cell_type": "code",
   "execution_count": 30,
   "id": "06b56cca-81a1-47f4-a141-03e8db006e81",
   "metadata": {},
   "outputs": [
    {
     "data": {
      "text/plain": [
       "missense_variant    53\n",
       "Name: Consequence, dtype: int64"
      ]
     },
     "execution_count": 30,
     "metadata": {},
     "output_type": "execute_result"
    }
   ],
   "source": [
    "blacklist.Consequence.value_counts()"
   ]
  },
  {
   "cell_type": "code",
   "execution_count": 31,
   "id": "8dc5651f-4de2-476a-b0e2-26344b4c49ca",
   "metadata": {},
   "outputs": [],
   "source": [
    "blacklist.to_csv(\"polN_U2AF1_v2.vcf\", sep=\"\\t\", index=False, compression='gzip')"
   ]
  },
  {
   "cell_type": "code",
   "execution_count": null,
   "id": "49a440d8-96e8-4f53-8bab-dd5eb77b853a",
   "metadata": {},
   "outputs": [],
   "source": []
  }
 ],
 "metadata": {
  "kernelspec": {
   "display_name": "Python 3 (ipykernel)",
   "language": "python",
   "name": "python3"
  },
  "language_info": {
   "codemirror_mode": {
    "name": "ipython",
    "version": 3
   },
   "file_extension": ".py",
   "mimetype": "text/x-python",
   "name": "python",
   "nbconvert_exporter": "python",
   "pygments_lexer": "ipython3",
   "version": "3.9.7"
  }
 },
 "nbformat": 4,
 "nbformat_minor": 5
}
