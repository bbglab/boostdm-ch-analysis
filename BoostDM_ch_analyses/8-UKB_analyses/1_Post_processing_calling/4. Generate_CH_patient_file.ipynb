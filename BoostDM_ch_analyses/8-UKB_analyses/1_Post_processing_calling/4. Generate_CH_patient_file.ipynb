{
 "cells": [
  {
   "cell_type": "markdown",
   "id": "b3a38a2e-fed8-4c64-a9e1-24c8d3df5674",
   "metadata": {},
   "source": [
    "# Generate matrix with CH information per case"
   ]
  },
  {
   "cell_type": "code",
   "execution_count": 16,
   "id": "5709951b-bd60-4cbf-b7ee-3ac3de98e699",
   "metadata": {},
   "outputs": [],
   "source": [
    "import pandas as pd\n",
    "import numpy as np\n",
    "import os\n",
    "import matplotlib.pyplot as plt\n",
    "from io import StringIO\n",
    "import seaborn as sns\n",
    "import scipy.stats as stats\n",
    "pd.set_option('display.max_columns', 150)\n",
    "pd.set_option('display.max_rows', 40)\n",
    "%precision 2\n",
    "\n",
    "\n",
    "import matplotlib as mpl\n",
    "mpl.rcParams['figure.dpi']= 300"
   ]
  },
  {
   "cell_type": "code",
   "execution_count": 17,
   "id": "fa01a0b1-7279-4b25-baa4-983175d95ce3",
   "metadata": {},
   "outputs": [
    {
     "name": "stdout",
     "output_type": "stream",
     "text": [
      "Rows:502391\n",
      "Columns:['patient', 'age_recruitment', 'age_group']\n",
      "Columns:['56-60', '51-55', '38-45', '61-65', '46-50', '66-72']\n"
     ]
    }
   ],
   "source": [
    "### Read a file containing 'patient', 'age_recruitment', 'age_group' columns\n",
    "patient_age_ch = pd.read_csv('patient_450k_age_670124.txt.gz',sep=\"\\t\")\n",
    "print(f'Rows:{len(patient_age_ch)}')\n",
    "print(f'Columns:{list(patient_age_ch.columns)}')\n",
    "print(f'Columns:{list(set(patient_age_ch.age_group))}')"
   ]
  },
  {
   "cell_type": "code",
   "execution_count": 15,
   "id": "185cf450-ba6f-439c-ab15-137228a5ed25",
   "metadata": {},
   "outputs": [
    {
     "data": {
      "text/plain": [
       "469880"
      ]
     },
     "execution_count": 15,
     "metadata": {},
     "output_type": "execute_result"
    }
   ],
   "source": [
    "### Get a list of the cases analyzed\n",
    "withdraw = pd.read_csv('w69794_2023-04-25.csv',sep=\"\\t\", header=None)\n",
    "\n",
    "### Get a list of withdrawals from the UKB webpage\n",
    "case = pd.read_csv('ukb450k_cohort_participants.txt',sep=\"\\t\", header=None)\n",
    "\n",
    "### Remove cases not analyzed or withdrawals\n",
    "patient_age_ch = patient_age_ch[patient_age_ch['patient'].isin(case[0])]\n",
    "patient_age_ch = patient_age_ch[~patient_age_ch['patient'].isin(list(withdraw[0]))].reset_index(drop=True)\n",
    "len(patient_age_ch)"
   ]
  },
  {
   "cell_type": "code",
   "execution_count": 18,
   "id": "be1ccdb3-90f6-4f4a-b523-4a3f8405be89",
   "metadata": {},
   "outputs": [
    {
     "name": "stderr",
     "output_type": "stream",
     "text": [
      "/tmp/jobs/jramis/9874679/ipykernel_56557/652943744.py:2: DtypeWarning: Columns (36,37,38,44,45,46) have mixed types. Specify dtype option on import or set low_memory=False.\n",
      "  patient_cancer = pd.read_csv('../../../Paper_data/UKB_clinic_info/cancer_ukb450k_670124.txt.gz', sep=\"\\t\")\n"
     ]
    },
    {
     "data": {
      "text/plain": [
       "Index(['patient', 'age_recruitment_x', 'age_group_x', 'age_recruitment_y',\n",
       "       'age_group_y', 'eid', 'cancer', 'cancer2+', 'age_1cancer',\n",
       "       'years_tocancer1', 'cancer1_pre', 'type_1cancer', 'hemato_cancer',\n",
       "       'hematocancer_icd10_type', 'hematocancer_icd10_age',\n",
       "       'hematocancer_icd9_type', 'hematocancer_icd9_age', 'hematocancer_type',\n",
       "       'hematocancer_age', 'hematocancer_icd10_date', 'hematocancer_icd9_date',\n",
       "       'hematocancer_date', 'yearsto_hematocan', 'hemato_cancer_post',\n",
       "       'hemato_cancer_pre', 'yearsto_hematocan_dates',\n",
       "       'hemato_cancer_post_dates', 'hemato_cancer_pre_dates', 'hemato_1cancer',\n",
       "       'hemato_cancer_class', 'lymphoid_myeloid', 'lymphoid_cancer_post',\n",
       "       'myeloid_cancer_post', '40005-0.0', '40005-1.0', '40005-2.0',\n",
       "       '40005-3.0', '40005-4.0', '40005-5.0', '40005-6.0', '40005-7.0',\n",
       "       '40006-0.0', '40006-1.0', '40006-2.0', '40006-3.0', '40006-4.0',\n",
       "       '40006-5.0', '40006-6.0', '40006-7.0', '40008-0.0', '40008-1.0',\n",
       "       '40008-2.0', '40008-3.0', '40008-4.0', '40008-5.0', '40008-6.0',\n",
       "       '40008-7.0', '40013-0.0', '40013-1.0', '40013-2.0', '40013-3.0',\n",
       "       '40013-4.0', '40013-5.0', '40013-6.0', '40013-7.0', '40009-0.0',\n",
       "       '31-0.0', '53-0.0', '53-1.0', '53-2.0', '53-3.0', '21003-0.0',\n",
       "       '21003-1.0', '21003-2.0', '21003-3.0', '21022-0.0', '22009-0.1',\n",
       "       '22009-0.2', '22009-0.3', '22009-0.4', '22009-0.5', '22009-0.6',\n",
       "       '22009-0.7', '22009-0.8', '22009-0.9', '22009-0.10'],\n",
       "      dtype='object')"
      ]
     },
     "execution_count": 18,
     "metadata": {},
     "output_type": "execute_result"
    }
   ],
   "source": [
    "### Read cancer information matrix\n",
    "patient_cancer = pd.read_csv('cancer_ukb450k_670124.txt.gz', sep=\"\\t\")\n",
    "ukb200K_ch_cancer = pd.merge(patient_age_ch, patient_cancer,  how='inner', on='patient')\n",
    "ukb200K_ch_cancer.columns"
   ]
  },
  {
   "cell_type": "code",
   "execution_count": 19,
   "id": "e966901c-4178-4296-9cb7-c6d4e23b05af",
   "metadata": {
    "tags": []
   },
   "outputs": [
    {
     "data": {
      "text/plain": [
       "203351"
      ]
     },
     "execution_count": 19,
     "metadata": {},
     "output_type": "execute_result"
    }
   ],
   "source": [
    "### Upload BoostDM mutations\n",
    "boostDM_predictions = pd.read_csv('All450k_filtered_boostDM_ALL_age_20230802_v3.vcf', sep=\"\\t\", compression='gzip')\n",
    "boostDM_predictions = boostDM_predictions.rename(columns={'case': 'patient', 'BoostDM':'Drivers_12genes'})\n",
    "boostDM_predictions = boostDM_predictions[~boostDM_predictions['Prot_pos'].isna()]\n",
    "boostDM_predictions = boostDM_predictions[~boostDM_predictions['Consequence'].isin(['start_lost', 'stop_lost', 'stop_retained_variant'])]\n",
    "boostDM_predictions = boostDM_predictions[boostDM_predictions['patient'].isin(patient_age_ch['patient'])]\n",
    "boostDM_predictions = boostDM_predictions[~boostDM_predictions['ALT'].str.contains(',')]\n",
    "boostDM_predictions = boostDM_predictions[boostDM_predictions['DP']>=10]\n",
    "len(boostDM_predictions)"
   ]
  },
  {
   "cell_type": "code",
   "execution_count": 37,
   "id": "0cbbd9e6-4f00-4bf2-a008-8f8ef3aa32e5",
   "metadata": {},
   "outputs": [
    {
     "name": "stdout",
     "output_type": "stream",
     "text": [
      "203351\n",
      "65849\n",
      "137502\n"
     ]
    }
   ],
   "source": [
    "# list of patients with potential CH mutation\n",
    "patients_potentialCH = boostDM_predictions['patient'].to_list()\n",
    "print(len(patients_potentialCH))\n",
    "patients_potentialCH_big = boostDM_predictions[boostDM_predictions['VAF_alt']>=0.10]['patient'].to_list()\n",
    "print(len(patients_potentialCH_big))\n",
    "patients_potentialCH_small = boostDM_predictions[boostDM_predictions['VAF_alt']<0.10]['patient'].to_list()\n",
    "print(len(patients_potentialCH_small))"
   ]
  },
  {
   "cell_type": "code",
   "execution_count": 38,
   "id": "04856021-7f68-4383-a74d-a4cfe65b528e",
   "metadata": {},
   "outputs": [
    {
     "name": "stdout",
     "output_type": "stream",
     "text": [
      "41805\n",
      "11491\n",
      "30314\n"
     ]
    }
   ],
   "source": [
    "# list of patients with BoostDM driver\n",
    "patients_CHdrivers = boostDM_predictions[boostDM_predictions['Drivers_12genes'] == 1]['patient'].to_list()\n",
    "print(len(patients_CHdrivers))\n",
    "patients_CHdrivers_big = boostDM_predictions[(boostDM_predictions['Drivers_12genes']==1) & (boostDM_predictions['VAF_alt']>=0.10)]['patient'].to_list()\n",
    "print(len(patients_CHdrivers_big))\n",
    "patients_CHdrivers_small = boostDM_predictions[(boostDM_predictions['Drivers_12genes']==1) & (boostDM_predictions['VAF_alt']<0.10)]['patient'].to_list()\n",
    "print(len(patients_CHdrivers_small))"
   ]
  },
  {
   "cell_type": "code",
   "execution_count": 39,
   "id": "218cf21b-2f13-460a-8562-67468e43afa5",
   "metadata": {},
   "outputs": [
    {
     "name": "stdout",
     "output_type": "stream",
     "text": [
      "161546\n",
      "54358\n",
      "107188\n"
     ]
    }
   ],
   "source": [
    "# list of patients with BoostDM passengers\n",
    "patients_CH_passengers = boostDM_predictions[boostDM_predictions['Drivers_12genes'] == 0]['patient'].to_list()\n",
    "print(len(patients_CH_passengers))\n",
    "patients_CH_passengers_big = boostDM_predictions[(boostDM_predictions['Drivers_12genes']==0) & (boostDM_predictions['VAF_alt']>=0.10)]['patient'].to_list()\n",
    "print(len(patients_CH_passengers_big))\n",
    "patients_CH_passengers_small = boostDM_predictions[(boostDM_predictions['Drivers_12genes']==0) & (boostDM_predictions['VAF_alt']<0.10)]['patient'].to_list()\n",
    "print(len(patients_CH_passengers_small))"
   ]
  },
  {
   "cell_type": "code",
   "execution_count": 40,
   "id": "5b9b71e1-8fb9-4577-8ef0-0db46bd5e6b5",
   "metadata": {
    "tags": []
   },
   "outputs": [
    {
     "data": {
      "text/plain": [
       "0    431328\n",
       "1     38552\n",
       "Name: CH_driver, dtype: int64"
      ]
     },
     "execution_count": 40,
     "metadata": {},
     "output_type": "execute_result"
    }
   ],
   "source": [
    "patient_age_ch['CH_driver'] = np.where(patient_age_ch['patient'].isin(patients_CHdrivers), 1, 0)\n",
    "patient_age_ch['CH_driver'].value_counts()"
   ]
  },
  {
   "cell_type": "code",
   "execution_count": 41,
   "id": "7823549f-69f0-4d0f-83aa-41643d9ac284",
   "metadata": {},
   "outputs": [
    {
     "data": {
      "text/plain": [
       "0    458884\n",
       "1     10996\n",
       "Name: CH_driver_big, dtype: int64"
      ]
     },
     "execution_count": 41,
     "metadata": {},
     "output_type": "execute_result"
    }
   ],
   "source": [
    "# Add to table num of drivers\n",
    "patient_age_ch['CH_driver_big'] = np.where(patient_age_ch['patient'].isin(patients_CHdrivers_big), 1, 0)\n",
    "patient_age_ch['CH_driver_big'].value_counts()"
   ]
  },
  {
   "cell_type": "code",
   "execution_count": 42,
   "id": "a7040ac1-cd0c-4b78-93f6-0995555eb7f7",
   "metadata": {},
   "outputs": [
    {
     "data": {
      "text/plain": [
       "0    441361\n",
       "1     28519\n",
       "Name: CH_driver_small, dtype: int64"
      ]
     },
     "execution_count": 42,
     "metadata": {},
     "output_type": "execute_result"
    }
   ],
   "source": [
    "# Add to table num of drivers\n",
    "patient_age_ch['CH_driver_small'] = np.where(patient_age_ch['patient'].isin(patients_CHdrivers_small), 1, 0)\n",
    "patient_age_ch['CH_driver_small'].value_counts()"
   ]
  },
  {
   "cell_type": "code",
   "execution_count": 43,
   "id": "1d6e9f2e-61bc-4752-bf3f-1a356c368e21",
   "metadata": {},
   "outputs": [
    {
     "data": {
      "text/plain": [
       "0    320762\n",
       "1    149118\n",
       "Name: CH_potential, dtype: int64"
      ]
     },
     "execution_count": 43,
     "metadata": {},
     "output_type": "execute_result"
    }
   ],
   "source": [
    "#Add cases with potential CH mutations\n",
    "patient_age_ch['CH_potential'] = np.where(patient_age_ch['patient'].isin(patients_potentialCH), 1, 0)\n",
    "patient_age_ch['CH_potential'].value_counts()"
   ]
  },
  {
   "cell_type": "code",
   "execution_count": 44,
   "id": "31298ac0-6b39-40f1-80b8-92a1c3b189cb",
   "metadata": {},
   "outputs": [
    {
     "data": {
      "text/plain": [
       "0    347227\n",
       "1    122653\n",
       "Name: CH_passengers, dtype: int64"
      ]
     },
     "execution_count": 44,
     "metadata": {},
     "output_type": "execute_result"
    }
   ],
   "source": [
    "#Add cases with potential\n",
    "patient_age_ch['CH_passengers'] = np.where(patient_age_ch['patient'].isin(patients_CH_passengers), 1, 0)\n",
    "patient_age_ch['CH_passengers'].value_counts()"
   ]
  },
  {
   "cell_type": "code",
   "execution_count": 45,
   "id": "31cb477f-70d8-4194-9e68-12705ffc25ce",
   "metadata": {
    "tags": []
   },
   "outputs": [
    {
     "name": "stderr",
     "output_type": "stream",
     "text": [
      "/tmp/jobs/jramis/9757876/ipykernel_1373021/1383614074.py:1: TqdmDeprecationWarning: This function will be removed in tqdm==5.0.0\n",
      "Please use `tqdm.notebook.*` instead of `tqdm._tqdm_notebook.*`\n",
      "  from tqdm._tqdm_notebook import tqdm_notebook\n"
     ]
    }
   ],
   "source": [
    "from tqdm._tqdm_notebook import tqdm_notebook\n",
    "tqdm_notebook.pandas()"
   ]
  },
  {
   "cell_type": "code",
   "execution_count": 46,
   "id": "6f7e36a9-c899-4cd7-848f-4128d98bb760",
   "metadata": {},
   "outputs": [
    {
     "data": {
      "application/vnd.jupyter.widget-view+json": {
       "model_id": "1af318fef7d24d1db01c1d8ee56ce3fd",
       "version_major": 2,
       "version_minor": 0
      },
      "text/plain": [
       "  0%|          | 0/469880 [00:00<?, ?it/s]"
      ]
     },
     "metadata": {},
     "output_type": "display_data"
    },
    {
     "data": {
      "text/plain": [
       "0    431328\n",
       "1     35645\n",
       "2      2632\n",
       "3       227\n",
       "4        35\n",
       "6         6\n",
       "5         5\n",
       "7         2\n",
       "Name: num_CH_drivers, dtype: int64"
      ]
     },
     "execution_count": 46,
     "metadata": {},
     "output_type": "execute_result"
    }
   ],
   "source": [
    "# Add num of drivers\n",
    "patient_age_ch['num_CH_drivers'] = patient_age_ch['patient'].progress_apply(lambda x: patients_CHdrivers.count(x) if x in patients_CHdrivers else 0)\n",
    "patient_age_ch['num_CH_drivers'].value_counts()"
   ]
  },
  {
   "cell_type": "code",
   "execution_count": 47,
   "id": "f4a85609-adc5-40f9-b72e-e64086ed5a86",
   "metadata": {},
   "outputs": [
    {
     "data": {
      "application/vnd.jupyter.widget-view+json": {
       "model_id": "bf0ef870e4d648429495d1682fc14874",
       "version_major": 2,
       "version_minor": 0
      },
      "text/plain": [
       "  0%|          | 0/469880 [00:00<?, ?it/s]"
      ]
     },
     "metadata": {},
     "output_type": "display_data"
    },
    {
     "data": {
      "text/plain": [
       "0    466973\n",
       "1      2907\n",
       "Name: CH_driver_multiple, dtype: int64"
      ]
     },
     "execution_count": 47,
     "metadata": {},
     "output_type": "execute_result"
    }
   ],
   "source": [
    "# Add column if case have more than 1 driver mutations\n",
    "patient_age_ch['CH_driver_multiple'] = patient_age_ch['num_CH_drivers'].progress_apply(lambda x: 1 if x > 1 else 0)\n",
    "patient_age_ch['CH_driver_multiple'].value_counts()"
   ]
  },
  {
   "cell_type": "code",
   "execution_count": 48,
   "id": "5421ca25-1256-4166-82f6-58b2610bac33",
   "metadata": {},
   "outputs": [
    {
     "data": {
      "application/vnd.jupyter.widget-view+json": {
       "model_id": "da2b51fd9edc449ba1b562f868527315",
       "version_major": 2,
       "version_minor": 0
      },
      "text/plain": [
       "  0%|          | 0/469880 [00:00<?, ?it/s]"
      ]
     },
     "metadata": {},
     "output_type": "display_data"
    },
    {
     "data": {
      "text/plain": [
       "0     320762\n",
       "1     114167\n",
       "2      25978\n",
       "3       5718\n",
       "4       1560\n",
       "5        577\n",
       "6        303\n",
       "7        192\n",
       "8        122\n",
       "9         93\n",
       "10        83\n",
       "11        45\n",
       "12        42\n",
       "14        41\n",
       "13        37\n",
       "16        23\n",
       "15        21\n",
       "19        19\n",
       "18        17\n",
       "20        15\n",
       "17        15\n",
       "21        14\n",
       "22         9\n",
       "26         8\n",
       "24         6\n",
       "25         5\n",
       "23         3\n",
       "27         2\n",
       "28         1\n",
       "34         1\n",
       "31         1\n",
       "Name: num_CH_potential, dtype: int64"
      ]
     },
     "execution_count": 48,
     "metadata": {},
     "output_type": "execute_result"
    }
   ],
   "source": [
    "# Add num of drivers\n",
    "patient_age_ch['num_CH_potential'] = patient_age_ch['patient'].progress_apply(lambda x: patients_potentialCH.count(x) if x in patients_potentialCH else 0)\n",
    "patient_age_ch['num_CH_potential'].value_counts()"
   ]
  },
  {
   "cell_type": "code",
   "execution_count": 49,
   "id": "9afdfce8-aabd-4599-a18f-31d1cd96c194",
   "metadata": {},
   "outputs": [],
   "source": [
    "genes12 = ['ASXL1', 'CHEK2', 'DNMT3A', 'GNAS', 'IDH2', 'MDM4', 'PPM1D', 'SF3B1', 'SRSF2', 'TET2', 'TP53', 'U2AF1']"
   ]
  },
  {
   "cell_type": "code",
   "execution_count": 50,
   "id": "d234712f-04ba-483c-8e3e-6053e2149f99",
   "metadata": {
    "tags": []
   },
   "outputs": [
    {
     "name": "stdout",
     "output_type": "stream",
     "text": [
      "ASXL1 2463 29747 31883\n",
      "CHEK2 2232 8544 10405\n",
      "DNMT3A 20957 14748 34748\n",
      "GNAS 254 18879 19121\n",
      "IDH2 135 7521 7652\n",
      "MDM4 115 6428 6539\n",
      "PPM1D 903 12454 13305\n",
      "SF3B1 723 8357 9058\n",
      "SRSF2 575 5260 5828\n",
      "TET2 9598 28271 36809\n",
      "TP53 2192 6364 8484\n",
      "U2AF1 465 4910 5363\n"
     ]
    }
   ],
   "source": [
    "# Get patients with CH mutation in the gene\n",
    "\n",
    "for i in genes12:\n",
    "    \n",
    "    gene_CH_patient = boostDM_predictions[boostDM_predictions['SYMBOL'] == i]\n",
    "    \n",
    "    gene_CH_patient_drivers = set(gene_CH_patient[gene_CH_patient['Drivers_12genes'] == 1]['patient'].to_list())\n",
    "    patient_age_ch[i+'_driver'] = np.where(patient_age_ch['patient'].isin(gene_CH_patient_drivers), 1, 0)\n",
    "    \n",
    "    gene_CH_patient_passengers = set(gene_CH_patient[gene_CH_patient['Drivers_12genes'] == 0]['patient'].to_list())\n",
    "    patient_age_ch[i+'_passenger'] = np.where(patient_age_ch['patient'].isin(gene_CH_patient_passengers), 1, 0)\n",
    "\n",
    "    gene_CH_patient_potential = set(gene_CH_patient['patient'].to_list())\n",
    "    patient_age_ch[i+'_potential'] = np.where(patient_age_ch['patient'].isin(gene_CH_patient_potential), 1, 0)\n",
    "    \n",
    "patient_age_ch\n",
    "\n",
    "# check\n",
    "for i in genes12:\n",
    "    print(i, sum(patient_age_ch[i+'_driver']), sum(patient_age_ch[i+'_passenger']), sum(patient_age_ch[i+'_potential']))"
   ]
  },
  {
   "cell_type": "code",
   "execution_count": 52,
   "id": "d63e5278-516d-47ab-a48e-86e0ecd3bdd7",
   "metadata": {
    "tags": []
   },
   "outputs": [],
   "source": [
    "### Create variables with gene function groups\n",
    "\n",
    "for x in ['_driver', '_passenger', '_potential']:\n",
    "    ## 1. Chromatin\n",
    "    chromatin_genes = patient_age_ch[(patient_age_ch['DNMT3A'+x]==1)|\\\n",
    "                                     (patient_age_ch['TET2'+x]==1)|\\\n",
    "                                     (patient_age_ch['ASXL1'+x]==1)]['patient'].tolist()\n",
    "    patient_age_ch['chromatin_gene'+x] = np.where(patient_age_ch['patient'].isin(chromatin_genes), 1, 0)\n",
    "\n",
    "  \n",
    "    ## 2. DDR\n",
    "    DDR_genes = patient_age_ch[(patient_age_ch['CHEK2'+x]==1)|\\\n",
    "                               (patient_age_ch['TP53'+x]==1)|\\\n",
    "                               (patient_age_ch['PPM1D'+x]==1)|\\\n",
    "                               (patient_age_ch['MDM4'+x]==1)]['patient'].tolist()\n",
    "    patient_age_ch['DDR_gene'+x] = np.where(patient_age_ch['patient'].isin(DDR_genes), 1, 0)\n",
    "\n",
    "    ## 3. Splicing\n",
    "    splicing_genes = patient_age_ch[(patient_age_ch['SF3B1'+x]==1)|\\\n",
    "                                     (patient_age_ch['SRSF2'+x]==1)|\\\n",
    "                                     (patient_age_ch['U2AF1'+x]==1)]['patient'].tolist()\n",
    "    patient_age_ch['splicing_gene'+x] = np.where(patient_age_ch['patient'].isin(splicing_genes), 1, 0)"
   ]
  },
  {
   "cell_type": "code",
   "execution_count": 82,
   "id": "6f0b02f2-5295-454b-a0a6-741f1a6f5a85",
   "metadata": {},
   "outputs": [],
   "source": [
    "patient_age_ch.to_csv(\"patient_450k_age_670124_ALL_MUTATIONS_20230802_v3.txt.gz\", sep=\"\\t\", index=False, compression='gzip')"
   ]
  },
  {
   "cell_type": "code",
   "execution_count": null,
   "id": "3467c290-f02f-49ae-a668-fb7fa645fac1",
   "metadata": {},
   "outputs": [],
   "source": []
  },
  {
   "cell_type": "code",
   "execution_count": null,
   "id": "88ae087f-65fc-4fa6-afbb-3f7c06eb6f2c",
   "metadata": {},
   "outputs": [],
   "source": []
  }
 ],
 "metadata": {
  "kernelspec": {
   "display_name": "Python 3 (ipykernel)",
   "language": "python",
   "name": "python3"
  },
  "language_info": {
   "codemirror_mode": {
    "name": "ipython",
    "version": 3
   },
   "file_extension": ".py",
   "mimetype": "text/x-python",
   "name": "python",
   "nbconvert_exporter": "python",
   "pygments_lexer": "ipython3",
   "version": "3.9.7"
  }
 },
 "nbformat": 4,
 "nbformat_minor": 5
}
