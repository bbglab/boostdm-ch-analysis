{
 "cells": [
  {
   "cell_type": "markdown",
   "id": "rough-harvey",
   "metadata": {},
   "source": [
    "# ARRANEGE CANCER DATA "
   ]
  },
  {
   "cell_type": "markdown",
   "id": "67bcd87b",
   "metadata": {},
   "source": [
    "### 1. Get and arrange data\n",
    "### 2. Define functions to generate variables\n",
    "### 3. Generate variables including ICD10 or ICD9 codes\n",
    "### 4. Save output"
   ]
  },
  {
   "cell_type": "code",
   "execution_count": 1,
   "id": "significant-collaboration",
   "metadata": {},
   "outputs": [],
   "source": [
    "import pandas as pd\n",
    "import numpy as np\n",
    "import matplotlib.pyplot as plt\n",
    "from io import StringIO\n",
    "import seaborn as sns\n",
    "import scipy.stats as stats\n",
    "pd.set_option('display.max_columns', 150)\n",
    "pd.set_option('display.max_rows', 40)\n",
    "\n",
    "import matplotlib as mpl\n",
    "mpl.rcParams['figure.dpi']= 300"
   ]
  },
  {
   "cell_type": "markdown",
   "id": "cooperative-baltimore",
   "metadata": {},
   "source": [
    "## 1. Get and arrange data"
   ]
  },
  {
   "cell_type": "code",
   "execution_count": 3,
   "id": "a4ab6cf8",
   "metadata": {},
   "outputs": [
    {
     "name": "stderr",
     "output_type": "stream",
     "text": [
      "/tmp/jobs/jramis/9874679/ipykernel_2396/421901836.py:10: DtypeWarning: Columns (333,335,341,342,343,344,345,346,347,348,349,350,351,352,353,354,355,356,357,358,368,369,370,371,372,373,374,375,376,377,378,379,380,381,382,383,384,385,390,391,392,393,394,395,396,397,398,399,400,401,402,403,404,405,406,407) have mixed types. Specify dtype option on import or set low_memory=False.\n",
      "  cancer_df = pd.read_csv(StringIO(lines), sep= '\\t')\n"
     ]
    },
    {
     "data": {
      "text/plain": [
       "502394"
      ]
     },
     "execution_count": 3,
     "metadata": {},
     "output_type": "execute_result"
    }
   ],
   "source": [
    "### OPEN CANCER DATA generated following the steps from the README.md\n",
    "### Data-fields are indicated in the paper\n",
    "\n",
    "# Read data\n",
    "filename = \"/workspace/datasets/ukbiobank_ch/ukb_data_670124/clinical_data_ukb670124/cancer_data_siddhartha_670124.txt\"\n",
    "lines = ''.join([line for line in open(filename, 'rt')])\n",
    "lines\n",
    "\n",
    "# Transform to df\n",
    "cancer_ukb200k = pd.read_csv(StringIO(lines), sep= '\\t')\n",
    "len(cancer_ukb200k)"
   ]
  },
  {
   "cell_type": "code",
   "execution_count": 14,
   "id": "491d830a",
   "metadata": {},
   "outputs": [
    {
     "data": {
      "text/plain": [
       "{'20001',\n",
       " '20002',\n",
       " '20007',\n",
       " '20009',\n",
       " '21003',\n",
       " '21022',\n",
       " '31',\n",
       " '40000',\n",
       " '40001',\n",
       " '40002',\n",
       " '40005',\n",
       " '40006',\n",
       " '40007',\n",
       " '40008',\n",
       " '40009',\n",
       " '40011',\n",
       " '40012',\n",
       " '40013',\n",
       " '53',\n",
       " 'eid'}"
      ]
     },
     "execution_count": 14,
     "metadata": {},
     "output_type": "execute_result"
    }
   ],
   "source": [
    "# All variable codes\n",
    "\n",
    "colnoms = []\n",
    "for x in cancer_ukb200k.columns.tolist():\n",
    "    colnoms.append(x.split('-')[0])\n",
    "set(colnoms)"
   ]
  },
  {
   "cell_type": "code",
   "execution_count": 15,
   "id": "4e2152c9",
   "metadata": {},
   "outputs": [],
   "source": [
    "# Function to obtain the index from columns\n",
    "\n",
    "def columna(data, name):\n",
    "    a = []\n",
    "    for n, x in enumerate(data.columns.tolist()):\n",
    "        if str(x).startswith(str(name)):\n",
    "            a.append([n , x])\n",
    "    return(a)"
   ]
  },
  {
   "cell_type": "code",
   "execution_count": 16,
   "id": "f5e4ae36",
   "metadata": {},
   "outputs": [
    {
     "data": {
      "text/plain": [
       "'2021-11-12'"
      ]
     },
     "execution_count": 16,
     "metadata": {},
     "output_type": "execute_result"
    }
   ],
   "source": [
    "# Max death\n",
    "cancer_ukb200k[cancer_ukb200k['40000-0.0'].notnull()]['40000-0.0'].max()"
   ]
  },
  {
   "cell_type": "code",
   "execution_count": 17,
   "id": "f05aa366",
   "metadata": {},
   "outputs": [
    {
     "data": {
      "text/plain": [
       "[[363, '40005-0.0'],\n",
       " [364, '40005-1.0'],\n",
       " [365, '40005-2.0'],\n",
       " [366, '40005-3.0'],\n",
       " [367, '40005-4.0'],\n",
       " [368, '40005-5.0'],\n",
       " [369, '40005-6.0'],\n",
       " [370, '40005-7.0'],\n",
       " [371, '40005-8.0'],\n",
       " [372, '40005-9.0'],\n",
       " [373, '40005-10.0'],\n",
       " [374, '40005-11.0'],\n",
       " [375, '40005-12.0'],\n",
       " [376, '40005-13.0'],\n",
       " [377, '40005-14.0'],\n",
       " [378, '40005-15.0'],\n",
       " [379, '40005-16.0'],\n",
       " [380, '40005-17.0'],\n",
       " [381, '40005-18.0'],\n",
       " [382, '40005-19.0'],\n",
       " [383, '40005-20.0'],\n",
       " [384, '40005-21.0']]"
      ]
     },
     "execution_count": 17,
     "metadata": {},
     "output_type": "execute_result"
    }
   ],
   "source": [
    "# Function to obtain the index from columns EXAMPLE\n",
    "\n",
    "columna(cancer_ukb200k, '40005')"
   ]
  },
  {
   "cell_type": "code",
   "execution_count": 18,
   "id": "45a233cc",
   "metadata": {},
   "outputs": [
    {
     "data": {
      "text/plain": [
       "'2021-06-25'"
      ]
     },
     "execution_count": 18,
     "metadata": {},
     "output_type": "execute_result"
    }
   ],
   "source": [
    "# Max self reported is 2022.5\n",
    "# Max SUMMARY DIAGNOSIS (40005): 2021-06-25\n",
    "\n",
    "from math import nan, isnan\n",
    "#The rest of variables:\n",
    "disease_dates = list(range(363,385))\n",
    "max_dates=[]\n",
    "for x in cancer_ukb200k.columns[disease_dates].tolist():\n",
    "    max_dates.append(cancer_ukb200k[cancer_ukb200k[x].notnull()][x].max())\n",
    "max(max_dates)"
   ]
  },
  {
   "cell_type": "markdown",
   "id": "fb9f70bf",
   "metadata": {},
   "source": [
    "## 2. Define functions to generate variables"
   ]
  },
  {
   "cell_type": "code",
   "execution_count": 20,
   "id": "1c35086c",
   "metadata": {},
   "outputs": [],
   "source": [
    "# Indicate the different cancer types to generate\n",
    "cancer_var = ['HN', 'MM', 'MPN', 'MDS', 'CMML', 'AML', 'LL', 'N-HN', \n",
    "           'Breast', 'Prostate', 'Lung', 'Colorectal', 'Small-intestine', \n",
    "           'Melanoma', 'Lymphoma', 'Myeloma', 'Kidney', 'Head-neck',\n",
    "           'Brain', 'Bladder', 'Pancreas', 'Uterine', 'Oesophageal', 'Ovarian',\n",
    "           'Stomach', 'Liver', 'Thyroid', 'Biliari', 'Cervical', 'Sarcoma', 'Testicular']"
   ]
  },
  {
   "cell_type": "code",
   "execution_count": 14,
   "id": "e46ae142",
   "metadata": {},
   "outputs": [
    {
     "data": {
      "text/plain": [
       "['40005-0.0',\n",
       " '40005-1.0',\n",
       " '40005-2.0',\n",
       " '40005-3.0',\n",
       " '40005-4.0',\n",
       " '40005-5.0',\n",
       " '40005-6.0',\n",
       " '40005-7.0',\n",
       " '40005-8.0',\n",
       " '40005-9.0',\n",
       " '40005-10.0',\n",
       " '40005-11.0',\n",
       " '40005-12.0',\n",
       " '40005-13.0',\n",
       " '40005-14.0',\n",
       " '40005-15.0',\n",
       " '40005-16.0',\n",
       " '40005-17.0',\n",
       " '40005-18.0',\n",
       " '40005-19.0',\n",
       " '40005-20.0',\n",
       " '40005-21.0',\n",
       " '40006-0.0',\n",
       " '40006-1.0',\n",
       " '40006-2.0',\n",
       " '40006-3.0',\n",
       " '40006-4.0',\n",
       " '40006-5.0',\n",
       " '40006-6.0',\n",
       " '40006-7.0',\n",
       " '40006-8.0',\n",
       " '40006-9.0',\n",
       " '40006-10.0',\n",
       " '40006-11.0',\n",
       " '40006-12.0',\n",
       " '40006-13.0',\n",
       " '40006-14.0',\n",
       " '40006-15.0',\n",
       " '40006-16.0',\n",
       " '40006-17.0',\n",
       " '40006-18.0',\n",
       " '40006-19.0',\n",
       " '40006-20.0',\n",
       " '40006-21.0',\n",
       " '40013-0.0',\n",
       " '40013-1.0',\n",
       " '40013-2.0',\n",
       " '40013-3.0',\n",
       " '40013-4.0',\n",
       " '40013-5.0',\n",
       " '40013-6.0',\n",
       " '40013-7.0',\n",
       " '40013-8.0',\n",
       " '40013-9.0',\n",
       " '40013-10.0',\n",
       " '40013-11.0',\n",
       " '40013-12.0',\n",
       " '40013-13.0',\n",
       " '40013-14.0']"
      ]
     },
     "execution_count": 14,
     "metadata": {},
     "output_type": "execute_result"
    }
   ],
   "source": [
    "variables = []\n",
    "for x in ['40005','40006','40013' ]:\n",
    "    a = columna(cancer_ukb200k, x)\n",
    "    variables = variables+[i[1] for i in a]\n",
    "variables"
   ]
  },
  {
   "cell_type": "code",
   "execution_count": 27,
   "id": "0748ebc6",
   "metadata": {},
   "outputs": [],
   "source": [
    "##### \n",
    "##### SUMMARY DIAGNOSIS   \n",
    "#####\n",
    "\n",
    "# 40005 [363:385]  Date of first cancer (22)\n",
    "# 40006 [385:407]  Cancer - ICD10 (22)\n",
    "# 40013 [476:491]  Cancer - ICD9 (15)\n",
    "\n",
    "# Codes that indicates no information\n",
    "#1900-01-01 represents \"Code has no event date\"\n",
    "#1901-01-01 represents \"Code has event date before participant's date of birth\"\n",
    "#1902-02-02 represents \"Code has event date matching participant's date of birth\"\n",
    "#1903-03-03 represents \"Code has event date after participant's date of birth same calendar year as date of birth\"\n",
    "#2037-07-07 represents \"Code has event date in the future and is presumed to be a place-holder or other system default\"\n",
    "remove_dates = ['1900-01-01', '1901-01-01', '1902-02-02', '1903-03-03', '2037-07-07']\n",
    "\n",
    "def Diagnose_variable(patient):\n",
    "    # define column\n",
    "    column_diseases = list(range(385,407)) + list(range(476,491))\n",
    "    column_dates = list(range(363,385)) + list(range(363,378))\n",
    "    # select columns\n",
    "    diseases = patient[column_diseases]\n",
    "    dates = patient[column_dates]\n",
    "    \n",
    "    Hypertension = [i for i in diseases if str(i).startswith(icd_10_9)]\n",
    "    i_Hypertension_disease = [i for i,j in enumerate(diseases) if str(j).startswith(icd_10_9)]  \n",
    "    dates_hypertension_disease = [dates[index] for index in i_Hypertension_disease]\n",
    "    if len(dates_hypertension_disease) > 0:\n",
    "        \n",
    "        for i in range(len(dates_hypertension_disease)):\n",
    "            if dates_hypertension_disease[i] in remove_dates:\n",
    "                dates_hypertension_disease[i] = 'nan'\n",
    "        \n",
    "        mindate = min(dates_hypertension_disease)\n",
    "        i_minage = [i for i,j in enumerate(dates_hypertension_disease) if str(j).startswith(mindate)]  \n",
    "        Hypertens = [str(Hypertension[index]) for index in i_minage]\n",
    "        \n",
    "        if mindate == 'nan':\n",
    "            return np.nan\n",
    "        else:\n",
    "            return ', '.join(set(Hypertens))\n",
    "        \n",
    "    else:\n",
    "        return np.nan\n",
    "    \n",
    "def Diagnose_date(patient):\n",
    "    \n",
    "    # define column\n",
    "    column_diseases = list(range(385,407)) + list(range(476,491))\n",
    "    column_dates = list(range(363,385)) + list(range(363,378))\n",
    "    # select columns\n",
    "    diseases = patient[column_diseases]\n",
    "    dates = patient[column_dates]\n",
    "    \n",
    "    Hypertension = [i for i in diseases if str(i).startswith(icd_10_9)]\n",
    "    i_Hypertension_disease = [i for i,j in enumerate(diseases) if str(j).startswith(icd_10_9)]  \n",
    "    dates_hypertension_disease = [dates[index] for index in i_Hypertension_disease]\n",
    "    if len(dates_hypertension_disease) > 0:\n",
    "        \n",
    "        for i in range(len(dates_hypertension_disease)):\n",
    "            if dates_hypertension_disease[i] in remove_dates:\n",
    "                dates_hypertension_disease[i] = 'nan'\n",
    "        \n",
    "        mindate = min(dates_hypertension_disease)\n",
    "        if mindate == 'nan':\n",
    "            return np.nan\n",
    "        else:\n",
    "            return mindate\n",
    "    else:\n",
    "        return np.nan"
   ]
  },
  {
   "cell_type": "code",
   "execution_count": 28,
   "id": "57a3e8e8",
   "metadata": {},
   "outputs": [],
   "source": [
    "##### \n",
    "##### SELF RECORDS CANCER\n",
    "#####\n",
    "\n",
    "# 20001 [6:30]  Cancer illnes self-reported (24)\n",
    "# 20007 [166:190]  Age\n",
    "\n",
    "def SRC_variable(patient):\n",
    "    \n",
    "    # define columns\n",
    "    column_diseases = list(range(6,30))\n",
    "    column_dates = list(range(166,190))\n",
    "    # select columns\n",
    "    diseases = patient[column_diseases]\n",
    "    dates = patient[column_dates]\n",
    "    \n",
    "    Hypertension = [i for i in diseases if str(i).startswith(srcancer)]\n",
    "    i_Hypertension_disease = [i for i,j in enumerate(diseases) if str(j).startswith(srcancer)]  \n",
    "    dates_hypertension_disease = [dates[index] for index in i_Hypertension_disease]\n",
    "    if len(dates_hypertension_disease) > 0:\n",
    "        \n",
    "        #To remove dates with no age return nan\n",
    "        for i in range(len(dates_hypertension_disease)):\n",
    "            if (dates_hypertension_disease[i] == -1) or (dates_hypertension_disease[i] == -3):\n",
    "                dates_hypertension_disease[i] = np.nan\n",
    "                \n",
    "        mindate = np.nanmin(dates_hypertension_disease)\n",
    "        i_minage = [i for i,j in enumerate(dates_hypertension_disease) if str(j).startswith(str(mindate))]  \n",
    "        Hypertens = [str(Hypertension[index]) for index in i_minage]\n",
    "        return ', '.join(set(Hypertens))\n",
    "        \n",
    "    else:\n",
    "        return np.nan\n",
    "    \n",
    "def SRC_age(patient):\n",
    "       \n",
    "    # define columns\n",
    "    column_diseases = list(range(6,30))\n",
    "    column_dates = list(range(166,190))\n",
    "    # select columns\n",
    "    diseases = patient[column_diseases]\n",
    "    dates = patient[column_dates]\n",
    "    \n",
    "    Hypertension = [i for i in diseases if str(i).startswith(srcancer)]\n",
    "    i_Hypertension_disease = [i for i,j in enumerate(diseases) if str(j).startswith(srcancer)]  \n",
    "    dates_hypertension_disease = [dates[index] for index in i_Hypertension_disease]\n",
    "    if len(dates_hypertension_disease) > 0:\n",
    "        \n",
    "        #To remove dates with no age return nan\n",
    "        for i in range(len(dates_hypertension_disease)):\n",
    "            if (dates_hypertension_disease[i] == -1) or (dates_hypertension_disease[i] == -3):\n",
    "                dates_hypertension_disease[i] = np.nan\n",
    "                \n",
    "        mindate = np.nanmin(dates_hypertension_disease)\n",
    "        return mindate\n",
    "    else:\n",
    "        return np.nan"
   ]
  },
  {
   "cell_type": "code",
   "execution_count": 29,
   "id": "1b603a81",
   "metadata": {},
   "outputs": [],
   "source": [
    "##### \n",
    "##### SELF RECORDS NON-CANCER \n",
    "#####\n",
    "\n",
    "# 20002 [30:166] Diagnosis, self-reported (136)\n",
    "# 20009 [190:326] Age non-cancer (136)\n",
    "\n",
    "def SRD_variable(patient):\n",
    "    \n",
    "    # define columns\n",
    "    column_diseases = list(range(30,166))\n",
    "    column_dates = list(range(190,326))\n",
    "    # select columns\n",
    "    diseases = patient[column_diseases]\n",
    "    dates = patient[column_dates]\n",
    "    \n",
    "    Hypertension = [i for i in diseases if str(i).startswith(srdisease)]\n",
    "    i_Hypertension_disease = [i for i,j in enumerate(diseases) if str(j).startswith(srdisease)]  \n",
    "    dates_hypertension_disease = [dates[index] for index in i_Hypertension_disease]\n",
    "    if len(dates_hypertension_disease) > 0:\n",
    "        \n",
    "        #To remove dates with no age return nan\n",
    "        for i in range(len(dates_hypertension_disease)):\n",
    "            if (dates_hypertension_disease[i] == -1) or (dates_hypertension_disease[i] == -3):\n",
    "                dates_hypertension_disease[i] = np.nan\n",
    "                \n",
    "        mindate = np.nanmin(dates_hypertension_disease)\n",
    "        i_minage = [i for i,j in enumerate(dates_hypertension_disease) if str(j).startswith(str(mindate))]  \n",
    "        Hypertens = [str(Hypertension[index]) for index in i_minage]\n",
    "        return ', '.join(set(Hypertens))\n",
    "        \n",
    "    else:\n",
    "        return np.nan\n",
    "    \n",
    "def SRD_age(patient):\n",
    "       \n",
    "    # define columns\n",
    "    column_diseases = list(range(30,166))\n",
    "    column_dates = list(range(190,326))\n",
    "    # select columns\n",
    "    diseases = patient[column_diseases]\n",
    "    dates = patient[column_dates]\n",
    "    \n",
    "    Hypertension = [i for i in diseases if str(i).startswith(srdisease)]\n",
    "    i_Hypertension_disease = [i for i,j in enumerate(diseases) if str(j).startswith(srdisease)]  \n",
    "    dates_hypertension_disease = [dates[index] for index in i_Hypertension_disease]\n",
    "    if len(dates_hypertension_disease) > 0:\n",
    "        \n",
    "        #To remove dates with no age return nan\n",
    "        for i in range(len(dates_hypertension_disease)):\n",
    "            if (dates_hypertension_disease[i] == -1) or (dates_hypertension_disease[i] == -3):\n",
    "                dates_hypertension_disease[i] = np.nan\n",
    "                \n",
    "        mindate = np.nanmin(dates_hypertension_disease)\n",
    "        return mindate\n",
    "    else:\n",
    "        return np.nan"
   ]
  },
  {
   "cell_type": "code",
   "execution_count": 30,
   "id": "a0be7b6c",
   "metadata": {},
   "outputs": [],
   "source": [
    "#Death record\n",
    "\n",
    "#40001 [333:335] Underlaying cause of death\n",
    "#40002 [335:363] Contributory cause of death\n",
    "#40000 [331:333] Date of death\n",
    "#40007 [397:399] Age of death\n",
    "\n",
    "# define columns\n",
    "\n",
    "def Death_variable(patient):\n",
    "    column_diseases = list(range(333,363))\n",
    "    \n",
    "    # select columns\n",
    "    cause = [i for i in patient[column_diseases] if str(i).startswith(icd_10_9)]\n",
    "    if len(cause) > 0:\n",
    "        return ', '.join(set(cause))  \n",
    "    else:\n",
    "        return np.nan\n",
    "    \n",
    "    \n",
    "def Death_date(patient):\n",
    "    column_diseases = list(range(333,363))\n",
    "        \n",
    "    # select columns\n",
    "    cause = [i for i in patient[column_diseases] if str(i).startswith(icd_10_9)]\n",
    "    if len(cause) > 0:\n",
    "        return patient['40000-0.0']\n",
    "    else:\n",
    "        return np.nan"
   ]
  },
  {
   "cell_type": "markdown",
   "id": "d75e0626",
   "metadata": {},
   "source": [
    "## 3. Generate variables including ICD10 or ICD9 codes"
   ]
  },
  {
   "cell_type": "code",
   "execution_count": 31,
   "id": "49d94656",
   "metadata": {},
   "outputs": [],
   "source": [
    "# Define Hematological neoplasms\n",
    "\n",
    "icd_10_9 = ('C90', 'C91', 'C92', 'C93', 'C94', 'C95', 'D45', 'D46', 'D47',\n",
    "           '203', '204', '205', '206', '207', '208', '2384', '2385', '2386', '2387')\n",
    "srcancer = ('1048', '1051', '1055', '1056', '1058', '1074')\n",
    "srdisease = ()\n",
    "\n",
    "\n",
    "cancer_ukb200k['HN'] = cancer_ukb200k.apply(lambda x: Diagnose_variable(x), axis=1)\n",
    "cancer_ukb200k['HN_date'] = cancer_ukb200k.apply(lambda x: Diagnose_date(x), axis=1)\n",
    "\n",
    "cancer_ukb200k['HN_SRC'] = cancer_ukb200k.apply(lambda x: SRC_variable(x), axis=1)\n",
    "cancer_ukb200k['HN_SRC_age'] = cancer_ukb200k.apply(lambda x: SRC_age(x), axis=1)\n",
    "\n",
    "# cancer_ukb200k['HN_SRD'] = cancer_ukb200k.apply(lambda x: SRD_variable(x), axis=1)\n",
    "# cancer_ukb200k['HN_SRD_age'] = cancer_ukb200k.apply(lambda x: SRD_age(x), axis=1)\n",
    "\n",
    "cancer_ukb200k['HN_death'] = cancer_ukb200k.apply(lambda x: Death_variable(x), axis=1)\n",
    "cancer_ukb200k['HN_death_date'] = cancer_ukb200k.apply(lambda x: Death_date(x), axis=1)"
   ]
  },
  {
   "cell_type": "code",
   "execution_count": 32,
   "id": "58d5d545",
   "metadata": {},
   "outputs": [
    {
     "data": {
      "text/html": [
       "<div>\n",
       "<style scoped>\n",
       "    .dataframe tbody tr th:only-of-type {\n",
       "        vertical-align: middle;\n",
       "    }\n",
       "\n",
       "    .dataframe tbody tr th {\n",
       "        vertical-align: top;\n",
       "    }\n",
       "\n",
       "    .dataframe thead th {\n",
       "        text-align: right;\n",
       "    }\n",
       "</style>\n",
       "<table border=\"1\" class=\"dataframe\">\n",
       "  <thead>\n",
       "    <tr style=\"text-align: right;\">\n",
       "      <th></th>\n",
       "      <th>HN</th>\n",
       "      <th>HN_date</th>\n",
       "    </tr>\n",
       "  </thead>\n",
       "  <tbody>\n",
       "    <tr>\n",
       "      <th>141</th>\n",
       "      <td>C900</td>\n",
       "      <td>2019-12-09</td>\n",
       "    </tr>\n",
       "    <tr>\n",
       "      <th>154</th>\n",
       "      <td>C911</td>\n",
       "      <td>2010-04-28</td>\n",
       "    </tr>\n",
       "    <tr>\n",
       "      <th>186</th>\n",
       "      <td>C911</td>\n",
       "      <td>2013-06-04</td>\n",
       "    </tr>\n",
       "    <tr>\n",
       "      <th>227</th>\n",
       "      <td>D471</td>\n",
       "      <td>2015-07-30</td>\n",
       "    </tr>\n",
       "    <tr>\n",
       "      <th>334</th>\n",
       "      <td>C919</td>\n",
       "      <td>2007-02-23</td>\n",
       "    </tr>\n",
       "    <tr>\n",
       "      <th>...</th>\n",
       "      <td>...</td>\n",
       "      <td>...</td>\n",
       "    </tr>\n",
       "    <tr>\n",
       "      <th>502105</th>\n",
       "      <td>C911</td>\n",
       "      <td>2000-11-22</td>\n",
       "    </tr>\n",
       "    <tr>\n",
       "      <th>502184</th>\n",
       "      <td>C930</td>\n",
       "      <td>2013-07-15</td>\n",
       "    </tr>\n",
       "    <tr>\n",
       "      <th>502208</th>\n",
       "      <td>C900</td>\n",
       "      <td>2014-05-21</td>\n",
       "    </tr>\n",
       "    <tr>\n",
       "      <th>502236</th>\n",
       "      <td>D473</td>\n",
       "      <td>2018-07-14</td>\n",
       "    </tr>\n",
       "    <tr>\n",
       "      <th>502299</th>\n",
       "      <td>D461</td>\n",
       "      <td>2008-11-20</td>\n",
       "    </tr>\n",
       "  </tbody>\n",
       "</table>\n",
       "<p>4412 rows × 2 columns</p>\n",
       "</div>"
      ],
      "text/plain": [
       "          HN     HN_date\n",
       "141     C900  2019-12-09\n",
       "154     C911  2010-04-28\n",
       "186     C911  2013-06-04\n",
       "227     D471  2015-07-30\n",
       "334     C919  2007-02-23\n",
       "...      ...         ...\n",
       "502105  C911  2000-11-22\n",
       "502184  C930  2013-07-15\n",
       "502208  C900  2014-05-21\n",
       "502236  D473  2018-07-14\n",
       "502299  D461  2008-11-20\n",
       "\n",
       "[4412 rows x 2 columns]"
      ]
     },
     "execution_count": 32,
     "metadata": {},
     "output_type": "execute_result"
    }
   ],
   "source": [
    "#Some checkings\n",
    "a = cancer_ukb200k[['HN', 'HN_date']]\n",
    "a[a['HN'].notnull()]"
   ]
  },
  {
   "cell_type": "code",
   "execution_count": 33,
   "id": "70b268e3",
   "metadata": {},
   "outputs": [
    {
     "name": "stderr",
     "output_type": "stream",
     "text": [
      "/tmp/jobs/jramis/8445799/ipykernel_54571/3097675973.py:27: RuntimeWarning: All-NaN axis encountered\n",
      "  mindate = np.nanmin(dates_hypertension_disease)\n",
      "/tmp/jobs/jramis/8445799/ipykernel_54571/3097675973.py:54: RuntimeWarning: All-NaN axis encountered\n",
      "  mindate = np.nanmin(dates_hypertension_disease)\n"
     ]
    }
   ],
   "source": [
    "# Define Myeloid malignances\n",
    "icd_10_9 = ('C920', 'C922', 'C923', 'C924', 'C925', 'C926', 'C927', 'C928',\n",
    "            'C929', 'C930', 'C931', 'C932', 'C937', 'C939', 'C940', 'C942',\n",
    "            'C943', 'C944', 'C945', 'C946', 'C962', 'D45', 'D46', 'D470',\n",
    "            'D471', 'D473', 'D474', 'D475',\n",
    "            '2050', '2052', '2053', '2058',  '2059',  '2060', '2062', '2070',\n",
    "            '2072', '2384', '2385', '2387')\n",
    "srcancer = ('1051', '1074')\n",
    "srdisease = ('1449', '1438')\n",
    "\n",
    "\n",
    "cancer_ukb200k['MM'] = cancer_ukb200k.apply(lambda x: Diagnose_variable(x), axis=1)\n",
    "cancer_ukb200k['MM_date'] = cancer_ukb200k.apply(lambda x: Diagnose_date(x), axis=1)\n",
    "\n",
    "cancer_ukb200k['MM_SRC'] = cancer_ukb200k.apply(lambda x: SRC_variable(x), axis=1)\n",
    "cancer_ukb200k['MM_SRC_age'] = cancer_ukb200k.apply(lambda x: SRC_age(x), axis=1)\n",
    "\n",
    "cancer_ukb200k['MM_SRD'] = cancer_ukb200k.apply(lambda x: SRD_variable(x), axis=1)\n",
    "cancer_ukb200k['MM_SRD_age'] = cancer_ukb200k.apply(lambda x: SRD_age(x), axis=1)\n",
    "\n",
    "cancer_ukb200k['MM_death'] = cancer_ukb200k.apply(lambda x: Death_variable(x), axis=1)\n",
    "cancer_ukb200k['MM_death_date'] = cancer_ukb200k.apply(lambda x: Death_date(x), axis=1)"
   ]
  },
  {
   "cell_type": "code",
   "execution_count": 34,
   "id": "866c1bb8",
   "metadata": {},
   "outputs": [
    {
     "name": "stderr",
     "output_type": "stream",
     "text": [
      "/tmp/jobs/jramis/8445799/ipykernel_54571/3097675973.py:27: RuntimeWarning: All-NaN axis encountered\n",
      "  mindate = np.nanmin(dates_hypertension_disease)\n",
      "/tmp/jobs/jramis/8445799/ipykernel_54571/3097675973.py:54: RuntimeWarning: All-NaN axis encountered\n",
      "  mindate = np.nanmin(dates_hypertension_disease)\n"
     ]
    }
   ],
   "source": [
    "# Define Myeloproliferative neoplasms\n",
    "\n",
    "icd_10_9 = ('D45', 'D470', 'D471', 'D473', 'D474', '2384', '2385')\n",
    "srcancer = ()\n",
    "srdisease = ('1449', '1438')\n",
    "\n",
    "\n",
    "cancer_ukb200k['MPN'] = cancer_ukb200k.apply(lambda x: Diagnose_variable(x), axis=1)\n",
    "cancer_ukb200k['MPN_date'] = cancer_ukb200k.apply(lambda x: Diagnose_date(x), axis=1)\n",
    "\n",
    "# cancer_ukb200k['MPN_SRC'] = cancer_ukb200k.apply(lambda x: SRC_variable(x), axis=1)\n",
    "# cancer_ukb200k['MPN_SRC_age'] = cancer_ukb200k.apply(lambda x: SRC_age(x), axis=1)\n",
    "\n",
    "cancer_ukb200k['MPN_SRD'] = cancer_ukb200k.apply(lambda x: SRD_variable(x), axis=1)\n",
    "cancer_ukb200k['MPN_SRD_age'] = cancer_ukb200k.apply(lambda x: SRD_age(x), axis=1)\n",
    "\n",
    "cancer_ukb200k['MPN_death'] = cancer_ukb200k.apply(lambda x: Death_variable(x), axis=1)\n",
    "cancer_ukb200k['MPN_death_date'] = cancer_ukb200k.apply(lambda x: Death_date(x), axis=1)"
   ]
  },
  {
   "cell_type": "code",
   "execution_count": 35,
   "id": "7d093020",
   "metadata": {},
   "outputs": [],
   "source": [
    "# Define Myelodysplastic syndromes\n",
    "\n",
    "icd_10_9 = ('C946', 'D46', '2387')\n",
    "srcancer = ('1051')\n",
    "srdisease = ()\n",
    "\n",
    "\n",
    "cancer_ukb200k['MDS'] = cancer_ukb200k.apply(lambda x: Diagnose_variable(x), axis=1)\n",
    "cancer_ukb200k['MDS_date'] = cancer_ukb200k.apply(lambda x: Diagnose_date(x), axis=1)\n",
    "\n",
    "cancer_ukb200k['MDS_SRC'] = cancer_ukb200k.apply(lambda x: SRC_variable(x), axis=1)\n",
    "cancer_ukb200k['MDS_SRC_age'] = cancer_ukb200k.apply(lambda x: SRC_age(x), axis=1)\n",
    "\n",
    "# cancer_ukb200k['MDS_SRD'] = cancer_ukb200k.apply(lambda x: SRD_variable(x), axis=1)\n",
    "# cancer_ukb200k['MDS_SRD_age'] = cancer_ukb200k.apply(lambda x: SRD_age(x), axis=1)\n",
    "\n",
    "cancer_ukb200k['MDS_death'] = cancer_ukb200k.apply(lambda x: Death_variable(x), axis=1)\n",
    "cancer_ukb200k['MDS_death_date'] = cancer_ukb200k.apply(lambda x: Death_date(x), axis=1)"
   ]
  },
  {
   "cell_type": "code",
   "execution_count": 36,
   "id": "bc76b1bd",
   "metadata": {},
   "outputs": [],
   "source": [
    "# Define Chronic myelomonocytic leukemia\n",
    "\n",
    "icd_10_9 = ('C931', '2061')\n",
    "srcancer = ()\n",
    "srdisease = ()\n",
    "\n",
    "\n",
    "cancer_ukb200k['CMML'] = cancer_ukb200k.apply(lambda x: Diagnose_variable(x), axis=1)\n",
    "cancer_ukb200k['CMML_date'] = cancer_ukb200k.apply(lambda x: Diagnose_date(x), axis=1)\n",
    "\n",
    "# cancer_ukb200k['CMML_SRC'] = cancer_ukb200k.apply(lambda x: SRC_variable(x), axis=1)\n",
    "# cancer_ukb200k['CMML_SRC_age'] = cancer_ukb200k.apply(lambda x: SRC_age(x), axis=1)\n",
    "\n",
    "# cancer_ukb200k['CMML_SRD'] = cancer_ukb200k.apply(lambda x: SRD_variable(x), axis=1)\n",
    "# cancer_ukb200k['CMML_SRD_age'] = cancer_ukb200k.apply(lambda x: SRD_age(x), axis=1)\n",
    "\n",
    "cancer_ukb200k['CMML_death'] = cancer_ukb200k.apply(lambda x: Death_variable(x), axis=1)\n",
    "cancer_ukb200k['CMML_death_date'] = cancer_ukb200k.apply(lambda x: Death_date(x), axis=1)"
   ]
  },
  {
   "cell_type": "code",
   "execution_count": 37,
   "id": "0332d839",
   "metadata": {},
   "outputs": [],
   "source": [
    "# Define Acute myeloid leukemias\n",
    "\n",
    "icd_10_9 = ('C920', 'C922', 'C923', 'C924', 'C925', 'C926', 'C927', 'C928', 'C929',\n",
    "            'C930', 'C932', 'C940', 'C942',\n",
    "           '2050', '2052', '2053', '2058', '2059',  '2060', '2062', '2070', '2072')\n",
    "srcancer = ('1074')\n",
    "srdisease = ()\n",
    "\n",
    "\n",
    "cancer_ukb200k['AML'] = cancer_ukb200k.apply(lambda x: Diagnose_variable(x), axis=1)\n",
    "cancer_ukb200k['AML_date'] = cancer_ukb200k.apply(lambda x: Diagnose_date(x), axis=1)\n",
    "\n",
    "cancer_ukb200k['AML_SRC'] = cancer_ukb200k.apply(lambda x: SRC_variable(x), axis=1)\n",
    "cancer_ukb200k['AML_SRC_age'] = cancer_ukb200k.apply(lambda x: SRC_age(x), axis=1)\n",
    "\n",
    "# cancer_ukb200k['AML_SRD'] = cancer_ukb200k.apply(lambda x: SRD_variable(x), axis=1)\n",
    "# cancer_ukb200k['AML_SRD_age'] = cancer_ukb200k.apply(lambda x: SRD_age(x), axis=1)\n",
    "\n",
    "cancer_ukb200k['AML_death'] = cancer_ukb200k.apply(lambda x: Death_variable(x), axis=1)\n",
    "cancer_ukb200k['AML_death_date'] = cancer_ukb200k.apply(lambda x: Death_date(x), axis=1)"
   ]
  },
  {
   "cell_type": "code",
   "execution_count": 38,
   "id": "3e39ffa8",
   "metadata": {},
   "outputs": [],
   "source": [
    "# Define Lymphoid leukemias\n",
    "\n",
    "icd_10_9 = ('C91', '204')\n",
    "srcancer = ('1055')\n",
    "srdisease = ()\n",
    "\n",
    "\n",
    "cancer_ukb200k['LL'] = cancer_ukb200k.apply(lambda x: Diagnose_variable(x), axis=1)\n",
    "cancer_ukb200k['LL_date'] = cancer_ukb200k.apply(lambda x: Diagnose_date(x), axis=1)\n",
    "\n",
    "cancer_ukb200k['LL_SRC'] = cancer_ukb200k.apply(lambda x: SRC_variable(x), axis=1)\n",
    "cancer_ukb200k['LL_SRC_age'] = cancer_ukb200k.apply(lambda x: SRC_age(x), axis=1)\n",
    "\n",
    "# cancer_ukb200k['LL_SRD'] = cancer_ukb200k.apply(lambda x: SRD_variable(x), axis=1)\n",
    "# cancer_ukb200k['LL_SRD_age'] = cancer_ukb200k.apply(lambda x: SRD_age(x), axis=1)\n",
    "\n",
    "cancer_ukb200k['LL_death'] = cancer_ukb200k.apply(lambda x: Death_variable(x), axis=1)\n",
    "cancer_ukb200k['LL_death_date'] = cancer_ukb200k.apply(lambda x: Death_date(x), axis=1)"
   ]
  },
  {
   "cell_type": "code",
   "execution_count": 39,
   "id": "d5e1d27c",
   "metadata": {},
   "outputs": [
    {
     "name": "stderr",
     "output_type": "stream",
     "text": [
      "/tmp/jobs/jramis/8445799/ipykernel_54571/4061061583.py:27: RuntimeWarning: All-NaN axis encountered\n",
      "  mindate = np.nanmin(dates_hypertension_disease)\n",
      "/tmp/jobs/jramis/8445799/ipykernel_54571/4061061583.py:54: RuntimeWarning: All-NaN axis encountered\n",
      "  mindate = np.nanmin(dates_hypertension_disease)\n"
     ]
    }
   ],
   "source": [
    "# Define Other malign neoplams\n",
    "\n",
    "icd_10_9 = ('C0', 'C1', 'C2', 'C3', 'C4', 'C5', 'C6', 'C7', 'C81', 'C82', 'C83', 'C84',\n",
    "            'C85', 'C86', 'C87', 'C88', 'C89', 'C97',\n",
    "           '14', '15', '16', '17', '18', '19', '200', '201', '202', '209')\n",
    "srcancer = ('100', '101', '102', '103', '1040', '1041', '1042', '1043', '1044', '1045',\n",
    "            '1046', '1047', '1050', '1052', '1053', '1059', '106', '1070', '1071',\n",
    "            '1072', '1073', '1075', '1076', '1077', '1078', '1079', '1080', '1081',\n",
    "            '1082', '1083', '1084', '1085', '1086', '1087', '1088')\n",
    "srdisease = ()\n",
    "\n",
    "\n",
    "cancer_ukb200k['N-HN'] = cancer_ukb200k.apply(lambda x: Diagnose_variable(x), axis=1)\n",
    "cancer_ukb200k['N-HN_date'] = cancer_ukb200k.apply(lambda x: Diagnose_date(x), axis=1)\n",
    "\n",
    "cancer_ukb200k['N-HN_SRC'] = cancer_ukb200k.apply(lambda x: SRC_variable(x), axis=1)\n",
    "cancer_ukb200k['N-HN_SRC_age'] = cancer_ukb200k.apply(lambda x: SRC_age(x), axis=1)\n",
    "\n",
    "# cancer_ukb200k['N-HN_SRD'] = cancer_ukb200k.apply(lambda x: SRD_variable(x), axis=1)\n",
    "# cancer_ukb200k['N-HN_SRD_age'] = cancer_ukb200k.apply(lambda x: SRD_age(x), axis=1)\n",
    "\n",
    "cancer_ukb200k['N-HN_death'] = cancer_ukb200k.apply(lambda x: Death_variable(x), axis=1)\n",
    "cancer_ukb200k['N-HN_death_date'] = cancer_ukb200k.apply(lambda x: Death_date(x), axis=1)"
   ]
  },
  {
   "cell_type": "code",
   "execution_count": 40,
   "id": "cdbf0976",
   "metadata": {},
   "outputs": [],
   "source": [
    "# Define Breast\n",
    "\n",
    "icd_10_9 = ('C50', 'Z853', '174', '175', 'V103')\n",
    "srcancer = ('1022')\n",
    "srdisease = ()\n",
    "\n",
    "\n",
    "cancer_ukb200k['Breast'] = cancer_ukb200k.apply(lambda x: Diagnose_variable(x), axis=1)\n",
    "cancer_ukb200k['Breast_date'] = cancer_ukb200k.apply(lambda x: Diagnose_date(x), axis=1)\n",
    "\n",
    "cancer_ukb200k['Breast_SRC'] = cancer_ukb200k.apply(lambda x: SRC_variable(x), axis=1)\n",
    "cancer_ukb200k['Breast_SRC_age'] = cancer_ukb200k.apply(lambda x: SRC_age(x), axis=1)\n",
    "\n",
    "# cancer_ukb200k['Breast_SRD'] = cancer_ukb200k.apply(lambda x: SRD_variable(x), axis=1)\n",
    "# cancer_ukb200k['Breast_SRD_age'] = cancer_ukb200k.apply(lambda x: SRD_age(x), axis=1)\n",
    "\n",
    "cancer_ukb200k['Breast_death'] = cancer_ukb200k.apply(lambda x: Death_variable(x), axis=1)\n",
    "cancer_ukb200k['Breast_death_date'] = cancer_ukb200k.apply(lambda x: Death_date(x), axis=1)"
   ]
  },
  {
   "cell_type": "code",
   "execution_count": 41,
   "id": "08cad1bc",
   "metadata": {},
   "outputs": [
    {
     "name": "stderr",
     "output_type": "stream",
     "text": [
      "/tmp/jobs/jramis/8445799/ipykernel_54571/4061061583.py:27: RuntimeWarning: All-NaN axis encountered\n",
      "  mindate = np.nanmin(dates_hypertension_disease)\n",
      "/tmp/jobs/jramis/8445799/ipykernel_54571/4061061583.py:54: RuntimeWarning: All-NaN axis encountered\n",
      "  mindate = np.nanmin(dates_hypertension_disease)\n"
     ]
    }
   ],
   "source": [
    "# Define Prostate\n",
    "\n",
    "icd_10_9 = ('C61', '185')\n",
    "srcancer = ('1044')\n",
    "srdisease = ()\n",
    "\n",
    "\n",
    "cancer_ukb200k['Prostate'] = cancer_ukb200k.apply(lambda x: Diagnose_variable(x), axis=1)\n",
    "cancer_ukb200k['Prostate_date'] = cancer_ukb200k.apply(lambda x: Diagnose_date(x), axis=1)\n",
    "\n",
    "cancer_ukb200k['Prostate_SRC'] = cancer_ukb200k.apply(lambda x: SRC_variable(x), axis=1)\n",
    "cancer_ukb200k['Prostate_SRC_age'] = cancer_ukb200k.apply(lambda x: SRC_age(x), axis=1)\n",
    "\n",
    "# cancer_ukb200k['Prostate_SRD'] = cancer_ukb200k.apply(lambda x: SRD_variable(x), axis=1)\n",
    "# cancer_ukb200k['Prostate_SRD_age'] = cancer_ukb200k.apply(lambda x: SRD_age(x), axis=1)\n",
    "\n",
    "cancer_ukb200k['Prostate_death'] = cancer_ukb200k.apply(lambda x: Death_variable(x), axis=1)\n",
    "cancer_ukb200k['Prostate_death_date'] = cancer_ukb200k.apply(lambda x: Death_date(x), axis=1)"
   ]
  },
  {
   "cell_type": "code",
   "execution_count": 42,
   "id": "57e6454c",
   "metadata": {},
   "outputs": [],
   "source": [
    "# Define Lung\n",
    "\n",
    "icd_10_9 = ('C33', 'C34', 'C399', 'Z851', '162', 'V101')\n",
    "srcancer = ('1001', '1027', '1028', '1080')\n",
    "srdisease = ()\n",
    "\n",
    "\n",
    "cancer_ukb200k['Lung'] = cancer_ukb200k.apply(lambda x: Diagnose_variable(x), axis=1)\n",
    "cancer_ukb200k['Lung_date'] = cancer_ukb200k.apply(lambda x: Diagnose_date(x), axis=1)\n",
    "\n",
    "cancer_ukb200k['Lung_SRC'] = cancer_ukb200k.apply(lambda x: SRC_variable(x), axis=1)\n",
    "cancer_ukb200k['Lung_SRC_age'] = cancer_ukb200k.apply(lambda x: SRC_age(x), axis=1)\n",
    "\n",
    "# cancer_ukb200k['Lung_SRD'] = cancer_ukb200k.apply(lambda x: SRD_variable(x), axis=1)\n",
    "# cancer_ukb200k['Lung_SRD_age'] = cancer_ukb200k.apply(lambda x: SRD_age(x), axis=1)\n",
    "\n",
    "cancer_ukb200k['Lung_death'] = cancer_ukb200k.apply(lambda x: Death_variable(x), axis=1)\n",
    "cancer_ukb200k['Lung_death_date'] = cancer_ukb200k.apply(lambda x: Death_date(x), axis=1)\n"
   ]
  },
  {
   "cell_type": "code",
   "execution_count": 43,
   "id": "72642b05",
   "metadata": {},
   "outputs": [
    {
     "name": "stderr",
     "output_type": "stream",
     "text": [
      "/tmp/jobs/jramis/8445799/ipykernel_54571/4061061583.py:27: RuntimeWarning: All-NaN axis encountered\n",
      "  mindate = np.nanmin(dates_hypertension_disease)\n",
      "/tmp/jobs/jramis/8445799/ipykernel_54571/4061061583.py:54: RuntimeWarning: All-NaN axis encountered\n",
      "  mindate = np.nanmin(dates_hypertension_disease)\n"
     ]
    }
   ],
   "source": [
    "# Define Colorectal\n",
    "\n",
    "icd_10_9 = ('C18', 'C19', 'C20', 'C21', 'C21', '153', '154')\n",
    "srcancer = ('1020', '1021', '1022', '1023')\n",
    "srdisease = ()\n",
    "\n",
    "\n",
    "cancer_ukb200k['Colorectal'] = cancer_ukb200k.apply(lambda x: Diagnose_variable(x), axis=1)\n",
    "cancer_ukb200k['Colorectal_date'] = cancer_ukb200k.apply(lambda x: Diagnose_date(x), axis=1)\n",
    "\n",
    "cancer_ukb200k['Colorectal_SRC'] = cancer_ukb200k.apply(lambda x: SRC_variable(x), axis=1)\n",
    "cancer_ukb200k['Colorectal_SRC_age'] = cancer_ukb200k.apply(lambda x: SRC_age(x), axis=1)\n",
    "\n",
    "# cancer_ukb200k['Colorectal_SRD'] = cancer_ukb200k.apply(lambda x: SRD_variable(x), axis=1)\n",
    "# cancer_ukb200k['Colorectal_SRD_age'] = cancer_ukb200k.apply(lambda x: SRD_age(x), axis=1)\n",
    "\n",
    "cancer_ukb200k['Colorectal_death'] = cancer_ukb200k.apply(lambda x: Death_variable(x), axis=1)\n",
    "cancer_ukb200k['Colorectal_death_date'] = cancer_ukb200k.apply(lambda x: Death_date(x), axis=1)\n"
   ]
  },
  {
   "cell_type": "code",
   "execution_count": 44,
   "id": "1ff4b67d",
   "metadata": {},
   "outputs": [],
   "source": [
    "# Define Small-intestine\n",
    "\n",
    "icd_10_9 = ('C17', '152')\n",
    "srcancer = ('1019')\n",
    "srdisease = ()\n",
    "\n",
    "\n",
    "cancer_ukb200k['Small-intestine'] = cancer_ukb200k.apply(lambda x: Diagnose_variable(x), axis=1)\n",
    "cancer_ukb200k['Small-intestine_date'] = cancer_ukb200k.apply(lambda x: Diagnose_date(x), axis=1)\n",
    "\n",
    "cancer_ukb200k['Small-intestine_SRC'] = cancer_ukb200k.apply(lambda x: SRC_variable(x), axis=1)\n",
    "cancer_ukb200k['Small-intestine_SRC_age'] = cancer_ukb200k.apply(lambda x: SRC_age(x), axis=1)\n",
    "\n",
    "# cancer_ukb200k['Small-intestine_SRD'] = cancer_ukb200k.apply(lambda x: SRD_variable(x), axis=1)\n",
    "# cancer_ukb200k['Small-intestine_SRD_age'] = cancer_ukb200k.apply(lambda x: SRD_age(x), axis=1)\n",
    "\n",
    "cancer_ukb200k['Small-intestine_death'] = cancer_ukb200k.apply(lambda x: Death_variable(x), axis=1)\n",
    "cancer_ukb200k['Small-intestine_death_date'] = cancer_ukb200k.apply(lambda x: Death_date(x), axis=1)\n"
   ]
  },
  {
   "cell_type": "code",
   "execution_count": 45,
   "id": "1e5851ee",
   "metadata": {},
   "outputs": [
    {
     "name": "stderr",
     "output_type": "stream",
     "text": [
      "/tmp/jobs/jramis/8445799/ipykernel_54571/4061061583.py:27: RuntimeWarning: All-NaN axis encountered\n",
      "  mindate = np.nanmin(dates_hypertension_disease)\n",
      "/tmp/jobs/jramis/8445799/ipykernel_54571/4061061583.py:54: RuntimeWarning: All-NaN axis encountered\n",
      "  mindate = np.nanmin(dates_hypertension_disease)\n"
     ]
    }
   ],
   "source": [
    "# Define Melanoma\n",
    "\n",
    "icd_10_9 = ('C43', '172')\n",
    "srcancer = ('1059')\n",
    "srdisease = ()\n",
    "\n",
    "\n",
    "cancer_ukb200k['Melanoma'] = cancer_ukb200k.apply(lambda x: Diagnose_variable(x), axis=1)\n",
    "cancer_ukb200k['Melanoma_date'] = cancer_ukb200k.apply(lambda x: Diagnose_date(x), axis=1)\n",
    "\n",
    "cancer_ukb200k['Melanoma_SRC'] = cancer_ukb200k.apply(lambda x: SRC_variable(x), axis=1)\n",
    "cancer_ukb200k['Melanoma_SRC_age'] = cancer_ukb200k.apply(lambda x: SRC_age(x), axis=1)\n",
    "\n",
    "# cancer_ukb200k['Melanoma_SRD'] = cancer_ukb200k.apply(lambda x: SRD_variable(x), axis=1)\n",
    "# cancer_ukb200k['Melanoma_SRD_age'] = cancer_ukb200k.apply(lambda x: SRD_age(x), axis=1)\n",
    "\n",
    "cancer_ukb200k['Melanoma_death'] = cancer_ukb200k.apply(lambda x: Death_variable(x), axis=1)\n",
    "cancer_ukb200k['Melanoma_death_date'] = cancer_ukb200k.apply(lambda x: Death_date(x), axis=1)\n"
   ]
  },
  {
   "cell_type": "code",
   "execution_count": 46,
   "id": "6a7644c1",
   "metadata": {},
   "outputs": [
    {
     "name": "stderr",
     "output_type": "stream",
     "text": [
      "/tmp/jobs/jramis/8445799/ipykernel_54571/4061061583.py:27: RuntimeWarning: All-NaN axis encountered\n",
      "  mindate = np.nanmin(dates_hypertension_disease)\n",
      "/tmp/jobs/jramis/8445799/ipykernel_54571/4061061583.py:54: RuntimeWarning: All-NaN axis encountered\n",
      "  mindate = np.nanmin(dates_hypertension_disease)\n"
     ]
    }
   ],
   "source": [
    "# Define Lymphoma\n",
    "\n",
    "icd_10_9 = ('C81', 'C82', 'C83', 'C84', 'C85', 'C86', 'C87', 'C88', '200', '201', '202')\n",
    "srcancer = ('1047', '1052', '1053')\n",
    "srdisease = ()\n",
    "\n",
    "\n",
    "cancer_ukb200k['Lymphoma'] = cancer_ukb200k.apply(lambda x: Diagnose_variable(x), axis=1)\n",
    "cancer_ukb200k['Lymphoma_date'] = cancer_ukb200k.apply(lambda x: Diagnose_date(x), axis=1)\n",
    "\n",
    "cancer_ukb200k['Lymphoma_SRC'] = cancer_ukb200k.apply(lambda x: SRC_variable(x), axis=1)\n",
    "cancer_ukb200k['Lymphoma_SRC_age'] = cancer_ukb200k.apply(lambda x: SRC_age(x), axis=1)\n",
    "\n",
    "# cancer_ukb200k['Lymphoma_SRD'] = cancer_ukb200k.apply(lambda x: SRD_variable(x), axis=1)\n",
    "# cancer_ukb200k['Lymphoma_SRD_age'] = cancer_ukb200k.apply(lambda x: SRD_age(x), axis=1)\n",
    "\n",
    "cancer_ukb200k['Lymphoma_death'] = cancer_ukb200k.apply(lambda x: Death_variable(x), axis=1)\n",
    "cancer_ukb200k['Lymphoma_death_date'] = cancer_ukb200k.apply(lambda x: Death_date(x), axis=1)\n"
   ]
  },
  {
   "cell_type": "code",
   "execution_count": 47,
   "id": "5bf120e6",
   "metadata": {},
   "outputs": [],
   "source": [
    "# Define Myeloma\n",
    "\n",
    "icd_10_9 = ('C900', 'C901', '2030', '2031')\n",
    "srcancer = ('1050')\n",
    "srdisease = ()\n",
    "\n",
    "\n",
    "cancer_ukb200k['Myeloma'] = cancer_ukb200k.apply(lambda x: Diagnose_variable(x), axis=1)\n",
    "cancer_ukb200k['Myeloma_date'] = cancer_ukb200k.apply(lambda x: Diagnose_date(x), axis=1)\n",
    "\n",
    "cancer_ukb200k['Myeloma_SRC'] = cancer_ukb200k.apply(lambda x: SRC_variable(x), axis=1)\n",
    "cancer_ukb200k['Myeloma_SRC_age'] = cancer_ukb200k.apply(lambda x: SRC_age(x), axis=1)\n",
    "\n",
    "# cancer_ukb200k['Myeloma_SRD'] = cancer_ukb200k.apply(lambda x: SRD_variable(x), axis=1)\n",
    "# cancer_ukb200k['Myeloma_SRD_age'] = cancer_ukb200k.apply(lambda x: SRD_age(x), axis=1)\n",
    "\n",
    "cancer_ukb200k['Myeloma_death'] = cancer_ukb200k.apply(lambda x: Death_variable(x), axis=1)\n",
    "cancer_ukb200k['Myeloma_death_date'] = cancer_ukb200k.apply(lambda x: Death_date(x), axis=1)\n"
   ]
  },
  {
   "cell_type": "code",
   "execution_count": 48,
   "id": "868aaa33",
   "metadata": {},
   "outputs": [],
   "source": [
    "# Define Kidney\n",
    "\n",
    "icd_10_9 = ('C64', 'Z855', '1890', 'V105')\n",
    "srcancer = ('1034')\n",
    "srdisease = ()\n",
    "\n",
    "\n",
    "cancer_ukb200k['Kidney'] = cancer_ukb200k.apply(lambda x: Diagnose_variable(x), axis=1)\n",
    "cancer_ukb200k['Kidney_date'] = cancer_ukb200k.apply(lambda x: Diagnose_date(x), axis=1)\n",
    "\n",
    "cancer_ukb200k['Kidney_SRC'] = cancer_ukb200k.apply(lambda x: SRC_variable(x), axis=1)\n",
    "cancer_ukb200k['Kidney_SRC_age'] = cancer_ukb200k.apply(lambda x: SRC_age(x), axis=1)\n",
    "\n",
    "# cancer_ukb200k['Kidney_SRD'] = cancer_ukb200k.apply(lambda x: SRD_variable(x), axis=1)\n",
    "# cancer_ukb200k['Kidney_SRD_age'] = cancer_ukb200k.apply(lambda x: SRD_age(x), axis=1)\n",
    "\n",
    "cancer_ukb200k['Kidney_death'] = cancer_ukb200k.apply(lambda x: Death_variable(x), axis=1)\n",
    "cancer_ukb200k['Kidney_death_date'] = cancer_ukb200k.apply(lambda x: Death_date(x), axis=1)\n"
   ]
  },
  {
   "cell_type": "code",
   "execution_count": 49,
   "id": "1e2ce23e",
   "metadata": {},
   "outputs": [
    {
     "name": "stderr",
     "output_type": "stream",
     "text": [
      "/tmp/jobs/jramis/8445799/ipykernel_54571/4061061583.py:27: RuntimeWarning: All-NaN axis encountered\n",
      "  mindate = np.nanmin(dates_hypertension_disease)\n",
      "/tmp/jobs/jramis/8445799/ipykernel_54571/4061061583.py:54: RuntimeWarning: All-NaN axis encountered\n",
      "  mindate = np.nanmin(dates_hypertension_disease)\n"
     ]
    }
   ],
   "source": [
    "# Define Head-neck\n",
    "\n",
    "icd_10_9 = ('C0', 'C10', 'C11', 'C12', 'C13', 'C14', 'C30', 'C31', 'C32',\n",
    "           '14', '160', '161')\n",
    "srcancer = ('1006', '1007', '1009', '1004', '1010', '1011', '1012', '1077',\n",
    "            '1078', '1079', '1005', '1015', '1016')\n",
    "srdisease = ()\n",
    "\n",
    "\n",
    "cancer_ukb200k['Head-neck'] = cancer_ukb200k.apply(lambda x: Diagnose_variable(x), axis=1)\n",
    "cancer_ukb200k['Head-neck_date'] = cancer_ukb200k.apply(lambda x: Diagnose_date(x), axis=1)\n",
    "\n",
    "cancer_ukb200k['Head-neck_SRC'] = cancer_ukb200k.apply(lambda x: SRC_variable(x), axis=1)\n",
    "cancer_ukb200k['Head-neck_SRC_age'] = cancer_ukb200k.apply(lambda x: SRC_age(x), axis=1)\n",
    "\n",
    "# cancer_ukb200k['Head-neck_SRD'] = cancer_ukb200k.apply(lambda x: SRD_variable(x), axis=1)\n",
    "# cancer_ukb200k['Head-neck_SRD_age'] = cancer_ukb200k.apply(lambda x: SRD_age(x), axis=1)\n",
    "\n",
    "cancer_ukb200k['Head-neck_death'] = cancer_ukb200k.apply(lambda x: Death_variable(x), axis=1)\n",
    "cancer_ukb200k['Head-neck_death_date'] = cancer_ukb200k.apply(lambda x: Death_date(x), axis=1)\n"
   ]
  },
  {
   "cell_type": "code",
   "execution_count": 50,
   "id": "3acb05ce",
   "metadata": {},
   "outputs": [
    {
     "name": "stderr",
     "output_type": "stream",
     "text": [
      "/tmp/jobs/jramis/8445799/ipykernel_54571/4061061583.py:27: RuntimeWarning: All-NaN axis encountered\n",
      "  mindate = np.nanmin(dates_hypertension_disease)\n",
      "/tmp/jobs/jramis/8445799/ipykernel_54571/4061061583.py:54: RuntimeWarning: All-NaN axis encountered\n",
      "  mindate = np.nanmin(dates_hypertension_disease)\n"
     ]
    }
   ],
   "source": [
    "# Define Brain\n",
    "\n",
    "icd_10_9 = ('C70', 'C71', 'C720', 'C723', '191', '1920', '1921', '1922', '1923')\n",
    "srcancer = ('1031', '1032', '1033')\n",
    "srdisease = ()\n",
    "\n",
    "\n",
    "cancer_ukb200k['Brain'] = cancer_ukb200k.apply(lambda x: Diagnose_variable(x), axis=1)\n",
    "cancer_ukb200k['Brain_date'] = cancer_ukb200k.apply(lambda x: Diagnose_date(x), axis=1)\n",
    "\n",
    "cancer_ukb200k['Brain_SRC'] = cancer_ukb200k.apply(lambda x: SRC_variable(x), axis=1)\n",
    "cancer_ukb200k['Brain_SRC_age'] = cancer_ukb200k.apply(lambda x: SRC_age(x), axis=1)\n",
    "\n",
    "# cancer_ukb200k['Brain_SRD'] = cancer_ukb200k.apply(lambda x: SRD_variable(x), axis=1)\n",
    "# cancer_ukb200k['Brain_SRD_age'] = cancer_ukb200k.apply(lambda x: SRD_age(x), axis=1)\n",
    "\n",
    "cancer_ukb200k['Brain_death'] = cancer_ukb200k.apply(lambda x: Death_variable(x), axis=1)\n",
    "cancer_ukb200k['Brain_death_date'] = cancer_ukb200k.apply(lambda x: Death_date(x), axis=1)\n"
   ]
  },
  {
   "cell_type": "code",
   "execution_count": 51,
   "id": "c8393657",
   "metadata": {},
   "outputs": [],
   "source": [
    "# Define Bladder\n",
    "\n",
    "icd_10_9 = ('C65', 'C66', 'C67', 'C723', '188', '1891', '1892')\n",
    "srcancer = ('1035')\n",
    "srdisease = ()\n",
    "\n",
    "\n",
    "cancer_ukb200k['Bladder'] = cancer_ukb200k.apply(lambda x: Diagnose_variable(x), axis=1)\n",
    "cancer_ukb200k['Bladder_date'] = cancer_ukb200k.apply(lambda x: Diagnose_date(x), axis=1)\n",
    "\n",
    "cancer_ukb200k['Bladder_SRC'] = cancer_ukb200k.apply(lambda x: SRC_variable(x), axis=1)\n",
    "cancer_ukb200k['Bladder_SRC_age'] = cancer_ukb200k.apply(lambda x: SRC_age(x), axis=1)\n",
    "\n",
    "# cancer_ukb200k['Bladder_SRD'] = cancer_ukb200k.apply(lambda x: SRD_variable(x), axis=1)\n",
    "# cancer_ukb200k['Bladder_SRD_age'] = cancer_ukb200k.apply(lambda x: SRD_age(x), axis=1)\n",
    "\n",
    "cancer_ukb200k['Bladder_death'] = cancer_ukb200k.apply(lambda x: Death_variable(x), axis=1)\n",
    "cancer_ukb200k['Bladder_death_date'] = cancer_ukb200k.apply(lambda x: Death_date(x), axis=1)\n"
   ]
  },
  {
   "cell_type": "code",
   "execution_count": 52,
   "id": "48c88241",
   "metadata": {},
   "outputs": [],
   "source": [
    "# Define Pancreas\n",
    "\n",
    "icd_10_9 = ('C25', '157')\n",
    "srcancer = ('1026')\n",
    "srdisease = ()\n",
    "\n",
    "\n",
    "cancer_ukb200k['Pancreas'] = cancer_ukb200k.apply(lambda x: Diagnose_variable(x), axis=1)\n",
    "cancer_ukb200k['Pancreas_date'] = cancer_ukb200k.apply(lambda x: Diagnose_date(x), axis=1)\n",
    "\n",
    "cancer_ukb200k['Pancreas_SRC'] = cancer_ukb200k.apply(lambda x: SRC_variable(x), axis=1)\n",
    "cancer_ukb200k['Pancreas_SRC_age'] = cancer_ukb200k.apply(lambda x: SRC_age(x), axis=1)\n",
    "\n",
    "# cancer_ukb200k['Pancreas_SRD'] = cancer_ukb200k.apply(lambda x: SRD_variable(x), axis=1)\n",
    "# cancer_ukb200k['Pancreas_SRD_age'] = cancer_ukb200k.apply(lambda x: SRD_age(x), axis=1)\n",
    "\n",
    "cancer_ukb200k['Pancreas_death'] = cancer_ukb200k.apply(lambda x: Death_variable(x), axis=1)\n",
    "cancer_ukb200k['Pancreas_death_date'] = cancer_ukb200k.apply(lambda x: Death_date(x), axis=1)\n"
   ]
  },
  {
   "cell_type": "code",
   "execution_count": 53,
   "id": "9fdd292c",
   "metadata": {},
   "outputs": [
    {
     "name": "stderr",
     "output_type": "stream",
     "text": [
      "/tmp/jobs/jramis/8445799/ipykernel_54571/4061061583.py:27: RuntimeWarning: All-NaN axis encountered\n",
      "  mindate = np.nanmin(dates_hypertension_disease)\n",
      "/tmp/jobs/jramis/8445799/ipykernel_54571/4061061583.py:54: RuntimeWarning: All-NaN axis encountered\n",
      "  mindate = np.nanmin(dates_hypertension_disease)\n"
     ]
    }
   ],
   "source": [
    "# Define Uterine\n",
    "\n",
    "icd_10_9 = ('C57', 'C55', '179', '182')\n",
    "srcancer = ('1040')\n",
    "srdisease = ()\n",
    "\n",
    "\n",
    "cancer_ukb200k['Uterine'] = cancer_ukb200k.apply(lambda x: Diagnose_variable(x), axis=1)\n",
    "cancer_ukb200k['Uterine_date'] = cancer_ukb200k.apply(lambda x: Diagnose_date(x), axis=1)\n",
    "\n",
    "cancer_ukb200k['Uterine_SRC'] = cancer_ukb200k.apply(lambda x: SRC_variable(x), axis=1)\n",
    "cancer_ukb200k['Uterine_SRC_age'] = cancer_ukb200k.apply(lambda x: SRC_age(x), axis=1)\n",
    "\n",
    "# cancer_ukb200k['Uterine_SRD'] = cancer_ukb200k.apply(lambda x: SRD_variable(x), axis=1)\n",
    "# cancer_ukb200k['Uterine_SRD_age'] = cancer_ukb200k.apply(lambda x: SRD_age(x), axis=1)\n",
    "\n",
    "cancer_ukb200k['Uterine_death'] = cancer_ukb200k.apply(lambda x: Death_variable(x), axis=1)\n",
    "cancer_ukb200k['Uterine_death_date'] = cancer_ukb200k.apply(lambda x: Death_date(x), axis=1)\n"
   ]
  },
  {
   "cell_type": "code",
   "execution_count": 54,
   "id": "5f3bc7c4",
   "metadata": {},
   "outputs": [
    {
     "name": "stderr",
     "output_type": "stream",
     "text": [
      "/tmp/jobs/jramis/8445799/ipykernel_54571/4061061583.py:27: RuntimeWarning: All-NaN axis encountered\n",
      "  mindate = np.nanmin(dates_hypertension_disease)\n",
      "/tmp/jobs/jramis/8445799/ipykernel_54571/4061061583.py:54: RuntimeWarning: All-NaN axis encountered\n",
      "  mindate = np.nanmin(dates_hypertension_disease)\n"
     ]
    }
   ],
   "source": [
    "# Define Oesophageal\n",
    "\n",
    "icd_10_9 = ('C15', '150')\n",
    "srcancer = ('1017')\n",
    "srdisease = ()\n",
    "\n",
    "\n",
    "cancer_ukb200k['Oesophageal'] = cancer_ukb200k.apply(lambda x: Diagnose_variable(x), axis=1)\n",
    "cancer_ukb200k['Oesophageal_date'] = cancer_ukb200k.apply(lambda x: Diagnose_date(x), axis=1)\n",
    "\n",
    "cancer_ukb200k['Oesophageal_SRC'] = cancer_ukb200k.apply(lambda x: SRC_variable(x), axis=1)\n",
    "cancer_ukb200k['Oesophageal_SRC_age'] = cancer_ukb200k.apply(lambda x: SRC_age(x), axis=1)\n",
    "\n",
    "# cancer_ukb200k['Oesophageal_SRD'] = cancer_ukb200k.apply(lambda x: SRD_variable(x), axis=1)\n",
    "# cancer_ukb200k['Oesophageal_SRD_age'] = cancer_ukb200k.apply(lambda x: SRD_age(x), axis=1)\n",
    "\n",
    "cancer_ukb200k['Oesophageal_death'] = cancer_ukb200k.apply(lambda x: Death_variable(x), axis=1)\n",
    "cancer_ukb200k['Oesophageal_death_date'] = cancer_ukb200k.apply(lambda x: Death_date(x), axis=1)\n"
   ]
  },
  {
   "cell_type": "code",
   "execution_count": 55,
   "id": "d725e31c",
   "metadata": {},
   "outputs": [
    {
     "name": "stderr",
     "output_type": "stream",
     "text": [
      "/tmp/jobs/jramis/8445799/ipykernel_54571/4061061583.py:27: RuntimeWarning: All-NaN axis encountered\n",
      "  mindate = np.nanmin(dates_hypertension_disease)\n",
      "/tmp/jobs/jramis/8445799/ipykernel_54571/4061061583.py:54: RuntimeWarning: All-NaN axis encountered\n",
      "  mindate = np.nanmin(dates_hypertension_disease)\n"
     ]
    }
   ],
   "source": [
    "# Define Ovarian\n",
    "\n",
    "icd_10_9 = ('C56', 'C570', 'C574', '1830', '1832', '1838', '1839')\n",
    "srcancer = ('1039', '1087')\n",
    "srdisease = ()\n",
    "\n",
    "\n",
    "cancer_ukb200k['Ovarian'] = cancer_ukb200k.apply(lambda x: Diagnose_variable(x), axis=1)\n",
    "cancer_ukb200k['Ovarian_date'] = cancer_ukb200k.apply(lambda x: Diagnose_date(x), axis=1)\n",
    "\n",
    "cancer_ukb200k['Ovarian_SRC'] = cancer_ukb200k.apply(lambda x: SRC_variable(x), axis=1)\n",
    "cancer_ukb200k['Ovarian_SRC_age'] = cancer_ukb200k.apply(lambda x: SRC_age(x), axis=1)\n",
    "\n",
    "# cancer_ukb200k['Ovarian_SRD'] = cancer_ukb200k.apply(lambda x: SRD_variable(x), axis=1)\n",
    "# cancer_ukb200k['Ovarian_SRD_age'] = cancer_ukb200k.apply(lambda x: SRD_age(x), axis=1)\n",
    "\n",
    "cancer_ukb200k['Ovarian_death'] = cancer_ukb200k.apply(lambda x: Death_variable(x), axis=1)\n",
    "cancer_ukb200k['Ovarian_death_date'] = cancer_ukb200k.apply(lambda x: Death_date(x), axis=1)\n"
   ]
  },
  {
   "cell_type": "code",
   "execution_count": 56,
   "id": "cdfcdeee",
   "metadata": {},
   "outputs": [],
   "source": [
    "# Define Stomach\n",
    "\n",
    "icd_10_9 = ('C16', 'Z8502', '151')\n",
    "srcancer = ('1018')\n",
    "srdisease = ()\n",
    "\n",
    "\n",
    "cancer_ukb200k['Stomach'] = cancer_ukb200k.apply(lambda x: Diagnose_variable(x), axis=1)\n",
    "cancer_ukb200k['Stomach_date'] = cancer_ukb200k.apply(lambda x: Diagnose_date(x), axis=1)\n",
    "\n",
    "cancer_ukb200k['Stomach_SRC'] = cancer_ukb200k.apply(lambda x: SRC_variable(x), axis=1)\n",
    "cancer_ukb200k['Stomach_SRC_age'] = cancer_ukb200k.apply(lambda x: SRC_age(x), axis=1)\n",
    "\n",
    "# cancer_ukb200k['Stomach_SRD'] = cancer_ukb200k.apply(lambda x: SRD_variable(x), axis=1)\n",
    "# cancer_ukb200k['Stomach_SRD_age'] = cancer_ukb200k.apply(lambda x: SRD_age(x), axis=1)\n",
    "\n",
    "cancer_ukb200k['Stomach_death'] = cancer_ukb200k.apply(lambda x: Death_variable(x), axis=1)\n",
    "cancer_ukb200k['Stomach_death_date'] = cancer_ukb200k.apply(lambda x: Death_date(x), axis=1)\n"
   ]
  },
  {
   "cell_type": "code",
   "execution_count": 57,
   "id": "94c14d89",
   "metadata": {},
   "outputs": [],
   "source": [
    "# Define Liver\n",
    "\n",
    "icd_10_9 = ('C220', '1550')\n",
    "srcancer = ('1024')\n",
    "srdisease = ()\n",
    "\n",
    "\n",
    "cancer_ukb200k['Liver'] = cancer_ukb200k.apply(lambda x: Diagnose_variable(x), axis=1)\n",
    "cancer_ukb200k['Liver_date'] = cancer_ukb200k.apply(lambda x: Diagnose_date(x), axis=1)\n",
    "\n",
    "cancer_ukb200k['Liver_SRC'] = cancer_ukb200k.apply(lambda x: SRC_variable(x), axis=1)\n",
    "cancer_ukb200k['Liver_SRC_age'] = cancer_ukb200k.apply(lambda x: SRC_age(x), axis=1)\n",
    "\n",
    "# cancer_ukb200k['Liver_SRD'] = cancer_ukb200k.apply(lambda x: SRD_variable(x), axis=1)\n",
    "# cancer_ukb200k['Liver_SRD_age'] = cancer_ukb200k.apply(lambda x: SRD_age(x), axis=1)\n",
    "\n",
    "cancer_ukb200k['Liver_death'] = cancer_ukb200k.apply(lambda x: Death_variable(x), axis=1)\n",
    "cancer_ukb200k['Liver_death_date'] = cancer_ukb200k.apply(lambda x: Death_date(x), axis=1)\n"
   ]
  },
  {
   "cell_type": "code",
   "execution_count": 58,
   "id": "7670e480",
   "metadata": {},
   "outputs": [
    {
     "name": "stderr",
     "output_type": "stream",
     "text": [
      "/tmp/jobs/jramis/8445799/ipykernel_54571/4061061583.py:27: RuntimeWarning: All-NaN axis encountered\n",
      "  mindate = np.nanmin(dates_hypertension_disease)\n",
      "/tmp/jobs/jramis/8445799/ipykernel_54571/4061061583.py:54: RuntimeWarning: All-NaN axis encountered\n",
      "  mindate = np.nanmin(dates_hypertension_disease)\n"
     ]
    }
   ],
   "source": [
    "# Define Thyroid\n",
    "\n",
    "icd_10_9 = ('C73', '193')\n",
    "srcancer = ('1065')\n",
    "srdisease = ()\n",
    "\n",
    "\n",
    "cancer_ukb200k['Thyroid'] = cancer_ukb200k.apply(lambda x: Diagnose_variable(x), axis=1)\n",
    "cancer_ukb200k['Thyroid_date'] = cancer_ukb200k.apply(lambda x: Diagnose_date(x), axis=1)\n",
    "\n",
    "cancer_ukb200k['Thyroid_SRC'] = cancer_ukb200k.apply(lambda x: SRC_variable(x), axis=1)\n",
    "cancer_ukb200k['Thyroid_SRC_age'] = cancer_ukb200k.apply(lambda x: SRC_age(x), axis=1)\n",
    "\n",
    "# cancer_ukb200k['Thyroid_SRD'] = cancer_ukb200k.apply(lambda x: SRD_variable(x), axis=1)\n",
    "# cancer_ukb200k['Thyroid_SRD_age'] = cancer_ukb200k.apply(lambda x: SRD_age(x), axis=1)\n",
    "\n",
    "cancer_ukb200k['Thyroid_death'] = cancer_ukb200k.apply(lambda x: Death_variable(x), axis=1)\n",
    "cancer_ukb200k['Thyroid_death_date'] = cancer_ukb200k.apply(lambda x: Death_date(x), axis=1)\n"
   ]
  },
  {
   "cell_type": "code",
   "execution_count": 59,
   "id": "1ea0c39f",
   "metadata": {},
   "outputs": [],
   "source": [
    "# Define Biliari\n",
    "\n",
    "icd_10_9 = ('C23', 'C24', 'C221', '1551', '1560')\n",
    "srcancer = ('1025')\n",
    "srdisease = ()\n",
    "\n",
    "\n",
    "cancer_ukb200k['Biliari'] = cancer_ukb200k.apply(lambda x: Diagnose_variable(x), axis=1)\n",
    "cancer_ukb200k['Biliari_date'] = cancer_ukb200k.apply(lambda x: Diagnose_date(x), axis=1)\n",
    "\n",
    "cancer_ukb200k['Biliari_SRC'] = cancer_ukb200k.apply(lambda x: SRC_variable(x), axis=1)\n",
    "cancer_ukb200k['Biliari_SRC_age'] = cancer_ukb200k.apply(lambda x: SRC_age(x), axis=1)\n",
    "\n",
    "# cancer_ukb200k['Biliari_SRD'] = cancer_ukb200k.apply(lambda x: SRD_variable(x), axis=1)\n",
    "# cancer_ukb200k['Biliari_SRD_age'] = cancer_ukb200k.apply(lambda x: SRD_age(x), axis=1)\n",
    "\n",
    "cancer_ukb200k['Biliari_death'] = cancer_ukb200k.apply(lambda x: Death_variable(x), axis=1)\n",
    "cancer_ukb200k['Biliari_death_date'] = cancer_ukb200k.apply(lambda x: Death_date(x), axis=1)\n"
   ]
  },
  {
   "cell_type": "code",
   "execution_count": 60,
   "id": "0e1939a8",
   "metadata": {},
   "outputs": [
    {
     "name": "stderr",
     "output_type": "stream",
     "text": [
      "/tmp/jobs/jramis/8445799/ipykernel_54571/4061061583.py:27: RuntimeWarning: All-NaN axis encountered\n",
      "  mindate = np.nanmin(dates_hypertension_disease)\n",
      "/tmp/jobs/jramis/8445799/ipykernel_54571/4061061583.py:54: RuntimeWarning: All-NaN axis encountered\n",
      "  mindate = np.nanmin(dates_hypertension_disease)\n"
     ]
    }
   ],
   "source": [
    "# Define Cervical\n",
    "\n",
    "icd_10_9 = ('C53', '180')\n",
    "srcancer = ('1041')\n",
    "srdisease = ()\n",
    "\n",
    "\n",
    "cancer_ukb200k['Cervical'] = cancer_ukb200k.apply(lambda x: Diagnose_variable(x), axis=1)\n",
    "cancer_ukb200k['Cervical_date'] = cancer_ukb200k.apply(lambda x: Diagnose_date(x), axis=1)\n",
    "\n",
    "cancer_ukb200k['Cervical_SRC'] = cancer_ukb200k.apply(lambda x: SRC_variable(x), axis=1)\n",
    "cancer_ukb200k['Cervical_SRC_age'] = cancer_ukb200k.apply(lambda x: SRC_age(x), axis=1)\n",
    "\n",
    "# cancer_ukb200k['Cervical_SRD'] = cancer_ukb200k.apply(lambda x: SRD_variable(x), axis=1)\n",
    "# cancer_ukb200k['Cervical_SRD_age'] = cancer_ukb200k.apply(lambda x: SRD_age(x), axis=1)\n",
    "\n",
    "cancer_ukb200k['Cervical_death'] = cancer_ukb200k.apply(lambda x: Death_variable(x), axis=1)\n",
    "cancer_ukb200k['Cervical_death_date'] = cancer_ukb200k.apply(lambda x: Death_date(x), axis=1)\n"
   ]
  },
  {
   "cell_type": "code",
   "execution_count": 61,
   "id": "b68df809",
   "metadata": {},
   "outputs": [
    {
     "name": "stderr",
     "output_type": "stream",
     "text": [
      "/tmp/jobs/jramis/8445799/ipykernel_54571/4061061583.py:27: RuntimeWarning: All-NaN axis encountered\n",
      "  mindate = np.nanmin(dates_hypertension_disease)\n",
      "/tmp/jobs/jramis/8445799/ipykernel_54571/4061061583.py:54: RuntimeWarning: All-NaN axis encountered\n",
      "  mindate = np.nanmin(dates_hypertension_disease)\n"
     ]
    }
   ],
   "source": [
    "# Define Sarcoma\n",
    "\n",
    "icd_10_9 = ('C49', '171')\n",
    "srcancer = ('1068')\n",
    "srdisease = ()\n",
    "\n",
    "\n",
    "cancer_ukb200k['Sarcoma'] = cancer_ukb200k.apply(lambda x: Diagnose_variable(x), axis=1)\n",
    "cancer_ukb200k['Sarcoma_date'] = cancer_ukb200k.apply(lambda x: Diagnose_date(x), axis=1)\n",
    "\n",
    "cancer_ukb200k['Sarcoma_SRC'] = cancer_ukb200k.apply(lambda x: SRC_variable(x), axis=1)\n",
    "cancer_ukb200k['Sarcoma_SRC_age'] = cancer_ukb200k.apply(lambda x: SRC_age(x), axis=1)\n",
    "\n",
    "# cancer_ukb200k['Sarcoma_SRD'] = cancer_ukb200k.apply(lambda x: SRD_variable(x), axis=1)\n",
    "# cancer_ukb200k['Sarcoma_SRD_age'] = cancer_ukb200k.apply(lambda x: SRD_age(x), axis=1)\n",
    "\n",
    "cancer_ukb200k['Sarcoma_death'] = cancer_ukb200k.apply(lambda x: Death_variable(x), axis=1)\n",
    "cancer_ukb200k['Sarcoma_death_date'] = cancer_ukb200k.apply(lambda x: Death_date(x), axis=1)\n"
   ]
  },
  {
   "cell_type": "code",
   "execution_count": 62,
   "id": "911eb0ee",
   "metadata": {},
   "outputs": [],
   "source": [
    "# Define Testicular\n",
    "\n",
    "icd_10_9 = ('C62', '186')\n",
    "srcancer = ('1045')\n",
    "srdisease = ()\n",
    "\n",
    "\n",
    "cancer_ukb200k['Testicular'] = cancer_ukb200k.apply(lambda x: Diagnose_variable(x), axis=1)\n",
    "cancer_ukb200k['Testicular_date'] = cancer_ukb200k.apply(lambda x: Diagnose_date(x), axis=1)\n",
    "\n",
    "cancer_ukb200k['Testicular_SRC'] = cancer_ukb200k.apply(lambda x: SRC_variable(x), axis=1)\n",
    "cancer_ukb200k['Testicular_SRC_age'] = cancer_ukb200k.apply(lambda x: SRC_age(x), axis=1)\n",
    "\n",
    "# cancer_ukb200k['Testicular_SRD'] = cancer_ukb200k.apply(lambda x: SRD_variable(x), axis=1)\n",
    "# cancer_ukb200k['Testicular_SRD_age'] = cancer_ukb200k.apply(lambda x: SRD_age(x), axis=1)\n",
    "\n",
    "cancer_ukb200k['Testicular_death'] = cancer_ukb200k.apply(lambda x: Death_variable(x), axis=1)\n",
    "cancer_ukb200k['Testicular_death_date'] = cancer_ukb200k.apply(lambda x: Death_date(x), axis=1)\n"
   ]
  },
  {
   "cell_type": "code",
   "execution_count": 65,
   "id": "c0683beb",
   "metadata": {},
   "outputs": [],
   "source": [
    "cancer_ukb200k.reset_index(drop=True, inplace=True)"
   ]
  },
  {
   "cell_type": "code",
   "execution_count": 66,
   "id": "669bc352",
   "metadata": {},
   "outputs": [
    {
     "data": {
      "text/plain": [
       "['HN_date',\n",
       " 'HN_SRC_age',\n",
       " 'HN_death_date',\n",
       " 'MM_date',\n",
       " 'MM_SRC_age',\n",
       " 'MM_SRD_age',\n",
       " 'MM_death_date',\n",
       " 'MPN_date',\n",
       " 'MPN_SRD_age',\n",
       " 'MPN_death_date',\n",
       " 'MDS_date',\n",
       " 'MDS_SRC_age',\n",
       " 'MDS_death_date',\n",
       " 'CMML_date',\n",
       " 'CMML_death_date',\n",
       " 'AML_date',\n",
       " 'AML_SRC_age',\n",
       " 'AML_death_date',\n",
       " 'LL_date',\n",
       " 'LL_SRC_age',\n",
       " 'LL_death_date',\n",
       " 'N-HN_date',\n",
       " 'N-HN_SRC_age',\n",
       " 'N-HN_death_date',\n",
       " 'Breast_date',\n",
       " 'Breast_SRC_age',\n",
       " 'Breast_death_date',\n",
       " 'Prostate_date',\n",
       " 'Prostate_SRC_age',\n",
       " 'Prostate_death_date',\n",
       " 'Lung_date',\n",
       " 'Lung_SRC_age',\n",
       " 'Lung_death_date',\n",
       " 'Colorectal_date',\n",
       " 'Colorectal_SRC_age',\n",
       " 'Colorectal_death_date',\n",
       " 'Small-intestine_date',\n",
       " 'Small-intestine_SRC_age',\n",
       " 'Small-intestine_death_date',\n",
       " 'Melanoma_date',\n",
       " 'Melanoma_SRC_age',\n",
       " 'Melanoma_death_date',\n",
       " 'Lymphoma_date',\n",
       " 'Lymphoma_SRC_age',\n",
       " 'Lymphoma_death_date',\n",
       " 'Myeloma_date',\n",
       " 'Myeloma_SRC_age',\n",
       " 'Myeloma_death_date',\n",
       " 'Kidney_date',\n",
       " 'Kidney_SRC_age',\n",
       " 'Kidney_death_date',\n",
       " 'Head-neck_date',\n",
       " 'Head-neck_SRC_age',\n",
       " 'Head-neck_death_date',\n",
       " 'Brain_date',\n",
       " 'Brain_SRC_age',\n",
       " 'Brain_death_date',\n",
       " 'Bladder_date',\n",
       " 'Bladder_SRC_age',\n",
       " 'Bladder_death_date',\n",
       " 'Pancreas_date',\n",
       " 'Pancreas_SRC_age',\n",
       " 'Pancreas_death_date',\n",
       " 'Uterine_date',\n",
       " 'Uterine_SRC_age',\n",
       " 'Uterine_death_date',\n",
       " 'Oesophageal_date',\n",
       " 'Oesophageal_SRC_age',\n",
       " 'Oesophageal_death_date',\n",
       " 'Ovarian_date',\n",
       " 'Ovarian_SRC_age',\n",
       " 'Ovarian_death_date',\n",
       " 'Stomach_date',\n",
       " 'Stomach_SRC_age',\n",
       " 'Stomach_death_date',\n",
       " 'Liver_date',\n",
       " 'Liver_SRC_age',\n",
       " 'Liver_death_date',\n",
       " 'Thyroid_date',\n",
       " 'Thyroid_SRC_age',\n",
       " 'Thyroid_death_date',\n",
       " 'Biliari_date',\n",
       " 'Biliari_SRC_age',\n",
       " 'Biliari_death_date',\n",
       " 'Cervical_date',\n",
       " 'Cervical_SRC_age',\n",
       " 'Cervical_death_date',\n",
       " 'Sarcoma_date',\n",
       " 'Sarcoma_SRC_age',\n",
       " 'Sarcoma_death_date',\n",
       " 'Testicular_date',\n",
       " 'Testicular_SRC_age',\n",
       " 'Testicular_death_date']"
      ]
     },
     "execution_count": 66,
     "metadata": {},
     "output_type": "execute_result"
    }
   ],
   "source": [
    "cancer_var = ('HN', 'MM', 'MPN', 'MDS', 'CMML', 'AML', 'LL', 'N-HN', \n",
    "           'Breast', 'Prostate', 'Lung', 'Colorectal', 'Small-intestine', \n",
    "           'Melanoma', 'Lymphoma', 'Myeloma', 'Kidney', 'Head-neck',\n",
    "           'Brain', 'Bladder', 'Pancreas', 'Uterine', 'Oesophageal', 'Ovarian',\n",
    "           'Stomach', 'Liver', 'Thyroid', 'Biliari', 'Cervical', 'Sarcoma', 'Testicular')\n",
    "\n",
    "variables = [var for var in cancer_ukb200k.columns.to_list() if var.endswith(('age', 'date'))]\n",
    "variables"
   ]
  },
  {
   "cell_type": "code",
   "execution_count": 73,
   "id": "20cf14df",
   "metadata": {},
   "outputs": [
    {
     "name": "stderr",
     "output_type": "stream",
     "text": [
      "  1%|▍                                           | 1/93 [00:01<02:56,  1.92s/it]"
     ]
    },
    {
     "name": "stdout",
     "output_type": "stream",
     "text": [
      "HN\n"
     ]
    },
    {
     "name": "stderr",
     "output_type": "stream",
     "text": [
      "\r",
      "  2%|▉                                           | 2/93 [00:06<05:08,  3.39s/it]"
     ]
    },
    {
     "name": "stdout",
     "output_type": "stream",
     "text": [
      "HN_SRC\n"
     ]
    },
    {
     "name": "stderr",
     "output_type": "stream",
     "text": [
      "\r",
      "  3%|█▍                                          | 3/93 [00:07<03:15,  2.17s/it]"
     ]
    },
    {
     "name": "stdout",
     "output_type": "stream",
     "text": [
      "HN_death\n"
     ]
    },
    {
     "name": "stderr",
     "output_type": "stream",
     "text": [
      "\r",
      "  4%|█▉                                          | 4/93 [00:07<02:24,  1.62s/it]"
     ]
    },
    {
     "name": "stdout",
     "output_type": "stream",
     "text": [
      "MM\n"
     ]
    },
    {
     "name": "stderr",
     "output_type": "stream",
     "text": [
      "\r",
      "  5%|██▎                                         | 5/93 [00:12<03:52,  2.64s/it]"
     ]
    },
    {
     "name": "stdout",
     "output_type": "stream",
     "text": [
      "MM_SRC\n"
     ]
    },
    {
     "name": "stderr",
     "output_type": "stream",
     "text": [
      "\r",
      "  6%|██▊                                         | 6/93 [00:16<04:43,  3.26s/it]"
     ]
    },
    {
     "name": "stdout",
     "output_type": "stream",
     "text": [
      "MM_SRD\n"
     ]
    },
    {
     "name": "stderr",
     "output_type": "stream",
     "text": [
      "\r",
      "  8%|███▎                                        | 7/93 [00:17<03:21,  2.35s/it]"
     ]
    },
    {
     "name": "stdout",
     "output_type": "stream",
     "text": [
      "MM_death\n"
     ]
    },
    {
     "name": "stderr",
     "output_type": "stream",
     "text": [
      "\r",
      "  9%|███▊                                        | 8/93 [00:17<02:28,  1.75s/it]"
     ]
    },
    {
     "name": "stdout",
     "output_type": "stream",
     "text": [
      "MPN\n"
     ]
    },
    {
     "name": "stderr",
     "output_type": "stream",
     "text": [
      "\r",
      " 10%|████▎                                       | 9/93 [00:22<03:36,  2.58s/it]"
     ]
    },
    {
     "name": "stdout",
     "output_type": "stream",
     "text": [
      "MPN_SRD\n"
     ]
    },
    {
     "name": "stderr",
     "output_type": "stream",
     "text": [
      "\r",
      " 11%|████▌                                      | 10/93 [00:22<02:34,  1.87s/it]"
     ]
    },
    {
     "name": "stdout",
     "output_type": "stream",
     "text": [
      "MPN_death\n"
     ]
    },
    {
     "name": "stderr",
     "output_type": "stream",
     "text": [
      "\r",
      " 12%|█████                                      | 11/93 [00:22<01:54,  1.40s/it]"
     ]
    },
    {
     "name": "stdout",
     "output_type": "stream",
     "text": [
      "MDS\n"
     ]
    },
    {
     "name": "stderr",
     "output_type": "stream",
     "text": [
      "\r",
      " 13%|█████▌                                     | 12/93 [00:27<03:08,  2.33s/it]"
     ]
    },
    {
     "name": "stdout",
     "output_type": "stream",
     "text": [
      "MDS_SRC\n"
     ]
    },
    {
     "name": "stderr",
     "output_type": "stream",
     "text": [
      "\r",
      " 14%|██████                                     | 13/93 [00:27<02:16,  1.70s/it]"
     ]
    },
    {
     "name": "stdout",
     "output_type": "stream",
     "text": [
      "MDS_death\n"
     ]
    },
    {
     "name": "stderr",
     "output_type": "stream",
     "text": [
      "\r",
      " 15%|██████▍                                    | 14/93 [00:27<01:39,  1.26s/it]"
     ]
    },
    {
     "name": "stdout",
     "output_type": "stream",
     "text": [
      "CMML\n"
     ]
    },
    {
     "name": "stderr",
     "output_type": "stream",
     "text": [
      "\r",
      " 16%|██████▉                                    | 15/93 [00:27<01:13,  1.06it/s]"
     ]
    },
    {
     "name": "stdout",
     "output_type": "stream",
     "text": [
      "CMML_death\n"
     ]
    },
    {
     "name": "stderr",
     "output_type": "stream",
     "text": [
      "\r",
      " 17%|███████▍                                   | 16/93 [00:28<01:00,  1.27it/s]"
     ]
    },
    {
     "name": "stdout",
     "output_type": "stream",
     "text": [
      "AML\n"
     ]
    },
    {
     "name": "stderr",
     "output_type": "stream",
     "text": [
      "\r",
      " 18%|███████▊                                   | 17/93 [00:32<02:23,  1.89s/it]"
     ]
    },
    {
     "name": "stdout",
     "output_type": "stream",
     "text": [
      "AML_SRC\n"
     ]
    },
    {
     "name": "stderr",
     "output_type": "stream",
     "text": [
      "\r",
      " 19%|████████▎                                  | 18/93 [00:33<01:47,  1.43s/it]"
     ]
    },
    {
     "name": "stdout",
     "output_type": "stream",
     "text": [
      "AML_death\n"
     ]
    },
    {
     "name": "stderr",
     "output_type": "stream",
     "text": [
      "\r",
      " 20%|████████▊                                  | 19/93 [00:33<01:27,  1.18s/it]"
     ]
    },
    {
     "name": "stdout",
     "output_type": "stream",
     "text": [
      "LL\n"
     ]
    },
    {
     "name": "stderr",
     "output_type": "stream",
     "text": [
      "\r",
      " 22%|█████████▏                                 | 20/93 [00:38<02:38,  2.17s/it]"
     ]
    },
    {
     "name": "stdout",
     "output_type": "stream",
     "text": [
      "LL_SRC\n"
     ]
    },
    {
     "name": "stderr",
     "output_type": "stream",
     "text": [
      "\r",
      " 23%|█████████▋                                 | 21/93 [00:38<01:55,  1.61s/it]"
     ]
    },
    {
     "name": "stdout",
     "output_type": "stream",
     "text": [
      "LL_death\n"
     ]
    },
    {
     "name": "stderr",
     "output_type": "stream",
     "text": [
      "\r",
      " 24%|██████████▏                                | 22/93 [01:11<13:04, 11.05s/it]"
     ]
    },
    {
     "name": "stdout",
     "output_type": "stream",
     "text": [
      "N-HN\n"
     ]
    },
    {
     "name": "stderr",
     "output_type": "stream",
     "text": [
      "\r",
      " 25%|██████████▋                                | 23/93 [01:15<10:34,  9.07s/it]"
     ]
    },
    {
     "name": "stdout",
     "output_type": "stream",
     "text": [
      "N-HN_SRC\n"
     ]
    },
    {
     "name": "stderr",
     "output_type": "stream",
     "text": [
      "\r",
      " 26%|███████████                                | 24/93 [01:22<09:25,  8.20s/it]"
     ]
    },
    {
     "name": "stdout",
     "output_type": "stream",
     "text": [
      "N-HN_death\n"
     ]
    },
    {
     "name": "stderr",
     "output_type": "stream",
     "text": [
      "\r",
      " 27%|███████████▌                               | 25/93 [01:28<08:41,  7.66s/it]"
     ]
    },
    {
     "name": "stdout",
     "output_type": "stream",
     "text": [
      "Breast\n"
     ]
    },
    {
     "name": "stderr",
     "output_type": "stream",
     "text": [
      "\r",
      " 28%|████████████                               | 26/93 [01:33<07:28,  6.70s/it]"
     ]
    },
    {
     "name": "stdout",
     "output_type": "stream",
     "text": [
      "Breast_SRC\n"
     ]
    },
    {
     "name": "stderr",
     "output_type": "stream",
     "text": [
      "\r",
      " 29%|████████████▍                              | 27/93 [01:33<05:24,  4.92s/it]"
     ]
    },
    {
     "name": "stdout",
     "output_type": "stream",
     "text": [
      "Breast_death\n"
     ]
    },
    {
     "name": "stderr",
     "output_type": "stream",
     "text": [
      "\r",
      " 30%|████████████▉                              | 28/93 [01:38<05:22,  4.97s/it]"
     ]
    },
    {
     "name": "stdout",
     "output_type": "stream",
     "text": [
      "Prostate\n"
     ]
    },
    {
     "name": "stderr",
     "output_type": "stream",
     "text": [
      "\r",
      " 31%|█████████████▍                             | 29/93 [01:43<05:07,  4.81s/it]"
     ]
    },
    {
     "name": "stdout",
     "output_type": "stream",
     "text": [
      "Prostate_SRC\n"
     ]
    },
    {
     "name": "stderr",
     "output_type": "stream",
     "text": [
      "\r",
      " 32%|█████████████▊                             | 30/93 [01:44<03:45,  3.57s/it]"
     ]
    },
    {
     "name": "stdout",
     "output_type": "stream",
     "text": [
      "Prostate_death\n"
     ]
    },
    {
     "name": "stderr",
     "output_type": "stream",
     "text": [
      "\r",
      " 33%|██████████████▎                            | 31/93 [01:45<03:08,  3.04s/it]"
     ]
    },
    {
     "name": "stdout",
     "output_type": "stream",
     "text": [
      "Lung\n"
     ]
    },
    {
     "name": "stderr",
     "output_type": "stream",
     "text": [
      "\r",
      " 34%|██████████████▊                            | 32/93 [01:50<03:30,  3.45s/it]"
     ]
    },
    {
     "name": "stdout",
     "output_type": "stream",
     "text": [
      "Lung_SRC\n"
     ]
    },
    {
     "name": "stderr",
     "output_type": "stream",
     "text": [
      "\r",
      " 35%|███████████████▎                           | 33/93 [01:51<02:49,  2.82s/it]"
     ]
    },
    {
     "name": "stdout",
     "output_type": "stream",
     "text": [
      "Lung_death\n"
     ]
    },
    {
     "name": "stderr",
     "output_type": "stream",
     "text": [
      "\r",
      " 37%|███████████████▋                           | 34/93 [01:54<02:52,  2.92s/it]"
     ]
    },
    {
     "name": "stdout",
     "output_type": "stream",
     "text": [
      "Colorectal\n"
     ]
    },
    {
     "name": "stderr",
     "output_type": "stream",
     "text": [
      "\r",
      " 38%|████████████████▏                          | 35/93 [01:59<03:15,  3.37s/it]"
     ]
    },
    {
     "name": "stdout",
     "output_type": "stream",
     "text": [
      "Colorectal_SRC\n"
     ]
    },
    {
     "name": "stderr",
     "output_type": "stream",
     "text": [
      "\r",
      " 39%|████████████████▋                          | 36/93 [02:00<02:29,  2.63s/it]"
     ]
    },
    {
     "name": "stdout",
     "output_type": "stream",
     "text": [
      "Colorectal_death\n"
     ]
    },
    {
     "name": "stderr",
     "output_type": "stream",
     "text": [
      "\r",
      " 40%|█████████████████                          | 37/93 [02:00<01:48,  1.94s/it]"
     ]
    },
    {
     "name": "stdout",
     "output_type": "stream",
     "text": [
      "Small-intestine\n"
     ]
    },
    {
     "name": "stderr",
     "output_type": "stream",
     "text": [
      "\r",
      " 41%|█████████████████▌                         | 38/93 [02:04<02:27,  2.68s/it]"
     ]
    },
    {
     "name": "stdout",
     "output_type": "stream",
     "text": [
      "Small-intestine_SRC\n"
     ]
    },
    {
     "name": "stderr",
     "output_type": "stream",
     "text": [
      "\r",
      " 42%|██████████████████                         | 39/93 [02:05<01:45,  1.95s/it]"
     ]
    },
    {
     "name": "stdout",
     "output_type": "stream",
     "text": [
      "Small-intestine_death\n"
     ]
    },
    {
     "name": "stderr",
     "output_type": "stream",
     "text": [
      "\r",
      " 43%|██████████████████▍                        | 40/93 [02:06<01:43,  1.96s/it]"
     ]
    },
    {
     "name": "stdout",
     "output_type": "stream",
     "text": [
      "Melanoma\n"
     ]
    },
    {
     "name": "stderr",
     "output_type": "stream",
     "text": [
      "\r",
      " 44%|██████████████████▉                        | 41/93 [02:11<02:19,  2.68s/it]"
     ]
    },
    {
     "name": "stdout",
     "output_type": "stream",
     "text": [
      "Melanoma_SRC\n"
     ]
    },
    {
     "name": "stderr",
     "output_type": "stream",
     "text": [
      "\r",
      " 45%|███████████████████▍                       | 42/93 [02:11<01:41,  1.98s/it]"
     ]
    },
    {
     "name": "stdout",
     "output_type": "stream",
     "text": [
      "Melanoma_death\n"
     ]
    },
    {
     "name": "stderr",
     "output_type": "stream",
     "text": [
      "\r",
      " 46%|███████████████████▉                       | 43/93 [02:13<01:32,  1.85s/it]"
     ]
    },
    {
     "name": "stdout",
     "output_type": "stream",
     "text": [
      "Lymphoma\n"
     ]
    },
    {
     "name": "stderr",
     "output_type": "stream",
     "text": [
      "\r",
      " 47%|████████████████████▎                      | 44/93 [02:17<02:08,  2.62s/it]"
     ]
    },
    {
     "name": "stdout",
     "output_type": "stream",
     "text": [
      "Lymphoma_SRC\n"
     ]
    },
    {
     "name": "stderr",
     "output_type": "stream",
     "text": [
      "\r",
      " 48%|████████████████████▊                      | 45/93 [02:18<01:35,  1.99s/it]"
     ]
    },
    {
     "name": "stdout",
     "output_type": "stream",
     "text": [
      "Lymphoma_death\n"
     ]
    },
    {
     "name": "stderr",
     "output_type": "stream",
     "text": [
      "\r",
      " 49%|█████████████████████▎                     | 46/93 [02:18<01:13,  1.57s/it]"
     ]
    },
    {
     "name": "stdout",
     "output_type": "stream",
     "text": [
      "Myeloma\n"
     ]
    },
    {
     "name": "stderr",
     "output_type": "stream",
     "text": [
      "\r",
      " 51%|█████████████████████▋                     | 47/93 [02:23<01:51,  2.42s/it]"
     ]
    },
    {
     "name": "stdout",
     "output_type": "stream",
     "text": [
      "Myeloma_SRC\n"
     ]
    },
    {
     "name": "stderr",
     "output_type": "stream",
     "text": [
      "\r",
      " 52%|██████████████████████▏                    | 48/93 [02:23<01:21,  1.81s/it]"
     ]
    },
    {
     "name": "stdout",
     "output_type": "stream",
     "text": [
      "Myeloma_death\n"
     ]
    },
    {
     "name": "stderr",
     "output_type": "stream",
     "text": [
      "\r",
      " 53%|██████████████████████▋                    | 49/93 [02:24<01:08,  1.55s/it]"
     ]
    },
    {
     "name": "stdout",
     "output_type": "stream",
     "text": [
      "Kidney\n"
     ]
    },
    {
     "name": "stderr",
     "output_type": "stream",
     "text": [
      "\r",
      " 54%|███████████████████████                    | 50/93 [02:28<01:44,  2.42s/it]"
     ]
    },
    {
     "name": "stdout",
     "output_type": "stream",
     "text": [
      "Kidney_SRC\n"
     ]
    },
    {
     "name": "stderr",
     "output_type": "stream",
     "text": [
      "\r",
      " 55%|███████████████████████▌                   | 51/93 [02:29<01:16,  1.82s/it]"
     ]
    },
    {
     "name": "stdout",
     "output_type": "stream",
     "text": [
      "Kidney_death\n"
     ]
    },
    {
     "name": "stderr",
     "output_type": "stream",
     "text": [
      "\r",
      " 56%|████████████████████████                   | 52/93 [02:30<01:03,  1.55s/it]"
     ]
    },
    {
     "name": "stdout",
     "output_type": "stream",
     "text": [
      "Head-neck\n"
     ]
    },
    {
     "name": "stderr",
     "output_type": "stream",
     "text": [
      "\r",
      " 57%|████████████████████████▌                  | 53/93 [02:34<01:36,  2.41s/it]"
     ]
    },
    {
     "name": "stdout",
     "output_type": "stream",
     "text": [
      "Head-neck_SRC\n"
     ]
    },
    {
     "name": "stderr",
     "output_type": "stream",
     "text": [
      "\r",
      " 58%|████████████████████████▉                  | 54/93 [02:35<01:09,  1.79s/it]"
     ]
    },
    {
     "name": "stdout",
     "output_type": "stream",
     "text": [
      "Head-neck_death\n"
     ]
    },
    {
     "name": "stderr",
     "output_type": "stream",
     "text": [
      "\r",
      " 59%|█████████████████████████▍                 | 55/93 [02:35<00:54,  1.42s/it]"
     ]
    },
    {
     "name": "stdout",
     "output_type": "stream",
     "text": [
      "Brain\n"
     ]
    },
    {
     "name": "stderr",
     "output_type": "stream",
     "text": [
      "\r",
      " 60%|█████████████████████████▉                 | 56/93 [02:40<01:25,  2.31s/it]"
     ]
    },
    {
     "name": "stdout",
     "output_type": "stream",
     "text": [
      "Brain_SRC\n"
     ]
    },
    {
     "name": "stderr",
     "output_type": "stream",
     "text": [
      "\r",
      " 61%|██████████████████████████▎                | 57/93 [02:40<01:03,  1.77s/it]"
     ]
    },
    {
     "name": "stdout",
     "output_type": "stream",
     "text": [
      "Brain_death\n"
     ]
    },
    {
     "name": "stderr",
     "output_type": "stream",
     "text": [
      "\r",
      " 62%|██████████████████████████▊                | 58/93 [02:41<00:53,  1.52s/it]"
     ]
    },
    {
     "name": "stdout",
     "output_type": "stream",
     "text": [
      "Bladder\n"
     ]
    },
    {
     "name": "stderr",
     "output_type": "stream",
     "text": [
      "\r",
      " 63%|███████████████████████████▎               | 59/93 [02:45<01:20,  2.38s/it]"
     ]
    },
    {
     "name": "stdout",
     "output_type": "stream",
     "text": [
      "Bladder_SRC\n"
     ]
    },
    {
     "name": "stderr",
     "output_type": "stream",
     "text": [
      "\r",
      " 65%|███████████████████████████▋               | 60/93 [02:46<00:59,  1.79s/it]"
     ]
    },
    {
     "name": "stdout",
     "output_type": "stream",
     "text": [
      "Bladder_death\n"
     ]
    },
    {
     "name": "stderr",
     "output_type": "stream",
     "text": [
      "\r",
      " 66%|████████████████████████████▏              | 61/93 [02:46<00:46,  1.46s/it]"
     ]
    },
    {
     "name": "stdout",
     "output_type": "stream",
     "text": [
      "Pancreas\n"
     ]
    },
    {
     "name": "stderr",
     "output_type": "stream",
     "text": [
      "\r",
      " 67%|████████████████████████████▋              | 62/93 [02:51<01:12,  2.35s/it]"
     ]
    },
    {
     "name": "stdout",
     "output_type": "stream",
     "text": [
      "Pancreas_SRC\n"
     ]
    },
    {
     "name": "stderr",
     "output_type": "stream",
     "text": [
      "\r",
      " 68%|█████████████████████████████▏             | 63/93 [02:52<00:55,  1.86s/it]"
     ]
    },
    {
     "name": "stdout",
     "output_type": "stream",
     "text": [
      "Pancreas_death\n"
     ]
    },
    {
     "name": "stderr",
     "output_type": "stream",
     "text": [
      "\r",
      " 69%|█████████████████████████████▌             | 64/93 [02:52<00:40,  1.40s/it]"
     ]
    },
    {
     "name": "stdout",
     "output_type": "stream",
     "text": [
      "Uterine\n"
     ]
    },
    {
     "name": "stderr",
     "output_type": "stream",
     "text": [
      "\r",
      " 70%|██████████████████████████████             | 65/93 [02:56<01:04,  2.31s/it]"
     ]
    },
    {
     "name": "stdout",
     "output_type": "stream",
     "text": [
      "Uterine_SRC\n"
     ]
    },
    {
     "name": "stderr",
     "output_type": "stream",
     "text": [
      "\r",
      " 71%|██████████████████████████████▌            | 66/93 [02:57<00:45,  1.70s/it]"
     ]
    },
    {
     "name": "stdout",
     "output_type": "stream",
     "text": [
      "Uterine_death\n"
     ]
    },
    {
     "name": "stderr",
     "output_type": "stream",
     "text": [
      "\r",
      " 72%|██████████████████████████████▉            | 67/93 [02:57<00:35,  1.38s/it]"
     ]
    },
    {
     "name": "stdout",
     "output_type": "stream",
     "text": [
      "Oesophageal\n"
     ]
    },
    {
     "name": "stderr",
     "output_type": "stream",
     "text": [
      "\r",
      " 73%|███████████████████████████████▍           | 68/93 [03:02<00:57,  2.30s/it]"
     ]
    },
    {
     "name": "stdout",
     "output_type": "stream",
     "text": [
      "Oesophageal_SRC\n"
     ]
    },
    {
     "name": "stderr",
     "output_type": "stream",
     "text": [
      "\r",
      " 74%|███████████████████████████████▉           | 69/93 [03:02<00:42,  1.78s/it]"
     ]
    },
    {
     "name": "stdout",
     "output_type": "stream",
     "text": [
      "Oesophageal_death\n"
     ]
    },
    {
     "name": "stderr",
     "output_type": "stream",
     "text": [
      "\r",
      " 75%|████████████████████████████████▎          | 70/93 [03:03<00:34,  1.50s/it]"
     ]
    },
    {
     "name": "stdout",
     "output_type": "stream",
     "text": [
      "Ovarian\n"
     ]
    },
    {
     "name": "stderr",
     "output_type": "stream",
     "text": [
      "\r",
      " 76%|████████████████████████████████▊          | 71/93 [03:08<00:52,  2.37s/it]"
     ]
    },
    {
     "name": "stdout",
     "output_type": "stream",
     "text": [
      "Ovarian_SRC\n"
     ]
    },
    {
     "name": "stderr",
     "output_type": "stream",
     "text": [
      "\r",
      " 77%|█████████████████████████████████▎         | 72/93 [03:08<00:37,  1.80s/it]"
     ]
    },
    {
     "name": "stdout",
     "output_type": "stream",
     "text": [
      "Ovarian_death\n"
     ]
    },
    {
     "name": "stderr",
     "output_type": "stream",
     "text": [
      "\r",
      " 78%|█████████████████████████████████▊         | 73/93 [03:09<00:28,  1.42s/it]"
     ]
    },
    {
     "name": "stdout",
     "output_type": "stream",
     "text": [
      "Stomach\n"
     ]
    },
    {
     "name": "stderr",
     "output_type": "stream",
     "text": [
      "\r",
      " 80%|██████████████████████████████████▏        | 74/93 [03:13<00:43,  2.31s/it]"
     ]
    },
    {
     "name": "stdout",
     "output_type": "stream",
     "text": [
      "Stomach_SRC\n"
     ]
    },
    {
     "name": "stderr",
     "output_type": "stream",
     "text": [
      "\r",
      " 81%|██████████████████████████████████▋        | 75/93 [03:13<00:31,  1.74s/it]"
     ]
    },
    {
     "name": "stdout",
     "output_type": "stream",
     "text": [
      "Stomach_death\n"
     ]
    },
    {
     "name": "stderr",
     "output_type": "stream",
     "text": [
      "\r",
      " 82%|███████████████████████████████████▏       | 76/93 [03:14<00:22,  1.32s/it]"
     ]
    },
    {
     "name": "stdout",
     "output_type": "stream",
     "text": [
      "Liver\n"
     ]
    },
    {
     "name": "stderr",
     "output_type": "stream",
     "text": [
      "\r",
      " 83%|███████████████████████████████████▌       | 77/93 [03:18<00:36,  2.25s/it]"
     ]
    },
    {
     "name": "stdout",
     "output_type": "stream",
     "text": [
      "Liver_SRC\n"
     ]
    },
    {
     "name": "stderr",
     "output_type": "stream",
     "text": [
      "\r",
      " 84%|████████████████████████████████████       | 78/93 [03:18<00:25,  1.67s/it]"
     ]
    },
    {
     "name": "stdout",
     "output_type": "stream",
     "text": [
      "Liver_death\n"
     ]
    },
    {
     "name": "stderr",
     "output_type": "stream",
     "text": [
      "\r",
      " 85%|████████████████████████████████████▌      | 79/93 [03:19<00:18,  1.33s/it]"
     ]
    },
    {
     "name": "stdout",
     "output_type": "stream",
     "text": [
      "Thyroid\n"
     ]
    },
    {
     "name": "stderr",
     "output_type": "stream",
     "text": [
      "\r",
      " 86%|████████████████████████████████████▉      | 80/93 [03:23<00:29,  2.24s/it]"
     ]
    },
    {
     "name": "stdout",
     "output_type": "stream",
     "text": [
      "Thyroid_SRC\n"
     ]
    },
    {
     "name": "stderr",
     "output_type": "stream",
     "text": [
      "\r",
      " 87%|█████████████████████████████████████▍     | 81/93 [03:24<00:19,  1.64s/it]"
     ]
    },
    {
     "name": "stdout",
     "output_type": "stream",
     "text": [
      "Thyroid_death\n"
     ]
    },
    {
     "name": "stderr",
     "output_type": "stream",
     "text": [
      "\r",
      " 88%|█████████████████████████████████████▉     | 82/93 [03:24<00:14,  1.28s/it]"
     ]
    },
    {
     "name": "stdout",
     "output_type": "stream",
     "text": [
      "Biliari\n"
     ]
    },
    {
     "name": "stderr",
     "output_type": "stream",
     "text": [
      "\r",
      " 89%|██████████████████████████████████████▍    | 83/93 [03:28<00:22,  2.21s/it]"
     ]
    },
    {
     "name": "stdout",
     "output_type": "stream",
     "text": [
      "Biliari_SRC\n"
     ]
    },
    {
     "name": "stderr",
     "output_type": "stream",
     "text": [
      "\r",
      " 90%|██████████████████████████████████████▊    | 84/93 [03:29<00:14,  1.66s/it]"
     ]
    },
    {
     "name": "stdout",
     "output_type": "stream",
     "text": [
      "Biliari_death\n"
     ]
    },
    {
     "name": "stderr",
     "output_type": "stream",
     "text": [
      "\r",
      " 91%|███████████████████████████████████████▎   | 85/93 [03:29<00:10,  1.34s/it]"
     ]
    },
    {
     "name": "stdout",
     "output_type": "stream",
     "text": [
      "Cervical\n"
     ]
    },
    {
     "name": "stderr",
     "output_type": "stream",
     "text": [
      "\r",
      " 92%|███████████████████████████████████████▊   | 86/93 [03:34<00:15,  2.26s/it]"
     ]
    },
    {
     "name": "stdout",
     "output_type": "stream",
     "text": [
      "Cervical_SRC\n"
     ]
    },
    {
     "name": "stderr",
     "output_type": "stream",
     "text": [
      "\r",
      " 94%|████████████████████████████████████████▏  | 87/93 [03:34<00:09,  1.65s/it]"
     ]
    },
    {
     "name": "stdout",
     "output_type": "stream",
     "text": [
      "Cervical_death\n"
     ]
    },
    {
     "name": "stderr",
     "output_type": "stream",
     "text": [
      "\r",
      " 95%|████████████████████████████████████████▋  | 88/93 [03:34<00:06,  1.27s/it]"
     ]
    },
    {
     "name": "stdout",
     "output_type": "stream",
     "text": [
      "Sarcoma\n"
     ]
    },
    {
     "name": "stderr",
     "output_type": "stream",
     "text": [
      "\r",
      " 96%|█████████████████████████████████████████▏ | 89/93 [03:39<00:08,  2.21s/it]"
     ]
    },
    {
     "name": "stdout",
     "output_type": "stream",
     "text": [
      "Sarcoma_SRC\n"
     ]
    },
    {
     "name": "stderr",
     "output_type": "stream",
     "text": [
      "\r",
      " 97%|█████████████████████████████████████████▌ | 90/93 [03:39<00:04,  1.63s/it]"
     ]
    },
    {
     "name": "stdout",
     "output_type": "stream",
     "text": [
      "Sarcoma_death\n"
     ]
    },
    {
     "name": "stderr",
     "output_type": "stream",
     "text": [
      "\r",
      " 98%|██████████████████████████████████████████ | 91/93 [03:40<00:02,  1.29s/it]"
     ]
    },
    {
     "name": "stdout",
     "output_type": "stream",
     "text": [
      "Testicular\n"
     ]
    },
    {
     "name": "stderr",
     "output_type": "stream",
     "text": [
      "\r",
      " 99%|██████████████████████████████████████████▌| 92/93 [03:44<00:02,  2.24s/it]"
     ]
    },
    {
     "name": "stdout",
     "output_type": "stream",
     "text": [
      "Testicular_SRC\n"
     ]
    },
    {
     "name": "stderr",
     "output_type": "stream",
     "text": [
      "100%|███████████████████████████████████████████| 93/93 [03:44<00:00,  2.42s/it]"
     ]
    },
    {
     "name": "stdout",
     "output_type": "stream",
     "text": [
      "Testicular_death\n"
     ]
    },
    {
     "name": "stderr",
     "output_type": "stream",
     "text": [
      "\n"
     ]
    }
   ],
   "source": [
    "from tqdm import tqdm\n",
    "\n",
    "for variable in tqdm(variables):\n",
    "    years = []\n",
    "    if variable.endswith('date'):\n",
    "        for n, x in enumerate(cancer_ukb200k[variable]):\n",
    "            if x is np.nan:\n",
    "                years.append(x)\n",
    "            else:\n",
    "                year = pd.to_datetime(x, format='%Y-%m-%d')-pd.to_datetime(cancer_ukb200k.loc[n,'53-0.0'], format='%Y-%m-%d')\n",
    "                years.append(year/np.timedelta64(1,'Y'))\n",
    "    elif variable.endswith('age'):\n",
    "        for n, x in enumerate(cancer_ukb200k[variable]):\n",
    "            if x is np.nan:\n",
    "                years.append(x)\n",
    "            else:\n",
    "                year = x-cancer_ukb200k.loc[n,'21022-0.0']\n",
    "                years.append(year)\n",
    "\n",
    "    var = '_'.join(variable.split('_')[:-1])\n",
    "    print(var)\n",
    "    cancer_ukb200k[var+'_years'] = years\n"
   ]
  },
  {
   "cell_type": "code",
   "execution_count": 78,
   "id": "b8d601bf",
   "metadata": {},
   "outputs": [],
   "source": [
    "cancer_var = ['HN', 'MM', 'MPN', 'MDS', 'CMML', 'AML', 'LL', 'N-HN', \n",
    "           'Breast', 'Prostate', 'Lung', 'Colorectal', 'Small-intestine', \n",
    "           'Melanoma', 'Lymphoma', 'Myeloma', 'Kidney', 'Head-neck',\n",
    "           'Brain', 'Bladder', 'Pancreas', 'Uterine', 'Oesophageal', 'Ovarian',\n",
    "           'Stomach', 'Liver', 'Thyroid', 'Biliari', 'Cervical', 'Sarcoma', 'Testicular']\n",
    "for var in cancer_var:\n",
    "    yeears = [x for x in cancer_ukb200k.columns if (x.startswith(var)) and (x.endswith('years'))]\n",
    "    cancer_ukb200k['var_'+var+'_years'] = cancer_ukb200k.loc[:,yeears].min(axis=1)\n",
    "    cancer_ukb200k['var_'+var+'_var'] = np.where(cancer_ukb200k['var_'+var+'_years'].notnull(), 1, 0)\n",
    "    cancer_ukb200k['var_'+var+'_post'] = np.where(cancer_ukb200k['var_'+var+'_years'] > 0, 1, 0)\n",
    "    cancer_ukb200k['var_'+var+'_pre'] = np.where(cancer_ukb200k['var_'+var+'_years'] < 0, 1, 0)"
   ]
  },
  {
   "cell_type": "markdown",
   "id": "c6f92709",
   "metadata": {},
   "source": [
    "## 4. Save output"
   ]
  },
  {
   "cell_type": "code",
   "execution_count": 89,
   "id": "f7820429",
   "metadata": {},
   "outputs": [
    {
     "data": {
      "text/plain": [
       "('HN',\n",
       " 'MM',\n",
       " 'MPN',\n",
       " 'MDS',\n",
       " 'CMML',\n",
       " 'AML',\n",
       " 'LL',\n",
       " 'N-HN',\n",
       " 'Breast',\n",
       " 'Prostate',\n",
       " 'Lung',\n",
       " 'Colorectal',\n",
       " 'Small-intestine',\n",
       " 'Melanoma',\n",
       " 'Lymphoma',\n",
       " 'Myeloma',\n",
       " 'Kidney',\n",
       " 'Head-neck',\n",
       " 'Brain',\n",
       " 'Bladder',\n",
       " 'Pancreas',\n",
       " 'Uterine',\n",
       " 'Oesophageal',\n",
       " 'Ovarian',\n",
       " 'Stomach',\n",
       " 'Liver',\n",
       " 'Thyroid',\n",
       " 'Biliari',\n",
       " 'Cervical',\n",
       " 'Sarcoma',\n",
       " 'Testicular')"
      ]
     },
     "execution_count": 89,
     "metadata": {},
     "output_type": "execute_result"
    }
   ],
   "source": [
    "tuple(cancer_var)"
   ]
  },
  {
   "cell_type": "code",
   "execution_count": 19,
   "id": "67097b57",
   "metadata": {},
   "outputs": [],
   "source": [
    "df1 = cancer_ukb200k[['eid', '53-0.0', '21022-0.0']+[x for x in cancer_ukb200k.columns if (x.startswith(('var')) or x.startswith(tuple(cancer_var)))]]"
   ]
  },
  {
   "cell_type": "code",
   "execution_count": 92,
   "id": "0c3c699c",
   "metadata": {},
   "outputs": [],
   "source": [
    "### SAVE\n",
    "df1.to_csv('cancer_ukb200k_Siddharta_670124_simple.txt.gz', sep=\"\\t\", index=False, compression='gzip')"
   ]
  }
 ],
 "metadata": {
  "kernelspec": {
   "display_name": "Python 3 (ipykernel)",
   "language": "python",
   "name": "python3"
  },
  "language_info": {
   "codemirror_mode": {
    "name": "ipython",
    "version": 3
   },
   "file_extension": ".py",
   "mimetype": "text/x-python",
   "name": "python",
   "nbconvert_exporter": "python",
   "pygments_lexer": "ipython3",
   "version": "3.9.7"
  }
 },
 "nbformat": 4,
 "nbformat_minor": 5
}
