{
 "cells": [
  {
   "cell_type": "markdown",
   "id": "major-edition",
   "metadata": {},
   "source": [
    "# COLLECT CANCER DATA FROM UK BIOBANK\n",
    "\n",
    "\n",
    "### CONSIDERING BOTH ICD10 AND ICD9"
   ]
  },
  {
   "cell_type": "markdown",
   "id": "substantial-modem",
   "metadata": {},
   "source": [
    "### 1. Upload cancer datafields per patient \n",
    "### 2. Create general variables\n",
    "### 3. Create variable difference ages\n",
    "### 4. Hematological cancer\n",
    "### 5. Calculate time in date\n",
    "### 6. Create variable hematopoietic cancer from 1st cancer (post age)\n",
    "### 7. Labeling and classifying hematological cancer\n",
    "### 8. Save output"
   ]
  },
  {
   "cell_type": "code",
   "execution_count": 3,
   "id": "valid-implementation",
   "metadata": {},
   "outputs": [],
   "source": [
    "import pandas as pd\n",
    "import numpy as np\n",
    "import matplotlib.pyplot as plt\n",
    "from io import StringIO\n",
    "import seaborn as sns\n",
    "import scipy.stats as stats\n",
    "pd.set_option('display.max_columns', 150)\n",
    "pd.set_option('display.max_rows', 40)\n",
    "\n",
    "import matplotlib as mpl\n",
    "mpl.rcParams['figure.dpi']= 300"
   ]
  },
  {
   "cell_type": "markdown",
   "id": "liked-planner",
   "metadata": {},
   "source": [
    "## 1. Upload cancer datafields per patient "
   ]
  },
  {
   "cell_type": "code",
   "execution_count": 4,
   "id": "regulation-fantasy",
   "metadata": {},
   "outputs": [
    {
     "name": "stderr",
     "output_type": "stream",
     "text": [
      "/tmp/jobs/jramis/9874679/ipykernel_53556/176269524.py:8: DtypeWarning: Columns (56,57,58,59,60,61,62,63,64,65,66,67,68,69,70,71,72,73,78,79,80,81,82,83,84,85,86,87,88,89,90,91,92,93,94,95,204,205,206,207,208,209,210,211,212,213,214,215,216,217,218,219,220,221) have mixed types. Specify dtype option on import or set low_memory=False.\n",
      "  cancer_df = pd.read_csv(StringIO(lines), sep= '\\t')\n"
     ]
    },
    {
     "data": {
      "text/plain": [
       "502394"
      ]
     },
     "execution_count": 4,
     "metadata": {},
     "output_type": "execute_result"
    }
   ],
   "source": [
    "### OPEN CANCER DATA generated following the steps from the README.md\n",
    "### Data-fields are indicated in the paper\n",
    "\n",
    "# Read data\n",
    "filename = \"/workspace/datasets/ukbiobank_ch/ukb_data_670124/clinical_data_ukb670124/cancer_data_670124.txt\"\n",
    "lines = ''.join([line for line in open(filename, 'rt')])\n",
    "\n",
    "# Transform to df\n",
    "cancer_ukb200k = pd.read_csv(StringIO(lines), sep= '\\t')\n",
    "len(cancer_ukb200k)"
   ]
  },
  {
   "cell_type": "code",
   "execution_count": 15,
   "id": "cce88f18",
   "metadata": {},
   "outputs": [
    {
     "data": {
      "text/plain": [
       "{'21003',\n",
       " '21022',\n",
       " '22009',\n",
       " '31',\n",
       " '40005',\n",
       " '40006',\n",
       " '40008',\n",
       " '40009',\n",
       " '40011',\n",
       " '40012',\n",
       " '40013',\n",
       " '40019',\n",
       " '40021',\n",
       " '53',\n",
       " 'eid'}"
      ]
     },
     "execution_count": 15,
     "metadata": {},
     "output_type": "execute_result"
    }
   ],
   "source": [
    "# All datafield codes\n",
    "\n",
    "colnoms = []\n",
    "for x in cancer_ukb200k.columns.tolist():\n",
    "    colnoms.append(x.split('-')[0])\n",
    "set(colnoms)"
   ]
  },
  {
   "cell_type": "markdown",
   "id": "7ab3d012",
   "metadata": {},
   "source": [
    "'eid', case_id\\\n",
    "'40005', date of cancer\\\n",
    "'40006', Type of cancer: ICD10\\\n",
    "'40008', Age at cancer diagnosis\\\n",
    "'40009', Reported occurrences of cancer\\\n",
    "'40013', Type of cancer: ICD9\\\n",
    "'53', Date of attending assessment centre\\\n",
    "'21003', Age when attended assessment centre\\\n",
    "'21022', Age at recruitment\\\n",
    "'22009', Genetic principal components\\\n",
    "'31', Sex\\\n",
    "'40011', Histology of cancer tumour\\\n",
    "'40012', Behaviour of cancer tumour\\\n",
    "'40019', Cancer record format\\\n",
    "'40021', Cancer record origin\\"
   ]
  },
  {
   "cell_type": "code",
   "execution_count": 16,
   "id": "f4bbde4c",
   "metadata": {},
   "outputs": [],
   "source": [
    "# Function to obtain the index from columns\n",
    "\n",
    "def columna(data, name):\n",
    "    a = []\n",
    "    for n, x in enumerate(data.columns.tolist()):\n",
    "        if str(x).startswith(str(name)):\n",
    "            a.append([n , x])\n",
    "    return(a)"
   ]
  },
  {
   "cell_type": "code",
   "execution_count": 17,
   "id": "d682d338",
   "metadata": {},
   "outputs": [
    {
     "data": {
      "text/plain": [
       "[[51, '40005-0.0'],\n",
       " [52, '40005-1.0'],\n",
       " [53, '40005-2.0'],\n",
       " [54, '40005-3.0'],\n",
       " [55, '40005-4.0'],\n",
       " [56, '40005-5.0'],\n",
       " [57, '40005-6.0'],\n",
       " [58, '40005-7.0'],\n",
       " [59, '40005-8.0'],\n",
       " [60, '40005-9.0'],\n",
       " [61, '40005-10.0'],\n",
       " [62, '40005-11.0'],\n",
       " [63, '40005-12.0'],\n",
       " [64, '40005-13.0'],\n",
       " [65, '40005-14.0'],\n",
       " [66, '40005-15.0'],\n",
       " [67, '40005-16.0'],\n",
       " [68, '40005-17.0'],\n",
       " [69, '40005-18.0'],\n",
       " [70, '40005-19.0'],\n",
       " [71, '40005-20.0'],\n",
       " [72, '40005-21.0']]"
      ]
     },
     "execution_count": 17,
     "metadata": {},
     "output_type": "execute_result"
    }
   ],
   "source": [
    "columna(cancer_ukb200k, '40005')"
   ]
  },
  {
   "cell_type": "code",
   "execution_count": 18,
   "id": "778ca12c",
   "metadata": {},
   "outputs": [
    {
     "data": {
      "text/plain": [
       "Timestamp('2021-06-25 00:00:00')"
      ]
     },
     "execution_count": 18,
     "metadata": {},
     "output_type": "execute_result"
    }
   ],
   "source": [
    "#calculate max date of cancer event\n",
    "\n",
    "dates = cancer_ukb200k.iloc[:,51:73]\n",
    "maxdates = []\n",
    "for x in dates:\n",
    "    maxdates.append(pd.to_datetime(cancer_ukb200k[x], format='%Y-%m-%d').max())\n",
    "maxdate = max(maxdates)\n",
    "maxdate"
   ]
  },
  {
   "cell_type": "code",
   "execution_count": null,
   "id": "3648c982",
   "metadata": {},
   "outputs": [],
   "source": [
    "## 2. Start generating matrix"
   ]
  },
  {
   "cell_type": "code",
   "execution_count": 24,
   "id": "affecting-tyler",
   "metadata": {},
   "outputs": [],
   "source": [
    "### Select only relevant data\n",
    "\n",
    "# 40005 [51:73]  Date of first cancer\n",
    "# 40006 [73:95]  Cancer - ICD10\n",
    "# 40008 [95:117]  Age of first cancer\n",
    "# 40013 [162:177]  Cancer - ICD9\n",
    "# 40009 [117]  Cancer ocurrences\n",
    "\n",
    "\n",
    "# Select data fields 40005, 40006, 40008, 40013 and 40009\n",
    "cancer_ukb200k = pd.concat([cancer_ukb200k[cancer_ukb200k.columns[0]],\n",
    "                                cancer_ukb200k[cancer_ukb200k.columns[2]],\n",
    "                                cancer_ukb200k[cancer_ukb200k.columns[51:73]],\n",
    "                                cancer_ukb200k[cancer_ukb200k.columns[73:95]],\n",
    "                                cancer_ukb200k[cancer_ukb200k.columns[95:117]],\n",
    "                                cancer_ukb200k[cancer_ukb200k.columns[162:177]],\n",
    "                                cancer_ukb200k[cancer_ukb200k.columns[117]]], axis=1)"
   ]
  },
  {
   "cell_type": "markdown",
   "id": "comfortable-resource",
   "metadata": {},
   "source": [
    "## 2. Create general variables"
   ]
  },
  {
   "cell_type": "code",
   "execution_count": 33,
   "id": "seven-robertson",
   "metadata": {},
   "outputs": [
    {
     "data": {
      "text/plain": [
       "0    383413\n",
       "1    118978\n",
       "Name: cancer, dtype: int64"
      ]
     },
     "execution_count": 33,
     "metadata": {},
     "output_type": "execute_result"
    }
   ],
   "source": [
    "### Patients with cancer\n",
    "#cancer defined as having date of cancer, it should be 40009 (ocurrences)\n",
    "ukb200K_age_cancer['cancer'] = ukb200K_age_cancer['40009-0.0'].apply(lambda x: 0 if pd.isna(x) else 1)\n",
    "ukb200K_age_cancer['cancer'].value_counts()"
   ]
  },
  {
   "cell_type": "code",
   "execution_count": 34,
   "id": "attempted-party",
   "metadata": {},
   "outputs": [
    {
     "data": {
      "text/plain": [
       "0    470965\n",
       "1     31426\n",
       "Name: cancer2+, dtype: int64"
      ]
     },
     "execution_count": 34,
     "metadata": {},
     "output_type": "execute_result"
    }
   ],
   "source": [
    "### Patients with 2+ cancers\n",
    "# Considering field '40009-0.0': Summary number of reports\n",
    "\n",
    "ukb200K_age_cancer['cancer2+'] = ukb200K_age_cancer['40009-0.0'].apply(lambda x: 1 if x>1 else 0)\n",
    "ukb200K_age_cancer['cancer2+'].value_counts()"
   ]
  },
  {
   "cell_type": "code",
   "execution_count": 35,
   "id": "incorporated-vietnamese",
   "metadata": {},
   "outputs": [
    {
     "name": "stdout",
     "output_type": "stream",
     "text": [
      "31426\n"
     ]
    },
    {
     "data": {
      "text/plain": [
       "2.0     23913\n",
       "3.0      5616\n",
       "4.0      1402\n",
       "5.0       337\n",
       "6.0       103\n",
       "7.0        33\n",
       "8.0        13\n",
       "9.0         3\n",
       "12.0        2\n",
       "13.0        1\n",
       "18.0        1\n",
       "22.0        1\n",
       "10.0        1\n",
       "Name: 40009-0.0, dtype: int64"
      ]
     },
     "execution_count": 35,
     "metadata": {},
     "output_type": "execute_result"
    }
   ],
   "source": [
    "# Check\n",
    "\n",
    "print(sum(ukb200K_age_cancer['40009-0.0'].value_counts().to_list()[1:]))\n",
    "\n",
    "ukb200K_age_cancer[ukb200K_age_cancer['cancer2+']==1]['40009-0.0'].value_counts()"
   ]
  },
  {
   "cell_type": "markdown",
   "id": "handed-attendance",
   "metadata": {},
   "source": [
    "## 3. Create variable difference ages"
   ]
  },
  {
   "cell_type": "code",
   "execution_count": 57,
   "id": "92c57776",
   "metadata": {},
   "outputs": [
    {
     "data": {
      "text/plain": [
       "[[49, '40008-0.0'],\n",
       " [50, '40008-1.0'],\n",
       " [51, '40008-2.0'],\n",
       " [52, '40008-3.0'],\n",
       " [53, '40008-4.0'],\n",
       " [54, '40008-5.0'],\n",
       " [55, '40008-6.0'],\n",
       " [56, '40008-7.0'],\n",
       " [57, '40008-8.0'],\n",
       " [58, '40008-9.0'],\n",
       " [59, '40008-10.0'],\n",
       " [60, '40008-11.0'],\n",
       " [61, '40008-12.0'],\n",
       " [62, '40008-13.0'],\n",
       " [63, '40008-14.0'],\n",
       " [64, '40008-15.0'],\n",
       " [65, '40008-16.0'],\n",
       " [66, '40008-17.0'],\n",
       " [67, '40008-18.0'],\n",
       " [68, '40008-19.0'],\n",
       " [69, '40008-20.0'],\n",
       " [70, '40008-21.0']]"
      ]
     },
     "execution_count": 57,
     "metadata": {},
     "output_type": "execute_result"
    }
   ],
   "source": [
    "columna(ukb200K_age_cancer, 40008)"
   ]
  },
  {
   "cell_type": "code",
   "execution_count": 35,
   "id": "e18d707c",
   "metadata": {},
   "outputs": [],
   "source": [
    "### Age first cancer\n",
    "def age_first_cancer(patient):\n",
    "    # Patients with 1 cancer\n",
    "    if (patient['cancer'] == 1):\n",
    "        # check 40008\n",
    "        ages = patient[49:71]\n",
    "        return min(ages)\n",
    "            \n",
    "ukb200K_age_cancer['age_1cancer'] = ukb200K_age_cancer.apply(lambda x: age_first_cancer(x), axis=1)"
   ]
  },
  {
   "cell_type": "code",
   "execution_count": 36,
   "id": "located-smith",
   "metadata": {},
   "outputs": [],
   "source": [
    "### First cancer previous than blood sample (CH)\n",
    "\n",
    "ukb200K_age_cancer['cancer1_pre'] = ukb200K_age_cancer['years_tocancer1'].apply(lambda x: 1 if x < -1 else 0)"
   ]
  },
  {
   "cell_type": "code",
   "execution_count": 37,
   "id": "41dd2c36",
   "metadata": {},
   "outputs": [],
   "source": [
    "### Type first cancer (ICD10) 40006\n",
    "def type_first_cancer(patient):\n",
    "    # Patients with only 1 cancer diagnosis\n",
    "    if (patient['cancer'] == 1):\n",
    "            ages = list(patient[49:71])\n",
    "            i_minage = ages.index(min(ages))\n",
    "            return patient[27 + i_minage]\n",
    "            \n",
    "ukb200K_age_cancer['type_1cancer'] = ukb200K_age_cancer.apply(lambda x: type_first_cancer(x), axis=1)"
   ]
  },
  {
   "cell_type": "markdown",
   "id": "vietnamese-reduction",
   "metadata": {},
   "source": [
    "## 4. Hematological cancer\n",
    "not necessarily the first, with the extended definition and icd10+icd9)"
   ]
  },
  {
   "cell_type": "code",
   "execution_count": 75,
   "id": "dressed-content",
   "metadata": {},
   "outputs": [],
   "source": [
    "### Deffinition of hemato cancer icd10 AND icd9\n",
    "\n",
    "hemcancer_icd10 = ('C81','C82','C83','C84','C85','C86','C88','C90','C91','C92','C93','C94','C95','C96',\n",
    "                   'D45','D46','D47')\n",
    "\n",
    "hemcancer_icd9 = ('200', '201','202','203','204','205','206','207','208','2387')\n",
    "\n",
    "hemcancer_icd10icd9 = ('C81','C82','C83','C84','C85','C86','C88','C90','C91','C92','C93','C94','C95','C96',\n",
    "                       'D45','D46','D47',\n",
    "                      '200', '201','202','203','204','205','206','207','208','2387')"
   ]
  },
  {
   "cell_type": "code",
   "execution_count": 82,
   "id": "1419ce73",
   "metadata": {},
   "outputs": [
    {
     "data": {
      "text/plain": [
       "[[27, '40006-0.0'],\n",
       " [28, '40006-1.0'],\n",
       " [29, '40006-2.0'],\n",
       " [30, '40006-3.0'],\n",
       " [31, '40006-4.0'],\n",
       " [32, '40006-5.0'],\n",
       " [33, '40006-6.0'],\n",
       " [34, '40006-7.0'],\n",
       " [35, '40006-8.0'],\n",
       " [36, '40006-9.0'],\n",
       " [37, '40006-10.0'],\n",
       " [38, '40006-11.0'],\n",
       " [39, '40006-12.0'],\n",
       " [40, '40006-13.0'],\n",
       " [41, '40006-14.0'],\n",
       " [42, '40006-15.0'],\n",
       " [43, '40006-16.0'],\n",
       " [44, '40006-17.0'],\n",
       " [45, '40006-18.0'],\n",
       " [46, '40006-19.0'],\n",
       " [47, '40006-20.0'],\n",
       " [48, '40006-21.0']]"
      ]
     },
     "execution_count": 82,
     "metadata": {},
     "output_type": "execute_result"
    }
   ],
   "source": [
    "columna(ukb200K_age_cancer, 40006)"
   ]
  },
  {
   "cell_type": "code",
   "execution_count": 38,
   "id": "exterior-reduction",
   "metadata": {},
   "outputs": [],
   "source": [
    "def hemato_cancer(patient):\n",
    "    if (patient['cancer'] == 1):\n",
    "        cancer_types_icd10 = patient[27:49]\n",
    "        hemo_cancers_icd10 = [i for i in cancer_types_icd10 if str(i).startswith(hemcancer_icd10)]\n",
    "        cancer_types_icd9 = patient[71:86]\n",
    "        hemo_cancers_icd9 = [i for i in cancer_types_icd9 if str(i).startswith(hemcancer_icd9)]\n",
    "        if hemo_cancers_icd10 or hemo_cancers_icd9:\n",
    "            return 1\n",
    "        else:\n",
    "            return 0\n",
    "    else:\n",
    "        return 0\n",
    "\n",
    "ukb200K_age_cancer['hemato_cancer'] = ukb200K_age_cancer.apply(lambda x: hemato_cancer(x), axis=1)"
   ]
  },
  {
   "cell_type": "code",
   "execution_count": 84,
   "id": "solved-conspiracy",
   "metadata": {},
   "outputs": [
    {
     "data": {
      "text/plain": [
       "[[27, '40006-0.0'],\n",
       " [28, '40006-1.0'],\n",
       " [29, '40006-2.0'],\n",
       " [30, '40006-3.0'],\n",
       " [31, '40006-4.0'],\n",
       " [32, '40006-5.0'],\n",
       " [33, '40006-6.0'],\n",
       " [34, '40006-7.0'],\n",
       " [35, '40006-8.0'],\n",
       " [36, '40006-9.0'],\n",
       " [37, '40006-10.0'],\n",
       " [38, '40006-11.0'],\n",
       " [39, '40006-12.0'],\n",
       " [40, '40006-13.0'],\n",
       " [41, '40006-14.0'],\n",
       " [42, '40006-15.0'],\n",
       " [43, '40006-16.0'],\n",
       " [44, '40006-17.0'],\n",
       " [45, '40006-18.0'],\n",
       " [46, '40006-19.0'],\n",
       " [47, '40006-20.0'],\n",
       " [48, '40006-21.0']]"
      ]
     },
     "execution_count": 84,
     "metadata": {},
     "output_type": "execute_result"
    }
   ],
   "source": [
    "columna(ukb200K_age_cancer, 40006)"
   ]
  },
  {
   "cell_type": "code",
   "execution_count": 39,
   "id": "absent-moisture",
   "metadata": {},
   "outputs": [],
   "source": [
    "### First Hemato Cancer (ICD10)\n",
    "\n",
    "# Type of the first Hemato Cancer (ICD10)\n",
    "def hematocancer_icd10_type(patient):\n",
    "    # Patients with 1 or more hemato cancer and icd10 annotation\n",
    "    if (patient['hemato_cancer'] == 1) & (patient['eid'] in hematocases_icd10):\n",
    "#         # Patients with exactly 1 hemato cancer and no more cancers\n",
    "#         if (patient['cancer2+'] == 0):\n",
    "#             if pd.notna(patient['40006-0.0']):\n",
    "#                 return patient['40006-0.0']\n",
    "#         # Patients with more cancers\n",
    "#         else:\n",
    "            cancer_types = patient[27:49]\n",
    "            hemo_cancers = [i for i in cancer_types if str(i).startswith(hemcancer_icd10)]\n",
    "            i_hemo_cancers = [i for i,j in enumerate(cancer_types) if str(j).startswith(hemcancer_icd10)]\n",
    "            # Only 1 hemato cancer (the other cancer(s) are not hemato)\n",
    "            if len(hemo_cancers) == 1:\n",
    "                return cancer_types[i_hemo_cancers].array[0]\n",
    "            # More than 1 heamto cancer\n",
    "            elif len(hemo_cancers) > 1:\n",
    "                ages = patient[49:71]\n",
    "                ages_hemocancers = [ages[index] for index in i_hemo_cancers]\n",
    "                minage = min(ages_hemocancers)\n",
    "                i_minage = ages_hemocancers.index(minage)\n",
    "                return hemo_cancers[i_minage]\n",
    "            else:\n",
    "                print(\"icd9\")\n",
    "    else:\n",
    "        return np.nan\n",
    "    \n",
    "                \n",
    "ukb200K_age_cancer['hematocancer_icd10_type'] = ukb200K_age_cancer.apply(lambda x: hematocancer_icd10_type(x), axis=1)"
   ]
  },
  {
   "cell_type": "code",
   "execution_count": 40,
   "id": "maritime-metadata",
   "metadata": {},
   "outputs": [],
   "source": [
    "# Age of the first Hemato Cancer (ICD10)\n",
    "\n",
    "def hematocancer_icd10_age(patient):\n",
    "    # Patients with 1 or more hemato cancer and icd10 annotation\n",
    "    if (patient['hemato_cancer'] == 1) & (patient['eid'] in hematocases_icd10):\n",
    "#         # Patients with exactly 1 hemato cancer and no more cancers\n",
    "#         if (patient['cancer2+'] == 0):\n",
    "#             if pd.notna(patient['40008-0.0']):\n",
    "#                 return patient['40008-0.0']\n",
    "#         # Patients with more cancers\n",
    "#         else:\n",
    "            cancer_types = patient[27:49]\n",
    "            ages = patient[49:71]\n",
    "            hemo_cancers = [i for i in cancer_types if str(i).startswith(hemcancer_icd10)]\n",
    "            i_hemo_cancers = [i for i,j in enumerate(cancer_types) if str(j).startswith(hemcancer_icd10)]\n",
    "            # Only 1 hemato cancer (the other cancer(s) are not hemato)\n",
    "            if len(hemo_cancers) == 1:\n",
    "                return ages[i_hemo_cancers].array[0]\n",
    "            # More than 1 heamto cancer\n",
    "            elif len(hemo_cancers) > 1:\n",
    "                ages_hemocancers = [ages[index] for index in i_hemo_cancers]\n",
    "                minage = min(ages_hemocancers)\n",
    "                return minage\n",
    "            else:\n",
    "                print(\"icd9\")\n",
    "    else:\n",
    "        return np.nan\n",
    "    \n",
    "                \n",
    "ukb200K_age_cancer['hematocancer_icd10_age'] = ukb200K_age_cancer.apply(lambda x: hematocancer_icd10_age(x), axis=1)"
   ]
  },
  {
   "cell_type": "code",
   "execution_count": 41,
   "id": "general-boston",
   "metadata": {},
   "outputs": [],
   "source": [
    "### First Hemato Cancer (ICD9)\n",
    "\n",
    "# Type of the first Hemato Cancer (ICD9)\n",
    "def hematocancer_icd9_type(patient):\n",
    "    # Patients with 1 or more hemato cancer and icd9 annotation\n",
    "    if (patient['hemato_cancer'] == 1) & (patient['eid'] in hematocases_icd9):\n",
    "#         # Patients with exactly 1 hemato cancer and no more cancers\n",
    "#         if (patient['cancer2+'] == 0):\n",
    "#             if pd.notna(patient['40013-0.0']):\n",
    "#                 return str(patient['40013-0.0'])\n",
    "#         # Patients with more cancers\n",
    "#         else:\n",
    "            cancer_types = patient[71:86]\n",
    "            hemo_cancers = [i for i in cancer_types if str(i).startswith(hemcancer_icd9)]\n",
    "            i_hemo_cancers = [i for i,j in enumerate(cancer_types) if str(j).startswith(hemcancer_icd9)]\n",
    "            # Only 1 hemato cancer (the other cancer(s) are not hemato)\n",
    "            if len(hemo_cancers) == 1:\n",
    "                return str(cancer_types[i_hemo_cancers].array[0])\n",
    "            # More than 1 heamto cancer\n",
    "            elif len(hemo_cancers) > 1:\n",
    "                ages = patient[49:64]\n",
    "                ages_hemocancers = [ages[index] for index in i_hemo_cancers]\n",
    "                minage = min(ages_hemocancers)\n",
    "                i_minage = ages_hemocancers.index(minage)\n",
    "                return str(hemo_cancers[i_minage])\n",
    "            else:\n",
    "                print(\"icd10\")\n",
    "    else:\n",
    "        return np.nan\n",
    "    \n",
    "                \n",
    "ukb200K_age_cancer['hematocancer_icd9_type'] = ukb200K_age_cancer.apply(lambda x: hematocancer_icd9_type(x), axis=1)"
   ]
  },
  {
   "cell_type": "code",
   "execution_count": 99,
   "id": "2e55d8fa",
   "metadata": {},
   "outputs": [
    {
     "data": {
      "text/plain": [
       "[[49, '40008-0.0'],\n",
       " [50, '40008-1.0'],\n",
       " [51, '40008-2.0'],\n",
       " [52, '40008-3.0'],\n",
       " [53, '40008-4.0'],\n",
       " [54, '40008-5.0'],\n",
       " [55, '40008-6.0'],\n",
       " [56, '40008-7.0'],\n",
       " [57, '40008-8.0'],\n",
       " [58, '40008-9.0'],\n",
       " [59, '40008-10.0'],\n",
       " [60, '40008-11.0'],\n",
       " [61, '40008-12.0'],\n",
       " [62, '40008-13.0'],\n",
       " [63, '40008-14.0'],\n",
       " [64, '40008-15.0'],\n",
       " [65, '40008-16.0'],\n",
       " [66, '40008-17.0'],\n",
       " [67, '40008-18.0'],\n",
       " [68, '40008-19.0'],\n",
       " [69, '40008-20.0'],\n",
       " [70, '40008-21.0']]"
      ]
     },
     "execution_count": 99,
     "metadata": {},
     "output_type": "execute_result"
    }
   ],
   "source": [
    "columna(ukb200K_age_cancer, 40008)"
   ]
  },
  {
   "cell_type": "code",
   "execution_count": 42,
   "id": "painted-contamination",
   "metadata": {},
   "outputs": [],
   "source": [
    "# Age of the first Hemato Cancer (ICD9)\n",
    "\n",
    "def hematocancer_icd9_age(patient):\n",
    "    # Patients with 1 or more hemato cancer and icd9 annotation\n",
    "    if (patient['hemato_cancer'] == 1) & (patient['eid'] in hematocases_icd9):\n",
    "#         # Patients with exactly 1 hemato cancer and no more cancers\n",
    "#         if (patient['cancer2+'] == 0):\n",
    "#             if pd.notna(patient['40008-0.0']):\n",
    "#                 return patient['40008-0.0']\n",
    "#         # Patients with more cancers\n",
    "#         else:\n",
    "            cancer_types = patient[71:86]\n",
    "            ages = patient[49:64]\n",
    "            hemo_cancers = [i for i in cancer_types if str(i).startswith(hemcancer_icd9)]\n",
    "            i_hemo_cancers = [i for i,j in enumerate(cancer_types) if str(j).startswith(hemcancer_icd9)]\n",
    "            # Only 1 hemato cancer (the other cancer(s) are not hemato)\n",
    "            if len(hemo_cancers) == 1:\n",
    "                return ages[i_hemo_cancers].array[0]\n",
    "            # More than 1 heamto cancer\n",
    "            elif len(hemo_cancers) > 1:\n",
    "                ages_hemocancers = [ages[index] for index in i_hemo_cancers]\n",
    "                minage = min(ages_hemocancers)\n",
    "                return minage\n",
    "            else:\n",
    "                print(\"icd9\")\n",
    "    else:\n",
    "        return np.nan\n",
    "    \n",
    "                \n",
    "ukb200K_age_cancer['hematocancer_icd9_age'] = ukb200K_age_cancer.apply(lambda x: hematocancer_icd9_age(x), axis=1)"
   ]
  },
  {
   "cell_type": "code",
   "execution_count": 43,
   "id": "formed-island",
   "metadata": {},
   "outputs": [],
   "source": [
    "def hematocancer_type(x):\n",
    "    if pd.notnull(x['hematocancer_icd10_type']) & pd.isnull(x['hematocancer_icd9_type']):\n",
    "        return x['hematocancer_icd10_type']\n",
    "    elif pd.notnull(x['hematocancer_icd9_type']) & pd.isnull(x['hematocancer_icd10_type']):\n",
    "        return str(x['hematocancer_icd9_type'])\n",
    "    # if annotations from both icd10 and icd9, take the one corresponding to the youngest timepoint\n",
    "    elif pd.notnull(x['hematocancer_icd9_type']) & pd.notnull(x['hematocancer_icd10_type']):\n",
    "        # if icd10 and icd9 in the same year take icd10\n",
    "        if x['hematocancer_icd9_age'] - x['hematocancer_icd10_age'] > -1:\n",
    "            return x['hematocancer_icd10_type']\n",
    "        else:\n",
    "            return str(x['hematocancer_icd9_type'])    \n",
    "    else:\n",
    "        return np.nan\n",
    "        \n",
    "ukb200K_age_cancer['hematocancer_type'] = ukb200K_age_cancer.apply(lambda x: hematocancer_type(x), axis=1)"
   ]
  },
  {
   "cell_type": "code",
   "execution_count": 44,
   "id": "fifty-removal",
   "metadata": {},
   "outputs": [],
   "source": [
    "def hematocancer_age(x):\n",
    "    if pd.notnull(x['hematocancer_icd10_age']) & pd.isnull(x['hematocancer_icd9_age']):\n",
    "        return x['hematocancer_icd10_age']\n",
    "    elif pd.notnull(x['hematocancer_icd9_age']) & pd.isnull(x['hematocancer_icd10_age']):\n",
    "        return x['hematocancer_icd9_age']\n",
    "    # if annotations from both icd10 and icd9, take the one corresponding to the youngest timepoint\n",
    "    elif pd.notnull(x['hematocancer_icd9_age']) & pd.notnull(x['hematocancer_icd10_age']):\n",
    "        # if icd10 and icd9 in the same year take icd10\n",
    "        if x['hematocancer_icd9_age'] - x['hematocancer_icd10_age'] > -1:\n",
    "            return x['hematocancer_icd10_age']\n",
    "        else:\n",
    "            return x['hematocancer_icd9_age']    \n",
    "    else:\n",
    "        return np.nan\n",
    "        \n",
    "ukb200K_age_cancer['hematocancer_age'] = ukb200K_age_cancer.apply(lambda x: hematocancer_age(x), axis=1)"
   ]
  },
  {
   "cell_type": "code",
   "execution_count": 109,
   "id": "later-dollar",
   "metadata": {},
   "outputs": [
    {
     "data": {
      "text/plain": [
       "C833    1064\n",
       "C900    1041\n",
       "C911     919\n",
       "C920     371\n",
       "C829     370\n",
       "C859     321\n",
       "D473     259\n",
       "D471     256\n",
       "C857     244\n",
       "D45      237\n",
       "C838     230\n",
       "C821     191\n",
       "D469     189\n",
       "C921     169\n",
       "D472     159\n",
       "C851     151\n",
       "C811     151\n",
       "C830     143\n",
       "C819     125\n",
       "C844     111\n",
       "Name: hematocancer_type, dtype: int64"
      ]
     },
     "execution_count": 109,
     "metadata": {},
     "output_type": "execute_result"
    }
   ],
   "source": [
    "# Most abundant hemato cancers\n",
    "ukb200K_age_cancer['hematocancer_type'].value_counts().head(20)"
   ]
  },
  {
   "cell_type": "code",
   "execution_count": 110,
   "id": "pending-clinton",
   "metadata": {},
   "outputs": [
    {
     "data": {
      "text/plain": [
       "['2019.0',\n",
       " '2028.0',\n",
       " '2015.0',\n",
       " '2020.0',\n",
       " '2050.0',\n",
       " '2016.0',\n",
       " '2040.0',\n",
       " '2001.0',\n",
       " '2051.0',\n",
       " '2014.0',\n",
       " '2387.0',\n",
       " '2021.0',\n",
       " '2008.0',\n",
       " '2024.0',\n",
       " '2017.0',\n",
       " '2022.0',\n",
       " '2041.0',\n",
       " '2049.0',\n",
       " '2000.0',\n",
       " '2030.0',\n",
       " '2061.0',\n",
       " '2089.0',\n",
       " '2081.0']"
      ]
     },
     "execution_count": 110,
     "metadata": {},
     "output_type": "execute_result"
    }
   ],
   "source": [
    "mostabundant_icd9 = ukb200K_age_cancer['hematocancer_type'].value_counts().index.to_list()\n",
    "mostabundant_icd9 = [i for i in mostabundant_icd9 if not str(i).startswith(('C', 'D'))]\n",
    "mostabundant_icd9"
   ]
  },
  {
   "cell_type": "markdown",
   "id": "eea709f8",
   "metadata": {},
   "source": [
    "## 5. Calculate time in date"
   ]
  },
  {
   "cell_type": "code",
   "execution_count": 111,
   "id": "b28a8569",
   "metadata": {},
   "outputs": [
    {
     "data": {
      "text/plain": [
       "[[5, '40005-0.0'],\n",
       " [6, '40005-1.0'],\n",
       " [7, '40005-2.0'],\n",
       " [8, '40005-3.0'],\n",
       " [9, '40005-4.0'],\n",
       " [10, '40005-5.0'],\n",
       " [11, '40005-6.0'],\n",
       " [12, '40005-7.0'],\n",
       " [13, '40005-8.0'],\n",
       " [14, '40005-9.0'],\n",
       " [15, '40005-10.0'],\n",
       " [16, '40005-11.0'],\n",
       " [17, '40005-12.0'],\n",
       " [18, '40005-13.0'],\n",
       " [19, '40005-14.0'],\n",
       " [20, '40005-15.0'],\n",
       " [21, '40005-16.0'],\n",
       " [22, '40005-17.0'],\n",
       " [23, '40005-18.0'],\n",
       " [24, '40005-19.0'],\n",
       " [25, '40005-20.0'],\n",
       " [26, '40005-21.0']]"
      ]
     },
     "execution_count": 111,
     "metadata": {},
     "output_type": "execute_result"
    }
   ],
   "source": [
    "columna(ukb200K_age_cancer, 40005)"
   ]
  },
  {
   "cell_type": "code",
   "execution_count": 45,
   "id": "96d70509",
   "metadata": {},
   "outputs": [],
   "source": [
    "### First Hemato Cancer (ICD10)\n",
    "\n",
    "# Type of the first Hemato Cancer (ICD10)\n",
    "def hematocancer_icd10_date(patient):\n",
    "    # Patients with 1 or more hemato cancer and icd10 annotation\n",
    "    if (patient['hemato_cancer'] == 1) & (patient['eid'] in hematocases_icd10):\n",
    "#         # Patients with exactly 1 hemato cancer and no more cancers\n",
    "#         if (patient['cancer2+'] == 0):\n",
    "#             if pd.notna(patient['40005-0.0']):\n",
    "#                 return patient['40005-0.0']\n",
    "#         # Patients with more cancers\n",
    "#         else:\n",
    "            cancer_types = patient[27:49]\n",
    "            cancer_dates = patient[5:27]\n",
    "            hemo_cancers = [i for i in cancer_types if str(i).startswith(hemcancer_icd10)]\n",
    "            i_hemo_cancers = [i for i,j in enumerate(cancer_types) if str(j).startswith(hemcancer_icd10)]\n",
    "            # Only 1 hemato cancer (the other cancer(s) are not hemato)\n",
    "            if len(hemo_cancers) == 1:\n",
    "                return cancer_dates[i_hemo_cancers].array[0]\n",
    "            # More than 1 heamto cancer\n",
    "            elif len(hemo_cancers) > 1:\n",
    "                dates_hemocancers = [cancer_dates[index] for index in i_hemo_cancers]\n",
    "                mindate = min(dates_hemocancers)\n",
    "                i_mindate = dates_hemocancers.index(mindate)\n",
    "                return mindate\n",
    "            else:\n",
    "                print(\"icd9\")\n",
    "    else:\n",
    "        return np.nan\n",
    "    \n",
    "                \n",
    "ukb200K_age_cancer['hematocancer_icd10_date'] = ukb200K_age_cancer.apply(lambda x: hematocancer_icd10_date(x), axis=1)"
   ]
  },
  {
   "cell_type": "code",
   "execution_count": 113,
   "id": "b02dc66d",
   "metadata": {},
   "outputs": [
    {
     "data": {
      "text/plain": [
       "[[5, '40005-0.0'],\n",
       " [6, '40005-1.0'],\n",
       " [7, '40005-2.0'],\n",
       " [8, '40005-3.0'],\n",
       " [9, '40005-4.0'],\n",
       " [10, '40005-5.0'],\n",
       " [11, '40005-6.0'],\n",
       " [12, '40005-7.0'],\n",
       " [13, '40005-8.0'],\n",
       " [14, '40005-9.0'],\n",
       " [15, '40005-10.0'],\n",
       " [16, '40005-11.0'],\n",
       " [17, '40005-12.0'],\n",
       " [18, '40005-13.0'],\n",
       " [19, '40005-14.0'],\n",
       " [20, '40005-15.0'],\n",
       " [21, '40005-16.0'],\n",
       " [22, '40005-17.0'],\n",
       " [23, '40005-18.0'],\n",
       " [24, '40005-19.0'],\n",
       " [25, '40005-20.0'],\n",
       " [26, '40005-21.0']]"
      ]
     },
     "execution_count": 113,
     "metadata": {},
     "output_type": "execute_result"
    }
   ],
   "source": [
    "columna(ukb200K_age_cancer, 40005)"
   ]
  },
  {
   "cell_type": "code",
   "execution_count": 46,
   "id": "b0e2e31b",
   "metadata": {},
   "outputs": [],
   "source": [
    "### First Hemato Cancer (ICD9)\n",
    "\n",
    "# Type of the first Hemato Cancer (ICD9)\n",
    "def hematocancer_icd9_date(patient):\n",
    "    # Patients with 1 or more hemato cancer and icd9 annotation\n",
    "    if (patient['hemato_cancer'] == 1) & (patient['eid'] in hematocases_icd9):\n",
    "#         # Patients with exactly 1 hemato cancer and no more cancers\n",
    "#         if (patient['cancer2+'] == 0):\n",
    "#             if pd.notna(patient['40005-0.0']):\n",
    "#                 return str(patient['40005-0.0'])\n",
    "#         # Patients with more cancers\n",
    "#         else:\n",
    "            cancer_types = patient[71:86]\n",
    "            cancer_dates = patient[5:20]\n",
    "            hemo_cancers = [i for i in cancer_types if str(i).startswith(hemcancer_icd9)]\n",
    "            i_hemo_cancers = [i for i,j in enumerate(cancer_types) if str(j).startswith(hemcancer_icd9)]\n",
    "            # Only 1 hemato cancer (the other cancer(s) are not hemato)\n",
    "            if len(hemo_cancers) == 1:\n",
    "                return str(cancer_dates[i_hemo_cancers].array[0])\n",
    "            # More than 1 heamto cancer\n",
    "            elif len(hemo_cancers) > 1:\n",
    "                dates_hemocancers = [cancer_dates[index] for index in i_hemo_cancers]\n",
    "                mindate = min(dates_hemocancers)\n",
    "                i_mindate = dates_hemocancers.index(mindate)\n",
    "                return mindate\n",
    "            else:\n",
    "                print(\"icd10\")\n",
    "    else:\n",
    "        return np.nan\n",
    "    \n",
    "                \n",
    "ukb200K_age_cancer['hematocancer_icd9_date'] = ukb200K_age_cancer.apply(lambda x: hematocancer_icd9_date(x), axis=1)"
   ]
  },
  {
   "cell_type": "code",
   "execution_count": 240,
   "id": "89de93e6",
   "metadata": {},
   "outputs": [
    {
     "data": {
      "text/plain": [
       "'1992-06-03'"
      ]
     },
     "execution_count": 240,
     "metadata": {},
     "output_type": "execute_result"
    }
   ],
   "source": [
    "date = ['1992-06-10', '1992-06-03']\n",
    "min(date)"
   ]
  },
  {
   "cell_type": "code",
   "execution_count": 47,
   "id": "aaeda29f",
   "metadata": {},
   "outputs": [],
   "source": [
    "def hematocancer_date(x):\n",
    "    if pd.notnull(x['hematocancer_icd10_date']) & pd.isnull(x['hematocancer_icd9_date']):\n",
    "        return x['hematocancer_icd10_date']\n",
    "    elif pd.notnull(x['hematocancer_icd9_date']) & pd.isnull(x['hematocancer_icd10_date']):\n",
    "        return x['hematocancer_icd9_date']\n",
    "    # if annotations from both icd10 and icd9, take the one corresponding to the youngest timepoint\n",
    "    elif pd.notnull(x['hematocancer_icd9_date']) & pd.notnull(x['hematocancer_icd10_date']):\n",
    "        # if icd10 and icd9 in the same year take icd10\n",
    "        both = [x['hematocancer_icd9_date'], x['hematocancer_icd10_date']]\n",
    "        return min(both)    \n",
    "    else:\n",
    "        return np.nan\n",
    "        \n",
    "ukb200K_age_cancer['hematocancer_date'] = ukb200K_age_cancer.apply(lambda x: hematocancer_date(x), axis=1)"
   ]
  },
  {
   "cell_type": "markdown",
   "id": "human-arrival",
   "metadata": {},
   "source": [
    "### Divide in post- and pre- blood sample"
   ]
  },
  {
   "cell_type": "code",
   "execution_count": 117,
   "id": "ac148637",
   "metadata": {},
   "outputs": [
    {
     "data": {
      "image/png": "[encoded data removed]",
      "text/plain": [
       "<Figure size 600x450 with 1 Axes>"
      ]
     },
     "metadata": {
      "needs_background": "light"
     },
     "output_type": "display_data"
    }
   ],
   "source": [
    "### Time between blood sample (potential CH diagnosis) and hematological cancer\n",
    "# Positive means cancer AFTER blood sample\n",
    "# Negative means cancer BEFORE blood sample\n",
    "\n",
    "# ukb200K_age_cancer['yearsto_hematocan'] = ukb200K_age_cancer['hematocancer_age'] - ukb200K_age_cancer['age']\n",
    "years = []\n",
    "for n, x in enumerate(ukb200K_age_cancer['hematocancer_date']):\n",
    "    if x is np.nan:\n",
    "        years.append(x)\n",
    "    else:\n",
    "        year = pd.to_datetime(ukb200K_age_cancer.loc[n,'hematocancer_date'], format='%Y-%m-%d')-\\\n",
    "               pd.to_datetime(ukb200K_age_cancer.loc[n,'53-0.0'], format='%Y-%m-%d')\n",
    "        years.append(year/np.timedelta64(1,'Y'))\n",
    "ukb200K_age_cancer['yearsto_hematocan_dates'] = years\n",
    "\n",
    "# plot\n",
    "plt.rcParams[\"figure.figsize\"] = (2,1.5)\n",
    "graph = ukb200K_age_cancer['yearsto_hematocan_dates'].hist(bins=40)\n",
    "graph.set(xlabel=\"Years to hematological cancer diagnosis\")\n",
    "graph.grid(False)\n",
    "graph.tick_params(labelsize=8)\n",
    "plt.show()"
   ]
  },
  {
   "cell_type": "code",
   "execution_count": 118,
   "id": "20c9ad15",
   "metadata": {},
   "outputs": [
    {
     "data": {
      "text/plain": [
       "0    496587\n",
       "1      5804\n",
       "Name: hemato_cancer_post_dates, dtype: int64"
      ]
     },
     "execution_count": 118,
     "metadata": {},
     "output_type": "execute_result"
    }
   ],
   "source": [
    "def hemato_cancer_post(x):\n",
    "    if (x['hemato_cancer'] == 1) & (x['yearsto_hematocan_dates']>0):\n",
    "        return 1\n",
    "    else:\n",
    "        return 0\n",
    "\n",
    "ukb200K_age_cancer['hemato_cancer_post_dates'] = ukb200K_age_cancer.apply(lambda x: hemato_cancer_post(x), axis=1)\n",
    "ukb200K_age_cancer['hemato_cancer_post_dates'].value_counts()"
   ]
  },
  {
   "cell_type": "code",
   "execution_count": 120,
   "id": "forced-survival",
   "metadata": {},
   "outputs": [
    {
     "data": {
      "image/png": "[encoded data removed]",
      "text/plain": [
       "<Figure size 600x450 with 1 Axes>"
      ]
     },
     "metadata": {
      "needs_background": "light"
     },
     "output_type": "display_data"
    }
   ],
   "source": [
    "### Time between blood sample (potential CH diagnosis) and hematological cancer\n",
    "# Positive means cancer AFTER blood sample\n",
    "# Negative means cancer BEFORE blood sample\n",
    "\n",
    "ukb200K_age_cancer['yearsto_hematocan'] = ukb200K_age_cancer['hematocancer_age'] - ukb200K_age_cancer['age_recruitment']\n",
    "\n",
    "# plot\n",
    "plt.rcParams[\"figure.figsize\"] = (2,1.5)\n",
    "graph = ukb200K_age_cancer['yearsto_hematocan'].hist(bins=40)\n",
    "graph.set(xlabel=\"Years to hematological cancer diagnosis\")\n",
    "graph.grid(False)\n",
    "graph.tick_params(labelsize=8)\n",
    "plt.show()"
   ]
  },
  {
   "cell_type": "code",
   "execution_count": 121,
   "id": "endless-analysis",
   "metadata": {},
   "outputs": [
    {
     "data": {
      "text/plain": [
       "0    496505\n",
       "1      5886\n",
       "Name: hemato_cancer_post, dtype: int64"
      ]
     },
     "execution_count": 121,
     "metadata": {},
     "output_type": "execute_result"
    }
   ],
   "source": [
    "def hemato_cancer_post(x):\n",
    "    if (x['hemato_cancer'] == 1) & (x['yearsto_hematocan']>0):\n",
    "        return 1\n",
    "    else:\n",
    "        return 0\n",
    "\n",
    "ukb200K_age_cancer['hemato_cancer_post'] = ukb200K_age_cancer.apply(lambda x: hemato_cancer_post(x), axis=1)\n",
    "ukb200K_age_cancer['hemato_cancer_post'].value_counts()"
   ]
  },
  {
   "cell_type": "code",
   "execution_count": 124,
   "id": "hazardous-creek",
   "metadata": {},
   "outputs": [
    {
     "data": {
      "text/plain": [
       "0    499905\n",
       "1      2486\n",
       "Name: hemato_cancer_pre, dtype: int64"
      ]
     },
     "execution_count": 124,
     "metadata": {},
     "output_type": "execute_result"
    }
   ],
   "source": [
    "def hemato_cancer_pre(x):\n",
    "    if (x['hemato_cancer'] == 1) & (x['yearsto_hematocan']<0):\n",
    "        return 1\n",
    "    else:\n",
    "        return 0\n",
    "\n",
    "ukb200K_age_cancer['hemato_cancer_pre'] = ukb200K_age_cancer.apply(lambda x: hemato_cancer_pre(x), axis=1)\n",
    "ukb200K_age_cancer['hemato_cancer_pre'].value_counts()"
   ]
  },
  {
   "cell_type": "code",
   "execution_count": 125,
   "id": "8cd07a53",
   "metadata": {},
   "outputs": [
    {
     "data": {
      "text/plain": [
       "0    499799\n",
       "1      2592\n",
       "Name: hemato_cancer_pre_dates, dtype: int64"
      ]
     },
     "execution_count": 125,
     "metadata": {},
     "output_type": "execute_result"
    }
   ],
   "source": [
    "def hemato_cancer_pre_dates(x):\n",
    "    if (x['hemato_cancer'] == 1) & (x['yearsto_hematocan_dates']<0):\n",
    "        return 1\n",
    "    else:\n",
    "        return 0\n",
    "\n",
    "ukb200K_age_cancer['hemato_cancer_pre_dates'] = ukb200K_age_cancer.apply(lambda x: hemato_cancer_pre_dates(x), axis=1)\n",
    "ukb200K_age_cancer['hemato_cancer_pre_dates'].value_counts()"
   ]
  },
  {
   "cell_type": "code",
   "execution_count": 126,
   "id": "mathematical-chile",
   "metadata": {},
   "outputs": [
    {
     "data": {
      "text/plain": [
       "C833      8.889783\n",
       "C911      8.326629\n",
       "C829      7.843926\n",
       "C859      7.763475\n",
       "C900      6.194690\n",
       "C811      4.384553\n",
       "D45       3.901850\n",
       "2019.0    3.258246\n",
       "C921      3.097345\n",
       "2028.0    2.896219\n",
       "C819      2.775543\n",
       "D471      2.654867\n",
       "C920      2.614642\n",
       "D472      2.534191\n",
       "2015.0    2.333065\n",
       "Name: hematocancer_type, dtype: float64"
      ]
     },
     "execution_count": 126,
     "metadata": {},
     "output_type": "execute_result"
    }
   ],
   "source": [
    "ukb200K_age_cancer[ukb200K_age_cancer['hemato_cancer_pre'] == 1]['hematocancer_type'].value_counts(normalize=True).head(15)*100"
   ]
  },
  {
   "cell_type": "markdown",
   "id": "composed-attempt",
   "metadata": {},
   "source": [
    "## 6. Create variable hematopoietic cancer from 1st cancer (post age)"
   ]
  },
  {
   "cell_type": "code",
   "execution_count": 127,
   "id": "central-fountain",
   "metadata": {},
   "outputs": [
    {
     "data": {
      "text/plain": [
       "0    495814\n",
       "1      6577\n",
       "Name: hemato_1cancer, dtype: int64"
      ]
     },
     "execution_count": 127,
     "metadata": {},
     "output_type": "execute_result"
    }
   ],
   "source": [
    "### Patients with hematological cancer as first cancer ICD10\n",
    "\n",
    "def hemato_1cancer(x):\n",
    "    if pd.notna(x):\n",
    "        if x.startswith(hemcancer_icd10):\n",
    "            return 1\n",
    "        else:\n",
    "            return 0\n",
    "    else:\n",
    "        return 0\n",
    "\n",
    "ukb200K_age_cancer['hemato_1cancer'] = ukb200K_age_cancer['type_1cancer'].apply(lambda x: hemato_1cancer(x))\n",
    "ukb200K_age_cancer['hemato_1cancer'].value_counts()"
   ]
  },
  {
   "cell_type": "markdown",
   "id": "public-intermediate",
   "metadata": {},
   "source": [
    "## 7. Labeling and classifying hematological cancer"
   ]
  },
  {
   "cell_type": "code",
   "execution_count": 128,
   "id": "cognitive-character",
   "metadata": {},
   "outputs": [
    {
     "data": {
      "text/plain": [
       "C833      1064\n",
       "C900      1041\n",
       "C911       919\n",
       "C920       371\n",
       "C829       370\n",
       "          ... \n",
       "C843         1\n",
       "C866         1\n",
       "C814         1\n",
       "C847         1\n",
       "2081.0       1\n",
       "Name: hematocancer_type, Length: 112, dtype: int64"
      ]
     },
     "execution_count": 128,
     "metadata": {},
     "output_type": "execute_result"
    }
   ],
   "source": [
    "ukb200K_age_cancer['hematocancer_type'].value_counts()"
   ]
  },
  {
   "cell_type": "code",
   "execution_count": 129,
   "id": "grand-copper",
   "metadata": {},
   "outputs": [
    {
     "data": {
      "text/plain": [
       "Lymphomas-other    1438\n",
       "DLBCL              1064\n",
       "MM                 1043\n",
       "CLL                 919\n",
       "FL                  771\n",
       "MPNs                752\n",
       "HL                  565\n",
       "AML                 391\n",
       "MDS                 338\n",
       "TCLymp              263\n",
       "LymphLeu-other      208\n",
       "CML                 178\n",
       "MGUS                159\n",
       "Myeloid-other       143\n",
       "Other_unknown       138\n",
       "---others---         26\n",
       "Name: hemato_cancer_class, dtype: int64"
      ]
     },
     "execution_count": 129,
     "metadata": {},
     "output_type": "execute_result"
    }
   ],
   "source": [
    "### Codify hemato cancer type\n",
    "### Gruped cathegories\n",
    "\n",
    "### Regeneron C81-86, C91\n",
    "\n",
    "def hemato_cancer_class(x):\n",
    "    if pd.notna(x):\n",
    "        # Lymphoid\n",
    "        if x == 'C833':\n",
    "            return 'DLBCL'\n",
    "        elif x == 'C911':\n",
    "            return 'CLL'\n",
    "        elif (x == 'C900') | (x.startswith('2030')):\n",
    "            return 'MM'\n",
    "        elif x.startswith('C82'):\n",
    "            return 'FL'\n",
    "        elif (x.startswith('C81')) | (str(x).startswith('201')):\n",
    "            return 'HL'\n",
    "        elif x == 'D472':\n",
    "            return 'MGUS'\n",
    "        elif (x.startswith('C84')) | (x == 'C862'):\n",
    "            return 'TCLymp'\n",
    "        elif (x.startswith('C83')) | (x == 'C859') | (x.startswith('C85')) | (x == 'C902') | \\\n",
    "        (x == 'C901') | (x == 'C880') | (x == 'C884') | (x.startswith('202')):\n",
    "            return 'Lymphomas-other'\n",
    "        elif (x.startswith('C91')) | (x.startswith('2040')):\n",
    "            return 'LymphLeu-other'\n",
    "        # Myeloid\n",
    "        elif (x == 'D471') | (x == 'D473') | (x == 'D45'):\n",
    "            return 'MPNs'\n",
    "        elif (x == 'C920') | (x.startswith('2050')):\n",
    "            return 'AML'\n",
    "        elif (x == 'C921') | (x.startswith('2051')):\n",
    "            return 'CML'\n",
    "        elif x.startswith('D46'):\n",
    "            return 'MDS'\n",
    "        elif (x.startswith('C92')) | (x.startswith('C93')) | (x == 'C940') | (x == 'D470') | (x == 'C946') | (x.startswith('206')):\n",
    "            return 'Myeloid-other'\n",
    "        # Other\n",
    "        elif (x.startswith('C95')) | (x == 'C889') | (x == 'D479') | (x.startswith('C96')) \\\n",
    "        | (x.startswith('200')) | (x.startswith('2387')) | (x.startswith('208')):\n",
    "            return 'Other_unknown'\n",
    "        else:\n",
    "            return '---others---'\n",
    "         \n",
    "ukb200K_age_cancer['hemato_cancer_class'] = ukb200K_age_cancer['hematocancer_type'].apply(lambda x: hemato_cancer_class(x))\n",
    "ukb200K_age_cancer['hemato_cancer_class'].value_counts()"
   ]
  },
  {
   "cell_type": "code",
   "execution_count": 130,
   "id": "roman-jaguar",
   "metadata": {},
   "outputs": [
    {
     "data": {
      "text/plain": [
       "Lymphoid    6430\n",
       "Myeloid     1802\n",
       "Unkown       138\n",
       "Name: lymphoid_myeloid, dtype: int64"
      ]
     },
     "execution_count": 130,
     "metadata": {},
     "output_type": "execute_result"
    }
   ],
   "source": [
    "### Divide in Lymphoid/Myeloid\n",
    "\n",
    "def lymphoid_myeloid(x):\n",
    "    if pd.notna(x):\n",
    "        if x in ['Lymphomas-other', 'DLBCL', 'CLL', 'MM', 'FL', 'HL', 'TCLymp', 'LymphLeu-other', 'MGUS']:\n",
    "            return 'Lymphoid'\n",
    "        elif x in ['MPNs', 'AML', 'MDS', 'CML', 'Myeloid-other']:\n",
    "            return 'Myeloid'\n",
    "        elif x == 'Other_unknown':\n",
    "            return 'Unkown'\n",
    "         \n",
    "ukb200K_age_cancer['lymphoid_myeloid'] = ukb200K_age_cancer['hemato_cancer_class'].apply(lambda x: lymphoid_myeloid(x))\n",
    "ukb200K_age_cancer['lymphoid_myeloid'].value_counts()"
   ]
  },
  {
   "cell_type": "code",
   "execution_count": 131,
   "id": "unsigned-custom",
   "metadata": {},
   "outputs": [
    {
     "name": "stdout",
     "output_type": "stream",
     "text": [
      "8396\n",
      "8396\n",
      "8370\n"
     ]
    }
   ],
   "source": [
    "# Check\n",
    "print(sum(ukb200K_age_cancer['hematocancer_type'].value_counts()))\n",
    "print(sum(ukb200K_age_cancer['hemato_cancer_class'].value_counts()))\n",
    "print(sum(ukb200K_age_cancer['lymphoid_myeloid'].value_counts()))"
   ]
  },
  {
   "cell_type": "code",
   "execution_count": 132,
   "id": "fatal-decade",
   "metadata": {},
   "outputs": [
    {
     "data": {
      "text/plain": [
       "0    497976\n",
       "1      4415\n",
       "Name: lymphoid_cancer_post, dtype: int64"
      ]
     },
     "execution_count": 132,
     "metadata": {},
     "output_type": "execute_result"
    }
   ],
   "source": [
    "# Create lymphoid_cancer_post variable\n",
    "\n",
    "def lymphoid_cancer_post(x):\n",
    "    if (x['lymphoid_myeloid'] == 'Lymphoid') & (x['hemato_cancer_post'] == 1):\n",
    "        return 1\n",
    "    else:\n",
    "        return 0\n",
    "\n",
    "ukb200K_age_cancer['lymphoid_cancer_post'] = ukb200K_age_cancer.apply(lambda x: lymphoid_cancer_post(x), axis=1)\n",
    "ukb200K_age_cancer['lymphoid_cancer_post'].value_counts()"
   ]
  },
  {
   "cell_type": "code",
   "execution_count": 133,
   "id": "athletic-princess",
   "metadata": {},
   "outputs": [
    {
     "data": {
      "text/plain": [
       "0    501030\n",
       "1      1361\n",
       "Name: myeloid_cancer_post, dtype: int64"
      ]
     },
     "execution_count": 133,
     "metadata": {},
     "output_type": "execute_result"
    }
   ],
   "source": [
    "# Create myeloid_cancer_post variable\n",
    "\n",
    "def myeloid_cancer_post(x):\n",
    "    if (x['lymphoid_myeloid'] == 'Myeloid') & (x['hemato_cancer_post'] == 1):\n",
    "        return 1\n",
    "    else:\n",
    "        return 0\n",
    "\n",
    "ukb200K_age_cancer['myeloid_cancer_post'] = ukb200K_age_cancer.apply(lambda x: myeloid_cancer_post(x), axis=1)\n",
    "ukb200K_age_cancer['myeloid_cancer_post'].value_counts()"
   ]
  },
  {
   "cell_type": "markdown",
   "id": "824cdaa4",
   "metadata": {},
   "source": [
    "## 8. Save output"
   ]
  },
  {
   "cell_type": "code",
   "execution_count": 48,
   "id": "golden-raising",
   "metadata": {},
   "outputs": [],
   "source": [
    "# reorder columns\n",
    "ukb200K_age_cancer = ukb200K_age_cancer[['patient', 'age_recruitment', 'age_group', 'eid',\n",
    "       'cancer', 'cancer2+', 'age_1cancer',\n",
    "       'years_tocancer1', 'cancer1_pre', 'type_1cancer', 'hemato_cancer',\n",
    "       'hematocancer_icd10_type', 'hematocancer_icd10_age',\n",
    "       'hematocancer_icd9_type', 'hematocancer_icd9_age', 'hematocancer_type',\n",
    "       'hematocancer_age', 'hematocancer_icd10_date', 'hematocancer_icd9_date',\n",
    "       'hematocancer_date', 'yearsto_hematocan', 'hemato_cancer_post',\n",
    "       'hemato_cancer_pre', 'yearsto_hematocan_dates', 'hemato_cancer_post_dates',\n",
    "       'hemato_cancer_pre_dates', 'hemato_1cancer', 'hemato_cancer_class',\n",
    "       'lymphoid_myeloid', 'lymphoid_cancer_post', 'myeloid_cancer_post',\n",
    "       '40005-0.0', '40005-1.0',\n",
    "       '40005-2.0', '40005-3.0', '40005-4.0', '40005-5.0', '40005-6.0',\n",
    "       '40005-7.0', '40006-0.0', '40006-1.0', '40006-2.0', '40006-3.0',\n",
    "       '40006-4.0', '40006-5.0', '40006-6.0', '40006-7.0', '40008-0.0',\n",
    "       '40008-1.0', '40008-2.0', '40008-3.0', '40008-4.0', '40008-5.0',\n",
    "       '40008-6.0', '40008-7.0', '40013-0.0', '40013-1.0', '40013-2.0',\n",
    "       '40013-3.0', '40013-4.0', '40013-5.0', '40013-6.0', '40013-7.0',\n",
    "       '40009-0.0', ]]"
   ]
  },
  {
   "cell_type": "code",
   "execution_count": 49,
   "id": "e2a6a443",
   "metadata": {},
   "outputs": [],
   "source": [
    "# cancer_df2[['eid','53', '21003', '21022', '22009', '31']]\n",
    "sublist = [i for i in cancer_df2.columns.tolist() if i.split('-')[0] in (['eid','53', '21003', '21022', '22009', '31'])][:21]\n",
    "sublist\n",
    "cancer_df3 = cancer_df2[sublist]"
   ]
  },
  {
   "cell_type": "code",
   "execution_count": 50,
   "id": "8292c74a",
   "metadata": {},
   "outputs": [],
   "source": [
    "ukb200K_age_cancer_final = pd.merge(ukb200K_age_cancer, cancer_df3,  how='inner', on='eid')"
   ]
  },
  {
   "cell_type": "code",
   "execution_count": 140,
   "id": "intense-research",
   "metadata": {},
   "outputs": [],
   "source": [
    "### SAVE\n",
    "ukb200K_age_cancer_final.to_csv('cancer_ukb450k_670124.txt.gz', sep=\"\\t\", index=False, compression='gzip')"
   ]
  }
 ],
 "metadata": {
  "kernelspec": {
   "display_name": "Python 3 (ipykernel)",
   "language": "python",
   "name": "python3"
  },
  "language_info": {
   "codemirror_mode": {
    "name": "ipython",
    "version": 3
   },
   "file_extension": ".py",
   "mimetype": "text/x-python",
   "name": "python",
   "nbconvert_exporter": "python",
   "pygments_lexer": "ipython3",
   "version": "3.9.7"
  }
 },
 "nbformat": 4,
 "nbformat_minor": 5
}
