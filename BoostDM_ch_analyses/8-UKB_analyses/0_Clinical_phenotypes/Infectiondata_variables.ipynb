{
 "cells": [
  {
   "cell_type": "markdown",
   "id": "rough-harvey",
   "metadata": {},
   "source": [
    "# ARRANEGE INFECTIOUS DISEASE DATA "
   ]
  },
  {
   "cell_type": "markdown",
   "id": "859c1dc3",
   "metadata": {},
   "source": [
    "### 1. Get and arrange data\n",
    "### 2. Define functions to generate variables\n",
    "### 3. Generate variables including ICD10 or ICD9 codes\n",
    "### 4. Define specific Bacterial infetions"
   ]
  },
  {
   "cell_type": "code",
   "execution_count": 1,
   "id": "significant-collaboration",
   "metadata": {},
   "outputs": [],
   "source": [
    "import pandas as pd\n",
    "import numpy as np\n",
    "import matplotlib.pyplot as plt\n",
    "from io import StringIO\n",
    "import seaborn as sns\n",
    "import scipy.stats as stats\n",
    "pd.set_option('display.max_columns', 150)\n",
    "pd.set_option('display.max_rows', 40)\n",
    "\n",
    "import matplotlib as mpl\n",
    "mpl.rcParams['figure.dpi']= 300"
   ]
  },
  {
   "cell_type": "markdown",
   "id": "cooperative-baltimore",
   "metadata": {},
   "source": [
    "# 1. Get and arrange data"
   ]
  },
  {
   "cell_type": "code",
   "execution_count": 2,
   "id": "prescription-thing",
   "metadata": {},
   "outputs": [],
   "source": [
    "### OPEN CVD DATA generated following the steps from the README.md\n",
    "### Data-fields are indicated in the paper\n",
    "\n",
    "# Read data\n",
    "filename = \"/workspace/datasets/ukbiobank_ch/ukb_data_670124/clinical_data_ukb670124/cvd_data_670124.txt\"\n",
    "lines = ''.join([line for line in open(filename, 'rt')])\n",
    "lines\n",
    "\n",
    "# Transform to df\n",
    "cvd_ukb200k = pd.read_csv(StringIO(lines), sep= '\\t')\n",
    "cvd_ukb200k"
   ]
  },
  {
   "cell_type": "code",
   "execution_count": 8,
   "id": "efc581ca",
   "metadata": {},
   "outputs": [
    {
     "data": {
      "text/plain": [
       "{'130708',\n",
       " '130709',\n",
       " '130712',\n",
       " '130713',\n",
       " '130714',\n",
       " '130715',\n",
       " '131270',\n",
       " '131271',\n",
       " '131272',\n",
       " '131273',\n",
       " '131274',\n",
       " '131275',\n",
       " '131276',\n",
       " '131277',\n",
       " '131278',\n",
       " '131279',\n",
       " '131280',\n",
       " '131281',\n",
       " '131282',\n",
       " '131283',\n",
       " '131284',\n",
       " '131285',\n",
       " '131286',\n",
       " '131287',\n",
       " '131288',\n",
       " '131289',\n",
       " '131290',\n",
       " '131291',\n",
       " '131292',\n",
       " '131293',\n",
       " '131294',\n",
       " '131295',\n",
       " '131296',\n",
       " '131297',\n",
       " '131298',\n",
       " '131299',\n",
       " '131300',\n",
       " '131301',\n",
       " '131302',\n",
       " '131303',\n",
       " '131304',\n",
       " '131305',\n",
       " '131306',\n",
       " '131307',\n",
       " '131308',\n",
       " '131309',\n",
       " '131310',\n",
       " '131311',\n",
       " '131312',\n",
       " '131313',\n",
       " '131314',\n",
       " '131315',\n",
       " '131316',\n",
       " '131317',\n",
       " '131318',\n",
       " '131319',\n",
       " '131320',\n",
       " '131321',\n",
       " '131322',\n",
       " '131323',\n",
       " '131324',\n",
       " '131325',\n",
       " '131326',\n",
       " '131327',\n",
       " '131328',\n",
       " '131329',\n",
       " '131330',\n",
       " '131331',\n",
       " '131332',\n",
       " '131333',\n",
       " '131334',\n",
       " '131335',\n",
       " '131336',\n",
       " '131337',\n",
       " '131338',\n",
       " '131339',\n",
       " '131340',\n",
       " '131341',\n",
       " '131342',\n",
       " '131343',\n",
       " '131344',\n",
       " '131345',\n",
       " '131346',\n",
       " '131347',\n",
       " '131348',\n",
       " '131349',\n",
       " '131350',\n",
       " '131351',\n",
       " '131352',\n",
       " '131353',\n",
       " '131354',\n",
       " '131355',\n",
       " '131356',\n",
       " '131357',\n",
       " '131358',\n",
       " '131359',\n",
       " '131360',\n",
       " '131361',\n",
       " '131362',\n",
       " '131363',\n",
       " '131364',\n",
       " '131365',\n",
       " '131366',\n",
       " '131367',\n",
       " '131368',\n",
       " '131369',\n",
       " '131370',\n",
       " '131371',\n",
       " '131372',\n",
       " '131373',\n",
       " '131374',\n",
       " '131375',\n",
       " '131376',\n",
       " '131377',\n",
       " '131378',\n",
       " '131379',\n",
       " '131380',\n",
       " '131381',\n",
       " '131382',\n",
       " '131383',\n",
       " '131384',\n",
       " '131385',\n",
       " '131386',\n",
       " '131387',\n",
       " '131388',\n",
       " '131389',\n",
       " '131390',\n",
       " '131391',\n",
       " '131392',\n",
       " '131393',\n",
       " '131394',\n",
       " '131395',\n",
       " '131396',\n",
       " '131397',\n",
       " '131398',\n",
       " '131399',\n",
       " '131400',\n",
       " '131401',\n",
       " '131402',\n",
       " '131403',\n",
       " '131404',\n",
       " '131405',\n",
       " '131406',\n",
       " '131407',\n",
       " '131408',\n",
       " '131409',\n",
       " '131410',\n",
       " '131411',\n",
       " '131412',\n",
       " '131413',\n",
       " '131414',\n",
       " '131415',\n",
       " '131416',\n",
       " '131417',\n",
       " '131418',\n",
       " '131419',\n",
       " '131420',\n",
       " '131421',\n",
       " '131422',\n",
       " '131423',\n",
       " '20002',\n",
       " '20004',\n",
       " '20008',\n",
       " '20009',\n",
       " '20010',\n",
       " '20011',\n",
       " '20116',\n",
       " '20161',\n",
       " '21001',\n",
       " '21003',\n",
       " '21022',\n",
       " '22009',\n",
       " '31',\n",
       " '40000',\n",
       " '40001',\n",
       " '40002',\n",
       " '40007',\n",
       " '41200',\n",
       " '41202',\n",
       " '41203',\n",
       " '41260',\n",
       " '41262',\n",
       " '41263',\n",
       " '41270',\n",
       " '41271',\n",
       " '41272',\n",
       " '41280',\n",
       " '41281',\n",
       " '41282',\n",
       " '42000',\n",
       " '42002',\n",
       " '42004',\n",
       " '42006',\n",
       " '42008',\n",
       " '42010',\n",
       " '42012',\n",
       " '53',\n",
       " 'eid'}"
      ]
     },
     "execution_count": 8,
     "metadata": {},
     "output_type": "execute_result"
    }
   ],
   "source": [
    "# All variable codes\n",
    "\n",
    "colnoms = []\n",
    "for x in cvd_ukb200k.columns.tolist():\n",
    "    colnoms.append(x.split('-')[0])\n",
    "set(colnoms)"
   ]
  },
  {
   "cell_type": "code",
   "execution_count": 9,
   "id": "12542d1e",
   "metadata": {},
   "outputs": [],
   "source": [
    "# Function to obtain the index from columns\n",
    "\n",
    "def columna(data, name):\n",
    "    a = []\n",
    "    for n, x in enumerate(data.columns.tolist()):\n",
    "        if str(x).startswith(str(name)):\n",
    "            a.append([n , x])\n",
    "    return(a)\n",
    "    "
   ]
  },
  {
   "cell_type": "code",
   "execution_count": 13,
   "id": "f5e4ae36",
   "metadata": {},
   "outputs": [
    {
     "data": {
      "text/plain": [
       "'2021-11-12'"
      ]
     },
     "execution_count": 13,
     "metadata": {},
     "output_type": "execute_result"
    }
   ],
   "source": [
    "# Max death\n",
    "cvd_ukb200k[cvd_ukb200k['40000-0.0'].notnull()]['40000-0.0'].max()"
   ]
  },
  {
   "cell_type": "markdown",
   "id": "495d7c47",
   "metadata": {},
   "source": [
    "## 2. Define functions to generate variables"
   ]
  },
  {
   "cell_type": "code",
   "execution_count": 17,
   "id": "1c35086c",
   "metadata": {},
   "outputs": [],
   "source": [
    "cvd_var = ['Sepsis', 'Pneumonia', 'Gastroenteritis', 'Skin_infection', 'Urinary_tract_infection',\n",
    "           'Composite_any_infection', 'Bacterial_infections', 'Viral_infections', 'Fungal_Infections']"
   ]
  },
  {
   "cell_type": "code",
   "execution_count": 63,
   "id": "0748ebc6",
   "metadata": {},
   "outputs": [],
   "source": [
    "##### \n",
    "##### SUMMARY DIAGNOSIS   \n",
    "#####\n",
    "\n",
    "# 41202 [944:1023]  Diagnoses - main ICD10 (79)\n",
    "# 41262 [1106:1185]  Date of first in-patient diagnosis - main ICD10 (79)\n",
    "# 41203 [1023:1051]   Diagnoses - main ICD9 (28)\n",
    "# 41263 [1185:1213]   Date of first in-patient diagnosis - main ICD9 (28)\n",
    "# 41270 [1213:1456]  Diagnoses - ICD10 (243)\n",
    "# 41280 [1627:1870] Date of first in-patient diagnosis - ICD10 (243)\n",
    "# 41271 [1456:1503] Diagnoses - ICD9 (47)\n",
    "# 41281 [1870:1917] Date of first in-patient diagnosis - ICD9 (47)\n",
    "\n",
    "# to remove\n",
    "#1900-01-01 represents \"Code has no event date\"\n",
    "#1901-01-01 represents \"Code has event date before participant's date of birth\"\n",
    "#1902-02-02 represents \"Code has event date matching participant's date of birth\"\n",
    "#1903-03-03 represents \"Code has event date after participant's date of birth same calendar year as date of birth\"\n",
    "#2037-07-07 represents \"Code has event date in the future and is presumed to be a place-holder or other system default\"\n",
    "remove_dates = ['1900-01-01', '1901-01-01', '1902-02-02', '1903-03-03', '2037-07-07']\n",
    "\n",
    "def Diagnose_variable(patient):\n",
    "    # define column\n",
    "    column_diseases = list(range(944,1023)) + list(range(1023,1051)) + list(range(1213,1456)) + list(range(1456,1503))\n",
    "    column_dates = list(range(1106,1185)) + list(range(1185,1213)) + list(range(1627,1870)) + list(range(1870,1917))\n",
    "    # select columns\n",
    "    diseases = patient[column_diseases]\n",
    "    dates = patient[column_dates]\n",
    "    \n",
    "    Hypertension = [i for i in diseases if str(i).startswith(icd_10_9)]\n",
    "    i_Hypertension_disease = [i for i,j in enumerate(diseases) if str(j).startswith(icd_10_9)]  \n",
    "    dates_hypertension_disease = [dates[index] for index in i_Hypertension_disease]\n",
    "    dates_hypertension_disease = ['nan' if pd.isna(value) else value for value in dates_hypertension_disease]\n",
    "    if len(dates_hypertension_disease) > 0:\n",
    "        \n",
    "        for i in range(len(dates_hypertension_disease)):\n",
    "            if dates_hypertension_disease[i] in remove_dates:\n",
    "                dates_hypertension_disease[i] = 'nan'\n",
    "            mindate = min(dates_hypertension_disease) \n",
    "        i_minage = [i for i,j in enumerate(dates_hypertension_disease) if str(j).startswith(str(mindate))]  \n",
    "        Hypertens = [str(Hypertension[index]) for index in i_minage]\n",
    "        \n",
    "        if mindate == 'nan':\n",
    "            return np.nan\n",
    "        else:\n",
    "            return ', '.join(set(Hypertens))\n",
    "        \n",
    "    else:\n",
    "        return np.nan\n",
    "    \n",
    "def Diagnose_date(patient):\n",
    "    \n",
    "    # define column\n",
    "    column_diseases = list(range(944,1023)) + list(range(1023,1051)) + list(range(1213,1456)) + list(range(1456,1503))\n",
    "    column_dates = list(range(1106,1185)) + list(range(1185,1213)) + list(range(1627,1870)) + list(range(1870,1917))\n",
    "    # select columns\n",
    "    diseases = patient[column_diseases]\n",
    "    dates = patient[column_dates]\n",
    "    \n",
    "    Hypertension = [i for i in diseases if str(i).startswith(icd_10_9)]\n",
    "    i_Hypertension_disease = [i for i,j in enumerate(diseases) if str(j).startswith(icd_10_9)]  \n",
    "    dates_hypertension_disease = [dates[index] for index in i_Hypertension_disease]\n",
    "    dates_hypertension_disease = ['nan' if pd.isna(value) else value for value in dates_hypertension_disease]\n",
    "    if len(dates_hypertension_disease) > 0:\n",
    "        \n",
    "        for i in range(len(dates_hypertension_disease)):\n",
    "            if dates_hypertension_disease[i] in remove_dates:\n",
    "                dates_hypertension_disease[i] = 'nan'\n",
    "        \n",
    "        mindate = min(dates_hypertension_disease)\n",
    "        if mindate == 'nan':\n",
    "            return np.nan\n",
    "        else:\n",
    "            return mindate\n",
    "    else:\n",
    "        return np.nan"
   ]
  },
  {
   "cell_type": "code",
   "execution_count": 24,
   "id": "a0be7b6c",
   "metadata": {},
   "outputs": [],
   "source": [
    "#Death record\n",
    "\n",
    "#40001 [857:859] Underlaying cause of death\n",
    "#40002 [859:887] Contributory cause of death\n",
    "#40000 [391:393] Date of death\n",
    "#40007 [416:418] Age of death\n",
    "\n",
    "# define columns\n",
    "\n",
    "def Death_variable(patient):\n",
    "    column_diseases = list(range(857,887))\n",
    "    \n",
    "    # select columns\n",
    "    cause = [i for i in patient[column_diseases] if str(i).startswith(icd_10_9)]\n",
    "    if len(cause) > 0:\n",
    "        return ', '.join(set(cause))  \n",
    "    else:\n",
    "        return np.nan\n",
    "    \n",
    "    \n",
    "def Death_date(patient):\n",
    "    column_diseases = list(range(857,887))\n",
    "        \n",
    "    # select columns\n",
    "    cause = [i for i in patient[column_diseases] if str(i).startswith(icd_10_9)]\n",
    "    if len(cause) > 0:\n",
    "        return patient['40000-0.0']\n",
    "    else:\n",
    "        return np.nan"
   ]
  },
  {
   "cell_type": "markdown",
   "id": "d75e0626",
   "metadata": {},
   "source": [
    "## 3. Generate variables including ICD10 or ICD9 codes"
   ]
  },
  {
   "cell_type": "raw",
   "id": "f010edb8",
   "metadata": {},
   "source": [
    "Sepsis\n",
    "\n",
    "• A021 Salmonella septicemia\n",
    "• A227 Antrhrax septicemia\n",
    "• A40 Streptococcal septicemia\n",
    "• A41 Other septicemia\n",
    "• B377 Candidal septicemia\n",
    "• O85 Puerperal sepsis\n",
    "• R651 Systemic Inflammatory Response Syndrome of infectious origin with organ failure\n",
    "• R527 septic shock"
   ]
  },
  {
   "cell_type": "code",
   "execution_count": 26,
   "id": "49d94656",
   "metadata": {},
   "outputs": [],
   "source": [
    "# Define Sepsis\n",
    "   \n",
    "icd_10_9 = ('A021', 'A227', 'A40', 'A41', 'B377', 'O85', 'R651', 'R527')\n",
    "\n",
    "cvd_ukb200k['Sepsis'] = cvd_ukb200k.apply(lambda x: Diagnose_variable(x), axis=1)\n",
    "cvd_ukb200k['Sepsis_date'] = cvd_ukb200k.apply(lambda x: Diagnose_date(x), axis=1)\n",
    "\n",
    "cvd_ukb200k['Sepsis_death'] = cvd_ukb200k.apply(lambda x: Death_variable(x), axis=1)\n",
    "cvd_ukb200k['Sepsis_death_date'] = cvd_ukb200k.apply(lambda x: Death_date(x), axis=1)"
   ]
  },
  {
   "cell_type": "raw",
   "id": "9a51b936",
   "metadata": {},
   "source": [
    "Pneumonia\n",
    "\n",
    "• B012 Varicella pneumonia\n",
    "• J14 Pneumonia due to Haemophilus influenzae\n",
    "• J12 Viral pneumonia, not elsewhere classified\n",
    "• J16 Pneumonia due to otherinfectious organisms, not elsewhere classified\n",
    "• J15 Bacterial pneumonia, not elsewhere classified\n",
    "• J17 Pneumonia in diseases classified elsewhere\n",
    "• J18 Pneumonia, organism unspecified\n",
    "• J851 Abscess of lung with pneumon"
   ]
  },
  {
   "cell_type": "code",
   "execution_count": 29,
   "id": "70b268e3",
   "metadata": {},
   "outputs": [],
   "source": [
    "# Define Pneumonia\n",
    "icd_10_9 = ('B012', 'J14', 'J12', 'J16', 'J15', 'J17', 'J18', 'J851')\n",
    "\n",
    "cvd_ukb200k['Pneumonia'] = cvd_ukb200k.apply(lambda x: Diagnose_variable(x), axis=1)\n",
    "cvd_ukb200k['Pneumonia_date'] = cvd_ukb200k.apply(lambda x: Diagnose_date(x), axis=1)\n",
    "\n",
    "cvd_ukb200k['Pneumonia_death'] = cvd_ukb200k.apply(lambda x: Death_variable(x), axis=1)\n",
    "cvd_ukb200k['Pneumonia_death_date'] = cvd_ukb200k.apply(lambda x: Death_date(x), axis=1)"
   ]
  },
  {
   "cell_type": "raw",
   "id": "25a28c00",
   "metadata": {},
   "source": [
    "Gastroenteritis \n",
    "• A00-A09 Intestinal infectious diseases"
   ]
  },
  {
   "cell_type": "code",
   "execution_count": 30,
   "id": "3f430d22",
   "metadata": {},
   "outputs": [],
   "source": [
    "# Define Gastroenteritis\n",
    "icd_10_9 = ('A00', 'A01', 'A02', 'A03', 'A04', 'A05', 'A06', 'A07', 'A08', 'A09')\n",
    "\n",
    "cvd_ukb200k['Gastroenteritis'] = cvd_ukb200k.apply(lambda x: Diagnose_variable(x), axis=1)\n",
    "cvd_ukb200k['Gastroenteritis_date'] = cvd_ukb200k.apply(lambda x: Diagnose_date(x), axis=1)\n",
    "\n",
    "cvd_ukb200k['Gastroenteritis_death'] = cvd_ukb200k.apply(lambda x: Death_variable(x), axis=1)\n",
    "cvd_ukb200k['Gastroenteritis_death_date'] = cvd_ukb200k.apply(lambda x: Death_date(x), axis=1)"
   ]
  },
  {
   "cell_type": "raw",
   "id": "1be0cc35",
   "metadata": {},
   "source": [
    "Skin infection \n",
    "L00-L08 Infections of the skin and subcutaneous tissue"
   ]
  },
  {
   "cell_type": "code",
   "execution_count": 31,
   "id": "ad919f3b",
   "metadata": {},
   "outputs": [],
   "source": [
    "# Define Skin infection\n",
    "icd_10_9 = ('L00', 'L01', 'L02', 'L03', 'L04', 'L05',\n",
    "            'L06', 'L07', 'L08')\n",
    "\n",
    "cvd_ukb200k['Skin_infection'] = cvd_ukb200k.apply(lambda x: Diagnose_variable(x), axis=1)\n",
    "cvd_ukb200k['Skin_infection_date'] = cvd_ukb200k.apply(lambda x: Diagnose_date(x), axis=1)\n",
    "\n",
    "cvd_ukb200k['Skin_infection_death'] = cvd_ukb200k.apply(lambda x: Death_variable(x), axis=1)\n",
    "cvd_ukb200k['Skin_infection_death_date'] = cvd_ukb200k.apply(lambda x: Death_date(x), axis=1)"
   ]
  },
  {
   "cell_type": "raw",
   "id": "0cf72fc7",
   "metadata": {},
   "source": [
    "Urinary tract infection\n",
    "• N390 Urinary tract infection, site not specified\n",
    "• O23 Infections of genito-urinary tract in pregnancy\n",
    "• O86 Other puerperal infections"
   ]
  },
  {
   "cell_type": "code",
   "execution_count": 64,
   "id": "af49dc62",
   "metadata": {},
   "outputs": [],
   "source": [
    "# Define Urinary tract infection\n",
    "icd_10_9 = ('N390', 'O23', 'O86')\n",
    "\n",
    "cvd_ukb200k['Urinary_tract_infection'] = cvd_ukb200k.apply(lambda x: Diagnose_variable(x), axis=1)\n",
    "cvd_ukb200k['Urinary_tract_infection_date'] = cvd_ukb200k.apply(lambda x: Diagnose_date(x), axis=1)\n",
    "\n",
    "cvd_ukb200k['Urinary_tract_infection_death'] = cvd_ukb200k.apply(lambda x: Death_variable(x), axis=1)\n",
    "cvd_ukb200k['Urinary_tract_infection_death_date'] = cvd_ukb200k.apply(lambda x: Death_date(x), axis=1)"
   ]
  },
  {
   "cell_type": "raw",
   "id": "dedd125a",
   "metadata": {},
   "source": [
    "Composite any infection\n",
    "\n",
    "    A00-A09     Intestinal infectious diseases\n",
    "    A15-A19     Tuberculosis\n",
    "    A20-A28     Certain zoonotic bacterial diseases\n",
    "    A30-A49     Other bacterial diseases\n",
    "    A50-A64     Infections with a predominantly sexual mode of transmission\n",
    "    A65-A69     Other spirochetal diseases\n",
    "    A70-A74     Other diseases caused by chlamydiae\n",
    "    A75-A79     Rickettsioses\n",
    "    A80-A89     Viral and prion infections of the central nervous system\n",
    "    A90-A99     Arthropod-borne viral fevers and viral hemorrhagic fevers\n",
    "    B00-B09     Viral infections characterized by skin and mucous membrane lesions\n",
    "    B10-B10     Other human herpesviruses\n",
    "    B15-B19     Viral hepatitis\n",
    "    B20-B20     Human immunodeficiency virus [HIV] disease\n",
    "    B25-B34     Other viral diseases\n",
    "    B35-B49     Mycoses\n",
    "    B50-B64     Protozoal diseases\n",
    "    B65-B83     Helminthiases\n",
    "    B85-B89     Pediculosis, acariasis and other infestations\n",
    "    B90-B94     Sequelae of infectious and parasitic diseases\n",
    "    B95-B97     Bacterial and viral infectious agents\n",
    "    B99-B99     Other infectious diseases\n"
   ]
  },
  {
   "cell_type": "code",
   "execution_count": 65,
   "id": "9a3b0b4b",
   "metadata": {},
   "outputs": [],
   "source": [
    "# Define Composite any infection\n",
    "\n",
    "icd_10_9 = ('A00', 'A01', 'A02', 'A03', 'A04', 'A05', 'A06', 'A07', 'A08', 'A09',\n",
    "            'A15', 'A16', 'A17', 'A18', 'A19',\n",
    "            'A20', 'A21', 'A22', 'A23', 'A24', 'A25', 'A26', 'A27', 'A28',\n",
    "            'A30', 'A31', 'A32', 'A33', 'A34', 'A35', 'A36', 'A37', 'A38', 'A39',\n",
    "            'A40', 'A41', 'A42', 'A43', 'A44', 'A45', 'A46', 'A47', 'A48', 'A49',\n",
    "            'A50', 'A51', 'A52', 'A53', 'A54', 'A55', 'A56', 'A57', 'A58', 'A59',\n",
    "            'A60', 'A61', 'A62', 'A63', 'A64',\n",
    "            'A65', 'A66', 'A67', 'A68', 'A69',\n",
    "            'A70', 'A71', 'A72', 'A73', 'A74',\n",
    "            'A75', 'A76', 'A77', 'A78', 'A79',\n",
    "            'A80', 'A81', 'A82', 'A83', 'A84', 'A85', 'A86', 'A87', 'A88', 'A89',\n",
    "            'A90', 'A91', 'A92', 'A93', 'A94', 'A95', 'A96', 'A97', 'A98', 'A99',\n",
    "            'B00', 'B01', 'B02', 'B03', 'B04', 'B05', 'B06', 'B07', 'B08', 'B09',\n",
    "            'B10',\n",
    "            'B15', 'B16', 'B17', 'B18', 'B19',\n",
    "            'B20',\n",
    "            'B25', 'B26', 'B27', 'B28', 'B29', 'B30', 'B31', 'B32', 'B33', 'B34',\n",
    "            'B35', 'B36', 'B37', 'B38', 'B39',\n",
    "            'B40', 'B41', 'B42', 'B43', 'B44', 'B45', 'B46', 'B47', 'B48', 'B49',\n",
    "            'B50', 'B51', 'B52', 'B53', 'B54', 'B55', 'B56', 'B57', 'B58', 'B59',\n",
    "            'B60', 'B61', 'B62', 'B63', 'B64',\n",
    "            'B65', 'B66', 'B67', 'B68', 'B69', 'B70', 'B71', 'B72', 'B73', 'B74',\n",
    "            'B75', 'B76', 'B77', 'B78', 'B79', 'B80', 'B81', 'B82', 'B83',\n",
    "            'B85', 'B86', 'B87', 'B88', 'B89',\n",
    "            'B90', 'B91', 'B92', 'B93', 'B94',\n",
    "            'B95', 'B96', 'B97',\n",
    "            'B99',)\n",
    "\n",
    "cvd_ukb200k['Composite_any_infection'] = cvd_ukb200k.apply(lambda x: Diagnose_variable(x), axis=1)\n",
    "cvd_ukb200k['Composite_any_infection_date'] = cvd_ukb200k.apply(lambda x: Diagnose_date(x), axis=1)\n",
    "\n",
    "cvd_ukb200k['Composite_any_infection_death'] = cvd_ukb200k.apply(lambda x: Death_variable(x), axis=1)\n",
    "cvd_ukb200k['Composite_any_infection_death_date'] = cvd_ukb200k.apply(lambda x: Death_date(x), axis=1)"
   ]
  },
  {
   "cell_type": "raw",
   "id": "5f2dca91",
   "metadata": {},
   "source": [
    "Bacterial infections\n",
    "\n",
    "• A00 Cholera\n",
    "• A01 Typhoid and paratyphoid fevers\n",
    "• A02 Other Salmonella infections\n",
    "• A03 Shigellosis\n",
    "• A04 Other bacterial intestinal infections\n",
    "• A05 Other bacterial foodborne intoxications\n",
    "• A15-A19 Tuberculosis\n",
    "• A20-A28 Certain zoonotic bacterial diseases\n",
    "• A30-A49 Other bacterial diseases\n",
    "• A51 Early syphilis\n",
    "• A52 Late syphilis\n",
    "• A53 Other and unspecified syphilis\n",
    "• A54 Gonococcal infection-\n",
    "• A56 Other sexually transmitted chlamydial diseases\n",
    "• A65-A69 Other spirochaetal diseases\n",
    "• A70-A74 Other diseases caused by chlamydiae\n",
    "• A75-A79 Rickettsioses\n",
    "• B90 Sequelae of tuberculosis\n",
    "• B95 Streptococcus and staphylococcus as the cause of diseases classified to other chapters\n",
    "• B96 Other bacterial agents as the cause of diseases classified to other chapters\n",
    "• B98 Other specified infectious agents as the cause of diseases classified to other chap"
   ]
  },
  {
   "cell_type": "code",
   "execution_count": null,
   "id": "a1e8fa68",
   "metadata": {},
   "outputs": [],
   "source": [
    "# Define Bacterial infections\n",
    "\n",
    "icd_10_9 = ('A00', 'A01', 'A02', 'A03', 'A04', 'A05',\n",
    "            'A15', 'A16', 'A17', 'A18', 'A19',\n",
    "            'A20', 'A21', 'A22', 'A23', 'A24', 'A25', 'A26', 'A27', 'A28',\n",
    "            'A30', 'A31', 'A32', 'A33', 'A34', 'A35', 'A36', 'A37', 'A38', 'A39',\n",
    "            'A40', 'A41', 'A42', 'A43', 'A44', 'A45', 'A46', 'A47', 'A48', 'A49',\n",
    "            'A51', 'A52', 'A53', 'A54', 'A56',\n",
    "            'A65', 'A66', 'A67', 'A68', 'A69',\n",
    "            'A70', 'A71', 'A72', 'A73', 'A74',\n",
    "            'A75', 'A76', 'A77', 'A78', 'A79',\n",
    "            'B90', 'B95', 'B96', 'B98')\n",
    "\n",
    "cvd_ukb200k['Bacterial_infections'] = cvd_ukb200k.apply(lambda x: Diagnose_variable(x), axis=1)\n",
    "cvd_ukb200k['Bacterial_infections_date'] = cvd_ukb200k.apply(lambda x: Diagnose_date(x), axis=1)\n",
    "\n",
    "cvd_ukb200k['Bacterial_infections_death'] = cvd_ukb200k.apply(lambda x: Death_variable(x), axis=1)\n",
    "cvd_ukb200k['Bacterial_infections_death_date'] = cvd_ukb200k.apply(lambda x: Death_date(x), axis=1)"
   ]
  },
  {
   "cell_type": "raw",
   "id": "5dbc1b75",
   "metadata": {},
   "source": [
    "Viral infections \n",
    "\n",
    "• A08 Viral and other specified intestinal infections\n",
    "• A60 Anogenital herpes viral [herpes simplex] infections\n",
    "• A80-A89 Viral infections of the central nervous system\n",
    "• A92-A99 Arthropod-borne viral fevers and viral haemorrhagic fevers\n",
    "• B00-B09 Viral infections characterized by skin and mucous membrane lesions\n",
    "• B15-B19 Viral hepatitis \n",
    "• B20-B24 Human immunodeficiency virus [HIV] disease\n",
    "• B25-B34 Other viral diseases \n",
    "• B941 Sequelae of viral encephalitis\n",
    "• B942 Sequelae of viral hepatitis\n",
    "• B97 Viral agents as the cause of diseases classified to other chapters"
   ]
  },
  {
   "cell_type": "code",
   "execution_count": null,
   "id": "7eda103d",
   "metadata": {},
   "outputs": [],
   "source": [
    "# Define Viral infections \n",
    "\n",
    "icd_10_9 = ('A08', 'A60',\n",
    "            'A80', 'A81', 'A82', 'A83', 'A84', 'A85', 'A86', 'A87', 'A88', 'A89',\n",
    "            'A92', 'A93', 'A94', 'A95', 'A96', 'A97', 'A98', 'A99',\n",
    "            'B00', 'B01', 'B02', 'B03', 'B04', 'B05', 'B06', 'B07', 'B08', 'B09',\n",
    "            'B15', 'B16', 'B17', 'B18', 'B19',\n",
    "            'B20', 'B21', 'B22', 'B23', 'B24',\n",
    "            'B25', 'B26', 'B27', 'B28', 'B29', 'B30', 'B31', 'B32', 'B33', 'B34',\n",
    "            'B941', 'B942', 'B97')\n",
    "\n",
    "cvd_ukb200k['Viral_infections '] = cvd_ukb200k.apply(lambda x: Diagnose_variable(x), axis=1)\n",
    "cvd_ukb200k['Viral_infections_date'] = cvd_ukb200k.apply(lambda x: Diagnose_date(x), axis=1)\n",
    "\n",
    "cvd_ukb200k['Viral_infections_death'] = cvd_ukb200k.apply(lambda x: Death_variable(x), axis=1)\n",
    "cvd_ukb200k['Viral_infections_death_date'] = cvd_ukb200k.apply(lambda x: Death_date(x), axis=1)"
   ]
  },
  {
   "cell_type": "raw",
   "id": "ecf41a24",
   "metadata": {},
   "source": [
    "Fungal Infections\n",
    "\n",
    "• B35-B49 Mycoses "
   ]
  },
  {
   "cell_type": "code",
   "execution_count": null,
   "id": "388397a6",
   "metadata": {},
   "outputs": [],
   "source": [
    "# Define Fungal Infections\n",
    "\n",
    "icd_10_9 = ('B35', 'B36', 'B37', 'B38', 'B39',\n",
    "            'B40', 'B41', 'B42', 'B43', 'B44', \n",
    "            'B45', 'B46', 'B47', 'B48', 'B49')\n",
    "\n",
    "cvd_ukb200k['Fungal_Infections '] = cvd_ukb200k.apply(lambda x: Diagnose_variable(x), axis=1)\n",
    "cvd_ukb200k['Fungal_Infections_date'] = cvd_ukb200k.apply(lambda x: Diagnose_date(x), axis=1)\n",
    "\n",
    "cvd_ukb200k['Fungal_Infections_death'] = cvd_ukb200k.apply(lambda x: Death_variable(x), axis=1)\n",
    "cvd_ukb200k['Fungal_Infections_death_date'] = cvd_ukb200k.apply(lambda x: Death_date(x), axis=1)"
   ]
  },
  {
   "cell_type": "code",
   "execution_count": 73,
   "id": "7adb6252",
   "metadata": {},
   "outputs": [],
   "source": [
    "cvd_var = ['Sepsis', 'Pneumonia', 'Gastroenteritis', 'Skin_infection', 'Urinary_tract_infection',\n",
    "           'Composite_any_infection', 'Bacterial_infections', 'Viral_infections', 'Fungal_Infections']"
   ]
  },
  {
   "cell_type": "code",
   "execution_count": 74,
   "id": "20cf14df",
   "metadata": {},
   "outputs": [
    {
     "name": "stderr",
     "output_type": "stream",
     "text": [
      "  6%|██▍                                         | 1/18 [00:05<01:34,  5.54s/it]"
     ]
    },
    {
     "name": "stdout",
     "output_type": "stream",
     "text": [
      "Sepsis\n"
     ]
    },
    {
     "name": "stderr",
     "output_type": "stream",
     "text": [
      "\r",
      " 11%|████▉                                       | 2/18 [00:06<00:42,  2.68s/it]"
     ]
    },
    {
     "name": "stdout",
     "output_type": "stream",
     "text": [
      "Sepsis_death\n"
     ]
    },
    {
     "name": "stderr",
     "output_type": "stream",
     "text": [
      "\r",
      " 17%|███████▎                                    | 3/18 [00:16<01:30,  6.02s/it]"
     ]
    },
    {
     "name": "stdout",
     "output_type": "stream",
     "text": [
      "Pneumonia\n"
     ]
    },
    {
     "name": "stderr",
     "output_type": "stream",
     "text": [
      "\r",
      " 22%|█████████▊                                  | 4/18 [00:18<01:01,  4.37s/it]"
     ]
    },
    {
     "name": "stdout",
     "output_type": "stream",
     "text": [
      "Pneumonia_death\n"
     ]
    },
    {
     "name": "stderr",
     "output_type": "stream",
     "text": [
      "\r",
      " 28%|████████████▏                               | 5/18 [00:26<01:17,  5.97s/it]"
     ]
    },
    {
     "name": "stdout",
     "output_type": "stream",
     "text": [
      "Gastroenteritis\n"
     ]
    },
    {
     "name": "stderr",
     "output_type": "stream",
     "text": [
      "\r",
      " 33%|██████████████▋                             | 6/18 [00:27<00:48,  4.04s/it]"
     ]
    },
    {
     "name": "stdout",
     "output_type": "stream",
     "text": [
      "Gastroenteritis_death\n"
     ]
    },
    {
     "name": "stderr",
     "output_type": "stream",
     "text": [
      "\r",
      " 39%|█████████████████                           | 7/18 [00:34<00:57,  5.19s/it]"
     ]
    },
    {
     "name": "stdout",
     "output_type": "stream",
     "text": [
      "Skin_infection\n"
     ]
    },
    {
     "name": "stderr",
     "output_type": "stream",
     "text": [
      "\r",
      " 44%|███████████████████▌                        | 8/18 [00:34<00:36,  3.62s/it]"
     ]
    },
    {
     "name": "stdout",
     "output_type": "stream",
     "text": [
      "Skin_infection_death\n"
     ]
    },
    {
     "name": "stderr",
     "output_type": "stream",
     "text": [
      "\r",
      " 50%|██████████████████████                      | 9/18 [00:44<00:50,  5.62s/it]"
     ]
    },
    {
     "name": "stdout",
     "output_type": "stream",
     "text": [
      "Urinary_tract_infection\n"
     ]
    },
    {
     "name": "stderr",
     "output_type": "stream",
     "text": [
      "\r",
      " 56%|███████████████████████▉                   | 10/18 [00:45<00:32,  4.00s/it]"
     ]
    },
    {
     "name": "stdout",
     "output_type": "stream",
     "text": [
      "Urinary_tract_infection_death\n"
     ]
    },
    {
     "name": "stderr",
     "output_type": "stream",
     "text": [
      "\r",
      " 61%|██████████████████████████▎                | 11/18 [01:08<01:09,  9.91s/it]"
     ]
    },
    {
     "name": "stdout",
     "output_type": "stream",
     "text": [
      "Composite_any_infection\n"
     ]
    },
    {
     "name": "stderr",
     "output_type": "stream",
     "text": [
      "\r",
      " 67%|████████████████████████████▋              | 12/18 [01:09<00:42,  7.15s/it]"
     ]
    },
    {
     "name": "stdout",
     "output_type": "stream",
     "text": [
      "Composite_any_infection_death\n"
     ]
    },
    {
     "name": "stderr",
     "output_type": "stream",
     "text": [
      "\r",
      " 72%|███████████████████████████████            | 13/18 [01:24<00:47,  9.45s/it]"
     ]
    },
    {
     "name": "stdout",
     "output_type": "stream",
     "text": [
      "Bacterial_infections\n"
     ]
    },
    {
     "name": "stderr",
     "output_type": "stream",
     "text": [
      "\r",
      " 78%|█████████████████████████████████▍         | 14/18 [01:24<00:27,  6.82s/it]"
     ]
    },
    {
     "name": "stdout",
     "output_type": "stream",
     "text": [
      "Bacterial_infections_death\n"
     ]
    },
    {
     "name": "stderr",
     "output_type": "stream",
     "text": [
      "\r",
      " 83%|███████████████████████████████████▊       | 15/18 [01:30<00:18,  6.29s/it]"
     ]
    },
    {
     "name": "stdout",
     "output_type": "stream",
     "text": [
      "Viral_infections\n"
     ]
    },
    {
     "name": "stderr",
     "output_type": "stream",
     "text": [
      "\r",
      " 89%|██████████████████████████████████████▏    | 16/18 [01:30<00:08,  4.49s/it]"
     ]
    },
    {
     "name": "stdout",
     "output_type": "stream",
     "text": [
      "Viral_infections_death\n"
     ]
    },
    {
     "name": "stderr",
     "output_type": "stream",
     "text": [
      "\r",
      " 94%|████████████████████████████████████████▌  | 17/18 [01:33<00:04,  4.01s/it]"
     ]
    },
    {
     "name": "stdout",
     "output_type": "stream",
     "text": [
      "Fungal_Infections\n"
     ]
    },
    {
     "name": "stderr",
     "output_type": "stream",
     "text": [
      "100%|███████████████████████████████████████████| 18/18 [01:33<00:00,  5.19s/it]"
     ]
    },
    {
     "name": "stdout",
     "output_type": "stream",
     "text": [
      "Fungal_Infections_death\n"
     ]
    },
    {
     "name": "stderr",
     "output_type": "stream",
     "text": [
      "\n"
     ]
    }
   ],
   "source": [
    "from tqdm import tqdm\n",
    "variables = ['Sepsis_date',\n",
    " 'Sepsis_death_date',\n",
    " 'Pneumonia_date',\n",
    " 'Pneumonia_death_date',\n",
    " 'Gastroenteritis_date',\n",
    " 'Gastroenteritis_death_date',\n",
    " 'Skin_infection_date',\n",
    " 'Skin_infection_death_date',\n",
    " 'Urinary_tract_infection_date',\n",
    " 'Urinary_tract_infection_death_date',\n",
    " 'Composite_any_infection_date',\n",
    " 'Composite_any_infection_death_date',\n",
    " 'Bacterial_infections_date',\n",
    " 'Bacterial_infections_death_date',\n",
    " 'Viral_infections_date',\n",
    " 'Viral_infections_death_date',\n",
    " 'Fungal_Infections_date',\n",
    " 'Fungal_Infections_death_date']\n",
    "for variable in tqdm(variables):\n",
    "    years = []\n",
    "    if variable.endswith('date'):\n",
    "        for n, x in enumerate(cvd_ukb200k[variable]):\n",
    "            if x is np.nan:\n",
    "                years.append(x)\n",
    "            else:\n",
    "                year = pd.to_datetime(x, format='%Y-%m-%d')-pd.to_datetime(cvd_ukb200k.loc[n,'53-0.0'], format='%Y-%m-%d')\n",
    "                years.append(year/np.timedelta64(1,'Y'))\n",
    "    elif variable.endswith('age'):\n",
    "        for n, x in enumerate(cvd_ukb200k[variable]):\n",
    "            if x is np.nan:\n",
    "                years.append(x)\n",
    "            else:\n",
    "                year = x-cvd_ukb200k.loc[n,'21022-0.0']\n",
    "                years.append(year)\n",
    "\n",
    "    var = '_'.join(variable.split('_')[:-1])\n",
    "    print(var)\n",
    "    cvd_ukb200k[var+'_years'] = years\n"
   ]
  },
  {
   "cell_type": "code",
   "execution_count": 80,
   "id": "c2954b78",
   "metadata": {},
   "outputs": [
    {
     "data": {
      "text/html": [
       "<div>\n",
       "<style scoped>\n",
       "    .dataframe tbody tr th:only-of-type {\n",
       "        vertical-align: middle;\n",
       "    }\n",
       "\n",
       "    .dataframe tbody tr th {\n",
       "        vertical-align: top;\n",
       "    }\n",
       "\n",
       "    .dataframe thead th {\n",
       "        text-align: right;\n",
       "    }\n",
       "</style>\n",
       "<table border=\"1\" class=\"dataframe\">\n",
       "  <thead>\n",
       "    <tr style=\"text-align: right;\">\n",
       "      <th></th>\n",
       "      <th>eid</th>\n",
       "      <th>53-0.0</th>\n",
       "      <th>21022-0.0</th>\n",
       "      <th>Fungal_Infections</th>\n",
       "      <th>Fungal_Infections_date</th>\n",
       "      <th>Fungal_Infections_death</th>\n",
       "      <th>Fungal_Infections_death_date</th>\n",
       "      <th>Fungal_Infections_years</th>\n",
       "      <th>Fungal_Infections_death_years</th>\n",
       "    </tr>\n",
       "  </thead>\n",
       "  <tbody>\n",
       "    <tr>\n",
       "      <th>7</th>\n",
       "      <td>1000081</td>\n",
       "      <td>2010-02-01</td>\n",
       "      <td>61.0</td>\n",
       "      <td>B378</td>\n",
       "      <td>2020-09-03</td>\n",
       "      <td>NaN</td>\n",
       "      <td>NaN</td>\n",
       "      <td>10.587486</td>\n",
       "      <td>NaN</td>\n",
       "    </tr>\n",
       "    <tr>\n",
       "      <th>34</th>\n",
       "      <td>1000357</td>\n",
       "      <td>2009-02-18</td>\n",
       "      <td>54.0</td>\n",
       "      <td>B378</td>\n",
       "      <td>2020-03-12</td>\n",
       "      <td>NaN</td>\n",
       "      <td>NaN</td>\n",
       "      <td>11.061144</td>\n",
       "      <td>NaN</td>\n",
       "    </tr>\n",
       "    <tr>\n",
       "      <th>88</th>\n",
       "      <td>1000893</td>\n",
       "      <td>2008-01-21</td>\n",
       "      <td>56.0</td>\n",
       "      <td>B370</td>\n",
       "      <td>2014-06-30</td>\n",
       "      <td>NaN</td>\n",
       "      <td>NaN</td>\n",
       "      <td>6.439557</td>\n",
       "      <td>NaN</td>\n",
       "    </tr>\n",
       "    <tr>\n",
       "      <th>89</th>\n",
       "      <td>1000906</td>\n",
       "      <td>2010-03-01</td>\n",
       "      <td>56.0</td>\n",
       "      <td>B371</td>\n",
       "      <td>2018-02-17</td>\n",
       "      <td>NaN</td>\n",
       "      <td>NaN</td>\n",
       "      <td>7.967309</td>\n",
       "      <td>NaN</td>\n",
       "    </tr>\n",
       "    <tr>\n",
       "      <th>297</th>\n",
       "      <td>1002989</td>\n",
       "      <td>2009-03-07</td>\n",
       "      <td>51.0</td>\n",
       "      <td>B49</td>\n",
       "      <td>2013-06-07</td>\n",
       "      <td>NaN</td>\n",
       "      <td>NaN</td>\n",
       "      <td>4.251970</td>\n",
       "      <td>NaN</td>\n",
       "    </tr>\n",
       "    <tr>\n",
       "      <th>...</th>\n",
       "      <td>...</td>\n",
       "      <td>...</td>\n",
       "      <td>...</td>\n",
       "      <td>...</td>\n",
       "      <td>...</td>\n",
       "      <td>...</td>\n",
       "      <td>...</td>\n",
       "      <td>...</td>\n",
       "      <td>...</td>\n",
       "    </tr>\n",
       "    <tr>\n",
       "      <th>502202</th>\n",
       "      <td>6022972</td>\n",
       "      <td>2007-10-16</td>\n",
       "      <td>56.0</td>\n",
       "      <td>B49</td>\n",
       "      <td>2016-08-11</td>\n",
       "      <td>B49</td>\n",
       "      <td>2016-10-01</td>\n",
       "      <td>8.821536</td>\n",
       "      <td>8.96117</td>\n",
       "    </tr>\n",
       "    <tr>\n",
       "      <th>502262</th>\n",
       "      <td>6023573</td>\n",
       "      <td>2008-04-15</td>\n",
       "      <td>60.0</td>\n",
       "      <td>B379</td>\n",
       "      <td>2016-09-05</td>\n",
       "      <td>NaN</td>\n",
       "      <td>NaN</td>\n",
       "      <td>8.391685</td>\n",
       "      <td>NaN</td>\n",
       "    </tr>\n",
       "    <tr>\n",
       "      <th>502290</th>\n",
       "      <td>6023858</td>\n",
       "      <td>2009-08-03</td>\n",
       "      <td>66.0</td>\n",
       "      <td>B378</td>\n",
       "      <td>2009-01-22</td>\n",
       "      <td>NaN</td>\n",
       "      <td>NaN</td>\n",
       "      <td>-0.528416</td>\n",
       "      <td>NaN</td>\n",
       "    </tr>\n",
       "    <tr>\n",
       "      <th>502312</th>\n",
       "      <td>6024073</td>\n",
       "      <td>2007-09-25</td>\n",
       "      <td>55.0</td>\n",
       "      <td>B378</td>\n",
       "      <td>2021-05-20</td>\n",
       "      <td>NaN</td>\n",
       "      <td>NaN</td>\n",
       "      <td>13.651204</td>\n",
       "      <td>NaN</td>\n",
       "    </tr>\n",
       "    <tr>\n",
       "      <th>502325</th>\n",
       "      <td>6024208</td>\n",
       "      <td>2008-02-08</td>\n",
       "      <td>47.0</td>\n",
       "      <td>B379</td>\n",
       "      <td>2008-02-06</td>\n",
       "      <td>NaN</td>\n",
       "      <td>NaN</td>\n",
       "      <td>-0.005476</td>\n",
       "      <td>NaN</td>\n",
       "    </tr>\n",
       "  </tbody>\n",
       "</table>\n",
       "<p>7939 rows × 9 columns</p>\n",
       "</div>"
      ],
      "text/plain": [
       "            eid      53-0.0  21022-0.0 Fungal_Infections   \\\n",
       "7       1000081  2010-02-01       61.0               B378   \n",
       "34      1000357  2009-02-18       54.0               B378   \n",
       "88      1000893  2008-01-21       56.0               B370   \n",
       "89      1000906  2010-03-01       56.0               B371   \n",
       "297     1002989  2009-03-07       51.0                B49   \n",
       "...         ...         ...        ...                ...   \n",
       "502202  6022972  2007-10-16       56.0                B49   \n",
       "502262  6023573  2008-04-15       60.0               B379   \n",
       "502290  6023858  2009-08-03       66.0               B378   \n",
       "502312  6024073  2007-09-25       55.0               B378   \n",
       "502325  6024208  2008-02-08       47.0               B379   \n",
       "\n",
       "       Fungal_Infections_date Fungal_Infections_death  \\\n",
       "7                  2020-09-03                     NaN   \n",
       "34                 2020-03-12                     NaN   \n",
       "88                 2014-06-30                     NaN   \n",
       "89                 2018-02-17                     NaN   \n",
       "297                2013-06-07                     NaN   \n",
       "...                       ...                     ...   \n",
       "502202             2016-08-11                     B49   \n",
       "502262             2016-09-05                     NaN   \n",
       "502290             2009-01-22                     NaN   \n",
       "502312             2021-05-20                     NaN   \n",
       "502325             2008-02-06                     NaN   \n",
       "\n",
       "       Fungal_Infections_death_date  Fungal_Infections_years  \\\n",
       "7                               NaN                10.587486   \n",
       "34                              NaN                11.061144   \n",
       "88                              NaN                 6.439557   \n",
       "89                              NaN                 7.967309   \n",
       "297                             NaN                 4.251970   \n",
       "...                             ...                      ...   \n",
       "502202                   2016-10-01                 8.821536   \n",
       "502262                          NaN                 8.391685   \n",
       "502290                          NaN                -0.528416   \n",
       "502312                          NaN                13.651204   \n",
       "502325                          NaN                -0.005476   \n",
       "\n",
       "        Fungal_Infections_death_years  \n",
       "7                                 NaN  \n",
       "34                                NaN  \n",
       "88                                NaN  \n",
       "89                                NaN  \n",
       "297                               NaN  \n",
       "...                               ...  \n",
       "502202                        8.96117  \n",
       "502262                            NaN  \n",
       "502290                            NaN  \n",
       "502312                            NaN  \n",
       "502325                            NaN  \n",
       "\n",
       "[7939 rows x 9 columns]"
      ]
     },
     "execution_count": 80,
     "metadata": {},
     "output_type": "execute_result"
    }
   ],
   "source": [
    "a = cvd_ukb200k[cvd_ukb200k['Fungal_Infections_years'].notnull()]\n",
    "a[['eid', '53-0.0', '21022-0.0']+[x for x in a.columns if (x.startswith('Fungal_Infections'))]]"
   ]
  },
  {
   "cell_type": "code",
   "execution_count": 81,
   "id": "b8d601bf",
   "metadata": {},
   "outputs": [],
   "source": [
    "cvd_var = ['Sepsis', 'Pneumonia', 'Gastroenteritis', 'Skin_infection', 'Urinary_tract_infection',\n",
    "           'Composite_any_infection', 'Bacterial_infections', 'Viral_infections', 'Fungal_Infections']\n",
    "\n",
    "for var in cvd_var:\n",
    "    yeears = [x for x in cvd_ukb200k.columns if (x.startswith(var)) and (x.endswith('years'))]\n",
    "    cvd_ukb200k['var_'+var+'_years'] = cvd_ukb200k.loc[:,yeears].min(axis=1)\n",
    "    cvd_ukb200k['var_'+var+'_var'] = np.where(cvd_ukb200k['var_'+var+'_years'].notnull(), 1, 0)\n",
    "    cvd_ukb200k['var_'+var+'_post'] = np.where(cvd_ukb200k['var_'+var+'_years'] > 0, 1, 0)\n",
    "    cvd_ukb200k['var_'+var+'_pre'] = np.where(cvd_ukb200k['var_'+var+'_years'] < 0, 1, 0)"
   ]
  },
  {
   "cell_type": "code",
   "execution_count": 1,
   "id": "67097b57",
   "metadata": {},
   "outputs": [],
   "source": [
    "df1 = cvd_ukb200k[['eid']+[x for x in cvd_ukb200k.columns if (x.startswith('var'))]]"
   ]
  },
  {
   "cell_type": "code",
   "execution_count": 83,
   "id": "0c3c699c",
   "metadata": {},
   "outputs": [],
   "source": [
    "### SAVE\n",
    "\n",
    "df1.to_csv('Infection_ukb450k_670124_simple.txt.gz', sep=\"\\t\", index=False, compression='gzip')"
   ]
  },
  {
   "cell_type": "code",
   "execution_count": 84,
   "id": "6f36cf5a",
   "metadata": {},
   "outputs": [],
   "source": [
    "### SAVE\n",
    "\n",
    "cvd_ukb200k.to_csv('Infection_ukb450k_670124_all.txt.gz', sep=\"\\t\", index=False, compression='gzip')"
   ]
  },
  {
   "cell_type": "markdown",
   "id": "94d5a03a",
   "metadata": {},
   "source": [
    "## 4. Define specific Bacterial infetions"
   ]
  },
  {
   "cell_type": "raw",
   "id": "f679c821",
   "metadata": {},
   "source": [
    "Bacterial infections\n",
    "\n",
    "• A00 Cholera\n",
    "• A01 Typhoid and paratyphoid fevers\n",
    "• A02 Other Salmonella infections\n",
    "• A03 Shigellosis\n",
    "• A04 Other bacterial intestinal infections\n",
    "• A05 Other bacterial foodborne intoxications\n",
    "• A15-A19 Tuberculosis\n",
    "• A20-A28 Certain zoonotic bacterial diseases\n",
    "• A30-A49 Other bacterial diseases\n",
    "• A51 Early syphilis\n",
    "• A52 Late syphilis\n",
    "• A53 Other and unspecified syphilis\n",
    "• A54 Gonococcal infection-\n",
    "• A56 Other sexually transmitted chlamydial diseases\n",
    "• A65-A69 Other spirochaetal diseases\n",
    "• A70-A74 Other diseases caused by chlamydiae\n",
    "• A75-A79 Rickettsioses\n",
    "• B90 Sequelae of tuberculosis\n",
    "• B95 Streptococcus and staphylococcus as the cause of diseases classified to other chapters\n",
    "• B96 Other bacterial agents as the cause of diseases classified to other chapters\n",
    "• B98 Other specified infectious agents as the cause of diseases classified to other chap"
   ]
  },
  {
   "cell_type": "code",
   "execution_count": 87,
   "id": "98892f92",
   "metadata": {},
   "outputs": [],
   "source": [
    "cvd_var = ['A00', 'A01', 'A02', 'A03', 'A04',\n",
    "           'A05', 'A15_A19', 'A20_A28', 'A30_A49',\n",
    "           'A51', 'A52', 'A53', 'A54', 'A56',\n",
    "           'A65_A69', 'A70_A74', 'A75_A79',\n",
    "           'B90', 'B95', 'B96', 'B98']"
   ]
  },
  {
   "cell_type": "code",
   "execution_count": 88,
   "id": "d3cfb9f0",
   "metadata": {},
   "outputs": [],
   "source": [
    "# Define Bacterial infections\n",
    "\n",
    "icd_10_9 = ('A00')\n",
    "\n",
    "cvd_ukb200k['A00'] = cvd_ukb200k.apply(lambda x: Diagnose_variable(x), axis=1)\n",
    "cvd_ukb200k['A00_date'] = cvd_ukb200k.apply(lambda x: Diagnose_date(x), axis=1)\n",
    "\n",
    "cvd_ukb200k['A00_death'] = cvd_ukb200k.apply(lambda x: Death_variable(x), axis=1)\n",
    "cvd_ukb200k['A00_death_date'] = cvd_ukb200k.apply(lambda x: Death_date(x), axis=1)"
   ]
  },
  {
   "cell_type": "code",
   "execution_count": 89,
   "id": "7954e0fe",
   "metadata": {},
   "outputs": [],
   "source": [
    "# Define Bacterial infections\n",
    "\n",
    "icd_10_9 = ('A01')\n",
    "\n",
    "cvd_ukb200k['A01'] = cvd_ukb200k.apply(lambda x: Diagnose_variable(x), axis=1)\n",
    "cvd_ukb200k['A01_date'] = cvd_ukb200k.apply(lambda x: Diagnose_date(x), axis=1)\n",
    "\n",
    "cvd_ukb200k['A01_death'] = cvd_ukb200k.apply(lambda x: Death_variable(x), axis=1)\n",
    "cvd_ukb200k['A01_death_date'] = cvd_ukb200k.apply(lambda x: Death_date(x), axis=1)"
   ]
  },
  {
   "cell_type": "code",
   "execution_count": 90,
   "id": "f8442e7d",
   "metadata": {},
   "outputs": [],
   "source": [
    "# Define Bacterial infections\n",
    "\n",
    "icd_10_9 = ('A02')\n",
    "\n",
    "cvd_ukb200k['A02'] = cvd_ukb200k.apply(lambda x: Diagnose_variable(x), axis=1)\n",
    "cvd_ukb200k['A02_date'] = cvd_ukb200k.apply(lambda x: Diagnose_date(x), axis=1)\n",
    "\n",
    "cvd_ukb200k['A02_death'] = cvd_ukb200k.apply(lambda x: Death_variable(x), axis=1)\n",
    "cvd_ukb200k['A02_death_date'] = cvd_ukb200k.apply(lambda x: Death_date(x), axis=1)"
   ]
  },
  {
   "cell_type": "code",
   "execution_count": 91,
   "id": "4e785a8a",
   "metadata": {},
   "outputs": [],
   "source": [
    "# Define Bacterial infections\n",
    "\n",
    "icd_10_9 = ('A03')\n",
    "\n",
    "cvd_ukb200k['A03'] = cvd_ukb200k.apply(lambda x: Diagnose_variable(x), axis=1)\n",
    "cvd_ukb200k['A03_date'] = cvd_ukb200k.apply(lambda x: Diagnose_date(x), axis=1)\n",
    "\n",
    "cvd_ukb200k['A03_death'] = cvd_ukb200k.apply(lambda x: Death_variable(x), axis=1)\n",
    "cvd_ukb200k['A03_death_date'] = cvd_ukb200k.apply(lambda x: Death_date(x), axis=1)"
   ]
  },
  {
   "cell_type": "code",
   "execution_count": 92,
   "id": "474d2b4c",
   "metadata": {},
   "outputs": [],
   "source": [
    "# Define Bacterial infections\n",
    "\n",
    "icd_10_9 = ('A04')\n",
    "\n",
    "cvd_ukb200k['A04'] = cvd_ukb200k.apply(lambda x: Diagnose_variable(x), axis=1)\n",
    "cvd_ukb200k['A04_date'] = cvd_ukb200k.apply(lambda x: Diagnose_date(x), axis=1)\n",
    "\n",
    "cvd_ukb200k['A04_death'] = cvd_ukb200k.apply(lambda x: Death_variable(x), axis=1)\n",
    "cvd_ukb200k['A04_death_date'] = cvd_ukb200k.apply(lambda x: Death_date(x), axis=1)"
   ]
  },
  {
   "cell_type": "code",
   "execution_count": 93,
   "id": "8b2e8ee1",
   "metadata": {},
   "outputs": [],
   "source": [
    "# Define Bacterial infections\n",
    "\n",
    "icd_10_9 = ('A05')\n",
    "\n",
    "cvd_ukb200k['A05'] = cvd_ukb200k.apply(lambda x: Diagnose_variable(x), axis=1)\n",
    "cvd_ukb200k['A05_date'] = cvd_ukb200k.apply(lambda x: Diagnose_date(x), axis=1)\n",
    "\n",
    "cvd_ukb200k['A05_death'] = cvd_ukb200k.apply(lambda x: Death_variable(x), axis=1)\n",
    "cvd_ukb200k['A05_death_date'] = cvd_ukb200k.apply(lambda x: Death_date(x), axis=1)"
   ]
  },
  {
   "cell_type": "code",
   "execution_count": 94,
   "id": "446c1575",
   "metadata": {},
   "outputs": [],
   "source": [
    "# Define Bacterial infections\n",
    "\n",
    "icd_10_9 = ('A15', 'A16', 'A17', 'A18', 'A19')\n",
    "\n",
    "cvd_ukb200k['A15_A19'] = cvd_ukb200k.apply(lambda x: Diagnose_variable(x), axis=1)\n",
    "cvd_ukb200k['A15_A19_date'] = cvd_ukb200k.apply(lambda x: Diagnose_date(x), axis=1)\n",
    "\n",
    "cvd_ukb200k['A15_A19_death'] = cvd_ukb200k.apply(lambda x: Death_variable(x), axis=1)\n",
    "cvd_ukb200k['A15_A19_death_date'] = cvd_ukb200k.apply(lambda x: Death_date(x), axis=1)"
   ]
  },
  {
   "cell_type": "code",
   "execution_count": 95,
   "id": "7bd7a200",
   "metadata": {},
   "outputs": [],
   "source": [
    "# Define Bacterial infections\n",
    "\n",
    "icd_10_9 = ('A20', 'A21', 'A22', 'A23', 'A24', 'A25', 'A26', 'A27', 'A28')\n",
    "\n",
    "cvd_ukb200k['A20_A28'] = cvd_ukb200k.apply(lambda x: Diagnose_variable(x), axis=1)\n",
    "cvd_ukb200k['A20_A28_date'] = cvd_ukb200k.apply(lambda x: Diagnose_date(x), axis=1)\n",
    "\n",
    "cvd_ukb200k['A20_A28_death'] = cvd_ukb200k.apply(lambda x: Death_variable(x), axis=1)\n",
    "cvd_ukb200k['A20_A28_death_date'] = cvd_ukb200k.apply(lambda x: Death_date(x), axis=1)"
   ]
  },
  {
   "cell_type": "code",
   "execution_count": 96,
   "id": "ced55e3b",
   "metadata": {},
   "outputs": [],
   "source": [
    "# Define Bacterial infections\n",
    "\n",
    "icd_10_9 = ('A30', 'A31', 'A32', 'A33', 'A34', 'A35', 'A36', 'A37', 'A38', 'A39',\n",
    "            'A40', 'A41', 'A42', 'A43', 'A44', 'A45', 'A46', 'A47', 'A48', 'A49')\n",
    "\n",
    "cvd_ukb200k['A30_A49'] = cvd_ukb200k.apply(lambda x: Diagnose_variable(x), axis=1)\n",
    "cvd_ukb200k['A30_A49_date'] = cvd_ukb200k.apply(lambda x: Diagnose_date(x), axis=1)\n",
    "\n",
    "cvd_ukb200k['A30_A49_death'] = cvd_ukb200k.apply(lambda x: Death_variable(x), axis=1)\n",
    "cvd_ukb200k['A30_A49_death_date'] = cvd_ukb200k.apply(lambda x: Death_date(x), axis=1)"
   ]
  },
  {
   "cell_type": "code",
   "execution_count": 97,
   "id": "012d0352",
   "metadata": {},
   "outputs": [],
   "source": [
    "# Define Bacterial infections\n",
    "\n",
    "icd_10_9 = ('A51')\n",
    "\n",
    "cvd_ukb200k['A51'] = cvd_ukb200k.apply(lambda x: Diagnose_variable(x), axis=1)\n",
    "cvd_ukb200k['A51_date'] = cvd_ukb200k.apply(lambda x: Diagnose_date(x), axis=1)\n",
    "\n",
    "cvd_ukb200k['A51_death'] = cvd_ukb200k.apply(lambda x: Death_variable(x), axis=1)\n",
    "cvd_ukb200k['A51_death_date'] = cvd_ukb200k.apply(lambda x: Death_date(x), axis=1)"
   ]
  },
  {
   "cell_type": "code",
   "execution_count": 98,
   "id": "7cd33c46",
   "metadata": {},
   "outputs": [],
   "source": [
    "# Define Bacterial infections\n",
    "\n",
    "icd_10_9 = ('A52')\n",
    "\n",
    "cvd_ukb200k['A52'] = cvd_ukb200k.apply(lambda x: Diagnose_variable(x), axis=1)\n",
    "cvd_ukb200k['A52_date'] = cvd_ukb200k.apply(lambda x: Diagnose_date(x), axis=1)\n",
    "\n",
    "cvd_ukb200k['A52_death'] = cvd_ukb200k.apply(lambda x: Death_variable(x), axis=1)\n",
    "cvd_ukb200k['A52_death_date'] = cvd_ukb200k.apply(lambda x: Death_date(x), axis=1)"
   ]
  },
  {
   "cell_type": "code",
   "execution_count": 99,
   "id": "62f99f6b",
   "metadata": {},
   "outputs": [],
   "source": [
    "# Define Bacterial infections\n",
    "\n",
    "icd_10_9 = ('A53')\n",
    "\n",
    "cvd_ukb200k['A53'] = cvd_ukb200k.apply(lambda x: Diagnose_variable(x), axis=1)\n",
    "cvd_ukb200k['A53_date'] = cvd_ukb200k.apply(lambda x: Diagnose_date(x), axis=1)\n",
    "\n",
    "cvd_ukb200k['A53_death'] = cvd_ukb200k.apply(lambda x: Death_variable(x), axis=1)\n",
    "cvd_ukb200k['A53_death_date'] = cvd_ukb200k.apply(lambda x: Death_date(x), axis=1)"
   ]
  },
  {
   "cell_type": "code",
   "execution_count": 100,
   "id": "0964b138",
   "metadata": {},
   "outputs": [],
   "source": [
    "# Define Bacterial infections\n",
    "\n",
    "icd_10_9 = ('A54')\n",
    "\n",
    "cvd_ukb200k['A54'] = cvd_ukb200k.apply(lambda x: Diagnose_variable(x), axis=1)\n",
    "cvd_ukb200k['A54_date'] = cvd_ukb200k.apply(lambda x: Diagnose_date(x), axis=1)\n",
    "\n",
    "cvd_ukb200k['A54_death'] = cvd_ukb200k.apply(lambda x: Death_variable(x), axis=1)\n",
    "cvd_ukb200k['A54_death_date'] = cvd_ukb200k.apply(lambda x: Death_date(x), axis=1)"
   ]
  },
  {
   "cell_type": "code",
   "execution_count": 101,
   "id": "f4ab7e8e",
   "metadata": {},
   "outputs": [],
   "source": [
    "# Define Bacterial infections\n",
    "\n",
    "icd_10_9 = ('A56')\n",
    "\n",
    "cvd_ukb200k['A56'] = cvd_ukb200k.apply(lambda x: Diagnose_variable(x), axis=1)\n",
    "cvd_ukb200k['A56_date'] = cvd_ukb200k.apply(lambda x: Diagnose_date(x), axis=1)\n",
    "\n",
    "cvd_ukb200k['A56_death'] = cvd_ukb200k.apply(lambda x: Death_variable(x), axis=1)\n",
    "cvd_ukb200k['A56_death_date'] = cvd_ukb200k.apply(lambda x: Death_date(x), axis=1)"
   ]
  },
  {
   "cell_type": "code",
   "execution_count": 102,
   "id": "2f70f068",
   "metadata": {},
   "outputs": [],
   "source": [
    "# Define Bacterial infections\n",
    "\n",
    "icd_10_9 = ('A65', 'A66', 'A67', 'A68', 'A69')\n",
    "\n",
    "cvd_ukb200k['A65_A69'] = cvd_ukb200k.apply(lambda x: Diagnose_variable(x), axis=1)\n",
    "cvd_ukb200k['A65_A69_date'] = cvd_ukb200k.apply(lambda x: Diagnose_date(x), axis=1)\n",
    "\n",
    "cvd_ukb200k['A65_A69_death'] = cvd_ukb200k.apply(lambda x: Death_variable(x), axis=1)\n",
    "cvd_ukb200k['A65_A69_death_date'] = cvd_ukb200k.apply(lambda x: Death_date(x), axis=1)"
   ]
  },
  {
   "cell_type": "code",
   "execution_count": 103,
   "id": "d8d22690",
   "metadata": {},
   "outputs": [],
   "source": [
    "# Define Bacterial infections\n",
    "\n",
    "icd_10_9 = ('A70', 'A71', 'A72', 'A73', 'A74')\n",
    "\n",
    "cvd_ukb200k['A70_A74'] = cvd_ukb200k.apply(lambda x: Diagnose_variable(x), axis=1)\n",
    "cvd_ukb200k['A70_A74_date'] = cvd_ukb200k.apply(lambda x: Diagnose_date(x), axis=1)\n",
    "\n",
    "cvd_ukb200k['A70_A74_death'] = cvd_ukb200k.apply(lambda x: Death_variable(x), axis=1)\n",
    "cvd_ukb200k['A70_A74_death_date'] = cvd_ukb200k.apply(lambda x: Death_date(x), axis=1)"
   ]
  },
  {
   "cell_type": "code",
   "execution_count": 104,
   "id": "7398a420",
   "metadata": {},
   "outputs": [],
   "source": [
    "# Define Bacterial infections\n",
    "\n",
    "icd_10_9 = ('A75', 'A76', 'A77', 'A78', 'A79')\n",
    "\n",
    "cvd_ukb200k['A75_A79'] = cvd_ukb200k.apply(lambda x: Diagnose_variable(x), axis=1)\n",
    "cvd_ukb200k['A75_A79_date'] = cvd_ukb200k.apply(lambda x: Diagnose_date(x), axis=1)\n",
    "\n",
    "cvd_ukb200k['A75_A79_death'] = cvd_ukb200k.apply(lambda x: Death_variable(x), axis=1)\n",
    "cvd_ukb200k['A75_A79_death_date'] = cvd_ukb200k.apply(lambda x: Death_date(x), axis=1)"
   ]
  },
  {
   "cell_type": "code",
   "execution_count": 105,
   "id": "3fe8e356",
   "metadata": {},
   "outputs": [],
   "source": [
    "# Define Bacterial infections\n",
    "\n",
    "icd_10_9 = ('B90')\n",
    "\n",
    "cvd_ukb200k['B90'] = cvd_ukb200k.apply(lambda x: Diagnose_variable(x), axis=1)\n",
    "cvd_ukb200k['B90_date'] = cvd_ukb200k.apply(lambda x: Diagnose_date(x), axis=1)\n",
    "\n",
    "cvd_ukb200k['B90_death'] = cvd_ukb200k.apply(lambda x: Death_variable(x), axis=1)\n",
    "cvd_ukb200k['B90_death_date'] = cvd_ukb200k.apply(lambda x: Death_date(x), axis=1)"
   ]
  },
  {
   "cell_type": "code",
   "execution_count": 106,
   "id": "f8fb14c1",
   "metadata": {},
   "outputs": [],
   "source": [
    "# Define Bacterial infections\n",
    "\n",
    "icd_10_9 = ('B95')\n",
    "\n",
    "cvd_ukb200k['B95'] = cvd_ukb200k.apply(lambda x: Diagnose_variable(x), axis=1)\n",
    "cvd_ukb200k['B95_date'] = cvd_ukb200k.apply(lambda x: Diagnose_date(x), axis=1)\n",
    "\n",
    "cvd_ukb200k['B95_death'] = cvd_ukb200k.apply(lambda x: Death_variable(x), axis=1)\n",
    "cvd_ukb200k['B95_death_date'] = cvd_ukb200k.apply(lambda x: Death_date(x), axis=1)"
   ]
  },
  {
   "cell_type": "code",
   "execution_count": 107,
   "id": "ddbe736d",
   "metadata": {},
   "outputs": [],
   "source": [
    "# Define Bacterial infections\n",
    "\n",
    "icd_10_9 = ('B96')\n",
    "\n",
    "cvd_ukb200k['B96'] = cvd_ukb200k.apply(lambda x: Diagnose_variable(x), axis=1)\n",
    "cvd_ukb200k['B96_date'] = cvd_ukb200k.apply(lambda x: Diagnose_date(x), axis=1)\n",
    "\n",
    "cvd_ukb200k['B96_death'] = cvd_ukb200k.apply(lambda x: Death_variable(x), axis=1)\n",
    "cvd_ukb200k['B96_death_date'] = cvd_ukb200k.apply(lambda x: Death_date(x), axis=1)"
   ]
  },
  {
   "cell_type": "code",
   "execution_count": 108,
   "id": "19472127",
   "metadata": {},
   "outputs": [],
   "source": [
    "# Define Bacterial infections\n",
    "\n",
    "icd_10_9 = ('B98')\n",
    "\n",
    "cvd_ukb200k['B98'] = cvd_ukb200k.apply(lambda x: Diagnose_variable(x), axis=1)\n",
    "cvd_ukb200k['B98_date'] = cvd_ukb200k.apply(lambda x: Diagnose_date(x), axis=1)\n",
    "\n",
    "cvd_ukb200k['B98_death'] = cvd_ukb200k.apply(lambda x: Death_variable(x), axis=1)\n",
    "cvd_ukb200k['B98_death_date'] = cvd_ukb200k.apply(lambda x: Death_date(x), axis=1)"
   ]
  },
  {
   "cell_type": "code",
   "execution_count": 110,
   "id": "1e820477",
   "metadata": {},
   "outputs": [],
   "source": [
    "cvd_var = ['A00', 'A01', 'A02', 'A03', 'A04',\n",
    "           'A05', 'A15_A19', 'A20_A28', 'A30_A49',\n",
    "           'A51', 'A52', 'A53', 'A54', 'A56',\n",
    "           'A65_A69', 'A70_A74', 'A75_A79',\n",
    "           'B90', 'B95', 'B96', 'B98']"
   ]
  },
  {
   "cell_type": "code",
   "execution_count": 111,
   "id": "04d13cf8",
   "metadata": {},
   "outputs": [
    {
     "name": "stderr",
     "output_type": "stream",
     "text": [
      "  2%|█                                           | 1/42 [00:00<00:08,  4.85it/s]"
     ]
    },
    {
     "name": "stdout",
     "output_type": "stream",
     "text": [
      "A00\n"
     ]
    },
    {
     "name": "stderr",
     "output_type": "stream",
     "text": [
      "\r",
      "  5%|██                                          | 2/42 [02:22<55:47, 83.68s/it]"
     ]
    },
    {
     "name": "stdout",
     "output_type": "stream",
     "text": [
      "A00_death\n"
     ]
    },
    {
     "name": "stderr",
     "output_type": "stream",
     "text": [
      "\r",
      "  7%|███▏                                        | 3/42 [02:22<29:37, 45.57s/it]"
     ]
    },
    {
     "name": "stdout",
     "output_type": "stream",
     "text": [
      "A01\n"
     ]
    },
    {
     "name": "stderr",
     "output_type": "stream",
     "text": [
      "\r",
      " 10%|████▏                                       | 4/42 [04:43<52:49, 83.40s/it]"
     ]
    },
    {
     "name": "stdout",
     "output_type": "stream",
     "text": [
      "A01_death\n"
     ]
    },
    {
     "name": "stderr",
     "output_type": "stream",
     "text": [
      "\r",
      " 12%|█████▏                                      | 5/42 [04:44<32:56, 53.42s/it]"
     ]
    },
    {
     "name": "stdout",
     "output_type": "stream",
     "text": [
      "A02\n"
     ]
    },
    {
     "name": "stderr",
     "output_type": "stream",
     "text": [
      "\r",
      " 14%|██████▎                                     | 6/42 [04:44<21:11, 35.33s/it]"
     ]
    },
    {
     "name": "stdout",
     "output_type": "stream",
     "text": [
      "A02_death\n",
      "A03\n"
     ]
    },
    {
     "name": "stderr",
     "output_type": "stream",
     "text": [
      " 19%|████████▍                                   | 8/42 [07:06<34:45, 61.34s/it]"
     ]
    },
    {
     "name": "stdout",
     "output_type": "stream",
     "text": [
      "A03_death\n"
     ]
    },
    {
     "name": "stderr",
     "output_type": "stream",
     "text": [
      "\r",
      " 21%|█████████▍                                  | 9/42 [07:08<23:31, 42.76s/it]"
     ]
    },
    {
     "name": "stdout",
     "output_type": "stream",
     "text": [
      "A04\n"
     ]
    },
    {
     "name": "stderr",
     "output_type": "stream",
     "text": [
      "\r",
      " 24%|██████████▏                                | 10/42 [07:08<15:48, 29.63s/it]"
     ]
    },
    {
     "name": "stdout",
     "output_type": "stream",
     "text": [
      "A04_death\n"
     ]
    },
    {
     "name": "stderr",
     "output_type": "stream",
     "text": [
      "\r",
      " 26%|███████████▎                               | 11/42 [07:08<10:39, 20.63s/it]"
     ]
    },
    {
     "name": "stdout",
     "output_type": "stream",
     "text": [
      "A05\n"
     ]
    },
    {
     "name": "stderr",
     "output_type": "stream",
     "text": [
      "\r",
      " 29%|████████████▎                              | 12/42 [09:29<28:37, 57.25s/it]"
     ]
    },
    {
     "name": "stdout",
     "output_type": "stream",
     "text": [
      "A05_death\n"
     ]
    },
    {
     "name": "stderr",
     "output_type": "stream",
     "text": [
      "\r",
      " 31%|█████████████▎                             | 13/42 [09:29<19:20, 40.02s/it]"
     ]
    },
    {
     "name": "stdout",
     "output_type": "stream",
     "text": [
      "A15_A19\n"
     ]
    },
    {
     "name": "stderr",
     "output_type": "stream",
     "text": [
      "\r",
      " 33%|██████████████▎                            | 14/42 [09:30<13:03, 27.99s/it]"
     ]
    },
    {
     "name": "stdout",
     "output_type": "stream",
     "text": [
      "A15_A19_death\n"
     ]
    },
    {
     "name": "stderr",
     "output_type": "stream",
     "text": [
      "\r",
      " 36%|███████████████▎                           | 15/42 [09:30<08:49, 19.63s/it]"
     ]
    },
    {
     "name": "stdout",
     "output_type": "stream",
     "text": [
      "A20_A28\n"
     ]
    },
    {
     "name": "stderr",
     "output_type": "stream",
     "text": [
      "\r",
      " 38%|████████████████▍                          | 16/42 [09:30<05:58, 13.78s/it]"
     ]
    },
    {
     "name": "stdout",
     "output_type": "stream",
     "text": [
      "A20_A28_death\n"
     ]
    },
    {
     "name": "stderr",
     "output_type": "stream",
     "text": [
      "\r",
      " 40%|█████████████████▍                         | 17/42 [09:36<04:45, 11.41s/it]"
     ]
    },
    {
     "name": "stdout",
     "output_type": "stream",
     "text": [
      "A30_A49\n"
     ]
    },
    {
     "name": "stderr",
     "output_type": "stream",
     "text": [
      "\r",
      " 43%|██████████████████▍                        | 18/42 [09:37<03:16,  8.19s/it]"
     ]
    },
    {
     "name": "stdout",
     "output_type": "stream",
     "text": [
      "A30_A49_death\n"
     ]
    },
    {
     "name": "stderr",
     "output_type": "stream",
     "text": [
      "\r",
      " 45%|███████████████████▍                       | 19/42 [09:37<02:13,  5.80s/it]"
     ]
    },
    {
     "name": "stdout",
     "output_type": "stream",
     "text": [
      "A51\n"
     ]
    },
    {
     "name": "stderr",
     "output_type": "stream",
     "text": [
      "\r",
      " 48%|████████████████████▍                      | 20/42 [11:59<17:05, 46.60s/it]"
     ]
    },
    {
     "name": "stdout",
     "output_type": "stream",
     "text": [
      "A51_death\n"
     ]
    },
    {
     "name": "stderr",
     "output_type": "stream",
     "text": [
      "\r",
      " 50%|█████████████████████▌                     | 21/42 [11:59<11:26, 32.68s/it]"
     ]
    },
    {
     "name": "stdout",
     "output_type": "stream",
     "text": [
      "A52\n"
     ]
    },
    {
     "name": "stderr",
     "output_type": "stream",
     "text": [
      "\r",
      " 52%|██████████████████████▌                    | 22/42 [11:59<07:38, 22.94s/it]"
     ]
    },
    {
     "name": "stdout",
     "output_type": "stream",
     "text": [
      "A52_death\n",
      "A53\n"
     ]
    },
    {
     "name": "stderr",
     "output_type": "stream",
     "text": [
      " 57%|████████████████████████▌                  | 24/42 [14:20<16:05, 53.62s/it]"
     ]
    },
    {
     "name": "stdout",
     "output_type": "stream",
     "text": [
      "A53_death\n"
     ]
    },
    {
     "name": "stderr",
     "output_type": "stream",
     "text": [
      "\r",
      " 60%|█████████████████████████▌                 | 25/42 [14:21<10:39, 37.60s/it]"
     ]
    },
    {
     "name": "stdout",
     "output_type": "stream",
     "text": [
      "A54\n"
     ]
    },
    {
     "name": "stderr",
     "output_type": "stream",
     "text": [
      "\r",
      " 62%|██████████████████████████▌                | 26/42 [16:42<18:19, 68.71s/it]"
     ]
    },
    {
     "name": "stdout",
     "output_type": "stream",
     "text": [
      "A54_death\n"
     ]
    },
    {
     "name": "stderr",
     "output_type": "stream",
     "text": [
      "\r",
      " 64%|███████████████████████████▋               | 27/42 [16:42<12:02, 48.17s/it]"
     ]
    },
    {
     "name": "stdout",
     "output_type": "stream",
     "text": [
      "A56\n"
     ]
    },
    {
     "name": "stderr",
     "output_type": "stream",
     "text": [
      "\r",
      " 67%|████████████████████████████▋              | 28/42 [19:04<17:47, 76.23s/it]"
     ]
    },
    {
     "name": "stdout",
     "output_type": "stream",
     "text": [
      "A56_death\n"
     ]
    },
    {
     "name": "stderr",
     "output_type": "stream",
     "text": [
      "\r",
      " 69%|█████████████████████████████▋             | 29/42 [19:04<11:34, 53.44s/it]"
     ]
    },
    {
     "name": "stdout",
     "output_type": "stream",
     "text": [
      "A65_A69\n"
     ]
    },
    {
     "name": "stderr",
     "output_type": "stream",
     "text": [
      "\r",
      " 71%|██████████████████████████████▋            | 30/42 [21:25<15:57, 79.80s/it]"
     ]
    },
    {
     "name": "stdout",
     "output_type": "stream",
     "text": [
      "A65_A69_death\n"
     ]
    },
    {
     "name": "stderr",
     "output_type": "stream",
     "text": [
      "\r",
      " 74%|███████████████████████████████▋           | 31/42 [21:26<10:15, 55.93s/it]"
     ]
    },
    {
     "name": "stdout",
     "output_type": "stream",
     "text": [
      "A70_A74\n"
     ]
    },
    {
     "name": "stderr",
     "output_type": "stream",
     "text": [
      "\r",
      " 76%|████████████████████████████████▊          | 32/42 [23:47<13:34, 81.45s/it]"
     ]
    },
    {
     "name": "stdout",
     "output_type": "stream",
     "text": [
      "A70_A74_death\n"
     ]
    },
    {
     "name": "stderr",
     "output_type": "stream",
     "text": [
      "\r",
      " 79%|█████████████████████████████████▊         | 33/42 [23:47<08:33, 57.08s/it]"
     ]
    },
    {
     "name": "stdout",
     "output_type": "stream",
     "text": [
      "A75_A79\n"
     ]
    },
    {
     "name": "stderr",
     "output_type": "stream",
     "text": [
      "\r",
      " 81%|██████████████████████████████████▊        | 34/42 [26:08<10:58, 82.35s/it]"
     ]
    },
    {
     "name": "stdout",
     "output_type": "stream",
     "text": [
      "A75_A79_death\n"
     ]
    },
    {
     "name": "stderr",
     "output_type": "stream",
     "text": [
      "\r",
      " 83%|███████████████████████████████████▊       | 35/42 [26:08<06:43, 57.71s/it]"
     ]
    },
    {
     "name": "stdout",
     "output_type": "stream",
     "text": [
      "B90\n"
     ]
    },
    {
     "name": "stderr",
     "output_type": "stream",
     "text": [
      "\r",
      " 86%|████████████████████████████████████▊      | 36/42 [26:09<04:02, 40.46s/it]"
     ]
    },
    {
     "name": "stdout",
     "output_type": "stream",
     "text": [
      "B90_death\n"
     ]
    },
    {
     "name": "stderr",
     "output_type": "stream",
     "text": [
      "\r",
      " 88%|█████████████████████████████████████▉     | 37/42 [26:12<02:26, 29.26s/it]"
     ]
    },
    {
     "name": "stdout",
     "output_type": "stream",
     "text": [
      "B95\n"
     ]
    },
    {
     "name": "stderr",
     "output_type": "stream",
     "text": [
      "\r",
      " 90%|██████████████████████████████████████▉    | 38/42 [28:34<04:12, 63.15s/it]"
     ]
    },
    {
     "name": "stdout",
     "output_type": "stream",
     "text": [
      "B95_death\n"
     ]
    },
    {
     "name": "stderr",
     "output_type": "stream",
     "text": [
      "\r",
      " 93%|███████████████████████████████████████▉   | 39/42 [28:40<02:18, 46.15s/it]"
     ]
    },
    {
     "name": "stdout",
     "output_type": "stream",
     "text": [
      "B96\n"
     ]
    },
    {
     "name": "stderr",
     "output_type": "stream",
     "text": [
      "\r",
      " 95%|████████████████████████████████████████▉  | 40/42 [31:02<02:29, 74.83s/it]"
     ]
    },
    {
     "name": "stdout",
     "output_type": "stream",
     "text": [
      "B96_death\n"
     ]
    },
    {
     "name": "stderr",
     "output_type": "stream",
     "text": [
      "\r",
      " 98%|█████████████████████████████████████████▉ | 41/42 [31:03<00:52, 52.75s/it]"
     ]
    },
    {
     "name": "stdout",
     "output_type": "stream",
     "text": [
      "B98\n"
     ]
    },
    {
     "name": "stderr",
     "output_type": "stream",
     "text": [
      "100%|███████████████████████████████████████████| 42/42 [33:26<00:00, 47.77s/it]"
     ]
    },
    {
     "name": "stdout",
     "output_type": "stream",
     "text": [
      "B98_death\n"
     ]
    },
    {
     "name": "stderr",
     "output_type": "stream",
     "text": [
      "\n"
     ]
    }
   ],
   "source": [
    "from tqdm import tqdm\n",
    "variables = ['A00_date', 'A00_death_date',\n",
    "             'A01_date', 'A01_death_date',\n",
    "             'A02_date', 'A02_death_date',\n",
    "             'A03_date', 'A03_death_date',\n",
    "             'A04_date', 'A04_death_date',\n",
    "             'A05_date', 'A05_death_date',\n",
    "             'A15_A19_date', 'A15_A19_death_date',\n",
    "             'A20_A28_date', 'A20_A28_death_date',\n",
    "             'A30_A49_date', 'A30_A49_death_date',\n",
    "             'A51_date', 'A51_death_date',\n",
    "             'A52_date', 'A52_death_date',\n",
    "             'A53_date', 'A53_death_date',\n",
    "             'A54_date', 'A54_death_date',\n",
    "             'A56_date', 'A56_death_date',\n",
    "             'A65_A69_date', 'A65_A69_death_date',\n",
    "             'A70_A74_date', 'A70_A74_death_date',\n",
    "             'A75_A79_date', 'A75_A79_death_date',\n",
    "             'B90_date', 'B90_death_date',\n",
    "             'B95_date', 'B95_death_date',\n",
    "             'B96_date', 'B96_death_date',\n",
    "             'B98_date', 'B98_death_date',]\n",
    "\n",
    "for variable in tqdm(variables):\n",
    "    years = []\n",
    "    if variable.endswith('date'):\n",
    "        for n, x in enumerate(cvd_ukb200k[variable]):\n",
    "            if x is np.nan:\n",
    "                years.append(x)\n",
    "            else:\n",
    "                year = pd.to_datetime(x, format='%Y-%m-%d')-pd.to_datetime(cvd_ukb200k.loc[n,'53-0.0'], format='%Y-%m-%d')\n",
    "                years.append(year/np.timedelta64(1,'Y'))\n",
    "    elif variable.endswith('age'):\n",
    "        for n, x in enumerate(cvd_ukb200k[variable]):\n",
    "            if x is np.nan:\n",
    "                years.append(x)\n",
    "            else:\n",
    "                year = x-cvd_ukb200k.loc[n,'21022-0.0']\n",
    "                years.append(year)\n",
    "\n",
    "    var = '_'.join(variable.split('_')[:-1])\n",
    "    print(var)\n",
    "    cvd_ukb200k[var+'_years'] = years\n"
   ]
  },
  {
   "cell_type": "code",
   "execution_count": 112,
   "id": "ab555951",
   "metadata": {},
   "outputs": [],
   "source": [
    "cvd_var = ['A00', 'A01', 'A02', 'A03', 'A04',\n",
    "           'A05', 'A15_A19', 'A20_A28', 'A30_A49',\n",
    "           'A51', 'A52', 'A53', 'A54', 'A56',\n",
    "           'A65_A69', 'A70_A74', 'A75_A79',\n",
    "           'B90', 'B95', 'B96', 'B98']\n",
    "\n",
    "for var in cvd_var:\n",
    "    yeears = [x for x in cvd_ukb200k.columns if (x.startswith(var)) and (x.endswith('years'))]\n",
    "    cvd_ukb200k['var_'+var+'_years'] = cvd_ukb200k.loc[:,yeears].min(axis=1)\n",
    "    cvd_ukb200k['var_'+var+'_var'] = np.where(cvd_ukb200k['var_'+var+'_years'].notnull(), 1, 0)\n",
    "    cvd_ukb200k['var_'+var+'_post'] = np.where(cvd_ukb200k['var_'+var+'_years'] > 0, 1, 0)\n",
    "    cvd_ukb200k['var_'+var+'_pre'] = np.where(cvd_ukb200k['var_'+var+'_years'] < 0, 1, 0)"
   ]
  },
  {
   "cell_type": "code",
   "execution_count": 114,
   "id": "d9635db9",
   "metadata": {},
   "outputs": [],
   "source": [
    "df1 = cvd_ukb200k[['eid']+[x for x in cvd_ukb200k.columns if (x.startswith('var'))]]"
   ]
  },
  {
   "cell_type": "code",
   "execution_count": 115,
   "id": "ea2e0de5",
   "metadata": {},
   "outputs": [],
   "source": [
    "df1.to_csv('Infection_ukb450k_670124_bacterial_infection.txt.gz', sep=\"\\t\", index=False, compression='gzip')"
   ]
  }
 ],
 "metadata": {
  "kernelspec": {
   "display_name": "Python 3 (ipykernel)",
   "language": "python",
   "name": "python3"
  },
  "language_info": {
   "codemirror_mode": {
    "name": "ipython",
    "version": 3
   },
   "file_extension": ".py",
   "mimetype": "text/x-python",
   "name": "python",
   "nbconvert_exporter": "python",
   "pygments_lexer": "ipython3",
   "version": "3.9.7"
  }
 },
 "nbformat": 4,
 "nbformat_minor": 5
}
